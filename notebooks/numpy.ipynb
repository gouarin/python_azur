{
 "metadata": {
  "celltoolbar": "Slideshow",
  "name": "",
  "signature": "sha256:97271e9da3d23a42b86058c7f3bb8fc3dcdaa08aa70bcff1dce3be89f1a8cd47"
 },
 "nbformat": 3,
 "nbformat_minor": 0,
 "worksheets": [
  {
   "cells": [
    {
     "cell_type": "markdown",
     "metadata": {
      "internals": {
       "slide_helper": "subslide_end",
       "slide_type": "subslide"
      },
      "slide_helper": "slide_end",
      "slideshow": {
       "slide_type": "slide"
      }
     },
     "source": [
      "#Formation Python\n",
      "#*Numpy*\n",
      "&nbsp;\n",
      "<center>\n",
      "Lo\u00efc Gouarin\n",
      "</center>\n",
      "<center>\n",
      "7 - 10 juillet\n",
      "</center>"
     ]
    },
    {
     "cell_type": "markdown",
     "metadata": {
      "internals": {
       "slide_helper": "subslide_end",
       "slide_type": "subslide"
      },
      "slide_helper": "slide_end",
      "slideshow": {
       "slide_type": "slide"
      }
     },
     "source": [
      "Le module **NumPy** offre\n",
      "\n",
      "- des outils performants pour la manipulation de tableaux \u00e0 $N$ dimensions,\n",
      "- des fonctions basiques en alg\u00e8bre lin\u00e9aire,\n",
      "- des fonctions basiques pour les transform\u00e9es de Fourier,\n",
      "- des outils pour int\u00e9grer du code Fortran,\n",
      "- des outils pour int\u00e9grer du code C/C++,\n",
      "- des outils d'installation avec support tests unitaires."
     ]
    },
    {
     "cell_type": "markdown",
     "metadata": {
      "internals": {
       "slide_type": "subslide"
      },
      "slideshow": {
       "slide_type": "slide"
      }
     },
     "source": [
      "# Petite comparaison syntaxique entre Python et Matlab\n",
      "\n",
      "on veut calculer $u=100\\exp\\left(-100(x-0.5)^2\\right)$ avec $x \\in [0,1]$.\n",
      "\n",
      "**Avec NumPy**"
     ]
    },
    {
     "cell_type": "code",
     "collapsed": false,
     "input": [
      "from numpy import *\n",
      "x = linspace(0., 1., 100)\n",
      "u = 100.*exp(-100.*(x - .5)**2)"
     ],
     "language": "python",
     "metadata": {
      "internals": {},
      "slideshow": {
       "slide_type": "-"
      }
     },
     "outputs": [],
     "prompt_number": 1
    },
    {
     "cell_type": "markdown",
     "metadata": {
      "internals": {
       "slide_helper": "subslide_end"
      },
      "slide_helper": "slide_end",
      "slideshow": {
       "slide_type": "-"
      }
     },
     "source": [
      "**Avec Matlab**\n",
      "\n",
      "```\n",
      "x = linspace(0.,1.,100)\n",
      "u = 100.*exp(-100.*(x-.5).^2)\n",
      "```"
     ]
    },
    {
     "cell_type": "markdown",
     "metadata": {
      "internals": {
       "slide_helper": "subslide_end",
       "slide_type": "subslide"
      },
      "slide_helper": "subslide_end",
      "slideshow": {
       "slide_type": "slide"
      }
     },
     "source": [
      "# Initialisation de tableaux\n",
      "\n",
      "Il existe diff\u00e9rentes fa\u00e7ons de cr\u00e9er un tableau en NumPy."
     ]
    },
    {
     "cell_type": "markdown",
     "metadata": {
      "internals": {
       "slide_type": "subslide"
      },
      "slideshow": {
       "slide_type": "subslide"
      }
     },
     "source": [
      "## A partir de sa taille"
     ]
    },
    {
     "cell_type": "code",
     "collapsed": false,
     "input": [
      "import numpy as np\n",
      "np.zeros(4)"
     ],
     "language": "python",
     "metadata": {
      "internals": {},
      "slideshow": {
       "slide_type": "-"
      }
     },
     "outputs": [
      {
       "metadata": {},
       "output_type": "pyout",
       "prompt_number": 2,
       "text": [
        "array([ 0.,  0.,  0.,  0.])"
       ]
      }
     ],
     "prompt_number": 2
    },
    {
     "cell_type": "code",
     "collapsed": false,
     "input": [
      "nx, ny = 2, 2\n",
      "np.zeros((nx, ny, 2))"
     ],
     "language": "python",
     "metadata": {
      "internals": {},
      "slideshow": {
       "slide_type": "-"
      }
     },
     "outputs": [
      {
       "metadata": {},
       "output_type": "pyout",
       "prompt_number": 3,
       "text": [
        "array([[[ 0.,  0.],\n",
        "        [ 0.,  0.]],\n",
        "\n",
        "       [[ 0.,  0.],\n",
        "        [ 0.,  0.]]])"
       ]
      }
     ],
     "prompt_number": 3
    },
    {
     "cell_type": "markdown",
     "metadata": {
      "internals": {
       "slide_helper": "subslide_end"
      },
      "slide_helper": "subslide_end",
      "slideshow": {
       "slide_type": "-"
      }
     },
     "source": [
      "Il existe \u00e9galement d'autres fonctions: np.ones, np.eye, np.identity, np.empty, ..."
     ]
    },
    {
     "cell_type": "markdown",
     "metadata": {
      "internals": {
       "slide_helper": "subslide_end",
       "slide_type": "subslide"
      },
      "slide_helper": "subslide_end",
      "slideshow": {
       "slide_type": "subslide"
      }
     },
     "source": [
      "Quelques remarques\n",
      "\n",
      "- Par d\u00e9faut les \u00e9l\u00e9ments cr\u00e9\u00e9s sont des *float* (\u00e9quivalent de *double* en C).\n",
      "- On peut donner un deuxi\u00e8me argument qui pr\u00e9cise le type (int, complex, bool, ...).\n",
      "- Voir \u00e9galement les m\u00e9thodes dans random."
     ]
    },
    {
     "cell_type": "markdown",
     "metadata": {
      "internals": {
       "slide_type": "subslide"
      },
      "slideshow": {
       "slide_type": "subslide"
      }
     },
     "source": [
      "## Avec une s\u00e9quence de nombres"
     ]
    },
    {
     "cell_type": "code",
     "collapsed": false,
     "input": [
      "np.linspace(-4, 4, 9)"
     ],
     "language": "python",
     "metadata": {
      "internals": {},
      "slideshow": {
       "slide_type": "-"
      }
     },
     "outputs": [
      {
       "metadata": {},
       "output_type": "pyout",
       "prompt_number": 4,
       "text": [
        "array([-4., -3., -2., -1.,  0.,  1.,  2.,  3.,  4.])"
       ]
      }
     ],
     "prompt_number": 4
    },
    {
     "cell_type": "code",
     "collapsed": false,
     "input": [
      "np.arange(-4, 4, 1)"
     ],
     "language": "python",
     "metadata": {
      "internals": {},
      "slideshow": {
       "slide_type": "-"
      }
     },
     "outputs": [
      {
       "metadata": {},
       "output_type": "pyout",
       "prompt_number": 5,
       "text": [
        "array([-4, -3, -2, -1,  0,  1,  2,  3])"
       ]
      }
     ],
     "prompt_number": 5
    },
    {
     "cell_type": "code",
     "collapsed": false,
     "input": [
      "np.array([1, 2, 3])"
     ],
     "language": "python",
     "metadata": {
      "internals": {},
      "slideshow": {
       "slide_type": "-"
      }
     },
     "outputs": [
      {
       "metadata": {},
       "output_type": "pyout",
       "prompt_number": 6,
       "text": [
        "array([1, 2, 3])"
       ]
      }
     ],
     "prompt_number": 6
    },
    {
     "cell_type": "code",
     "collapsed": false,
     "input": [
      "np.array(range(10))"
     ],
     "language": "python",
     "metadata": {
      "internals": {},
      "slideshow": {
       "slide_type": "-"
      }
     },
     "outputs": [
      {
       "metadata": {},
       "output_type": "pyout",
       "prompt_number": 7,
       "text": [
        "array([0, 1, 2, 3, 4, 5, 6, 7, 8, 9])"
       ]
      }
     ],
     "prompt_number": 7
    },
    {
     "cell_type": "code",
     "collapsed": false,
     "input": [
      "L1, L2 = [1, 2, 3], [4, 5, 6]\n",
      "np.array([L1, L2])"
     ],
     "language": "python",
     "metadata": {
      "internals": {
       "slide_helper": "subslide_end"
      },
      "slide_helper": "subslide_end",
      "slideshow": {
       "slide_type": "-"
      }
     },
     "outputs": [
      {
       "metadata": {},
       "output_type": "pyout",
       "prompt_number": 8,
       "text": [
        "array([[1, 2, 3],\n",
        "       [4, 5, 6]])"
       ]
      }
     ],
     "prompt_number": 8
    },
    {
     "cell_type": "markdown",
     "metadata": {
      "internals": {
       "slide_type": "subslide"
      },
      "slideshow": {
       "slide_type": "subslide"
      }
     },
     "source": [
      "## A partir d'une fonction"
     ]
    },
    {
     "cell_type": "code",
     "collapsed": false,
     "input": [
      "def f(x, y):\n",
      "    return x**2 + np.sin(y)\n",
      "\n",
      "np.fromfunction(f, (2, 3))"
     ],
     "language": "python",
     "metadata": {
      "internals": {
       "slide_helper": "subslide_end"
      },
      "slide_helper": "subslide_end",
      "slideshow": {
       "slide_type": "-"
      }
     },
     "outputs": [
      {
       "metadata": {},
       "output_type": "pyout",
       "prompt_number": 9,
       "text": [
        "array([[ 0.        ,  0.84147098,  0.90929743],\n",
        "       [ 1.        ,  1.84147098,  1.90929743]])"
       ]
      }
     ],
     "prompt_number": 9
    },
    {
     "cell_type": "markdown",
     "metadata": {
      "internals": {
       "slide_type": "subslide"
      },
      "slideshow": {
       "slide_type": "subslide"
      }
     },
     "source": [
      "##\u00a0Avec des objets"
     ]
    },
    {
     "cell_type": "code",
     "collapsed": false,
     "input": [
      "class vecteur:\n",
      "     def __init__(self, x, y, z):\n",
      "         self.x, self.y, self.z = x, y, z\n",
      "            \n",
      "np.array([vecteur(1,1,1), vecteur(2,1,1)])"
     ],
     "language": "python",
     "metadata": {
      "internals": {
       "slide_helper": "subslide_end"
      },
      "slide_helper": "subslide_end",
      "slideshow": {
       "slide_type": "-"
      }
     },
     "outputs": [
      {
       "metadata": {},
       "output_type": "pyout",
       "prompt_number": 10,
       "text": [
        "array([<__main__.vecteur instance at 0x2292cf8>,\n",
        "       <__main__.vecteur instance at 0x2292e60>], dtype=object)"
       ]
      }
     ],
     "prompt_number": 10
    },
    {
     "cell_type": "markdown",
     "metadata": {
      "internals": {
       "slide_type": "subslide"
      },
      "slideshow": {
       "slide_type": "subslide"
      }
     },
     "source": [
      "## Avec des records\n",
      "\n",
      "On cr\u00e9e une image contenant $2\\times 2$ pixels *rgb*."
     ]
    },
    {
     "cell_type": "code",
     "collapsed": false,
     "input": [
      "img = np.array([[[0, 1], [0, 0]], \n",
      "                [[0, 0], [1, 0]],\n",
      "                [[0, 0], [0, 1]]], dtype=np.float32)\n",
      "img"
     ],
     "language": "python",
     "metadata": {
      "internals": {
       "slide_helper": "subslide_end"
      },
      "slide_helper": "subslide_end",
      "slideshow": {
       "slide_type": "-"
      }
     },
     "outputs": [
      {
       "metadata": {},
       "output_type": "pyout",
       "prompt_number": 11,
       "text": [
        "array([[[ 0.,  1.],\n",
        "        [ 0.,  0.]],\n",
        "\n",
        "       [[ 0.,  0.],\n",
        "        [ 1.,  0.]],\n",
        "\n",
        "       [[ 0.,  0.],\n",
        "        [ 0.,  1.]]], dtype=float32)"
       ]
      }
     ],
     "prompt_number": 11
    },
    {
     "cell_type": "markdown",
     "metadata": {
      "internals": {
       "slide_type": "subslide"
      },
      "slideshow": {
       "slide_type": "subslide"
      }
     },
     "source": [
      "On acc\u00e8de au pixel rouge en faisant"
     ]
    },
    {
     "cell_type": "code",
     "collapsed": false,
     "input": [
      "img[0]"
     ],
     "language": "python",
     "metadata": {
      "internals": {},
      "slideshow": {
       "slide_type": "-"
      }
     },
     "outputs": [
      {
       "metadata": {},
       "output_type": "pyout",
       "prompt_number": 12,
       "text": [
        "array([[ 0.,  1.],\n",
        "       [ 0.,  0.]], dtype=float32)"
       ]
      }
     ],
     "prompt_number": 12
    },
    {
     "cell_type": "markdown",
     "metadata": {
      "internals": {},
      "slideshow": {
       "slide_type": "-"
      }
     },
     "source": [
      "On acc\u00e8de au pixel en haut \u00e0 droite en faisant"
     ]
    },
    {
     "cell_type": "code",
     "collapsed": false,
     "input": [
      "img[:, 0, 1]"
     ],
     "language": "python",
     "metadata": {
      "internals": {
       "slide_helper": "subslide_end"
      },
      "slide_helper": "subslide_end",
      "slideshow": {
       "slide_type": "-"
      }
     },
     "outputs": [
      {
       "metadata": {},
       "output_type": "pyout",
       "prompt_number": 13,
       "text": [
        "array([ 1.,  0.,  0.], dtype=float32)"
       ]
      }
     ],
     "prompt_number": 13
    },
    {
     "cell_type": "markdown",
     "metadata": {
      "internals": {
       "slide_type": "subslide"
      },
      "slideshow": {
       "slide_type": "subslide"
      }
     },
     "source": [
      "On constate que la syntaxe n'est pas tr\u00e8s claire et qu'on ne sait pas trop ce qu'on manipule. On va donc mettre des records dans notre tableau pour y voir plus clair."
     ]
    },
    {
     "cell_type": "code",
     "collapsed": false,
     "input": [
      "img = np.array([[(0, 0, 0), (1, 0, 0)], \n",
      "                [(0, 1, 0), (0, 0, 1)]], \n",
      "                [('r', np.float32), \n",
      "                 ('g', np.float32), \n",
      "                 ('b', np.float32)])"
     ],
     "language": "python",
     "metadata": {
      "internals": {},
      "slideshow": {
       "slide_type": "-"
      }
     },
     "outputs": [],
     "prompt_number": 14
    },
    {
     "cell_type": "markdown",
     "metadata": {
      "internals": {},
      "slideshow": {
       "slide_type": "-"
      }
     },
     "source": [
      "On peut maintenant acc\u00e9der \u00e0 notre pixel rouge en faisant simplement"
     ]
    },
    {
     "cell_type": "code",
     "collapsed": false,
     "input": [
      "img['r']"
     ],
     "language": "python",
     "metadata": {
      "internals": {},
      "slideshow": {
       "slide_type": "-"
      }
     },
     "outputs": [
      {
       "metadata": {},
       "output_type": "pyout",
       "prompt_number": 15,
       "text": [
        "array([[ 0.,  1.],\n",
        "       [ 0.,  0.]], dtype=float32)"
       ]
      }
     ],
     "prompt_number": 15
    },
    {
     "cell_type": "markdown",
     "metadata": {
      "internals": {},
      "slideshow": {
       "slide_type": "-"
      }
     },
     "source": [
      "et le pixel en haut \u00e0 droite s'\u00e9crit"
     ]
    },
    {
     "cell_type": "code",
     "collapsed": false,
     "input": [
      "img[0, 1]"
     ],
     "language": "python",
     "metadata": {
      "internals": {
       "slide_helper": "subslide_end"
      },
      "slide_helper": "slide_end",
      "slideshow": {
       "slide_type": "-"
      }
     },
     "outputs": [
      {
       "metadata": {},
       "output_type": "pyout",
       "prompt_number": 16,
       "text": [
        "(1.0, 0.0, 0.0)"
       ]
      }
     ],
     "prompt_number": 16
    },
    {
     "cell_type": "markdown",
     "metadata": {
      "internals": {
       "slide_type": "subslide"
      },
      "slideshow": {
       "slide_type": "slide"
      }
     },
     "source": [
      "# Manipulation de tableaux\n",
      "\n",
      "Les caract\u00e9ristiques d'un tableau NumPy $a$ sont les suivantes\n",
      "\n",
      "- **a.shape**: retourne les dimensions du tableau\n",
      "- **a.dtype**: retourne le type des \u00e9l\u00e9ments du tableau\n",
      "- **a.size**: retourne le nombre total d'\u00e9l\u00e9ments du tableau\n",
      "- **a.ndim**: retourne la dimension du tableau"
     ]
    },
    {
     "cell_type": "code",
     "collapsed": false,
     "input": [
      "a = np.ones((3, 4, 2))\n",
      "print a.shape, a.dtype, a.size, a.ndim "
     ],
     "language": "python",
     "metadata": {
      "internals": {
       "slide_helper": "subslide_end"
      },
      "slide_helper": "subslide_end",
      "slideshow": {
       "slide_type": "-"
      }
     },
     "outputs": [
      {
       "output_type": "stream",
       "stream": "stdout",
       "text": [
        "(3, 4, 2) float64 24 3\n"
       ]
      }
     ],
     "prompt_number": 40
    },
    {
     "cell_type": "markdown",
     "metadata": {
      "internals": {
       "slide_helper": "subslide_end",
       "slide_type": "subslide"
      },
      "slide_helper": "subslide_end",
      "slideshow": {
       "slide_type": "subslide"
      }
     },
     "source": [
      "On peut acc\u00e9der aux \u00e9l\u00e9ments d'un tableau de diff\u00e9rentes mani\u00e8res.\n",
      "\n",
      "\n",
      "\n",
      "<center>\n",
      "<img src=\"files/figures/accesElem.png\" style=\"width: 30%;\" />\n",
      "</center>\n",
      "\n"
     ]
    },
    {
     "cell_type": "code",
     "collapsed": false,
     "input": [
      "L1, L2 = [1, -2, 3], [-4, 5, 6]\n",
      "a = np.array([L1, L2])"
     ],
     "language": "python",
     "metadata": {
      "internals": {
       "slide_type": "subslide"
      },
      "slideshow": {
       "slide_type": "subslide"
      }
     },
     "outputs": [],
     "prompt_number": 17
    },
    {
     "cell_type": "code",
     "collapsed": false,
     "input": [
      "a[1, 2]"
     ],
     "language": "python",
     "metadata": {
      "internals": {},
      "slideshow": {
       "slide_type": "-"
      }
     },
     "outputs": [
      {
       "metadata": {},
       "output_type": "pyout",
       "prompt_number": 18,
       "text": [
        "6"
       ]
      }
     ],
     "prompt_number": 18
    },
    {
     "cell_type": "code",
     "collapsed": false,
     "input": [
      "a[:, 1]"
     ],
     "language": "python",
     "metadata": {
      "internals": {},
      "slideshow": {
       "slide_type": "-"
      }
     },
     "outputs": [
      {
       "metadata": {},
       "output_type": "pyout",
       "prompt_number": 19,
       "text": [
        "array([-2,  5])"
       ]
      }
     ],
     "prompt_number": 19
    },
    {
     "cell_type": "code",
     "collapsed": false,
     "input": [
      "a[:, -1:0:-1]"
     ],
     "language": "python",
     "metadata": {
      "internals": {},
      "slideshow": {
       "slide_type": "-"
      }
     },
     "outputs": [
      {
       "metadata": {},
       "output_type": "pyout",
       "prompt_number": 20,
       "text": [
        "array([[ 3, -2],\n",
        "       [ 6,  5]])"
       ]
      }
     ],
     "prompt_number": 20
    },
    {
     "cell_type": "code",
     "collapsed": false,
     "input": [
      "a[a < 0]"
     ],
     "language": "python",
     "metadata": {
      "internals": {
       "slide_helper": "subslide_end"
      },
      "slide_helper": "subslide_end",
      "slideshow": {
       "slide_type": "-"
      }
     },
     "outputs": [
      {
       "metadata": {},
       "output_type": "pyout",
       "prompt_number": 21,
       "text": [
        "array([-2, -4])"
       ]
      }
     ],
     "prompt_number": 21
    },
    {
     "cell_type": "markdown",
     "metadata": {
      "internals": {
       "slide_type": "subslide"
      },
      "slideshow": {
       "slide_type": "subslide"
      }
     },
     "source": [
      "## Redimensionnement d'un tableau"
     ]
    },
    {
     "cell_type": "code",
     "collapsed": false,
     "input": [
      "a = np.linspace(1, 10, 10)\n",
      "a.shape = (2, 5) "
     ],
     "language": "python",
     "metadata": {
      "internals": {},
      "slideshow": {
       "slide_type": "-"
      }
     },
     "outputs": [],
     "prompt_number": 22
    },
    {
     "cell_type": "code",
     "collapsed": false,
     "input": [
      "a"
     ],
     "language": "python",
     "metadata": {
      "internals": {},
      "slideshow": {
       "slide_type": "-"
      }
     },
     "outputs": [
      {
       "metadata": {},
       "output_type": "pyout",
       "prompt_number": 23,
       "text": [
        "array([[  1.,   2.,   3.,   4.,   5.],\n",
        "       [  6.,   7.,   8.,   9.,  10.]])"
       ]
      }
     ],
     "prompt_number": 23
    },
    {
     "cell_type": "code",
     "collapsed": false,
     "input": [
      "a.shape = (a.size,)\n",
      "print a\n",
      "a.reshape((2, 5))   "
     ],
     "language": "python",
     "metadata": {
      "internals": {},
      "slideshow": {
       "slide_type": "-"
      }
     },
     "outputs": [
      {
       "output_type": "stream",
       "stream": "stdout",
       "text": [
        "[  1.   2.   3.   4.   5.   6.   7.   8.   9.  10.]\n"
       ]
      },
      {
       "metadata": {},
       "output_type": "pyout",
       "prompt_number": 24,
       "text": [
        "array([[  1.,   2.,   3.,   4.,   5.],\n",
        "       [  6.,   7.,   8.,   9.,  10.]])"
       ]
      }
     ],
     "prompt_number": 24
    },
    {
     "cell_type": "markdown",
     "metadata": {
      "internals": {
       "slide_helper": "subslide_end"
      },
      "slide_helper": "subslide_end",
      "slideshow": {
       "slide_type": "-"
      }
     },
     "source": [
      "**Attention**: *reshape* ne fait pas une copie du tableau mais cr\u00e9e une nouvelle vue."
     ]
    },
    {
     "cell_type": "markdown",
     "metadata": {
      "internals": {
       "slide_helper": "subslide_end",
       "slide_type": "subslide"
      },
      "slide_helper": "subslide_end",
      "slideshow": {
       "slide_type": "subslide"
      }
     },
     "source": [
      "## Les vues\n",
      "\n",
      "NumPy cr\u00e9e des tableaux allou\u00e9s en m\u00e9moire selon l'alignement C ou Fortran. \n",
      "\n",
      "On peut ensuite y acc\u00e9der selon diff\u00e9rentes vues.  "
     ]
    },
    {
     "cell_type": "code",
     "collapsed": false,
     "input": [
      "a = np.linspace(1, 10, 10)"
     ],
     "language": "python",
     "metadata": {
      "internals": {
       "slide_type": "subslide"
      },
      "slideshow": {
       "slide_type": "subslide"
      }
     },
     "outputs": [],
     "prompt_number": 25
    },
    {
     "cell_type": "markdown",
     "metadata": {
      "internals": {
       "slide_helper": "subslide_end"
      },
      "slide_helper": "subslide_end",
      "slideshow": {
       "slide_type": "-"
      }
     },
     "source": [
      "<center>\n",
      "<img src=\"files/figures/aView.png\" style=\"width: 40%;\" \\>\n",
      "</center>"
     ]
    },
    {
     "cell_type": "code",
     "collapsed": false,
     "input": [
      "b = a.reshape((5, 2))"
     ],
     "language": "python",
     "metadata": {
      "internals": {
       "slide_type": "subslide"
      },
      "slideshow": {
       "slide_type": "subslide"
      }
     },
     "outputs": [],
     "prompt_number": 26
    },
    {
     "cell_type": "markdown",
     "metadata": {
      "internals": {
       "slide_helper": "subslide_end"
      },
      "slide_helper": "subslide_end",
      "slideshow": {
       "slide_type": "-"
      }
     },
     "source": [
      "<center>\n",
      "<img src=\"files/figures/abView.png\" style=\"width: 40%;\" \\>\n",
      "</center>"
     ]
    },
    {
     "cell_type": "code",
     "collapsed": false,
     "input": [
      "c = b[:, 0]"
     ],
     "language": "python",
     "metadata": {
      "internals": {
       "slide_type": "subslide"
      },
      "slideshow": {
       "slide_type": "subslide"
      }
     },
     "outputs": [],
     "prompt_number": 27
    },
    {
     "cell_type": "markdown",
     "metadata": {
      "internals": {
       "slide_helper": "subslide_end"
      },
      "slide_helper": "subslide_end",
      "slideshow": {
       "slide_type": "-"
      }
     },
     "source": [
      "<center>\n",
      "<img src=\"files/figures/abcView.png\" style=\"width: 40%;\" \\>\n",
      "</center>"
     ]
    },
    {
     "cell_type": "code",
     "collapsed": false,
     "input": [
      "a[0] = 100"
     ],
     "language": "python",
     "metadata": {
      "internals": {
       "slide_type": "subslide"
      },
      "slideshow": {
       "slide_type": "subslide"
      }
     },
     "outputs": [],
     "prompt_number": 28
    },
    {
     "cell_type": "markdown",
     "metadata": {
      "internals": {
       "slide_helper": "subslide_end"
      },
      "slide_helper": "subslide_end",
      "slideshow": {
       "slide_type": "-"
      }
     },
     "source": [
      "<center>\n",
      "<img src=\"files/figures/abcView1.png\" style=\"width: 40%;\" \\>\n",
      "</center>"
     ]
    },
    {
     "cell_type": "code",
     "collapsed": false,
     "input": [
      "print '-'*5 + 'a' + '-'*5\n",
      "print a\n",
      "print '-'*5 + 'b' + '-'*5\n",
      "print b\n",
      "print '-'*5 + 'c' + '-'*5\n",
      "print c"
     ],
     "language": "python",
     "metadata": {
      "internals": {
       "slide_helper": "subslide_end",
       "slide_type": "subslide"
      },
      "slide_helper": "subslide_end",
      "slideshow": {
       "slide_type": "subslide"
      }
     },
     "outputs": [
      {
       "output_type": "stream",
       "stream": "stdout",
       "text": [
        "-----a-----\n",
        "[ 100.    2.    3.    4.    5.    6.    7.    8.    9.   10.]\n",
        "-----b-----\n",
        "[[ 100.    2.]\n",
        " [   3.    4.]\n",
        " [   5.    6.]\n",
        " [   7.    8.]\n",
        " [   9.   10.]]\n",
        "-----c-----\n",
        "[ 100.    3.    5.    7.    9.]\n"
       ]
      }
     ],
     "prompt_number": 29
    },
    {
     "cell_type": "markdown",
     "metadata": {
      "internals": {
       "slide_type": "subslide"
      },
      "slideshow": {
       "slide_type": "subslide"
      }
     },
     "source": [
      "## Copie d'un tableau"
     ]
    },
    {
     "cell_type": "code",
     "collapsed": false,
     "input": [
      "a = np.linspace(1, 5, 5)\n",
      "b = a\n",
      "c = a.copy()\n",
      "d = np.zeros(a.shape, a.dtype)\n",
      "d[:] = a \n",
      "b[1] = 9\n",
      "print 'a', a, '\\nb', b, '\\nc', c, '\\nd', d"
     ],
     "language": "python",
     "metadata": {
      "internals": {
       "slide_helper": "subslide_end"
      },
      "slide_helper": "subslide_end",
      "slideshow": {
       "slide_type": "-"
      }
     },
     "outputs": [
      {
       "output_type": "stream",
       "stream": "stdout",
       "text": [
        "a [ 1.  9.  3.  4.  5.] \n",
        "b [ 1.  9.  3.  4.  5.] \n",
        "c [ 1.  2.  3.  4.  5.] \n",
        "d [ 1.  2.  3.  4.  5.]\n"
       ]
      }
     ],
     "prompt_number": 30
    },
    {
     "cell_type": "markdown",
     "metadata": {
      "internals": {
       "slide_type": "subslide"
      },
      "slideshow": {
       "slide_type": "subslide"
      }
     },
     "source": [
      "## Rangement m\u00e9moire des tableaux\n",
      "\n",
      "Il est possible avec NumPy d'avoir un stockage de type C ou de type Fortran.\n",
      "\n",
      "<center>\n",
      "<img src=\"files/figures/storage.png\" style=\"width: 40%;\" />\n",
      "</center>"
     ]
    },
    {
     "cell_type": "code",
     "collapsed": false,
     "input": [
      "a = np.array([[1, 2], [3, 4]], order = 'f')\n",
      "b = np.array([[1, 2], [3, 4]])\n",
      "print np.isfortran(a)\n",
      "print np.isfortran(b)"
     ],
     "language": "python",
     "metadata": {
      "internals": {
       "slide_helper": "subslide_end"
      },
      "slide_helper": "subslide_end",
      "slideshow": {
       "slide_type": "-"
      }
     },
     "outputs": [
      {
       "output_type": "stream",
       "stream": "stdout",
       "text": [
        "True\n",
        "False\n"
       ]
      }
     ],
     "prompt_number": 38
    },
    {
     "cell_type": "markdown",
     "metadata": {
      "internals": {
       "slide_type": "subslide"
      },
      "slideshow": {
       "slide_type": "subslide"
      }
     },
     "source": [
      "## Boucles sur les tableaux"
     ]
    },
    {
     "cell_type": "code",
     "collapsed": false,
     "input": [
      "a = np.zeros((2, 3)) \n",
      "for i in xrange(a.shape[0]):\n",
      "    for j in xrange(a.shape[1]):\n",
      "        a[i, j] = (i + 1)*(j + 1)\n",
      "print a\n",
      "\n",
      "print '-'*20\n",
      "\n",
      "for e in a:\n",
      "    print e"
     ],
     "language": "python",
     "metadata": {
      "internals": {
       "slide_helper": "subslide_end"
      },
      "slide_helper": "subslide_end",
      "slideshow": {
       "slide_type": "-"
      }
     },
     "outputs": [
      {
       "output_type": "stream",
       "stream": "stdout",
       "text": [
        "[[ 1.  2.  3.]\n",
        " [ 2.  4.  6.]]\n",
        "--------------------\n",
        "[ 1.  2.  3.]\n",
        "[ 2.  4.  6.]\n"
       ]
      }
     ],
     "prompt_number": 44
    },
    {
     "cell_type": "code",
     "collapsed": false,
     "input": [
      "for e in a.flat:\n",
      "     print e\n",
      "\n",
      "print '-'*20\n",
      "        \n",
      "for index, value in np.ndenumerate(a):\n",
      "     print index, value"
     ],
     "language": "python",
     "metadata": {
      "internals": {
       "slide_helper": "subslide_end",
       "slide_type": "subslide"
      },
      "slide_helper": "slide_end",
      "slideshow": {
       "slide_type": "subslide"
      }
     },
     "outputs": [
      {
       "output_type": "stream",
       "stream": "stdout",
       "text": [
        "1.0\n",
        "2.0\n",
        "3.0\n",
        "2.0\n",
        "4.0\n",
        "6.0\n",
        "--------------------\n",
        "(0, 0) 1.0\n",
        "(0, 1) 2.0\n",
        "(0, 2) 3.0\n",
        "(1, 0) 2.0\n",
        "(1, 1) 4.0\n",
        "(1, 2) 6.0\n"
       ]
      }
     ],
     "prompt_number": 46
    },
    {
     "cell_type": "markdown",
     "metadata": {
      "slideshow": {
       "slide_type": "slide"
      }
     },
     "source": [
      "##\u00a0Op\u00e9rations sur les tableaux\n",
      "\n",
      "- Il n'est pas n\u00e9cessaire de faire des boucles.\n",
      "- Python sait faire la diff\u00e9rence entre un tableau NumPy et un scalaire.\n",
      "- Le calcul sur les tableaux se fait via des fonctions C."
     ]
    },
    {
     "cell_type": "markdown",
     "metadata": {
      "internals": {
       "slide_type": "subslide"
      },
      "slideshow": {
       "slide_type": "subslide"
      }
     },
     "source": [
      "Il faut \u00e9crire sous forme vectoris\u00e9e pour avoir les meilleures performances. Pour s'en convaincre, prenons l'exemple suivant:\n",
      "\n",
      "On veut calculer $b = 3a -1$."
     ]
    },
    {
     "cell_type": "code",
     "collapsed": false,
     "input": [
      "a = np.linspace(0, 1, 1E+06)\n",
      "b = np.zeros(1E+06)"
     ],
     "language": "python",
     "metadata": {
      "internals": {},
      "slideshow": {
       "slide_type": "-"
      }
     },
     "outputs": [],
     "prompt_number": 57
    },
    {
     "cell_type": "code",
     "collapsed": false,
     "input": [
      "%timeit  b[:] = 3*a - 1"
     ],
     "language": "python",
     "metadata": {
      "internals": {},
      "slideshow": {
       "slide_type": "-"
      }
     },
     "outputs": [
      {
       "output_type": "stream",
       "stream": "stdout",
       "text": [
        "100 loops, best of 3: 14.7 ms per loop\n"
       ]
      }
     ],
     "prompt_number": 62
    },
    {
     "cell_type": "code",
     "collapsed": false,
     "input": [
      "%timeit for i in xrange(a.size): b[i] = 3*a[i] - 1"
     ],
     "language": "python",
     "metadata": {
      "internals": {},
      "slideshow": {
       "slide_type": "-"
      }
     },
     "outputs": [
      {
       "output_type": "stream",
       "stream": "stdout",
       "text": [
        "1 loops, best of 3: 1.79 s per loop\n"
       ]
      }
     ],
     "prompt_number": 63
    },
    {
     "cell_type": "markdown",
     "metadata": {
      "internals": {
       "slide_helper": "subslide_end"
      },
      "slide_helper": "subslide_end",
      "slideshow": {
       "slide_type": "-"
      }
     },
     "source": [
      "On va donc *122* fois plus vite !!!"
     ]
    },
    {
     "cell_type": "markdown",
     "metadata": {
      "internals": {
       "slide_type": "subslide"
      },
      "slideshow": {
       "slide_type": "subslide"
      }
     },
     "source": [
      "NumPy fournit un ensemble de fonctions comme $\\exp$, $\\sin$, ... directement applicable sur des tableaux."
     ]
    },
    {
     "cell_type": "code",
     "collapsed": false,
     "input": [
      "def f(x):\n",
      "    return np.exp(-x*x)*np.log(1 + x*np.sin(x))\n",
      "\n",
      "x = np.linspace(0, 1, 1e6)\n",
      "%timeit a = f(x)"
     ],
     "language": "python",
     "metadata": {
      "internals": {
       "slide_helper": "subslide_end"
      },
      "slide_helper": "slide_end",
      "slideshow": {
       "slide_type": "-"
      }
     },
     "outputs": [
      {
       "output_type": "stream",
       "stream": "stdout",
       "text": [
        "10 loops, best of 3: 79 ms per loop\n"
       ]
      }
     ],
     "prompt_number": 67
    },
    {
     "cell_type": "markdown",
     "metadata": {
      "internals": {
       "slide_type": "subslide"
      },
      "slideshow": {
       "slide_type": "slide"
      }
     },
     "source": [
      "##\u00a0Quelques fonctions utiles"
     ]
    },
    {
     "cell_type": "code",
     "collapsed": false,
     "input": [
      "a = np.array([[1, 2, 4], [5, 6, 9]])\n",
      "print a\n",
      "print a.flatten()"
     ],
     "language": "python",
     "metadata": {
      "internals": {
       "slide_helper": "subslide_end"
      },
      "slide_helper": "subslide_end",
      "slideshow": {
       "slide_type": "-"
      }
     },
     "outputs": [
      {
       "output_type": "stream",
       "stream": "stdout",
       "text": [
        "[[1 2 4]\n",
        " [5 6 9]]\n",
        "[1 2 4 5 6 9]\n"
       ]
      }
     ],
     "prompt_number": 68
    },
    {
     "cell_type": "code",
     "collapsed": false,
     "input": [
      "a, b = np.array([[1, 2], [3, 4]]), array([2, 2])\n",
      "print a*b\n",
      "print '-'*10\n",
      "print np.dot(a, b)\n",
      "print '-'*10\n",
      "print np.tensordot(a, b, axes=0)"
     ],
     "language": "python",
     "metadata": {
      "internals": {
       "slide_helper": "subslide_end",
       "slide_type": "subslide"
      },
      "slide_helper": "subslide_end",
      "slideshow": {
       "slide_type": "subslide"
      }
     },
     "outputs": [
      {
       "output_type": "stream",
       "stream": "stdout",
       "text": [
        "[[2 4]\n",
        " [6 8]]\n",
        "----------\n",
        "[ 6 14]\n",
        "----------\n",
        "[[[2 2]\n",
        "  [4 4]]\n",
        "\n",
        " [[6 6]\n",
        "  [8 8]]]\n"
       ]
      }
     ],
     "prompt_number": 71
    },
    {
     "cell_type": "code",
     "collapsed": false,
     "input": [
      "print np.mgrid[0:2, 0:2]\n",
      "print '-'*10\n",
      "print np.ogrid[0:2, 0:2]"
     ],
     "language": "python",
     "metadata": {
      "internals": {
       "slide_helper": "subslide_end",
       "slide_type": "subslide"
      },
      "slide_helper": "subslide_end",
      "slideshow": {
       "slide_type": "subslide"
      }
     },
     "outputs": [
      {
       "output_type": "stream",
       "stream": "stdout",
       "text": [
        "[[[0 0]\n",
        "  [1 1]]\n",
        "\n",
        " [[0 1]\n",
        "  [0 1]]]\n",
        "----------\n",
        "[array([[0],\n",
        "       [1]]), array([[0, 1]])]\n"
       ]
      }
     ],
     "prompt_number": 73
    },
    {
     "cell_type": "code",
     "collapsed": false,
     "input": [
      "x, y = np.meshgrid(np.linspace(0, 2, 3), \n",
      "                   np.linspace(3, 5, 3))\n",
      "print x\n",
      "print '-'*10\n",
      "print y"
     ],
     "language": "python",
     "metadata": {
      "internals": {
       "slide_helper": "subslide_end",
       "slide_type": "subslide"
      },
      "slide_helper": "subslide_end",
      "slideshow": {
       "slide_type": "subslide"
      }
     },
     "outputs": [
      {
       "output_type": "stream",
       "stream": "stdout",
       "text": [
        "[[ 0.  1.  2.]\n",
        " [ 0.  1.  2.]\n",
        " [ 0.  1.  2.]]\n",
        "----------\n",
        "[[ 3.  3.  3.]\n",
        " [ 4.  4.  4.]\n",
        " [ 5.  5.  5.]]\n"
       ]
      }
     ],
     "prompt_number": 74
    },
    {
     "cell_type": "code",
     "collapsed": false,
     "input": [
      "a = np.array([[1, 2, 4], [5, 6, 9]])\n",
      "print 'any', np.any(a > 2)\n",
      "print 'all', np.all(a > 2)\n",
      "print 'where 1', np.where(a <= 1)\n",
      "print 'where 2', np.where(a > 1)"
     ],
     "language": "python",
     "metadata": {
      "internals": {
       "slide_helper": "subslide_end",
       "slide_type": "subslide"
      },
      "slide_helper": "slide_end",
      "slideshow": {
       "slide_type": "subslide"
      }
     },
     "outputs": [
      {
       "output_type": "stream",
       "stream": "stdout",
       "text": [
        "any True\n",
        "all False\n",
        "where 1 (array([0]), array([0]))\n",
        "where 2 (array([0, 0, 1, 1, 1]), array([1, 2, 0, 1, 2]))\n"
       ]
      }
     ],
     "prompt_number": 76
    },
    {
     "cell_type": "markdown",
     "metadata": {
      "internals": {
       "slide_helper": "subslide_end",
       "slide_type": "subslide"
      },
      "slide_helper": "slide_end",
      "slideshow": {
       "slide_type": "slide"
      }
     },
     "source": [
      "## Autres op\u00e9rations sur un tableau\n",
      "\n",
      "- ```a.argmax```: renvoie un tableau d'indices des valeurs maximales selon un axe\n",
      "- ```a.max```: renvoie le maximum\n",
      "- ```a.astype```: renvoie un tableau de a convertit sous un certain type\n",
      "- ```a.conj```: renvoie le conjugu\u00e9 de a\n",
      "- ```a.sum```: renvoie la somme des \u00e9l\u00e9ments de a\n",
      "- ```a.prod```: renvoie le produit des \u00e9l\u00e9ments de a\n",
      "- ```a.transpose```: renvoie la transpos\u00e9 de a"
     ]
    },
    {
     "cell_type": "markdown",
     "metadata": {
      "internals": {
       "slide_type": "subslide"
      },
      "slideshow": {
       "slide_type": "slide"
      }
     },
     "source": [
      "# Matrix\n",
      "\n",
      "NumPy offre un autre type de tableau: **matrix**. Ces caract\u00e9ristiques sont\n",
      "\n",
      "- ce type est une sorte de ndarray;\n",
      "- sa dimension en toujours 2;\n",
      "- l'extraction d'une partie de **matrix** est encore de type **matrix**."
     ]
    },
    {
     "cell_type": "code",
     "collapsed": false,
     "input": [
      "b = np.matrix(np.arange(9).reshape(3, 3))"
     ],
     "language": "python",
     "metadata": {
      "internals": {},
      "slideshow": {
       "slide_type": "subslide"
      }
     },
     "outputs": [],
     "prompt_number": 77
    },
    {
     "cell_type": "code",
     "collapsed": false,
     "input": [
      "b"
     ],
     "language": "python",
     "metadata": {
      "internals": {},
      "slideshow": {
       "slide_type": "-"
      }
     },
     "outputs": [
      {
       "metadata": {},
       "output_type": "pyout",
       "prompt_number": 78,
       "text": [
        "matrix([[0, 1, 2],\n",
        "        [3, 4, 5],\n",
        "        [6, 7, 8]])"
       ]
      }
     ],
     "prompt_number": 78
    },
    {
     "cell_type": "code",
     "collapsed": true,
     "input": [
      "u = np.ones((3, 1))\n",
      "print b*u"
     ],
     "language": "python",
     "metadata": {
      "internals": {
       "slide_helper": "subslide_end"
      },
      "slide_helper": "slide_end",
      "slideshow": {
       "slide_type": "-"
      }
     },
     "outputs": [
      {
       "output_type": "stream",
       "stream": "stdout",
       "text": [
        "[[  3.]\n",
        " [ 12.]\n",
        " [ 21.]]\n"
       ]
      }
     ],
     "prompt_number": 79
    },
    {
     "cell_type": "markdown",
     "metadata": {
      "internals": {
       "slide_helper": "subslide_end",
       "slide_type": "subslide"
      },
      "slide_helper": "subslide_end",
      "slideshow": {
       "slide_type": "slide"
      }
     },
     "source": [
      "# Les entr\u00e9es-sorties\n",
      "\n",
      "Il existe diff\u00e9rentes mani\u00e8res de sauvegarder ses donn\u00e9es \n",
      "\n",
      "- formats NumPy\n",
      "- pickle\n",
      "- HDF5, NetCDF, VTK, ...\n",
      "\n",
      "On s'int\u00e9ressera ici uniquement aux formats fournis par NumPy."
     ]
    },
    {
     "cell_type": "markdown",
     "metadata": {
      "internals": {
       "slide_type": "subslide"
      },
      "slideshow": {
       "slide_type": "subslide"
      }
     },
     "source": [
      "## load et save"
     ]
    },
    {
     "cell_type": "code",
     "collapsed": false,
     "input": [
      "np.save('/tmp/123', np.array([[1, 2, 3], [4, 5, 6]]))\n",
      "np.load('/tmp/123.npy')"
     ],
     "language": "python",
     "metadata": {
      "internals": {
       "slide_helper": "subslide_end"
      },
      "slide_helper": "subslide_end",
      "slideshow": {
       "slide_type": "-"
      }
     },
     "outputs": [
      {
       "metadata": {},
       "output_type": "pyout",
       "prompt_number": 80,
       "text": [
        "array([[1, 2, 3],\n",
        "       [4, 5, 6]])"
       ]
      }
     ],
     "prompt_number": 80
    },
    {
     "cell_type": "markdown",
     "metadata": {
      "internals": {
       "slide_type": "subslide"
      },
      "slideshow": {
       "slide_type": "subslide"
      }
     },
     "source": [
      "## load et savez"
     ]
    },
    {
     "cell_type": "code",
     "collapsed": false,
     "input": [
      "x = np.linspace(0, 2*np.pi, 10)\n",
      "y = np.sin(x)   \n",
      "np.savez('/tmp/sin', x1=x, y1=y)\n",
      "t = np.load('/tmp/sin.npz')\n",
      "print t.files\n",
      "print t['x1']"
     ],
     "language": "python",
     "metadata": {
      "internals": {
       "slide_helper": "subslide_end"
      },
      "slide_helper": "subslide_end",
      "slideshow": {
       "slide_type": "-"
      }
     },
     "outputs": [
      {
       "output_type": "stream",
       "stream": "stdout",
       "text": [
        "['y1', 'x1']\n",
        "[ 0.          0.6981317   1.3962634   2.0943951   2.7925268   3.4906585\n",
        "  4.1887902   4.88692191  5.58505361  6.28318531]\n"
       ]
      }
     ],
     "prompt_number": 81
    },
    {
     "cell_type": "markdown",
     "metadata": {
      "internals": {
       "slide_type": "subslide"
      },
      "slideshow": {
       "slide_type": "subslide"
      }
     },
     "source": [
      "## loadtxt"
     ]
    },
    {
     "cell_type": "code",
     "collapsed": false,
     "input": [
      "from StringIO import StringIO\n",
      "c = StringIO(\"0 1\\n2 3\")\n",
      "print np.loadtxt(c)\n",
      "\n",
      "c = StringIO(\"1,0,2\\n3,0,4\")\n",
      "x, y = np.loadtxt(c, delimiter=',', usecols=(0, 2),\n",
      "                  unpack=True)\n",
      "print x"
     ],
     "language": "python",
     "metadata": {
      "internals": {
       "slide_helper": "subslide_end"
      },
      "slide_helper": "subslide_end",
      "slideshow": {
       "slide_type": "-"
      }
     },
     "outputs": [
      {
       "output_type": "stream",
       "stream": "stdout",
       "text": [
        "[[ 0.  1.]\n",
        " [ 2.  3.]]\n",
        "[ 1.  3.]\n"
       ]
      }
     ],
     "prompt_number": 82
    },
    {
     "cell_type": "markdown",
     "metadata": {
      "internals": {
       "slide_type": "subslide"
      },
      "slideshow": {
       "slide_type": "subslide"
      }
     },
     "source": [
      "## savetxt"
     ]
    },
    {
     "cell_type": "code",
     "collapsed": false,
     "input": [
      "x = y = z = np.arange(0.0, 5.0, 1.0)\n",
      "\n",
      "np.savetxt('test.out', x, delimiter=',')\n",
      "!cat 'test.out'\n",
      "print '-'*10\n",
      "\n",
      "np.savetxt('test.out', (x, y, z)) \n",
      "!cat 'test.out'\n",
      "print '-'*10\n",
      "\n",
      "np.savetxt('test.out', x, fmt='%1.4e')\n",
      "!cat 'test.out'"
     ],
     "language": "python",
     "metadata": {
      "internals": {},
      "slideshow": {
       "slide_type": "-"
      }
     },
     "outputs": [
      {
       "output_type": "stream",
       "stream": "stdout",
       "text": [
        "0.000000000000000000e+00\r\n",
        "1.000000000000000000e+00\r\n",
        "2.000000000000000000e+00\r\n",
        "3.000000000000000000e+00\r\n",
        "4.000000000000000000e+00\r\n"
       ]
      },
      {
       "output_type": "stream",
       "stream": "stdout",
       "text": [
        "----------\n",
        "0.000000000000000000e+00 1.000000000000000000e+00 2.000000000000000000e+00 3.000000000000000000e+00 4.000000000000000000e+00\r\n",
        "0.000000000000000000e+00 1.000000000000000000e+00 2.000000000000000000e+00 3.000000000000000000e+00 4.000000000000000000e+00\r\n",
        "0.000000000000000000e+00 1.000000000000000000e+00 2.000000000000000000e+00 3.000000000000000000e+00 4.000000000000000000e+00\r\n"
       ]
      },
      {
       "output_type": "stream",
       "stream": "stdout",
       "text": [
        "----------\n",
        "0.0000e+00\r\n",
        "1.0000e+00\r\n",
        "2.0000e+00\r\n",
        "3.0000e+00\r\n",
        "4.0000e+00\r\n"
       ]
      }
     ],
     "prompt_number": 87
    },
    {
     "cell_type": "markdown",
     "metadata": {
      "internals": {
       "slide_helper": "subslide_end"
      },
      "slide_helper": "slide_end",
      "slideshow": {
       "slide_type": "-"
      }
     },
     "source": [
      "*Remarque*: tous les exemples d'entr\u00e9es-sorties ont \u00e9t\u00e9 pris dans le guide de r\u00e9f\u00e9rence de numpy (voir [ici](http://docs.scipy.org/doc/numpy/reference/routines.io.html))."
     ]
    },
    {
     "cell_type": "markdown",
     "metadata": {
      "internals": {
       "slide_type": "subslide"
      },
      "slideshow": {
       "slide_type": "slide"
      }
     },
     "source": [
      "## Options pour l'affichage des tableaux"
     ]
    },
    {
     "cell_type": "code",
     "collapsed": false,
     "input": [
      "a  = np.sin(np.arange(3))\n",
      "print a"
     ],
     "language": "python",
     "metadata": {
      "internals": {},
      "slideshow": {
       "slide_type": "-"
      }
     },
     "outputs": [
      {
       "output_type": "stream",
       "stream": "stdout",
       "text": [
        "[ 0.          0.84147098  0.90929743]\n"
       ]
      }
     ],
     "prompt_number": 88
    },
    {
     "cell_type": "code",
     "collapsed": false,
     "input": [
      "import sys\n",
      "np.set_printoptions(precision=2, threshold=sys.maxint)\n",
      "print a"
     ],
     "language": "python",
     "metadata": {
      "internals": {
       "slide_helper": "subslide_end"
      },
      "slide_helper": "slide_end",
      "slideshow": {
       "slide_type": "-"
      }
     },
     "outputs": [
      {
       "output_type": "stream",
       "stream": "stdout",
       "text": [
        "[ 0.    0.84  0.91]\n"
       ]
      }
     ],
     "prompt_number": 90
    },
    {
     "cell_type": "markdown",
     "metadata": {
      "slideshow": {
       "slide_type": "slide"
      }
     },
     "source": [
      "# Exercices\n"
     ]
    },
    {
     "cell_type": "markdown",
     "metadata": {},
     "source": [
      "### Exercice 1 \n",
      "\n",
      "D\u00e9finir une matrice et un vecteur numpy de la mani\u00e8re suivante"
     ]
    },
    {
     "cell_type": "code",
     "collapsed": false,
     "input": [
      "import numpy as np\n",
      "A = np.array([[1, 2, 3], [4, 5, 6], [7, 8, 9]])\n",
      "b = np.array([-3, -2, -1])"
     ],
     "language": "python",
     "metadata": {},
     "outputs": [],
     "prompt_number": 2
    },
    {
     "cell_type": "markdown",
     "metadata": {},
     "source": [
      "- Quels sont les types des donn\u00e9es de $A$ et de $b$ ?\n",
      "- Faire le produit matrice-vecteur et afficher le r\u00e9sultat."
     ]
    },
    {
     "cell_type": "markdown",
     "metadata": {
      "slideshow": {
       "slide_type": "subslide"
      }
     },
     "source": [
      "### Exercice 2\n",
      "Extraire la matrice $2\\times 2$ qui se situe dans le coin en bas \u00e0 droite de la matrice $A$ de l'exercice pr\u00e9c\u00e9dent. Ajouter \u00e0 cette matrice une autre matrice $2\\times 2$ et multiplier le r\u00e9sultat par une autre matrice $2\\times 2$. Ins\u00e9rer le r\u00e9sultat final dans le coin en haut \u00e0 gauche de la matrice $A$."
     ]
    },
    {
     "cell_type": "markdown",
     "metadata": {
      "slideshow": {
       "slide_type": "subslide"
      }
     },
     "source": [
      "### Exercice 3\n",
      "La fonction suivante"
     ]
    },
    {
     "cell_type": "code",
     "collapsed": false,
     "input": [
      "def initial_condition(x):\n",
      "    return 3.0"
     ],
     "language": "python",
     "metadata": {},
     "outputs": []
    },
    {
     "cell_type": "markdown",
     "metadata": {},
     "source": [
      "ne fonctionne pas correctement si $x$ est un tableau NumPy. Dans ce cas, la fonction devrait retourner un tableau de la m\u00eame taille que le tableau $x$ avec toutes ses valeurs \u00e0 $3$.\\\\\n",
      "Effectuer les modifications n\u00e9cessaires pour que cette fonction fonctionne correctement pour les scalaires et les tableaux."
     ]
    },
    {
     "cell_type": "markdown",
     "metadata": {
      "slideshow": {
       "slide_type": "subslide"
      }
     },
     "source": [
      "### Exercice 4\n",
      "Un nombre premier est un nombre qui n'est divisible que par un et par lui-m\u00eame. \u00c9crivez un programme qui \u00e9tablisse la liste de tous les nombres premiers compris entre 1 et 1000, en utilisant la m\u00e9thode du **crible d'Eratosth\u00e8ne** :\n",
      "\n",
      "- Cr\u00e9er une liste de 1000 \u00e9l\u00e9ments, chacun initialis\u00e9 \u00e0 la valeur 1.\n",
      "- Parcourir cette liste \u00e0 partir de l'\u00e9l\u00e9ment d'indice 2 : si l'\u00e9l\u00e9ment analys\u00e9 poss\u00e8de la valeur 1, mettez \u00e0 z\u00e9ro tous les autres \u00e9l\u00e9ments de la liste, dont les indices sont des multiples entiers de l'indice auquel vous \u00eates arriv\u00e9. \n",
      "\n",
      "Lorsque vous aurez parcouru ainsi toute la liste, les indices des \u00e9l\u00e9ments qui seront rest\u00e9s \u00e0 1 seront les nombres premiers recherch\u00e9s. \n",
      "\n",
      "En effet : A partir de l'indice 2, vous annulez tous les \u00e9l\u00e9ments d'indices pairs : 4, 6, 8, 10, etc. Avec l'indice 3, vous annulez les \u00e9l\u00e9ments d'indices 6, 9, 12, 15, etc., et ainsi de suite.\n",
      "\n",
      "Seuls resteront \u00e0 1 les \u00e9l\u00e9ments dont les indices sont effectivement des nombres premiers.\n",
      "\n",
      "On peut \u00e9crire l'algorithme sous la forme suivante (cf [Sieve_of_Eratosthenes](http://en.wikipedia.org/wiki/Sieve_of_Eratosthenes))\n",
      "\n",
      "    Input: an integer n > 1\n",
      "\n",
      "    Let A be an array of Boolean values, indexed by integers 2 to n,\n",
      "    initially all set to true.\n",
      "\n",
      "    for i = 2, 3, 4, ..., not exceeding \u221an:\n",
      "        if A[i] is true:\n",
      "            for j = i2, i2+i, i2+2i, ..., not exceeding n\u2009:\n",
      "                A[j] := false\n",
      "\n",
      "    Output: all i such that A[i] is true."
     ]
    },
    {
     "cell_type": "code",
     "collapsed": false,
     "input": [
      "import numpy as np\n",
      "def eratostene(n):\n",
      "    A = np.ones(n, dtype=np.bool)\n",
      "    \n",
      "    for i in xrange(2, int(np.sqrt(n))):\n",
      "        if A[i]:\n",
      "            A[i**2::i] = False\n",
      "    \n",
      "    return np.where(A)[0]\n",
      "    \n",
      "print eratostene(1000000)"
     ],
     "language": "python",
     "metadata": {},
     "outputs": [
      {
       "output_type": "stream",
       "stream": "stdout",
       "text": [
        "[     0      1      2 ..., 999961 999979 999983]\n"
       ]
      }
     ],
     "prompt_number": 16
    },
    {
     "cell_type": "markdown",
     "metadata": {
      "slideshow": {
       "slide_type": "subslide"
      }
     },
     "source": [
      "### Exercice 5\n",
      "On consid\u00e8re la fonction suivante\n",
      "\n",
      "$$\n",
      "f(x) = \\frac{n}{n+1}\\left\\{\n",
      "\\begin{array}{l}\n",
      " 0.5^{1+1/n} - (0.5 - x)^{1+1/n}, \\quad 0 \\leq x \\leq 0.5 \\\\\n",
      " 0.5^{1+1/n} - (x - 0.5)^{1+1/n}, \\quad 0.5 < x \\leq 1\n",
      "\\end{array}\n",
      "\\right.\n",
      "$$\n",
      "\n",
      "avec un r\u00e9el $0 < n \\leq 1$. Impl\u00e9menter une fonction Python vectorielle pour \u00e9valuer $f(x)$ pour un vecteur $x$ de taille $m$ ayant ses valeurs entre $0$ et $1$."
     ]
    },
    {
     "cell_type": "markdown",
     "metadata": {
      "slideshow": {
       "slide_type": "subslide"
      }
     },
     "source": [
      "### Exercice 6\n",
      "Cr\u00e9ez ces deux tableaux \n",
      "\n",
      "```\n",
      "[[ 0.  0.  0.  0.  0.]\n",
      " [ 2.  0.  0.  0.  0.]\n",
      " [ 0.  3.  0.  0.  0.]\n",
      " [ 0.  0.  4.  0.  0.]\n",
      " [ 0.  0.  0.  5.  0.]\n",
      " [ 0.  0.  0.  0.  6.]]\n",
      "```\n",
      "\n",
      "```\n",
      "[[1 1 1 1]\n",
      " [1 1 1 1]\n",
      " [1 1 1 2]\n",
      " [1 6 1 1]]\n",
      "```\n",
      "\n"
     ]
    },
    {
     "cell_type": "markdown",
     "metadata": {
      "slideshow": {
       "slide_type": "subslide"
      }
     },
     "source": [
      "### Exercice 7\n",
      "\n",
      "Ecrivez une fonction qui prend en argument un tableau \u00e0 une dimension et qui renvoie un autre tableau contenant uniquement les \u00e9l\u00e9ments strictement positifs du tableau d'entr\u00e9e.\n",
      "\n",
      "Voici un exemple d'utilisation"
     ]
    },
    {
     "cell_type": "code",
     "collapsed": false,
     "input": [
      "import numpy as np\n",
      "x = np.arange(10) - 5\n",
      "print x\n",
      "pos_x = positive_elements(x)\n",
      "print pos_x"
     ],
     "language": "python",
     "metadata": {},
     "outputs": []
    },
    {
     "cell_type": "markdown",
     "metadata": {},
     "source": [
      "On aura en sortie\n",
      "\n",
      "```\n",
      "[-5 -4 -3 -2 -1  0  1  2  3  4]\n",
      "[1 2 3 4]\n",
      "```"
     ]
    },
    {
     "cell_type": "markdown",
     "metadata": {
      "slideshow": {
       "slide_type": "subslide"
      }
     },
     "source": [
      "### Exercice 8\n",
      "\n",
      "Ecrivez une fonction qui prend deux tableau \u00e0 une dimension et qui retourne un tableau \u00e0 deux dimensions contenant les produits terme \u00e0 terme du premier tableau avec le second.\n",
      "\n",
      "Voici un exemple d'utilisation"
     ]
    },
    {
     "cell_type": "code",
     "collapsed": false,
     "input": [
      "import numpy as np\n",
      "a = np.arange(3)\n",
      "b = np.array([-1., 1., 2.])\n",
      "print multiplication_table(a, b)"
     ],
     "language": "python",
     "metadata": {},
     "outputs": []
    },
    {
     "cell_type": "markdown",
     "metadata": {},
     "source": [
      "On aura en sortie\n",
      "\n",
      "```\n",
      "[[-0.,  0.,  0.],\n",
      " [-1.,  1.,  2.],\n",
      " [-2.,  2.,  4.]]\n",
      "```\n",
      "\n",
      "Petit indice: regarder `np.newaxis`."
     ]
    },
    {
     "cell_type": "markdown",
     "metadata": {
      "slideshow": {
       "slide_type": "subslide"
      }
     },
     "source": [
      "### Exercice 9\n",
      "\n",
      "Ecrivez une fonction qui prend un tableau \u00e0 une dimension en entr\u00e9e et qui retourne un autre tableau \u00e0 une dimension contenant les diff\u00e9rences entre 2 points voisins du tableau d'entr\u00e9e.\n",
      "\n",
      "Voici un exemple d'utilisation"
     ]
    },
    {
     "cell_type": "code",
     "collapsed": false,
     "input": [
      "import numpy as np\n",
      "x = np.array([1., 2., -3., 0.])\n",
      "print differences(x)"
     ],
     "language": "python",
     "metadata": {},
     "outputs": []
    },
    {
     "cell_type": "markdown",
     "metadata": {},
     "source": [
      "On aura en sortie\n",
      "\n",
      "```\n",
      "[-1.  5. -3.]\n",
      "```"
     ]
    },
    {
     "cell_type": "markdown",
     "metadata": {
      "slideshow": {
       "slide_type": "subslide"
      }
     },
     "source": [
      "### Exercice 10\n",
      "\n",
      "Ecrivez une fonction qui prend un tableau \u00e0 deux dimension en entr\u00e9e et retourne un autre tableau \u00e0 deux dimension ayant le nombre d'\u00e9l\u00e9ments multipli\u00e9 par 2 dans chaque direction par rapport au tableau d'entr\u00e9e. Chaque \u00e9l\u00e9ment du tableau d'entr\u00e9e est ensuite copi\u00e9 sur les quatre \u00e9l\u00e9ments adjacents du tableau de sortie.\n",
      "\n",
      "Voici un exemple d'utilisation"
     ]
    },
    {
     "cell_type": "code",
     "collapsed": false,
     "input": [
      "import numpy as np\n",
      "a = np.arange(1, 5, dtype = 'i').reshape((2, 2))\n",
      "print repeat_twice(a)"
     ],
     "language": "python",
     "metadata": {},
     "outputs": []
    },
    {
     "cell_type": "markdown",
     "metadata": {},
     "source": [
      "On aura en sortie\n",
      "\n",
      "```\n",
      "[[1 1 2 2]\n",
      " [1 1 2 2]\n",
      " [3 3 4 4]\n",
      " [3 3 4 4]]\n",
      "```"
     ]
    }
   ],
   "metadata": {}
  }
 ]
}