{
 "metadata": {
  "name": "",
  "signature": "sha256:203e825309d8f824b613dd1f124ab26d8d89b405c20c26d80a89d09722b27edc"
 },
 "nbformat": 3,
 "nbformat_minor": 0,
 "worksheets": [
  {
   "cells": [
    {
     "cell_type": "markdown",
     "metadata": {
      "internals": {
       "slide_helper": "subslide_end",
       "slide_type": "subslide"
      },
      "slide_helper": "slide_end",
      "slideshow": {
       "slide_type": "slide"
      }
     },
     "source": [
      "#Formation Python\n",
      "#*Installation de packages,*\n",
      "#*tests et documentation*\n",
      "&nbsp;\n",
      "<center>\n",
      "Lo\u00efc Gouarin\n",
      "</center>\n",
      "<center>\n",
      "7 - 10 juillet\n",
      "</center>"
     ]
    },
    {
     "cell_type": "markdown",
     "metadata": {
      "internals": {
       "slide_helper": "subslide_end",
       "slide_type": "subslide"
      },
      "slide_helper": "slide_end",
      "slideshow": {
       "slide_type": "slide"
      }
     },
     "source": [
      "Il est facile d'\u00e9tendre les fonctionnalit\u00e9s de Python en cr\u00e9ant des modules et/ou des packages.\n",
      "\n",
      "- un module est un fichier regroupant un ensemble de fonctions, de classes, ...\n",
      "\n",
      "- un package est un r\u00e9pretoire regroupant un ensemble de modules"
     ]
    },
    {
     "cell_type": "markdown",
     "metadata": {
      "internals": {
       "slide_type": "subslide"
      },
      "slideshow": {
       "slide_type": "slide"
      }
     },
     "source": [
      "## Exemple de module\n",
      "\n",
      "Nous allons \u00e9crire ici notre premier module permettant de calculer la suite de Fibonacci. On sauvegarde nos fonctions dans un fichier **fibo.py**."
     ]
    },
    {
     "cell_type": "code",
     "collapsed": false,
     "input": [
      "%%file fibo.py\n",
      "#!/usr/bin/env python\n",
      "# -*- coding: utf-8 -*-\n",
      "\"\"\"\n",
      "Module nombres de Fibonacci\n",
      "\"\"\"\n",
      "\n",
      "def print_fib(n):\n",
      "    \"\"\"\n",
      "    affiche les nombres de la suite de Fibonacci jusqu'\u00e0 n\n",
      "    \"\"\"\n",
      "    a, b = 0, 1\n",
      "    while b < n:\n",
      "        print b,\n",
      "        a, b = b, a+b\n",
      "    print\n",
      "\n",
      "def list_fib(n): \n",
      "    \"\"\"\n",
      "    retourne sous forme de liste les nombres de la suite de Fibonacci jusqu'\u00e0 n\n",
      "    \"\"\"\n",
      "    result, a, b  = [], 0, 1\n",
      "    while b < n:\n",
      "        result.append(b)\n",
      "        a, b = b, a+b\n",
      "    return result"
     ],
     "language": "python",
     "metadata": {
      "internals": {
       "slide_helper": "subslide_end"
      },
      "slide_helper": "slide_end",
      "slideshow": {
       "slide_type": "-"
      }
     },
     "outputs": [
      {
       "output_type": "stream",
       "stream": "stdout",
       "text": [
        "Overwriting fibo.py\n"
       ]
      }
     ],
     "prompt_number": 11
    },
    {
     "cell_type": "markdown",
     "metadata": {
      "internals": {
       "slide_helper": "subslide_end",
       "slide_type": "subslide"
      },
      "slide_helper": "subslide_end",
      "slideshow": {
       "slide_type": "slide"
      }
     },
     "source": [
      "## Utilisation d'un module\n",
      "\n",
      "Il existe diff\u00e9rentes mani\u00e8res d'importer un module en utilitsant le mot-clef **import**\n"
     ]
    },
    {
     "cell_type": "markdown",
     "metadata": {
      "internals": {
       "slide_type": "subslide"
      },
      "slideshow": {
       "slide_type": "subslide"
      }
     },
     "source": [
      "On peut importer un module via son nom."
     ]
    },
    {
     "cell_type": "code",
     "collapsed": false,
     "input": [
      "import fibo\n",
      "fibo.print_fib(6)"
     ],
     "language": "python",
     "metadata": {
      "internals": {
       "slide_helper": "subslide_end"
      },
      "slide_helper": "subslide_end",
      "slideshow": {
       "slide_type": "-"
      }
     },
     "outputs": [
      {
       "output_type": "stream",
       "stream": "stdout",
       "text": [
        "1 1 2 3 5\n"
       ]
      }
     ],
     "prompt_number": 12
    },
    {
     "cell_type": "markdown",
     "metadata": {
      "internals": {
       "slide_type": "subslide"
      },
      "slideshow": {
       "slide_type": "subslide"
      }
     },
     "source": [
      "On peut importer une partie d'un module."
     ]
    },
    {
     "cell_type": "code",
     "collapsed": false,
     "input": [
      "from fibo import print_fib\n",
      "print_fib(6)"
     ],
     "language": "python",
     "metadata": {
      "internals": {
       "slide_helper": "subslide_end"
      },
      "slide_helper": "subslide_end",
      "slideshow": {
       "slide_type": "-"
      }
     },
     "outputs": [
      {
       "output_type": "stream",
       "stream": "stdout",
       "text": [
        "1 1 2 3 5\n"
       ]
      }
     ],
     "prompt_number": 18
    },
    {
     "cell_type": "markdown",
     "metadata": {
      "internals": {
       "slide_type": "subslide"
      },
      "slideshow": {
       "slide_type": "subslide"
      }
     },
     "source": [
      "On peut importer un module en modifiant son nom d'appel."
     ]
    },
    {
     "cell_type": "code",
     "collapsed": false,
     "input": [
      "import fibo as f\n",
      "f.print_fib(6)"
     ],
     "language": "python",
     "metadata": {
      "internals": {
       "slide_helper": "subslide_end"
      },
      "slide_helper": "subslide_end",
      "slideshow": {
       "slide_type": "-"
      }
     },
     "outputs": [
      {
       "output_type": "stream",
       "stream": "stdout",
       "text": [
        "1 1 2 3 5\n"
       ]
      }
     ],
     "prompt_number": 21
    },
    {
     "cell_type": "markdown",
     "metadata": {
      "internals": {
       "slide_type": "subslide"
      },
      "slideshow": {
       "slide_type": "subslide"
      }
     },
     "source": [
      "On peut importer l'ensemble du module."
     ]
    },
    {
     "cell_type": "code",
     "collapsed": false,
     "input": [
      "from fibo import * \n",
      "print_fib(6)"
     ],
     "language": "python",
     "metadata": {
      "internals": {},
      "slideshow": {
       "slide_type": "-"
      }
     },
     "outputs": [
      {
       "output_type": "stream",
       "stream": "stdout",
       "text": [
        "1 1 2 3 5\n"
       ]
      }
     ],
     "prompt_number": 30
    },
    {
     "cell_type": "markdown",
     "metadata": {
      "internals": {
       "slide_helper": "subslide_end"
      },
      "slide_helper": "subslide_end",
      "slideshow": {
       "slide_type": "-"
      }
     },
     "source": [
      "On \u00e9vitera par la suite ce type d'import qui est jug\u00e9 dangereux."
     ]
    },
    {
     "cell_type": "markdown",
     "metadata": {
      "internals": {
       "slide_type": "subslide"
      },
      "slideshow": {
       "slide_type": "subslide"
      }
     },
     "source": [
      "**import** d\u00e9finit explicitement certains attributs du module\n",
      "\n",
      "- **\\_\\_dict__**: dictionnaire utilis\u00e9 par le module pour l'espace de noms des attributs\n",
      "- **\\_\\_name__**: nom du module\n",
      "- **\\_\\_file__**: fichier du module\n",
      "- **\\_\\_doc__**: documentation du module"
     ]
    },
    {
     "cell_type": "code",
     "collapsed": false,
     "input": [
      "print 'file', fibo.__file__\n",
      "print 'name', fibo.__name__\n",
      "print 'doc', fibo.__doc__"
     ],
     "language": "python",
     "metadata": {
      "internals": {
       "slide_helper": "subslide_end"
      },
      "slide_helper": "subslide_end",
      "slideshow": {
       "slide_type": "-"
      }
     },
     "outputs": [
      {
       "output_type": "stream",
       "stream": "stdout",
       "text": [
        "file fibo.py\n",
        "name fibo\n",
        "doc \n",
        "Module nombres de Fibonacci\n",
        "\n"
       ]
      }
     ],
     "prompt_number": 17
    },
    {
     "cell_type": "markdown",
     "metadata": {
      "internals": {
       "slide_helper": "subslide_end",
       "slide_type": "subslide"
      },
      "slide_helper": "subslide_end",
      "slideshow": {
       "slide_type": "subslide"
      }
     },
     "source": [
      "## Quelques remarques\n",
      "\n",
      "- lors de l'ex\u00e9cution d'un programme le module est import\u00e9 qu'une seule fois\n",
      "- il est possible de le recharger: **reload(M)** si on a utilis\u00e9 au pr\u00e9alable **import M**\n",
      "- Attention: \n",
      "   \n",
      "~~~\n",
      "from M import A\n",
      "~~~\n",
      "  \n",
      "**reload(M)** n'aura aucune incidence sur l'attribut A du module M"
     ]
    },
    {
     "cell_type": "markdown",
     "metadata": {
      "internals": {
       "slide_helper": "subslide_end",
       "slide_type": "subslide"
      },
      "slide_helper": "subslide_end",
      "slideshow": {
       "slide_type": "subslide"
      }
     },
     "source": [
      "## Ex\u00e9cution d'un module\n",
      "\n",
      "On peut ajouter \u00e0 la fin d'un module le test suivant:\n",
      "\n",
      "```\n",
      "if __name__ == '__main__':\n",
      "    print_fib(6)\n",
      "```\n",
      "\n",
      "On peut \u00e0 pr\u00e9sent ex\u00e9cuter le module."
     ]
    },
    {
     "cell_type": "code",
     "collapsed": false,
     "input": [
      "%%file fibo.py\n",
      "#!/usr/bin/env python\n",
      "# -*- coding: utf-8 -*-\n",
      "\"\"\"\n",
      "Module nombres de Fibonacci\n",
      "\"\"\"\n",
      "\n",
      "def print_fib(n):\n",
      "    \"\"\"\n",
      "    affiche les nombres de la suite de Fibonacci jusqu'\u00e0 n\n",
      "    \"\"\"\n",
      "    a, b = 0, 1\n",
      "    while b < n:\n",
      "        print b,\n",
      "        a, b = b, a+b\n",
      "    print\n",
      "\n",
      "def list_fib(n): \n",
      "    \"\"\"\n",
      "    retourne sous forme de liste les nombres de la suite de Fibonacci jusqu'\u00e0 n\n",
      "    \"\"\"\n",
      "    result, a, b  = [], 0, 1\n",
      "    while b < n:\n",
      "        result.append(b)\n",
      "        a, b = b, a+b\n",
      "    return result\n",
      "\n",
      "if __name__ == '__main__':\n",
      "    print_fib(6)"
     ],
     "language": "python",
     "metadata": {
      "internals": {
       "slide_type": "subslide"
      },
      "slideshow": {
       "slide_type": "subslide"
      }
     },
     "outputs": [
      {
       "output_type": "stream",
       "stream": "stdout",
       "text": [
        "Overwriting fibo.py\n"
       ]
      }
     ],
     "prompt_number": 25
    },
    {
     "cell_type": "code",
     "collapsed": false,
     "input": [
      "!python fibo.py"
     ],
     "language": "python",
     "metadata": {
      "internals": {
       "slide_helper": "subslide_end"
      },
      "slide_helper": "subslide_end",
      "slideshow": {
       "slide_type": "-"
      }
     },
     "outputs": [
      {
       "output_type": "stream",
       "stream": "stdout",
       "text": [
        "1 1 2 3 5\r\n"
       ]
      }
     ],
     "prompt_number": 26
    },
    {
     "cell_type": "markdown",
     "metadata": {
      "internals": {
       "slide_helper": "subslide_end",
       "slide_type": "subslide"
      },
      "slide_helper": "subslide_end",
      "slideshow": {
       "slide_type": "subslide"
      }
     },
     "source": [
      "## Recherche de module\n",
      "\n",
      "Pour que Python importe correctement un module, celui-ci doit \u00eatre dans son **PATH**. Le module **sys** permet de conna\u00eetre la liste des r\u00e9pertoires o\u00f9 Python va rechercher les modules."
     ]
    },
    {
     "cell_type": "code",
     "collapsed": true,
     "input": [
      "import sys\n",
      "print sys.path"
     ],
     "language": "python",
     "metadata": {
      "internals": {
       "slide_helper": "subslide_end",
       "slide_type": "subslide"
      },
      "slide_helper": "subslide_end",
      "slideshow": {
       "slide_type": "subslide"
      }
     },
     "outputs": [
      {
       "output_type": "stream",
       "stream": "stdout",
       "text": [
        "['', '/home/gouarin/.local/lib/python2.7/site-packages/pycuda-2013.1.1-py2.7-linux-x86_64.egg', '/home/gouarin/.local/lib/python2.7/site-packages/pytest-2.4.2-py2.7.egg', '/home/gouarin/.local/lib/python2.7/site-packages/py-1.4.18-py2.7.egg', '/home/gouarin/.local/lib/python2.7/site-packages/decorator-3.4.0-py2.7.egg', '/home/gouarin/.local/lib/python2.7/site-packages/vispy-0.2.1-py2.7.egg', '/home/gouarin/.local/lib/python2.7/site-packages/pyLBM-0.1-py2.7.egg', '/home/gouarin/anaconda/lib/python2.7/site-packages/pycuda-2013.1.1-py2.7-linux-x86_64.egg', '/home/gouarin/anaconda/lib/python2.7/site-packages/pyopencl-2014.1-py2.7-linux-x86_64.egg', '/home/gouarin/anaconda/lib/python27.zip', '/home/gouarin/anaconda/lib/python2.7', '/home/gouarin/anaconda/lib/python2.7/plat-linux2', '/home/gouarin/anaconda/lib/python2.7/lib-tk', '/home/gouarin/anaconda/lib/python2.7/lib-old', '/home/gouarin/anaconda/lib/python2.7/lib-dynload', '/home/gouarin/.local/lib/python2.7/site-packages', '/home/gouarin/anaconda/lib/python2.7/site-packages', '/home/gouarin/anaconda/lib/python2.7/site-packages/PIL', '/home/gouarin/anaconda/lib/python2.7/site-packages/setuptools-0.6c11-py2.7.egg-info', '/home/gouarin/anaconda/lib/python2.7/site-packages/IPython/extensions']\n"
       ]
      }
     ],
     "prompt_number": 27
    },
    {
     "cell_type": "markdown",
     "metadata": {
      "internals": {
       "slide_helper": "subslide_end",
       "slide_type": "subslide"
      },
      "slide_helper": "subslide_end",
      "slideshow": {
       "slide_type": "subslide"
      }
     },
     "source": [
      "Python va donc rechercher dans\n",
      "\n",
      "- le r\u00e9pertoire courant\n",
      "- dans **PYTHONPATH** si d\u00e9fini (c'est la m\u00eame syntaxe que le **PATH**)\n",
      "- dans un r\u00e9pertoire par d\u00e9faut\n",
      "\n",
      "On peut \u00e9galement rajouter des r\u00e9pertoires \u00e0 l'ex\u00e9cution \u00e9tant donn\u00e9 que **sys.path** n'est qu'une liste."
     ]
    },
    {
     "cell_type": "code",
     "collapsed": true,
     "input": [
      "sys.path.append(\"/home/gouarin/Formations/\")\n",
      "print sys.path"
     ],
     "language": "python",
     "metadata": {
      "internals": {
       "slide_helper": "subslide_end",
       "slide_type": "subslide"
      },
      "slide_helper": "subslide_end",
      "slideshow": {
       "slide_type": "subslide"
      }
     },
     "outputs": [
      {
       "output_type": "stream",
       "stream": "stdout",
       "text": [
        "['', '/home/gouarin/.local/lib/python2.7/site-packages/pycuda-2013.1.1-py2.7-linux-x86_64.egg', '/home/gouarin/.local/lib/python2.7/site-packages/pytest-2.4.2-py2.7.egg', '/home/gouarin/.local/lib/python2.7/site-packages/py-1.4.18-py2.7.egg', '/home/gouarin/.local/lib/python2.7/site-packages/decorator-3.4.0-py2.7.egg', '/home/gouarin/.local/lib/python2.7/site-packages/vispy-0.2.1-py2.7.egg', '/home/gouarin/.local/lib/python2.7/site-packages/pyLBM-0.1-py2.7.egg', '/home/gouarin/anaconda/lib/python2.7/site-packages/pycuda-2013.1.1-py2.7-linux-x86_64.egg', '/home/gouarin/anaconda/lib/python2.7/site-packages/pyopencl-2014.1-py2.7-linux-x86_64.egg', '/home/gouarin/anaconda/lib/python27.zip', '/home/gouarin/anaconda/lib/python2.7', '/home/gouarin/anaconda/lib/python2.7/plat-linux2', '/home/gouarin/anaconda/lib/python2.7/lib-tk', '/home/gouarin/anaconda/lib/python2.7/lib-old', '/home/gouarin/anaconda/lib/python2.7/lib-dynload', '/home/gouarin/.local/lib/python2.7/site-packages', '/home/gouarin/anaconda/lib/python2.7/site-packages', '/home/gouarin/anaconda/lib/python2.7/site-packages/PIL', '/home/gouarin/anaconda/lib/python2.7/site-packages/setuptools-0.6c11-py2.7.egg-info', '/home/gouarin/anaconda/lib/python2.7/site-packages/IPython/extensions', '/home/gouarin/Formations/']\n"
       ]
      }
     ],
     "prompt_number": 28
    },
    {
     "cell_type": "markdown",
     "metadata": {
      "internals": {
       "slide_helper": "subslide_end",
       "slide_type": "subslide"
      },
      "slide_helper": "slide_end",
      "slideshow": {
       "slide_type": "subslide"
      }
     },
     "source": [
      "Un module **M** peut \u00eatre un fichier ayant les extensions suivantes\n",
      "\n",
      "- .dll ou .so\n",
      "- .py\n",
      "- .pyc\n",
      "- M/\\_\\_init__.py"
     ]
    },
    {
     "cell_type": "markdown",
     "metadata": {
      "slideshow": {
       "slide_type": "slide"
      }
     },
     "source": [
      "## Un package\n",
      "\n",
      "Comme dit en introduction, un package est un ensemble de modules Python. Prenons l'arborescence suivante"
     ]
    },
    {
     "cell_type": "markdown",
     "metadata": {},
     "source": [
      "    monPackage/ Package de niveau sup\u00e9rieur\n",
      "        __init__.py Initialisation du package monPackage\n",
      "        sous_pack1/ Sous-package\n",
      "            __init__.py\n",
      "            fichier1_1.py\n",
      "            fichier1_2.py\n",
      "            ...\n",
      "        sous_pack2/ Sous-package\n",
      "            __init__.py\n",
      "            fichier2_1.py\n",
      "            fichier2_2.py\n",
      "            ..."
     ]
    },
    {
     "cell_type": "markdown",
     "metadata": {
      "internals": {
       "slide_helper": "subslide_end",
       "slide_type": "subslide"
      },
      "slide_helper": "subslide_end",
      "slideshow": {
       "slide_type": "subslide"
      }
     },
     "source": [
      "##\u00a0Le fichier \\_\\_init\\_\\_.py\n",
      "\n",
      "- Il est obligatoire pour que Python consid\u00e8re les r\u00e9pertoires comme contenant des packages ou modules.\n",
      "- Il peut \u00eatre vide.\n",
      "- Il peut contenir du code d'initialisation.\n",
      "- Il peut contenir la variable **\\_\\_all\\_\\_**."
     ]
    },
    {
     "cell_type": "markdown",
     "metadata": {
      "internals": {
       "slide_helper": "subslide_end",
       "slide_type": "subslide"
      },
      "slide_helper": "slide_end",
      "slideshow": {
       "slide_type": "subslide"
      }
     },
     "source": [
      "Exemple **monPackage/sous\\_pack2/\\_\\_init__.py** \n",
      "\n",
      "```\n",
      "__all__ = [\"fichier2_1\", \"fichier2_2\"]\n",
      "```\n",
      "\n",
      "De cette mani\u00e8re, on peut importer **fichier2_1** et **fichier2_2** en faisant tout simplement\n",
      "\n",
      "```\n",
      "from monPackage.sous_pack2 import *\n",
      "```\n",
      "\n",
      "On acc\u00e8de ensuite aux attributs et aux fonctions en faisant\n",
      "\n",
      "```\n",
      "fichier2_1.xxx\n",
      "```\n"
     ]
    },
    {
     "cell_type": "markdown",
     "metadata": {
      "internals": {
       "slide_helper": "subslide_end",
       "slide_type": "subslide"
      },
      "slide_helper": "subslide_end",
      "slideshow": {
       "slide_type": "slide"
      }
     },
     "source": [
      "## Introduction \u00e0 **distutils**\n",
      "\n",
      "**disutils** est un module Python qui\n",
      "\n",
      "- fournit un ensemble de commandes pour l'installation de packages ou de modules,\n",
      "- g\u00e8re les fichiers Python, C et C++,\n",
      "- peut cr\u00e9er une distribution des sources,\n",
      "- peut cr\u00e9er une distribution des binaires,\n",
      "- ..."
     ]
    },
    {
     "cell_type": "markdown",
     "metadata": {
      "internals": {
       "slide_helper": "subslide_end",
       "slide_type": "subslide"
      },
      "slide_helper": "subslide_end",
      "slideshow": {
       "slide_type": "subslide"
      }
     },
     "source": [
      "Voici une premi\u00e8re utilisation de distutils permettant d'installer un module. \n",
      "\n",
      "```\n",
      "from distutils.core import setup\n",
      "\n",
      "setup(name = 'monmodule',\n",
      "      version = '1.0',\n",
      "      author = 'loic Gouarin',\n",
      "      description = 'mon premier module!!',\n",
      "      url = 'http://monmodule.fr',\n",
      "      py_modules = ['monfichier'],\n",
      "      )\n",
      "```\n",
      "\n",
      "On \u00e9crit g\u00e9n\u00e9ralement ce script Python dans un fichier appel\u00e9 **setup.py**."
     ]
    },
    {
     "cell_type": "markdown",
     "metadata": {
      "internals": {
       "slide_helper": "subslide_end",
       "slide_type": "subslide"
      },
      "slide_helper": "subslide_end",
      "slideshow": {
       "slide_type": "subslide"
      }
     },
     "source": [
      "La construction du module se fait ensuite en ex\u00e9cutant la commande suivante dans un terminal\n",
      "\n",
      "    python setup.py build\n",
      "    \n",
      "Vous aurez alors la cr\u00e9ation d'un r\u00e9pertoire **build** qui contient\n",
      "\n",
      "- les fichiers \u00e0 installer,\n",
      "- lib.*plateforme*: les modules pure Python et les extensions,\n",
      "- temp.*plateforme*: les fichiers temporaires g\u00e9n\u00e9r\u00e9s lors de la cr\u00e9ation des extensions."
     ]
    },
    {
     "cell_type": "markdown",
     "metadata": {
      "internals": {
       "slide_helper": "subslide_end",
       "slide_type": "subslide"
      },
      "slide_helper": "subslide_end",
      "slideshow": {
       "slide_type": "subslide"
      }
     },
     "source": [
      "L'installation du module se fait ensuite \u00e0 l'aide de la commande\n",
      "\n",
      "    python setup.py install\n",
      "    \n",
      "Cette commande copie tout ce qu'il y a dans build/lib.*plateforme* dans le r\u00e9pertoire d'installation.\n",
      "\n",
      "Le r\u00e9pertoire d'installation par d\u00e9faut est \n",
      "\n",
      "- Sur Windows: *C:\\PythonXY\\Lib\\site-packages*\n",
      "- Sur Unix: */usr/local/lib/pythonX.Y/site-packages*"
     ]
    },
    {
     "cell_type": "markdown",
     "metadata": {
      "internals": {
       "slide_helper": "subslide_end",
       "slide_type": "subslide"
      },
      "slide_helper": "subslide_end",
      "slideshow": {
       "slide_type": "subslide"
      }
     },
     "source": [
      "Il existe d'autres commandes permettant de sp\u00e9cifier d'autres r\u00e9pertoires d'installation.\n",
      "\n",
      "- Installation dans *\\$HOME/.local/lib/pythonX.Y/site-packages*\n",
      "\n",
      "        python setup.py install --user\n",
      "    \n",
      "- Installation dans *< dir >/lib/python*\n",
      "\n",
      "        python setup.py install --home=< dir >\n",
      "        \n",
      "- Installation dans *< dir >/lib/pythonX.Y/site-packages*\n",
      "\n",
      "        python setup.py install --prefix=< dir >"
     ]
    },
    {
     "cell_type": "markdown",
     "metadata": {
      "internals": {
       "slide_helper": "subslide_end",
       "slide_type": "subslide"
      },
      "slide_helper": "subslide_end",
      "slideshow": {
       "slide_type": "subslide"
      }
     },
     "source": [
      "Les noms concordent\n",
      "\n",
      "```\n",
      "from distutils.core import setup\n",
      "\n",
      "setup(name = 'monPackage',\n",
      "      version = '1.0',\n",
      "      packages = ['sous_pack1', 'sous_pack2'],\n",
      "      )\n",
      "```"
     ]
    },
    {
     "cell_type": "markdown",
     "metadata": {
      "slideshow": {
       "slide_type": "subslide"
      }
     },
     "source": [
      "Les noms ne concordent pas\n",
      "\n",
      "```\n",
      "from distutils.core import setup\n",
      "\n",
      "setup(name = 'monPackage',\n",
      "      version = '1.0',\n",
      "      package_dir = {'pack1': 'sous_pack1', \n",
      "                     'pack2': 'sous_pack2'},\n",
      "      packages = ['pack1', 'pack2'],\n",
      "      )\n",
      "```"
     ]
    },
    {
     "cell_type": "markdown",
     "metadata": {
      "internals": {
       "slide_helper": "subslide_end",
       "slide_type": "subslide"
      },
      "slide_helper": "subslide_end",
      "slideshow": {
       "slide_type": "subslide"
      }
     },
     "source": [
      "On peut ajouter des sous packages.\n",
      "\n",
      "```\n",
      "from distutils.core import setup\n",
      "\n",
      "setup(name = 'monPackage',\n",
      "      version = '1.0',\n",
      "      packages = ['sous_pack1', \n",
      "                  'sous_pack1.sous_sous_pack1',\n",
      "                  'sous_pack2'],\n",
      "      )\n",
      "      \n",
      "```      "
     ]
    },
    {
     "cell_type": "markdown",
     "metadata": {
      "internals": {
       "slide_helper": "subslide_end",
       "slide_type": "subslide"
      },
      "slide_helper": "subslide_end",
      "slideshow": {
       "slide_type": "subslide"
      }
     },
     "source": [
      "On peut installer des scripts Python.\n",
      "\n",
      "<code>\n",
      "from distutils.core import setup\n",
      "\n",
      "setup(...\n",
      "      scripts = ['monscript.py'],\n",
      "      )\n",
      "</code>"
     ]
    },
    {
     "cell_type": "markdown",
     "metadata": {
      "internals": {
       "slide_helper": "subslide_end",
       "slide_type": "subslide"
      },
      "slide_helper": "subslide_end",
      "slideshow": {
       "slide_type": "subslide"
      }
     },
     "source": [
      "On peut installer des donn\u00e9es associ\u00e9es \u00e0 un package.\n",
      "\n",
      "\n",
      "    from distutils.core import setup\n",
      "\n",
      "    setup(...\n",
      "          packages =['monPackage'],\n",
      "          package_dir = {'monPackage': 'src/monPackage'},\n",
      "          package_data = {'monPackage': ['data/*.dat']}, \n",
      "          )\n",
      "</code>"
     ]
    },
    {
     "cell_type": "markdown",
     "metadata": {
      "internals": {
       "slide_helper": "subslide_end",
       "slide_type": "subslide"
      },
      "slide_helper": "subslide_end",
      "slideshow": {
       "slide_type": "subslide"
      }
     },
     "source": [
      "**distutils** fournit \u00e9galement un outil **Extension** permettant de construire des extensions \u00e9crites en C ou C++.\n",
      "\n",
      "```\n",
      "from distutils.core import setup, Extension\n",
      "\n",
      "monmod = Extension('monmodule', ['monapi.c'],\n",
      "                   include_dirs = ['/include'],\n",
      "                   library_dirs = ['/usr/X11R6/lib'],\n",
      "                   libraries = ['X11', 'Xt']))\n",
      "                   \n",
      "setup(name = 'monPackage',\n",
      "      version = '1.0',\n",
      "      ext_modules = [monmod],\n",
      "      )\n",
      "```"
     ]
    },
    {
     "cell_type": "markdown",
     "metadata": {
      "internals": {
       "slide_helper": "subslide_end",
       "slide_type": "subslide"
      },
      "slide_helper": "subslide_end",
      "slideshow": {
       "slide_type": "subslide"
      }
     },
     "source": [
      "Comme on le verra par la suite, il est n\u00e9cessaire d'\u00e9crire un fichier **setup.py** pour g\u00e9rer les extensions Cython que nous cr\u00e9erons.\n",
      "\n",
      "```\n",
      "from distutils.core import setup, Extension\n",
      "from Cython.Distutils import build_ext\n",
      "...\n",
      "monmod = Extension(\"testcython\", \n",
      "                   sources = [\"testcython.pyx\"],\n",
      "                   cython_opts = [...],\n",
      "                   include_dirs = [...],\n",
      "                  )\n",
      "setup(...\n",
      "      ext_modules = [monmod],\n",
      "      cmdclass = {'build_ext': build_ext}\n",
      ")\n",
      "```"
     ]
    },
    {
     "cell_type": "markdown",
     "metadata": {
      "internals": {
       "slide_helper": "subslide_end",
       "slide_type": "subslide"
      },
      "slide_helper": "subslide_end",
      "slideshow": {
       "slide_type": "subslide"
      }
     },
     "source": [
      "Il est possible ensuite de construire nos extensions dans le r\u00e9pertoire o\u00f9 se trouvent les fichiers Cython en ex\u00e9cutant la commande\n",
      "\n",
      "    python setup.py build_ext --inplace\n"
     ]
    },
    {
     "cell_type": "markdown",
     "metadata": {
      "internals": {
       "slide_helper": "subslide_end",
       "slide_type": "subslide"
      },
      "slide_helper": "subslide_end",
      "slideshow": {
       "slide_type": "subslide"
      }
     },
     "source": [
      "**sdist** permet de copier dans une archive tous les fichiers n\u00e9cessaires \u00e0 la bonne installation du package.\n",
      "\n",
      "    python setupt.py sdist\n",
      "    \n",
      "- ```--format zip```\n",
      "- ```--format gztar```\n",
      "- ```--format bztar```\n",
      "- ```--format ztar```\n",
      "- ```--format tar```"
     ]
    },
    {
     "cell_type": "markdown",
     "metadata": {
      "internals": {
       "slide_helper": "subslide_end",
       "slide_type": "subslide"
      },
      "slide_helper": "subslide_end",
      "slideshow": {
       "slide_type": "subslide"
      }
     },
     "source": [
      "Le fichier **MANIFEST.in** permet d'indiquer les fichiers qui ne seraient pas inclus dans **setup.py** \u00e0 ajouter dans la distribution. Les principales commandes sont\n",
      "\n",
      "- include\n",
      "- exclude\n",
      "- recursive-include\n",
      "- recursive-exclude\n",
      "- global-include\n",
      "- global-exclude"
     ]
    },
    {
     "cell_type": "markdown",
     "metadata": {
      "slideshow": {
       "slide_type": "subslide"
      }
     },
     "source": [
      "# Exercices\n",
      "\n",
      "1. Allez dans `TPs/setup/step0` et \u00e9crivez le fichier `setup.py` permettant\n",
      "\n",
      "    - d'installer le package calculatrice\n",
      "    - d'inclure le r\u00e9pertoire `data` se trouvant dans le r\u00e9pertoire `calculatrice`\n",
      "    - d'installer le script qui se trouve dans le r\u00e9pertoire `script`\n"
     ]
    },
    {
     "cell_type": "markdown",
     "metadata": {
      "slideshow": {
       "slide_type": "slide"
      }
     },
     "source": [
      "## Pourquoi \u00e9crire des tests ?"
     ]
    },
    {
     "cell_type": "markdown",
     "metadata": {},
     "source": [
      "Lorsque l'on \u00e9crit un programme, il est g\u00e9n\u00e9ralement constitu\u00e9 de plusieurs fonctions que l'on assemble afin de d\u00e9crire notre algorithme permettant de nous donner la r\u00e9ponse \u00e0 notre probl\u00e8me. Un programme n'est pas forc\u00e9ment un d\u00e9veloppement sur un temps court. On voit beaucoup de librairies scientifiques qui ont plus de dix ans. Les fonctions peuvent donc \u00eatre \u00e9crites \u00e0 diff\u00e9rents moments avec des \u00e9chelles de temps bien diff\u00e9rentes. On peut par exemple ajouter une fonctionnalit\u00e9 \u00e0 un bout de code plusieurs ann\u00e9es apr\u00e8s en avoir \u00e9crit le coeur. Si il est primordial d'\u00e9crire de la documentation pour comprendre ce qui est fait, il est \u00e9galement judicieux d'\u00e9crire des tests pour s'assurer du bon fonctionnement de notre programme.\n",
      "\n",
      "Il faut noter que certains types de d\u00e9veloppement logiciel s'appuient sur les tests ([Test Driven Development](http://fr.wikipedia.org/wiki/Test_Driven_Development))."
     ]
    },
    {
     "cell_type": "markdown",
     "metadata": {
      "slideshow": {
       "slide_type": "subslide"
      }
     },
     "source": [
      "# Les types de tests"
     ]
    },
    {
     "cell_type": "markdown",
     "metadata": {},
     "source": [
      "On peut citer trois types de tests primordiaux permettant de s'assurer au mieux de l'absence de bugs dans notre programme. Un programme n'est jamais \u00e0 100% s\u00fbr.\n",
      "\n",
      "- les **tests unitaires** permettent de tester des fonctions ou des m\u00e9thodes. \n",
      "\n",
      "- les **tests d'int\u00e9gration** permettent de tester les interactions entre un petit nombre d'unit\u00e9s de programme.\n",
      "\n",
      "- les **tests du syst\u00e8me complet** permettent de tester le programme dans sa globalit\u00e9.\n"
     ]
    },
    {
     "cell_type": "markdown",
     "metadata": {
      "slideshow": {
       "slide_type": "subslide"
      }
     },
     "source": [
      "Les tests sont donc \u00e9crits \u00e0 des stades diff\u00e9rents du d\u00e9veloppement mais ont chacun leur importance. Un seul de ces trois types de tests ne suffit pas pour tester l'int\u00e9grit\u00e9 du programme. \n",
      "Les tests unitaires et les tests d'int\u00e9gration sont g\u00e9n\u00e9ralement test\u00e9s avec les m\u00eames outils. Pour le dernier type de tests, on prendra des exemples concrets d'ex\u00e9cution et on testera la sortie avec une solution certifi\u00e9e."
     ]
    },
    {
     "cell_type": "markdown",
     "metadata": {
      "slideshow": {
       "slide_type": "subslide"
      }
     },
     "source": [
      "# Notre cas d'\u00e9tude"
     ]
    },
    {
     "cell_type": "markdown",
     "metadata": {},
     "source": [
      "Nous allons calculer les coefficients de la suite de Fibonacci en utilisant les coefficients binomiaux. Les coefficients binomiaux se calculent \u00e0 partir de la formule suivante\n",
      "\n",
      "$$\n",
      "\\left(\n",
      "\\begin{array}{c}\n",
      "n \\\\\n",
      "k\n",
      "\\end{array}\n",
      "\\right)=C_n^k=\\frac{n!}{k!(n-k)!} \\; \\text{pour} \\; k=0,\\cdots,n.\n",
      "$$\n",
      "\n",
      "On en d\u00e9duit alors le calcul des coefficients de la suite de Fibonacci par la formule suivante\n",
      "\n",
      "$$\n",
      "\\sum_{k=0}^n\n",
      "\\left(\n",
      "\\begin{array}{c}\n",
      "n-k \\\\\n",
      "k\n",
      "\\end{array} \n",
      "\\right)\n",
      "= F(n+1).\n",
      "$$\n",
      "\n",
      "Voici un exemple de code Python implantant cette formule"
     ]
    },
    {
     "cell_type": "code",
     "collapsed": false,
     "input": [
      "%%file fibonacci.py\n",
      "import numpy as np\n",
      "\n",
      "def factorielle(n):\n",
      "    \"\"\"\n",
      "    calcul de n!\n",
      "    \n",
      "    >>> factorielle(0)\n",
      "    1\n",
      "    >>> factorielle(5)\n",
      "    120\n",
      "    \n",
      "    \"\"\"\n",
      "    if n==1 or n==0:\n",
      "        return 1\n",
      "    else:\n",
      "        return n*factorielle(n-1)\n",
      "\n",
      "def somme(deb, fin, f, fargs=()):\n",
      "    \"\"\"\n",
      "    calcul de \n",
      "    \n",
      "    $$\n",
      "    \\sum_{k=deb}^fin f(k, *fargs)\n",
      "    $$\n",
      "    \n",
      "    test d'une suite arithmetique\n",
      "    >>> somme(0, 10, lambda k:k)\n",
      "    55.0\n",
      "    \n",
      "    test d'une suite geometrique\n",
      "    >>> somme(1, 8, lambda k: 2**k)\n",
      "    510.0\n",
      "\n",
      "    \"\"\"\n",
      "    \n",
      "    som = 0.\n",
      "    for k in xrange(deb, fin + 1):\n",
      "        som += f(k, *fargs)\n",
      "    return som\n",
      "    \n",
      "def coef_binomial(n, k):\n",
      "    \"\"\"\n",
      "    calcul de $C_n^k$\n",
      "    \n",
      "    >>> coef_binomial(4, 2)\n",
      "    6\n",
      "    \n",
      "    \"\"\"\n",
      "    if k > n or k < 0:\n",
      "        return 0.\n",
      "    return factorielle(n)/(factorielle(k)*factorielle(n-k))\n",
      "\n",
      "def fibonacci(n):\n",
      "    \"\"\"\n",
      "    Renvoie la liste des n premiers termes de la suite de Fibonacci\n",
      "    \n",
      "    >>> fibonacci(10)\n",
      "    [1, 1, 2, 3, 5, 8, 13, 21, 34, 55]\n",
      "    \n",
      "    \"\"\"\n",
      "    def g(k, n):\n",
      "        return coef_binomial(n - k, k)\n",
      "    \n",
      "    fibo = []\n",
      "    for i in xrange(n):\n",
      "        fibo.append(int(somme(0, i, g, fargs=(i,))))\n",
      "    \n",
      "    return fibo\n",
      "\n",
      "if __name__ == '__main__':\n",
      "    import doctest\n",
      "    doctest.testmod(verbose=True)"
     ],
     "language": "python",
     "metadata": {
      "slideshow": {
       "slide_type": "subslide"
      }
     },
     "outputs": [
      {
       "output_type": "stream",
       "stream": "stdout",
       "text": [
        "Overwriting fibonacci.py\n"
       ]
      }
     ],
     "prompt_number": 55
    },
    {
     "cell_type": "markdown",
     "metadata": {
      "slideshow": {
       "slide_type": "subslide"
      }
     },
     "source": [
      "On souhaite faire les tests suivants\n",
      "\n",
      "* **tests unitaires**: tester si les fonctions factorielle et somme fonctionnent correctement.\n",
      "* **tests d'int\u00e9gration**: tester si les fonctions factorielle et somme fonctionnent correctement ensemble, tester si la fonction coef_binomial fonctionne correctement.\n",
      "* **tests du syst\u00e8me complet**: tester si la fonction fibonacci donne le bon r\u00e9sultat."
     ]
    },
    {
     "cell_type": "markdown",
     "metadata": {
      "slideshow": {
       "slide_type": "subslide"
      }
     },
     "source": [
      "# Les outils de tests en Python"
     ]
    },
    {
     "cell_type": "markdown",
     "metadata": {},
     "source": [
      "Il existe diff\u00e9rents outils en Python permettant de r\u00e9aliser des tests ([https://wiki.python.org/moin/PythonTestingToolsTaxonomy](https://wiki.python.org/moin/PythonTestingToolsTaxonomy)). Nous nous int\u00e9resserons ici \u00e0 trois d'entre eux\n",
      "\n",
      "- doctest\n",
      "- unittest\n",
      "- nosetests"
     ]
    },
    {
     "cell_type": "markdown",
     "metadata": {
      "slideshow": {
       "slide_type": "subslide"
      }
     },
     "source": [
      "## doctest"
     ]
    },
    {
     "cell_type": "markdown",
     "metadata": {},
     "source": [
      "***doctest*** permet de faire des tests basiques en s'appuyant sur les docstrings. Celles-ci permettent d'\u00e9crire de la documentation tr\u00e8s facilement de nos fonctions ou de nos classes Python. Elles se placent tout de suite apr\u00e8s une m\u00e9thode, une fonction, une classe. On rappelle ici bri\u00e8vement le principe en \u00e9crivant une documentation pour une fonction."
     ]
    },
    {
     "cell_type": "code",
     "collapsed": false,
     "input": [
      "def add(a, b):\n",
      "    \"\"\"\n",
      "    addition de 2 nombres a et b\n",
      "    \"\"\"\n",
      "    return a + b\n"
     ],
     "language": "python",
     "metadata": {},
     "outputs": [],
     "prompt_number": 56
    },
    {
     "cell_type": "code",
     "collapsed": false,
     "input": [
      "print help(add)"
     ],
     "language": "python",
     "metadata": {},
     "outputs": [
      {
       "output_type": "stream",
       "stream": "stdout",
       "text": [
        "Help on function add in module __main__:\n",
        "\n",
        "add(a, b)\n",
        "    addition de 2 nombres a et b\n",
        "\n",
        "None\n"
       ]
      }
     ],
     "prompt_number": 57
    },
    {
     "cell_type": "markdown",
     "metadata": {
      "slideshow": {
       "slide_type": "subslide"
      }
     },
     "source": [
      "***doctest*** effectue\n",
      "\n",
      "* une recherche dans les sources des bouts de texte qui ressemblent \u00e0 une session interactive Python,\n",
      "* une recherche dans des fichiers textes des bouts de texte qui ressemblent \u00e0 une session interactive Python,\n",
      "* une ex\u00e9cution de ces bouts de session pour voir si le r\u00e9sultat est conforme.\n",
      "\n",
      "Les sessions interactives sont repr\u00e9sent\u00e9es par le symbole **>>>**.\n",
      "\n",
      "Pour l'utiliser, il suffit d'importer le module *doctest* et d'appeler *testmod* si on veut tester l'ensemble d'un module comme dans notre exemple *fibonacci.py*.\n",
      "\n",
      "Voici un exemple de la sortie :"
     ]
    },
    {
     "cell_type": "code",
     "collapsed": false,
     "input": [
      "!python fibonacci.py"
     ],
     "language": "python",
     "metadata": {
      "slideshow": {
       "slide_type": "subslide"
      }
     },
     "outputs": [
      {
       "output_type": "stream",
       "stream": "stdout",
       "text": [
        "Trying:\r\n",
        "    coef_binomial(4, 2)\r\n",
        "Expecting:\r\n",
        "    6\r\n",
        "ok\r\n",
        "Trying:\r\n",
        "    factorielle(0)\r\n",
        "Expecting:\r\n",
        "    1\r\n",
        "ok\r\n",
        "Trying:\r\n",
        "    factorielle(5)\r\n",
        "Expecting:\r\n",
        "    120\r\n",
        "ok\r\n",
        "Trying:\r\n",
        "    fibonacci(10)\r\n",
        "Expecting:\r\n",
        "    [1, 1, 2, 3, 5, 8, 13, 21, 34, 55]\r\n",
        "ok\r\n",
        "Trying:\r\n",
        "    somme(0, 10, lambda k:k)\r\n",
        "Expecting:\r\n",
        "    55.0\r\n",
        "ok\r\n",
        "Trying:\r\n",
        "    somme(1, 8, lambda k: 2**k)\r\n",
        "Expecting:\r\n",
        "    510.0\r\n",
        "ok\r\n",
        "1 items had no tests:\r\n",
        "    __main__\r\n",
        "4 items passed all tests:\r\n",
        "   1 tests in __main__.coef_binomial\r\n",
        "   2 tests in __main__.factorielle\r\n",
        "   1 tests in __main__.fibonacci\r\n",
        "   2 tests in __main__.somme\r\n",
        "6 tests in 5 items.\r\n",
        "6 passed and 0 failed.\r\n",
        "Test passed.\r\n"
       ]
      }
     ],
     "prompt_number": 58
    },
    {
     "cell_type": "markdown",
     "metadata": {
      "slideshow": {
       "slide_type": "subslide"
      }
     },
     "source": [
      "Si ***doctest*** est tr\u00e8s simple d'utilisation, on se rend bien compte qu'il est assez limit\u00e9 et qu'il ne permet pas de faire des tests tr\u00e8s \u00e9labor\u00e9s."
     ]
    },
    {
     "cell_type": "heading",
     "level": 2,
     "metadata": {
      "slideshow": {
       "slide_type": "subslide"
      }
     },
     "source": [
      "unittest"
     ]
    },
    {
     "cell_type": "markdown",
     "metadata": {
      "slideshow": {
       "slide_type": "-"
      }
     },
     "source": [
      "Ce module est \u00e9galement appel\u00e9 PyUnit et reprend l'esprit de JUnit qui permet de faire des tests en java. Il supporte\n",
      "\n",
      "* les tests automatiques,\n",
      "* les fonctions d'initialisation et de finalisation pour chaque test,\n",
      "* l'aggr\u00e9gation des tests,\n",
      "* l'ind\u00e9pendance des tests dans le rapport final."
     ]
    },
    {
     "cell_type": "markdown",
     "metadata": {
      "slideshow": {
       "slide_type": "subslide"
      }
     },
     "source": [
      "Pour \u00e9crire des tests, il faut respecter certaines r\u00e8gles\n",
      "\n",
      "* Les tests doivent faire partie d'une classe h\u00e9rit\u00e9e de la classe unittest.TestCase.\n",
      "* Les noms des m\u00e9thodes de cette classe doivent avoir le prefixe test pour \u00eatre consid\u00e9r\u00e9s comme tests.\n",
      "* Les tests sont ex\u00e9cut\u00e9s par ordre alphab\u00e9tique.\n",
      "* La fonction ex\u00e9cut\u00e9e avant chaque test doit avoir le nom setUp.\n",
      "* La fonction ex\u00e9cut\u00e9e apr\u00e8s chaque test doit avoir le nom tearDown.\n",
      "\n",
      "Voici un exemple de son utilisation avec notre module fibonacci."
     ]
    },
    {
     "cell_type": "code",
     "collapsed": false,
     "input": [
      "%%file test_fibo.py\n",
      "import unittest\n",
      "from fibonacci import *\n",
      "\n",
      "class TestFibo(unittest.TestCase):\n",
      "    def test_factorielle_0(self):\n",
      "        self.assertEqual(factorielle(0), 1)\n",
      "\n",
      "    def test_factorielle_5(self):\n",
      "        self.assertEqual(factorielle(5), 120)\n",
      "        \n",
      "    def test_somme(self):\n",
      "        self.assertEqual(somme(0, 10, lambda k:k), 55)\n",
      "\n",
      "    def test_coef_binomial(self):\n",
      "        self.assertEqual(coef_binomial(4, 2), 6)\n",
      "        \n",
      "    def test_fibo(self):\n",
      "        self.assertEqual(fibonacci(10), [1, 1, 2, 3, 5, 8, 13, 21, 34, 55])\n",
      "        \n",
      "if __name__ == '__main__':\n",
      "    unittest.main()"
     ],
     "language": "python",
     "metadata": {
      "slideshow": {
       "slide_type": "subslide"
      }
     },
     "outputs": [
      {
       "output_type": "stream",
       "stream": "stdout",
       "text": [
        "Overwriting test_fibo.py\n"
       ]
      }
     ],
     "prompt_number": 60
    },
    {
     "cell_type": "code",
     "collapsed": false,
     "input": [
      "!python test_fibo.py"
     ],
     "language": "python",
     "metadata": {
      "slideshow": {
       "slide_type": "subslide"
      }
     },
     "outputs": [
      {
       "output_type": "stream",
       "stream": "stdout",
       "text": [
        ".....\r\n",
        "----------------------------------------------------------------------\r\n",
        "Ran 5 tests in 0.000s\r\n",
        "\r\n",
        "OK\r\n"
       ]
      }
     ],
     "prompt_number": 61
    },
    {
     "cell_type": "heading",
     "level": 2,
     "metadata": {
      "slideshow": {
       "slide_type": "subslide"
      }
     },
     "source": [
      "nosetests"
     ]
    },
    {
     "cell_type": "markdown",
     "metadata": {},
     "source": [
      "Ce module reconna\u00eet automatiquement les tests r\u00e9alis\u00e9s \u00e0 partir de unittest ou de doctest. Il a en plus d'autres fonctionalit\u00e9s int\u00e9ressantes\n",
      "\n",
      "* tests de couverture,\n",
      "* tests de profiling,\n",
      "* possibilit\u00e9 d'ajouter des plugins,\n",
      "* ..."
     ]
    },
    {
     "cell_type": "markdown",
     "metadata": {
      "slideshow": {
       "slide_type": "subslide"
      }
     },
     "source": [
      "### *Exemple d'utilisation avec doctest*"
     ]
    },
    {
     "cell_type": "code",
     "collapsed": false,
     "input": [
      "!nosetests -v --with-doctest fibonacci.py"
     ],
     "language": "python",
     "metadata": {},
     "outputs": [
      {
       "output_type": "stream",
       "stream": "stdout",
       "text": [
        "Doctest: fibonacci.coef_binomial ... ok\r\n",
        "Doctest: fibonacci.factorielle ... ok\r\n",
        "Doctest: fibonacci.fibonacci ... ok\r\n",
        "Doctest: fibonacci.somme ... ok\r\n",
        "\r\n",
        "----------------------------------------------------------------------\r\n",
        "Ran 4 tests in 0.004s\r\n",
        "\r\n",
        "OK\r\n"
       ]
      }
     ],
     "prompt_number": 1
    },
    {
     "cell_type": "markdown",
     "metadata": {
      "slideshow": {
       "slide_type": "subslide"
      }
     },
     "source": [
      "### *Exemple d'utilisation avec unittest + tests de couverture*"
     ]
    },
    {
     "cell_type": "code",
     "collapsed": false,
     "input": [
      "!nosetests -v --with-coverage --cover-package=fibonacci test_fibo.py"
     ],
     "language": "python",
     "metadata": {},
     "outputs": [
      {
       "output_type": "stream",
       "stream": "stdout",
       "text": [
        "test_coef_binomial (test_fibo.TestFibo) ... ok\r\n",
        "test_factorielle_0 (test_fibo.TestFibo) ... ok\r\n",
        "test_factorielle_5 (test_fibo.TestFibo) ... ok\r\n",
        "test_fibo (test_fibo.TestFibo) ... ok\r\n",
        "test_somme (test_fibo.TestFibo) ... ok\r\n",
        "\r\n",
        "Name        Stmts   Miss  Cover   Missing\r\n",
        "-----------------------------------------\r\n",
        "fibonacci      24      2    92%   71-72\r\n",
        "----------------------------------------------------------------------\r\n",
        "Ran 5 tests in 0.002s\r\n",
        "\r\n",
        "OK\r\n"
       ]
      }
     ],
     "prompt_number": 4
    },
    {
     "cell_type": "markdown",
     "metadata": {
      "slideshow": {
       "slide_type": "subslide"
      }
     },
     "source": [
      "On voit qu'on a oubli\u00e9 de tester 2 lignes de notre module. Si on creuse un peu ces 2 lignes correspondent aux lignes du main ce qui n'est donc pas tr\u00e8s important."
     ]
    },
    {
     "cell_type": "markdown",
     "metadata": {
      "slideshow": {
       "slide_type": "slide"
      }
     },
     "source": [
      "## La documentation\n",
      "\n",
      "Il est tr\u00e8s facile en Python d'\u00e9crire de la documentation pour ses fonctions, ses classes, ...\n",
      "\n",
      "Prenons un exemple"
     ]
    },
    {
     "cell_type": "code",
     "collapsed": false,
     "input": [
      "def factorielle(n):\n",
      "    \"\"\"\n",
      "    calcul de n!\n",
      "    \n",
      "    >>> factorielle(0)\n",
      "    1\n",
      "    >>> factorielle(5)\n",
      "    120\n",
      "    \n",
      "    \"\"\"\n",
      "    if n==1 or n==0:\n",
      "        return 1\n",
      "    else:\n",
      "        return n*factorielle(n-1)"
     ],
     "language": "python",
     "metadata": {},
     "outputs": [],
     "prompt_number": 2
    },
    {
     "cell_type": "code",
     "collapsed": false,
     "input": [
      "help(factorielle)"
     ],
     "language": "python",
     "metadata": {
      "slideshow": {
       "slide_type": "subslide"
      }
     },
     "outputs": [
      {
       "output_type": "stream",
       "stream": "stdout",
       "text": [
        "Help on function factorielle in module __main__:\n",
        "\n",
        "factorielle(n)\n",
        "    calcul de n!\n",
        "    \n",
        "    >>> factorielle(0)\n",
        "    1\n",
        "    >>> factorielle(5)\n",
        "    120\n",
        "\n"
       ]
      }
     ],
     "prompt_number": 4
    },
    {
     "cell_type": "markdown",
     "metadata": {
      "slideshow": {
       "slide_type": "subslide"
      }
     },
     "source": [
      "Nous aimerions maintenant avoir un outil nous permettant d'int\u00e9grer la documentation de nos modules tout en ayant la possibilit\u00e9 d'\u00e9crire un guide utilisateur, un manuel de r\u00e9f\u00e9rence, ..."
     ]
    },
    {
     "cell_type": "markdown",
     "metadata": {
      "slideshow": {
       "slide_type": "subslide"
      }
     },
     "source": [
      "## sphinx\n",
      "\n",
      "sphinx est un module Python permettant\n",
      "\n",
      "- de g\u00e9n\u00e9rer de la documentation \u00e0 partir de reST (reStructuredText)\n",
      "- de g\u00e9n\u00e9rer automatiquement la documentation de nos modules Python\n",
      "- de fournir diff\u00e9rents formats: latex, pdf, html, ..."
     ]
    },
    {
     "cell_type": "markdown",
     "metadata": {
      "slideshow": {
       "slide_type": "subslide"
      }
     },
     "source": [
      "La premi\u00e8re chose \u00e0 faire est d'initialiser le projet \u00e0 l'aide de la commande `sphinx-quickstart` qui cr\u00e9e notamment un fichier `conf.py` avec toute votre configuration suite \u00e0 vos r\u00e9ponses aux questions."
     ]
    },
    {
     "cell_type": "markdown",
     "metadata": {},
     "source": [
      "Nous allons faire un projet de documentation afin de voir plus clairement le fonctionnement de sphinx."
     ]
    },
    {
     "cell_type": "markdown",
     "metadata": {
      "slideshow": {
       "slide_type": "subslide"
      }
     },
     "source": [
      "### Initialisation\n",
      "\n",
      "On cr\u00e9e un r\u00e9pertoire `doc` puis on va dedans. On tape ensuite la commande `sphinx-quickstart` et on r\u00e9pond aux questions. \n",
      "\n",
      "On fera bien attention de s\u00e9parer les sources de la construction de la documentation et d'activer `autodoc` et `mathjax`."
     ]
    },
    {
     "cell_type": "markdown",
     "metadata": {
      "slideshow": {
       "slide_type": "subslide"
      }
     },
     "source": [
      "### Ecriture de la documentation\n",
      "\n",
      "A partir du moment o\u00f9 vous connaissez la syntaxe reST, il n'est pas difficile d'\u00e9crire la documentation.\n",
      "\n",
      "Prenons un exemple de fichier `index.rst` que l'on placera dans le r\u00e9pertoire `source`\n",
      "\n",
      "~~~\n",
      ".. test documentation master file\n",
      "\n",
      "Welcome to test's documentation!\n",
      "================================\n",
      "\n",
      "**quelques notions de reST**. \n",
      "\n",
      "On peut faire des listes\n",
      "\n",
      "* un \n",
      "* deux\n",
      "* trois (avec des notes [1]_)\n",
      "\n",
      "Ajouter du code Python\n",
      "\n",
      "::\n",
      "\n",
      "   def toto():\n",
      "       pass\n",
      "\n",
      "On peut \u00e9galement mettre des \u00e9quations\n",
      "\n",
      ".. math::\n",
      "  \\frac{x}{2}\n",
      "\n",
      "\n",
      ".. seealso:: a voir\n",
      "\n",
      ".. [1] note de trois\n",
      "\n",
      "Contents:\n",
      "\n",
      ".. toctree::\n",
      "   :maxdepth: 3\n",
      "\n",
      "   testauto <auto>\n",
      "\n",
      "Indices and tables\n",
      "==================\n",
      "\n",
      "* :ref:`genindex`\n",
      "* :ref:`modindex`\n",
      "* :ref:`search`\n",
      "\n",
      "~~~"
     ]
    },
    {
     "cell_type": "markdown",
     "metadata": {
      "slideshow": {
       "slide_type": "subslide"
      }
     },
     "source": [
      "Avec le fichier `auto.rst` \u00e9galement dans le r\u00e9pertoire `source` suivant\n",
      "\n",
      "~~~\n",
      "test l'autodoc\n",
      "==============\n",
      "\n",
      ".. automodule:: numpy\n",
      "   :members: zeros\n",
      "   \n",
      "~~~"
     ]
    },
    {
     "cell_type": "markdown",
     "metadata": {
      "slideshow": {
       "slide_type": "subslide"
      }
     },
     "source": [
      "### G\u00e9n\u00e9ration de la documentation\n",
      "\n",
      "Il suffit ensuite de compiler notre documentation en faisant\n",
      "\n",
      "- `make html` pour la documentation au format html\n",
      "- `make latex` pour la documentation au format pdf"
     ]
    },
    {
     "cell_type": "markdown",
     "metadata": {
      "slideshow": {
       "slide_type": "subslide"
      }
     },
     "source": [
      "# Exercices\n",
      "\n",
      "2. Ajouter un r\u00e9pertoire `tests` et \u00e9crivez quelques tests. On commencera par utiliser *unittest* puis on utilisera *nosetests*. Faites ensuite un test de couverture. Corrigez si besoin.\n",
      "\n",
      "3. Ajouter un r\u00e9pertoire `doc`. G\u00e9n\u00e9rez la documentation \u00e0 l'aide de sphinx."
     ]
    },
    {
     "cell_type": "code",
     "collapsed": false,
     "input": [],
     "language": "python",
     "metadata": {},
     "outputs": []
    }
   ],
   "metadata": {}
  }
 ]
}