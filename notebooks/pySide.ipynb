{
 "metadata": {
  "celltoolbar": "Slideshow",
  "name": "",
  "signature": "sha256:b50b11e6335e748303967282de8ba0c9b1e9d54131e3ed8e6bfc4b9971dd95db"
 },
 "nbformat": 3,
 "nbformat_minor": 0,
 "worksheets": [
  {
   "cells": [
    {
     "cell_type": "markdown",
     "metadata": {
      "slideshow": {
       "slide_type": "slide"
      }
     },
     "source": [
      "#Formation Python\n",
      "#*PySide*\n",
      "&nbsp;\n",
      "<center>\n",
      "Lo\u00efc Gouarin\n",
      "</center>\n",
      "<center>\n",
      "7 - 10 juillet\n",
      "</center>"
     ]
    },
    {
     "cell_type": "markdown",
     "metadata": {
      "slideshow": {
       "slide_type": "slide"
      }
     },
     "source": [
      "Il existe diff\u00e9rents modules Python pour faire des interfaces graphiques\n",
      "\n",
      "- Tkinter pour Tk\n",
      "- WxPython pour WxWidget\n",
      "- pyGtk pour Gtk\n",
      "- PyQt et PySide pour Qt\n",
      "- Kivy"
     ]
    },
    {
     "cell_type": "markdown",
     "metadata": {
      "slideshow": {
       "slide_type": "slide"
      }
     },
     "source": [
      "Les diff\u00e9rences entre PyQt et PySide sont\n",
      "\n",
      "- PyQt utilise l'API 1 pour les versions Python 2.x et l'API 2 \n",
      "pour les versions Python 3.x.\n",
      "- PySide utilise toujours l'API 2.\n",
      "- Les licences sont diff\u00e9rentes: PyQt -> GPL, PySide -> LGPL.\n",
      "- Quelques diff\u00e9rences de syntaxe:\n",
      "    [http://qt-project.org/wiki/Differences_Between_PySide_and_PyQt](http://qt-project.org/wiki/Differences_Between_PySide_and_PyQt)"
     ]
    },
    {
     "cell_type": "markdown",
     "metadata": {},
     "source": [
      "On s'int\u00e9ressera dans la suite \u00e0 PySide."
     ]
    },
    {
     "cell_type": "markdown",
     "metadata": {
      "slideshow": {
       "slide_type": "slide"
      }
     },
     "source": [
      "## Premi\u00e8re application\n",
      "\n",
      "Nous allons \u00e9crire notre premi\u00e8re application avec PySide."
     ]
    },
    {
     "cell_type": "code",
     "collapsed": false,
     "input": [
      "import sys\n",
      "from PySide import QtGui, QtCore\n",
      "\n",
      "def getApp():\n",
      "    app=QtGui.QApplication.instance() # checks if QApplication already exists \n",
      "    if not app: # create QApplication if it doesnt exist \n",
      "        app = QtGui.QApplication(sys.argv)    \n",
      "    return app"
     ],
     "language": "python",
     "metadata": {},
     "outputs": [],
     "prompt_number": 1
    },
    {
     "cell_type": "code",
     "collapsed": false,
     "input": [
      "app = getApp()\n",
      "data = ['square', 'rectangle', 'cube', 'parallelepiped']\n",
      "\n",
      "comboBox = QtGui.QComboBox()\n",
      "comboBox.addItems(data)\n",
      "comboBox.show()\n",
      "\n",
      "listWidget = QtGui.QListWidget()\n",
      "listWidget.addItems(data)\n",
      "listWidget.show()\n",
      "app.exec_()"
     ],
     "language": "python",
     "metadata": {
      "slideshow": {
       "slide_type": "subslide"
      }
     },
     "outputs": [
      {
       "metadata": {},
       "output_type": "pyout",
       "prompt_number": 4,
       "text": [
        "0"
       ]
      }
     ],
     "prompt_number": 4
    },
    {
     "cell_type": "markdown",
     "metadata": {
      "slideshow": {
       "slide_type": "subslide"
      }
     },
     "source": [
      "- `QtCore`: toutes les fonctionnalit\u00e9s non-GUI.\n",
      "- `QtGui`: toutes les fonctionnalit\u00e9s GUI.\n",
      "- `QApplication`: permet, entre autre, de g\u00e9rer les \u00e9v\u00e9nements."
     ]
    },
    {
     "cell_type": "markdown",
     "metadata": {
      "slideshow": {
       "slide_type": "slide"
      }
     },
     "source": [
      "## Les widgets de base\n",
      "\n",
      "Dans Qt, tous les \u00e9l\u00e9ments qui peuvent composer l'interface graphique \n",
      "(bouton, \u00e9diteur de texte, liste, label, ...) sont des classes d\u00e9riv\u00e9es de la \n",
      "classe `QWidget`.\n",
      "\n",
      "<img src=\"files/figures/widgets.png\" style=\"width:60%;\"/> "
     ]
    },
    {
     "cell_type": "markdown",
     "metadata": {
      "slideshow": {
       "slide_type": "slide"
      }
     },
     "source": [
      "## La documentation PySide\n",
      "Pour conna\u00eetre les m\u00e9thodes de chacune des classes de PySide et le \n",
      "diagramme des classes, il suffit de consulter les documentations\n",
      "\n",
      "- [PySide 1.0.7 API Reference](http://srinikom.github.io/pyside-docs/)\n",
      "- [PySide 1.1.0 API Reference](https://deptinfo-ensip.univ-poitiers.fr/ENS/pyside-docs/index.html)\n",
      "\n",
      "<img src=\"files/figures/pushbuttondoc.png\" style=\"width:90%;\"/> "
     ]
    },
    {
     "cell_type": "markdown",
     "metadata": {
      "slideshow": {
       "slide_type": "slide"
      }
     },
     "source": [
      "## Applications\n",
      "\n",
      "La plupart des interfaces graphiques sont construites en utilisant des fen\u00eatres \n",
      "de dialogue et une fen\u00eatre principale. \n",
      "\n",
      "<img src=\"files/figures/mainwindow.png\" style=\"width:90%;\"/> "
     ]
    },
    {
     "cell_type": "markdown",
     "metadata": {
      "slideshow": {
       "slide_type": "subslide"
      }
     },
     "source": [
      "Voici un exemple de cr\u00e9ation d'une fen\u00eatre de dialogue."
     ]
    },
    {
     "cell_type": "code",
     "collapsed": false,
     "input": [
      "import sys\n",
      "from PySide import QtCore, QtGui\n",
      "\n",
      "class monDialog(QtGui.QDialog):\n",
      "    def __init__(self, parent = None):\n",
      "        super(monDialog, self).__init__(parent)\n",
      "\n",
      "        data = ['square', 'rectangle', \n",
      "                'cube', 'parallelepiped']\n",
      "\n",
      "        self.setWindowTitle(\"exemple de dialogue\")\n",
      "        self.setFixedSize(300, 100)\n",
      "        listWidget = QtGui.QListWidget(self)\n",
      "        listWidget.addItems(data)\n",
      "\n",
      "if __name__ == '__main__':\n",
      "    app = getApp()\n",
      "    d = monDialog()\n",
      "    d.show()\n",
      "    app.exec_()"
     ],
     "language": "python",
     "metadata": {},
     "outputs": [],
     "prompt_number": 5
    },
    {
     "cell_type": "markdown",
     "metadata": {
      "slideshow": {
       "slide_type": "slide"
      }
     },
     "source": [
      "## Les layouts\n",
      "\n",
      "Les layouts permettent de placer correctement les widgets entre eux."
     ]
    },
    {
     "cell_type": "code",
     "collapsed": false,
     "input": [
      "import sys\n",
      "from PySide import QtCore, QtGui\n",
      "\n",
      "class monDialog(QtGui.QDialog):\n",
      "    def __init__(self, parent = None):\n",
      "        super(monDialog, self).__init__(parent)\n",
      "        btn1 = QtGui.QPushButton(\"un\")\n",
      "        btn2 = QtGui.QPushButton(\"deux\")\n",
      "        btn3 = QtGui.QPushButton(\"trois\")\n",
      "\n",
      "        layout = QtGui.QHBoxLayout()\n",
      "        layout.addWidget(btn1)\n",
      "        layout.addWidget(btn2)\n",
      "        layout.addWidget(btn3)\n",
      "        self.setLayout(layout)\n",
      "\n",
      "if __name__ == '__main__':\n",
      "    app = getApp()\n",
      "    d = monDialog()\n",
      "    d.show()\n",
      "    app.exec_()"
     ],
     "language": "python",
     "metadata": {
      "slideshow": {
       "slide_type": "subslide"
      }
     },
     "outputs": [],
     "prompt_number": 7
    },
    {
     "cell_type": "markdown",
     "metadata": {
      "slideshow": {
       "slide_type": "subslide"
      }
     },
     "source": [
      "### Exercice 1\n",
      "\n",
      "Ecrivez le code Python permettant d'avoir la fen\u00eatre de dialogue suivante\n",
      "\n",
      "<img src=\"files/figures/exo1.png\" style=\"width:50%;\"/> "
     ]
    },
    {
     "cell_type": "markdown",
     "metadata": {
      "slideshow": {
       "slide_type": "slide"
      }
     },
     "source": [
      "## Utilisation du designer\n",
      "\n",
      "<img src=\"files/figures/designer.png\" style=\"width:90%;\"/> "
     ]
    },
    {
     "cell_type": "markdown",
     "metadata": {
      "slideshow": {
       "slide_type": "subslide"
      }
     },
     "source": [
      "La politique de redimensionnement des widgets peut \u00eatre r\u00e9sum\u00e9 de la fa\u00e7on suivante\n",
      "\n",
      "|Politique | peut grandir | peut r\u00e9tr\u00e9cir | veut grandir |\n",
      "|----------|--------------|---------------|--------------|\n",
      "|Fixed | non | non | non |\n",
      "|Minimum | oui | non | non |\n",
      "|Maximum | non | oui | non |\n",
      "|Preferred | oui | oui | non |\n",
      "|Expanding | oui | oui | oui |\n",
      "|MinimumExpanding | oui | non | oui |\n",
      "|Ignored | oui | oui | oui |"
     ]
    },
    {
     "cell_type": "markdown",
     "metadata": {
      "slideshow": {
       "slide_type": "subslide"
      }
     },
     "source": [
      "## Comment lire un fichier `ui` en Python ?\n",
      "\n",
      "- utiliser la commande `pyside-uic` pour transformer le fichier en une \n",
      "classe Python, \n",
      "- utiliser le module `QtUiTools` pour importer directement le fichier \n",
      "dans son code Python."
     ]
    },
    {
     "cell_type": "markdown",
     "metadata": {
      "slideshow": {
       "slide_type": "subslide"
      }
     },
     "source": [
      "### La commande `pyside-uic`\n",
      "\n",
      "- Cr\u00e9er son fichier \u00e0 partir du designer.\n",
      "- Cr\u00e9er le fichier Python associ\u00e9 en ex\u00e9cutant la commande\n",
      "\n",
      "        pyside-uic mondialog.ui > mondialog.py\n",
      "\n",
      "\n",
      "- Importer la classe ainsi cr\u00e9\u00e9e dans votre application.\n",
      "- Cr\u00e9er une instance de la classe ainsi cr\u00e9\u00e9e. \n",
      "- Appeler la m\u00e9thode `setupUi`."
     ]
    },
    {
     "cell_type": "code",
     "collapsed": false,
     "input": [
      "import sys\n",
      "from PySide import QtCore, QtGui\n",
      "from forms.dialog_ui import Ui_Form\n",
      "\n",
      "class monDialog(QtGui.QDialog):\n",
      "    def __init__(self, parent = None):\n",
      "        super(monDialog, self).__init__(parent)\n",
      "        self.ui = Ui_Form()\n",
      "        self.ui.setupUi(self)\n",
      "\n",
      "if __name__ == '__main__':\n",
      "    app = getApp()\n",
      "    d = monDialog()\n",
      "    d.show()\n",
      "    app.exec_()"
     ],
     "language": "python",
     "metadata": {
      "slideshow": {
       "slide_type": "subslide"
      }
     },
     "outputs": []
    },
    {
     "cell_type": "markdown",
     "metadata": {
      "slideshow": {
       "slide_type": "subslide"
      }
     },
     "source": [
      "### Le module `QtUiTools`\n",
      "\n",
      "Le module `QtUiTools` permet de charger directement le fichier `ui`\n",
      "dans son code Python sans passer par une op\u00e9ration en ligne de commandes."
     ]
    },
    {
     "cell_type": "code",
     "collapsed": false,
     "input": [
      "import sys\n",
      "from PySide import QtCore, QtGui, QtUiTools\n",
      "\n",
      "class monDialog(QtGui.QDialog):\n",
      "    def __init__(self, parent = None):\n",
      "        super(monDialog, self).__init__(parent)\n",
      "        loader = QtUiTools.QUiLoader()\n",
      "        self.ui = loader.load(\"./forms/dialog.ui\")\n",
      "\n",
      "    def show(self):\n",
      "        self.ui.show();\n",
      "\n",
      "if __name__ == '__main__':\n",
      "    app = getApp()\n",
      "    d = monDialog()\n",
      "    d.show()\n",
      "    app.exec_()"
     ],
     "language": "python",
     "metadata": {
      "slideshow": {
       "slide_type": "subslide"
      }
     },
     "outputs": []
    },
    {
     "cell_type": "markdown",
     "metadata": {
      "slideshow": {
       "slide_type": "slide"
      }
     },
     "source": [
      "## Les signaux et les slots\n",
      "\n",
      "Il existe deux fa\u00e7ons de g\u00e9rer les \u00e9v\u00e9nements\n",
      "\n",
      "- m\u00e9thode bas niveau: g\u00e9rer \u00e0 la main les \u00e9v\u00e9nements (clavier, souris, ...)\n",
      "- m\u00e9thode haut niveau: utiliser les signaux et les slots\n",
      "\n",
      "<img src=\"files/figures/signalSlot.png\" style=\"width:40%;\"/> "
     ]
    },
    {
     "cell_type": "markdown",
     "metadata": {
      "slideshow": {
       "slide_type": "subslide"
      }
     },
     "source": [
      "Voici un exemple des signaux et des slots pr\u00e9sents dans la classe `QPushButton`\n",
      "\n",
      "<img src=\"files/figures/signalButton.png\" style=\"width:40%;\"/> "
     ]
    },
    {
     "cell_type": "markdown",
     "metadata": {
      "slideshow": {
       "slide_type": "subslide"
      }
     },
     "source": [
      "On peut l'utiliser de la fa\u00e7on suivante"
     ]
    },
    {
     "cell_type": "code",
     "collapsed": false,
     "input": [
      "import sys\n",
      "from PySide import QtCore, QtGui\n",
      "\n",
      "def cliquer():\n",
      "    print \"click\"\n",
      "\n",
      "app = getApp()\n",
      "\n",
      "button = QtGui.QPushButton(\"mon bouton\")\n",
      "button.clicked.connect(cliquer)\n",
      "button.show()\n",
      "\n",
      "app.exec_()"
     ],
     "language": "python",
     "metadata": {},
     "outputs": [
      {
       "output_type": "stream",
       "stream": "stdout",
       "text": [
        "click\n",
        "click"
       ]
      },
      {
       "output_type": "stream",
       "stream": "stdout",
       "text": [
        "\n",
        "click"
       ]
      },
      {
       "output_type": "stream",
       "stream": "stdout",
       "text": [
        "\n",
        "click"
       ]
      },
      {
       "output_type": "stream",
       "stream": "stdout",
       "text": [
        "\n",
        "click"
       ]
      },
      {
       "output_type": "stream",
       "stream": "stdout",
       "text": [
        "\n",
        "click"
       ]
      },
      {
       "output_type": "stream",
       "stream": "stdout",
       "text": [
        "\n",
        "click"
       ]
      },
      {
       "output_type": "stream",
       "stream": "stdout",
       "text": [
        "\n",
        "click"
       ]
      },
      {
       "output_type": "stream",
       "stream": "stdout",
       "text": [
        "\n",
        "click"
       ]
      },
      {
       "output_type": "stream",
       "stream": "stdout",
       "text": [
        "\n",
        "click"
       ]
      },
      {
       "output_type": "stream",
       "stream": "stdout",
       "text": [
        "\n",
        "click"
       ]
      },
      {
       "output_type": "stream",
       "stream": "stdout",
       "text": [
        "\n",
        "click"
       ]
      },
      {
       "output_type": "stream",
       "stream": "stdout",
       "text": [
        "\n",
        "click"
       ]
      },
      {
       "output_type": "stream",
       "stream": "stdout",
       "text": [
        "\n",
        "click"
       ]
      },
      {
       "output_type": "stream",
       "stream": "stdout",
       "text": [
        "\n",
        "click"
       ]
      },
      {
       "output_type": "stream",
       "stream": "stdout",
       "text": [
        "\n"
       ]
      },
      {
       "metadata": {},
       "output_type": "pyout",
       "prompt_number": 8,
       "text": [
        "0"
       ]
      }
     ],
     "prompt_number": 8
    },
    {
     "cell_type": "markdown",
     "metadata": {
      "slideshow": {
       "slide_type": "subslide"
      }
     },
     "source": [
      "###\u00a0Cr\u00e9er ses propres signaux\n",
      "\n",
      "#### Exemple 1"
     ]
    },
    {
     "cell_type": "code",
     "collapsed": false,
     "input": [
      "import sys\n",
      "from PySide import QtCore, QtGui\n",
      "\n",
      "class Bouton(QtGui.QPushButton):\n",
      "    myclicked = QtCore.Signal()\n",
      "\n",
      "    def __init__(self, text, parent=None):\n",
      "        super(Bouton, self).__init__(parent)\n",
      "        self.setText(text)\n",
      "        self.clicked.connect(self.myclicked) \n",
      "        self.myclicked.connect(self.cliquer)\n",
      "\n",
      "    @QtCore.Slot()\n",
      "    def cliquer(self):\n",
      "        print \"click\"\n",
      "\n",
      "app = getApp()\n",
      "button = Bouton(\"mon bouton\")\n",
      "button.show()\n",
      "app.exec_()"
     ],
     "language": "python",
     "metadata": {},
     "outputs": [
      {
       "output_type": "stream",
       "stream": "stdout",
       "text": [
        "click\n",
        "click"
       ]
      },
      {
       "output_type": "stream",
       "stream": "stdout",
       "text": [
        "\n",
        "click"
       ]
      },
      {
       "output_type": "stream",
       "stream": "stdout",
       "text": [
        "\n",
        "click"
       ]
      },
      {
       "output_type": "stream",
       "stream": "stdout",
       "text": [
        "\n",
        "click"
       ]
      },
      {
       "output_type": "stream",
       "stream": "stdout",
       "text": [
        "\n",
        "click"
       ]
      },
      {
       "output_type": "stream",
       "stream": "stdout",
       "text": [
        "\n"
       ]
      },
      {
       "metadata": {},
       "output_type": "pyout",
       "prompt_number": 9,
       "text": [
        "0"
       ]
      }
     ],
     "prompt_number": 9
    },
    {
     "cell_type": "markdown",
     "metadata": {
      "slideshow": {
       "slide_type": "subslide"
      }
     },
     "source": [
      "#### Exemple 2"
     ]
    },
    {
     "cell_type": "code",
     "collapsed": false,
     "input": [
      "import sys\n",
      "from PySide import QtGui, QtCore\n",
      "\n",
      "class TestSignal(QtGui.QDialog):\n",
      "    mysignal = QtCore.Signal(int)\n",
      "\n",
      "    def __init__(self, parent=None):\n",
      "        super(TestSignal, self).__init__(parent)\n",
      "        self.mysignal.connect(self.myslot)\n",
      "\n",
      "    @QtCore.Slot(int)\n",
      "    def myslot(self, value):\n",
      "        print \"value:\", value\n",
      "\n",
      "if __name__ == '__main__':\n",
      "    app = getApp()\n",
      "    t = TestSignal()\n",
      "    t.show()\n",
      "    t.mysignal.emit(6)\n",
      "    app.exec_()\n"
     ],
     "language": "python",
     "metadata": {},
     "outputs": [
      {
       "output_type": "stream",
       "stream": "stdout",
       "text": [
        "value: 6\n"
       ]
      }
     ],
     "prompt_number": 10
    },
    {
     "cell_type": "markdown",
     "metadata": {
      "slideshow": {
       "slide_type": "slide"
      }
     },
     "source": [
      "## Utiliser ses propres widgets avec designer\n",
      "\n",
      "On \u00e9crit sa classe pour son widget\n"
     ]
    },
    {
     "cell_type": "code",
     "collapsed": false,
     "input": [
      "class MonLineEdit(QtGui.QLineEdit):\n",
      "    def __init__(self, parent=None):\n",
      "        super(MonLineEdit, self).__init__(parent)\n",
      "        self.setText(\"Entrer votre code\")"
     ],
     "language": "python",
     "metadata": {},
     "outputs": []
    },
    {
     "cell_type": "markdown",
     "metadata": {
      "slideshow": {
       "slide_type": "subslide"
      }
     },
     "source": [
      "On fait son interface avec designer et on utilise `promote` pour le widget \n",
      "que l'on veut customiser. \n",
      "\n",
      "<img src=\"files/figures/promote.png\" style=\"width:70%;\"/> "
     ]
    },
    {
     "cell_type": "markdown",
     "metadata": {
      "slideshow": {
       "slide_type": "subslide"
      }
     },
     "source": [
      "Il faut indiquer \u00e0 Qt comment trouver ce nouveau widget si on utilise \n",
      "`QUiTools`."
     ]
    },
    {
     "cell_type": "code",
     "collapsed": false,
     "input": [
      "class Test(QtGui.QDialog):\n",
      "    def __init__(self, parent=None):\n",
      "        super(Test, self).__init__(parent)\n",
      "        loader = QtUiTools.QUiLoader()\n",
      "        loader.registerCustomWidget(MonLineEdit)\n",
      "        self.ui = loader.load(\"./forms/test.ui\")\n",
      "\n",
      "    def show(self):\n",
      "        self.ui.show()"
     ],
     "language": "python",
     "metadata": {},
     "outputs": [],
     "prompt_number": 11
    },
    {
     "cell_type": "markdown",
     "metadata": {
      "slideshow": {
       "slide_type": "slide"
      }
     },
     "source": [
      "## PyShift\n",
      "\n",
      "Nous allons cr\u00e9er une interface graphique pour pyShift que vous trouverez dans `TPs/PySide/` en ayant \u00e0 la fin l'arborescence suivante\n",
      "\n",
      "<img src=\"files/figures/pyShiftTree.png\" style=\"width:50%;\"/> "
     ]
    },
    {
     "cell_type": "markdown",
     "metadata": {
      "slideshow": {
       "slide_type": "subslide"
      }
     },
     "source": [
      "### Exercice 2\n",
      "\n",
      "Cr\u00e9er dans un designer les 2 fen\u00eatres suivantes\n",
      "\n",
      "<img src=\"files/figures/pyshiftwin3.png\" style=\"width:60%;\"/> \n",
      "<img src=\"files/figures/pyshiftwin2.png\" style=\"width:30%;\"/> \n",
      "\n",
      "que vous enregistrerez respectivement dans `forms/meshWindow.ui` et \n",
      "`forms/tabMesh.ui`."
     ]
    },
    {
     "cell_type": "markdown",
     "metadata": {
      "slideshow": {
       "slide_type": "subslide"
      }
     },
     "source": [
      "### Exercice 3\n",
      "\n",
      "- Installer `pyShift`\n",
      "- Cr\u00e9er une classe `MainWindow` qui initialise la fen\u00eatre de dialogue permettant de cr\u00e9er une nouvelle forme.\n",
      "- Connecter le bouton `add` \u00e0 une fonction qui ajoute un maillage. \n",
      "- Ecrire le slot associ\u00e9 qui construit pour le moment un maillage avec pyShift avec les arguments entr\u00e9s dans les diff\u00e9rentes cases."
     ]
    },
    {
     "cell_type": "markdown",
     "metadata": {
      "slideshow": {
       "slide_type": "subslide"
      }
     },
     "source": [
      "### Exercice 4\n",
      "\n",
      "- Cr\u00e9er une classe `MeshWindow` qui initialise la fen\u00eatre pour visualiser les maillages avec VTK en utilisant le `meshWindow.ui` cr\u00e9\u00e9 pr\u00e9c\u00e9demment.\n",
      "- Mettre dans ses attributs une instance de la classe \n",
      "    - `pyShiftModel`,\n",
      "    - `VtkPlot`\n",
      "- Ajouter une instance de `MeshWindow` dans `MainWindow`\n",
      "- Modifier la m\u00e9thode qui ajoute un maillage dans la classe `MainWindow` pour qu'elle appelle une m\u00e9thode de la classe `MeshWindow` qui ajoute un maillage en prenant en param\u00e8tres d'entr\u00e9e `nx`, `ny`, `nz` et la forme."
     ]
    },
    {
     "cell_type": "markdown",
     "metadata": {
      "slideshow": {
       "slide_type": "subslide"
      }
     },
     "source": [
      "### Exercice 5\n",
      "\n",
      "- Cr\u00e9er une m\u00e9thode qui ajoute un maillage dans la classe `MeshWindow`. Cette m\u00e9thode v\u00e9rifie que les param\u00e8tres sont exacts et affiche le maillage dans la fen\u00eatre VTK. Sinon, \u00e9met un signal qui demande \u00e0 afficher un message disant qu'un des param\u00e8tres n'est pas correct.\n",
      "- Cr\u00e9er une m\u00e9thode qui ajoute un onglet dans le dock widget. Dans cet onglet, on mettra le widget `forms/tabMesh.ui` cr\u00e9\u00e9 pr\u00e9c\u00e9demment.\n",
      "- Mettre dans la `TableWidget` de cet onglet les coordonn\u00e9es des points (on ira voir dans la doc pour plus de pr\u00e9cision)."
     ]
    },
    {
     "cell_type": "markdown",
     "metadata": {
      "slideshow": {
       "slide_type": "subslide"
      }
     },
     "source": [
      "### Exercice 6\n",
      "\n",
      "- Connecter un signal de `checkBox` display \u00e0 un slot qui permet d'afficher ou non le maillage de l'onglet s\u00e9lectionn\u00e9 dans la fen\u00eatre VTK en fonction de l'\u00e9tat de la case (coch\u00e9e ou pas).\n",
      "- Connecter un signal d'une `tabWidget` \u00e0 un slot lui indiquant ce qu'il faut faire si l'utilisateur ferme un onglet. On enl\u00e8vera des diff\u00e9rentes listes ce maillage et on rafra\u00eechira la fen\u00eatre VTK.\n",
      "- Connecter un signal de la classe `MainWindow` \u00e0 un slot qui permet de quitter l'application si on ferme cette fen\u00eatre."
     ]
    },
    {
     "cell_type": "code",
     "collapsed": false,
     "input": [],
     "language": "python",
     "metadata": {},
     "outputs": []
    }
   ],
   "metadata": {}
  }
 ]
}