{
 "metadata": {
  "name": "",
  "signature": "sha256:de7323870ce08733213e27e22570c74f83df08904e15866015d0ee35bb11643e"
 },
 "nbformat": 3,
 "nbformat_minor": 0,
 "worksheets": [
  {
   "cells": [
    {
     "cell_type": "markdown",
     "metadata": {
      "slideshow": {
       "slide_type": "slide"
      }
     },
     "source": [
      "#Formation Python\n",
      "#*Cython*\n",
      "&nbsp;\n",
      "<center>\n",
      "Lo\u00efc Gouarin\n",
      "</center>\n",
      "<center>\n",
      "7 - 10 juillet\n",
      "</center>"
     ]
    },
    {
     "cell_type": "markdown",
     "metadata": {
      "slideshow": {
       "slide_type": "slide"
      }
     },
     "source": [
      "Le langage Python peut \u00eatre lent mais il a de nombreux avantages\n",
      "\n",
      "- Python est un langage facile \u00e0 apprendre.\n",
      "- Il existe \u00e9norm\u00e9ment de modules pour le calcul scientifique.\n",
      "- On peut faire bien plus que du calcul scientifique.\n",
      "- La communaut\u00e9 est gigantesque.\n",
      "\n",
      "Reste donc aux d\u00e9veloppeurs le soin de faire l'optimisation de leurs codes pour avoir des utilisateurs conquis."
     ]
    },
    {
     "cell_type": "markdown",
     "metadata": {
      "slideshow": {
       "slide_type": "slide"
      }
     },
     "source": [
      "## Comment optimiser son code ?\n",
      "\n",
      "- trouver les r\u00e9gions lentes du code en faisant du profiling,\n",
      "- optimiser ces parties en se ramenant \u00e0 un langage bas niveau,\n",
      "- l'interfa\u00e7age se fait via l'API Python/C."
     ]
    },
    {
     "cell_type": "markdown",
     "metadata": {
      "slideshow": {
       "slide_type": "slide"
      }
     },
     "source": [
      "## Probl\u00e8me jouet\n",
      "Tout au long de ce cours, nous allons utiliser le probl\u00e8me suivant.\n",
      "\n",
      "On souhaite approcher $\\pi$ en calculant l'int\u00e9grale suivante\n",
      "\n",
      "$$\n",
      "\\pi = \\int_0^1f(x)dx \\; \\text{avec} \\; f(x)=\\frac{4}{1+x^2}.\n",
      "$$\n",
      "\n",
      "Pour ce faire, on approche l'int\u00e9grale en utilisant une m\u00e9thode des rectangles\n",
      "\n",
      "$$\n",
      "\\pi \\approx \\frac{1}{n}\\sum_{i=0}^{n-1}f(x_i), \\; \\text{avec} \\; x_i=\\frac{i+0.5}{n} \\; \\text{pour} \\; i=0,\\cdots,n-1.\n",
      "$$"
     ]
    },
    {
     "cell_type": "markdown",
     "metadata": {
      "slideshow": {
       "slide_type": "subslide"
      }
     },
     "source": [
      "Voici une \u00e9criture possible en Python"
     ]
    },
    {
     "cell_type": "code",
     "collapsed": false,
     "input": [
      "def f(x):\n",
      "    return 4./(1 + x**2)\n",
      "\n",
      "def calculPi(n):\n",
      "    h, pi = 1./n, 0.\n",
      "    for i in xrange(n):\n",
      "        pi += f(h*(i+.5))\n",
      "    return h*pi"
     ],
     "language": "python",
     "metadata": {
      "slideshow": {
       "slide_type": "-"
      }
     },
     "outputs": [],
     "prompt_number": 11
    },
    {
     "cell_type": "markdown",
     "metadata": {
      "slideshow": {
       "slide_type": "slide"
      }
     },
     "source": [
      "## Outils de profiling\n",
      "\n",
      "### Le module `time`\n",
      "Une premi\u00e8re fa\u00e7on de profiler son code est d'utiliser le module `time` de Python."
     ]
    },
    {
     "cell_type": "code",
     "collapsed": false,
     "input": [
      "import time\n",
      "n, nrep = 100000, 10\n",
      "\n",
      "t1 = time.time()\n",
      "for i in xrange(nrep):\n",
      "    pi = calculPi(n)\n",
      "print pi, (time.time() - t1)/nrep"
     ],
     "language": "python",
     "metadata": {
      "slideshow": {
       "slide_type": "-"
      }
     },
     "outputs": [
      {
       "output_type": "stream",
       "stream": "stdout",
       "text": [
        "3.1415926536 0.0442302942276\n"
       ]
      }
     ],
     "prompt_number": 2
    },
    {
     "cell_type": "markdown",
     "metadata": {
      "slideshow": {
       "slide_type": "subslide"
      }
     },
     "source": [
      "### Le module `timeit`\n",
      "\n",
      "On peut appeler de base `timeit` avec le notebook de IPython via la commande magic `%timeit`. Dans un script Python, il est n\u00e9cessaire de faire\n",
      "\n",
      "```\n",
      "from timeit import timeit\n",
      "```"
     ]
    },
    {
     "cell_type": "code",
     "collapsed": false,
     "input": [
      "%timeit('calculPi(%d)'%n)"
     ],
     "language": "python",
     "metadata": {},
     "outputs": [
      {
       "output_type": "stream",
       "stream": "stdout",
       "text": [
        "1000000 loops, best of 3: 527 ns per loop\n"
       ]
      }
     ],
     "prompt_number": 3
    },
    {
     "cell_type": "markdown",
     "metadata": {
      "slideshow": {
       "slide_type": "subslide"
      }
     },
     "source": [
      "### Le module `cProfile`\n",
      "\n",
      "`cProfile` est fourni de base avec Python et est \u00e9crit en C. Il permet d'avoir des informations basiques de profiling."
     ]
    },
    {
     "cell_type": "code",
     "collapsed": false,
     "input": [
      "import cProfile\n",
      "\n",
      "cProfile.run('calculPi(%d)'%n)"
     ],
     "language": "python",
     "metadata": {},
     "outputs": [
      {
       "output_type": "stream",
       "stream": "stdout",
       "text": [
        "         100003 function calls in 0.070 seconds\n",
        "\n",
        "   Ordered by: standard name\n",
        "\n",
        "   ncalls  tottime  percall  cumtime  percall filename:lineno(function)\n",
        "   100000    0.029    0.000    0.029    0.000 <ipython-input-1-3334703cb58d>:1(f)\n",
        "        1    0.040    0.040    0.070    0.070 <ipython-input-1-3334703cb58d>:4(calculPi)\n",
        "        1    0.000    0.000    0.070    0.070 <string>:1(<module>)\n",
        "        1    0.000    0.000    0.000    0.000 {method 'disable' of '_lsprof.Profiler' objects}\n",
        "\n",
        "\n"
       ]
      }
     ],
     "prompt_number": 4
    },
    {
     "cell_type": "markdown",
     "metadata": {
      "slideshow": {
       "slide_type": "subslide"
      }
     },
     "source": [
      "### le module `line_profiler`\n",
      "\n",
      "Ce module est beaucoup plus complet que les pr\u00e9cedents puisqu'il est possible d'avoir le profiling du code ligne \u00e0 ligne.\n",
      "\n",
      "Pour installer le module, il suffit de faire "
     ]
    },
    {
     "cell_type": "code",
     "collapsed": false,
     "input": [
      "!pip install line_profiler"
     ],
     "language": "python",
     "metadata": {},
     "outputs": [
      {
       "output_type": "stream",
       "stream": "stdout",
       "text": [
        "Requirement already satisfied (use --upgrade to upgrade): line-profiler in /home/gouarin/.local/lib/python2.7/site-packages\r\n",
        "Cleaning up...\r\n"
       ]
      }
     ],
     "prompt_number": 5
    },
    {
     "cell_type": "markdown",
     "metadata": {
      "slideshow": {
       "slide_type": "subslide"
      }
     },
     "source": [
      "On peut profiler n'importe quelle fontion de notre code en rajoutant le decorateur `profile` et en utilisant le script `kernprof.py`. Reprenons notre exemple en ajoutant le d\u00e9corateur."
     ]
    },
    {
     "cell_type": "code",
     "collapsed": false,
     "input": [
      "%%file calculPi.py\n",
      "@profile\n",
      "def f(x):\n",
      "    return 4./(1 + x**2)\n",
      "\n",
      "@profile\n",
      "def calculPi(n):\n",
      "    h, pi = 1./n, 0.\n",
      "    for i in xrange(n):\n",
      "        pi += f(h*(i+.5))\n",
      "    return h*pi\n",
      "\n",
      "if __name__ == '__main__':\n",
      "    n = 100000\n",
      "    calculPi(n)"
     ],
     "language": "python",
     "metadata": {},
     "outputs": [
      {
       "output_type": "stream",
       "stream": "stdout",
       "text": [
        "Overwriting calculPi.py\n"
       ]
      }
     ],
     "prompt_number": 6
    },
    {
     "cell_type": "code",
     "collapsed": false,
     "input": [
      "!kernprof.py -l -v calculPi.py"
     ],
     "language": "python",
     "metadata": {
      "slideshow": {
       "slide_type": "subslide"
      }
     },
     "outputs": [
      {
       "output_type": "stream",
       "stream": "stdout",
       "text": [
        "Wrote profile results to calculPi.py.lprof\r\n",
        "Timer unit: 1e-06 s\r\n",
        "\r\n",
        "File: calculPi.py\r\n",
        "Function: f at line 1\r\n",
        "Total time: 0.071077 s\r\n",
        "\r\n",
        "Line #      Hits         Time  Per Hit   % Time  Line Contents\r\n",
        "==============================================================\r\n",
        "     1                                           @profile\r\n",
        "     2                                           def f(x):\r\n",
        "     3    100000        71077      0.7    100.0      return 4./(1 + x**2)\r\n",
        "\r\n",
        "File: calculPi.py\r\n",
        "Function: calculPi at line 5\r\n",
        "Total time: 0.461692 s\r\n",
        "\r\n",
        "Line #      Hits         Time  Per Hit   % Time  Line Contents\r\n",
        "==============================================================\r\n",
        "     5                                           @profile\r\n",
        "     6                                           def calculPi(n):\r\n",
        "     7         1            2      2.0      0.0      h, pi = 1./n, 0.\r\n",
        "     8    100001        51556      0.5     11.2      for i in xrange(n):\r\n",
        "     9    100000       410133      4.1     88.8          pi += f(h*(i+.5))\r\n",
        "    10         1            1      1.0      0.0      return h*pi\r\n",
        "\r\n"
       ]
      }
     ],
     "prompt_number": 7
    },
    {
     "cell_type": "markdown",
     "metadata": {
      "slideshow": {
       "slide_type": "subslide"
      }
     },
     "source": [
      "On peut \u00e9galement l'utiliser via le notebook de IPython en faisant"
     ]
    },
    {
     "cell_type": "markdown",
     "metadata": {},
     "source": [
      "%load_ext line_profiler"
     ]
    },
    {
     "cell_type": "markdown",
     "metadata": {},
     "source": [
      "Puis en utilisant la commande magic `%lprun`.\n",
      "\n",
      "Maintenant que nous savons o\u00f9 notre code passe le plus de temps, nous allons essayer d'optimiser cette partie."
     ]
    },
    {
     "cell_type": "markdown",
     "metadata": {
      "slideshow": {
       "slide_type": "slide"
      }
     },
     "source": [
      "## Comment faire l'interface ?\n",
      "\n",
      "- en \u00e9crivant tout seul l'interface avec l'API Python/C,\n",
      "- en utilisant SWIG,\n",
      "- en utilisant f2py,\n",
      "- en utilisant Cython."
     ]
    },
    {
     "cell_type": "markdown",
     "metadata": {
      "slideshow": {
       "slide_type": "slide"
      }
     },
     "source": [
      "## Cython\n",
      "\n",
      "Cython fonctionne de la fa\u00e7on suivante\n",
      "\n",
      "- On \u00e9crit un fichier `.pyx` indiquant comment s'op\u00e8re l'interfa\u00e7age entre les objets Python et du C.\n",
      "- On utilise la commande `cython` pour cr\u00e9er l'interface `.c` \u00e9crite en API Python/C.\n",
      "- On compile ce fichier `.c` en `.o`.\n",
      "- On cr\u00e9e la librairie `.so` associ\u00e9e.\n",
      "- On peut maintenant importer cette librairie dans Python et utiliser les fonctions ou classes ainsi cr\u00e9\u00e9es."
     ]
    },
    {
     "cell_type": "markdown",
     "metadata": {
      "slideshow": {
       "slide_type": "subslide"
      }
     },
     "source": [
      "### Comment compiler le code Cython ?\n",
      "\n",
      "- Utiliser `cython` manuellement.\n",
      "- Ecrire un fichier `setup.py` utilisant `distutils`.\n",
      "- Utiliser `pyximport`.\n",
      "- Utiliser Sage.\n",
      "\n",
      "On suppose dans la suite que l'on a un fichier `piCython.pyx` dans lequel \n",
      "on a une fonction `calculPi` qui prend en entr\u00e9e un entier et retourne un \n",
      "r\u00e9el. "
     ]
    },
    {
     "cell_type": "markdown",
     "metadata": {
      "slideshow": {
       "slide_type": "subslide"
      }
     },
     "source": [
      "### Exemple avec `setup.py`\n",
      "\n",
      "    from distutils.core import setup\n",
      "    from Cython.Build import cythonize\n",
      "\n",
      "    setup(name = \"calcul de pi\",\n",
      "          ext_modules = cythonize(\"piCython.pyx\"),\n",
      "          )\n",
      "          \n",
      "Il faut ensuite compiler \u00e0 l'aide de la commande\n",
      "\n",
      "    python setup.py build_ext --inplace\n",
      "    "
     ]
    },
    {
     "cell_type": "markdown",
     "metadata": {
      "slideshow": {
       "slide_type": "subslide"
      }
     },
     "source": [
      "L'utilisation se fait ensuite de la mani\u00e8re suivante"
     ]
    },
    {
     "cell_type": "code",
     "collapsed": false,
     "input": [
      "from piCython import calculPi\n",
      "print calculPi(100)"
     ],
     "language": "python",
     "metadata": {
      "slideshow": {
       "slide_type": "-"
      }
     },
     "outputs": []
    },
    {
     "cell_type": "markdown",
     "metadata": {
      "slideshow": {
       "slide_type": "subslide"
      }
     },
     "source": [
      "### Exemple avec `pyximport`"
     ]
    },
    {
     "cell_type": "code",
     "collapsed": false,
     "input": [
      "import pyximport\n",
      "pyximport.install()\n",
      "from piCython import calculPi\n",
      "print calculPi(100)"
     ],
     "language": "python",
     "metadata": {},
     "outputs": []
    },
    {
     "cell_type": "markdown",
     "metadata": {
      "slideshow": {
       "slide_type": "subslide"
      }
     },
     "source": [
      "### Principe g\u00e9n\u00e9ral de Cython\n",
      "\n",
      "D\u00e9finir des types statiques permettant \u00e0 Cython de comprendre que nous ne sommes plus dans une partie Python mais dans une partie pouvant \u00eatre \u00e9crite facilement en C et donc optimis\u00e9e."
     ]
    },
    {
     "cell_type": "markdown",
     "metadata": {
      "slideshow": {
       "slide_type": "subslide"
      }
     },
     "source": [
      "### Les mots-clefs `def`, `cdef`\n"
     ]
    },
    {
     "cell_type": "markdown",
     "metadata": {},
     "source": [
      "- `def`: fonction utilisable en Python,\n",
      "- `cdef`: fonction utilisable en C,\n",
      "- `cpdef`: fonction utilisable en Python et en C."
     ]
    },
    {
     "cell_type": "code",
     "collapsed": false,
     "input": [
      "%load_ext cythonmagic"
     ],
     "language": "python",
     "metadata": {
      "slideshow": {
       "slide_type": "subslide"
      }
     },
     "outputs": [],
     "prompt_number": 1
    },
    {
     "cell_type": "code",
     "collapsed": false,
     "input": [
      "%%cython -a\n",
      "def fact(n):\n",
      "  res = 1\n",
      "  for i in xrange(1, n + 1):\n",
      "    res *= i\n",
      "  return res\n",
      "\n",
      "cdef long factc(int n):\n",
      "  cdef:\n",
      "    long res = 1\n",
      "    int i\n",
      "  for i in xrange(1, n + 1):\n",
      "    res *= i\n",
      "  return res\n",
      "\n",
      "cpdef long factcp(int n):\n",
      "  cdef long res = 1\n",
      "  cdef int i\n",
      "  for i in xrange(1, n + 1):\n",
      "    res *= i\n",
      "  return res"
     ],
     "language": "python",
     "metadata": {
      "slideshow": {
       "slide_type": "subslide"
      }
     },
     "outputs": [
      {
       "html": [
        "<!DOCTYPE html>\n",
        "<!-- Generated by Cython 0.20.1 on Wed Jul  9 10:40:42 2014 -->\n",
        "<html>\n",
        "\n",
        "<head>\n",
        "<meta http-equiv=\"Content-Type\" content=\"text/html; charset=utf-8\" />\n",
        "<style type=\"text/css\">\n",
        "\n",
        "body { font-family: courier; font-size: 12; }\n",
        "\n",
        ".code  { font-size: 9; color: #444444; display: none; margin-left: 20px; }\n",
        ".py_c_api  { color: red; }\n",
        ".py_macro_api  { color: #FF7000; }\n",
        ".pyx_c_api  { color: #FF3000; }\n",
        ".pyx_macro_api  { color: #FF7000; }\n",
        ".refnanny  { color: #FFA000; }\n",
        "\n",
        ".error_goto  { color: #FFA000; }\n",
        "\n",
        ".tag  {  }\n",
        "\n",
        ".coerce  { color: #008000; border: 1px dotted #008000 }\n",
        "\n",
        ".py_attr { color: #FF0000; font-weight: bold; }\n",
        ".c_attr  { color: #0000FF; }\n",
        "\n",
        ".py_call { color: #FF0000; font-weight: bold; }\n",
        ".c_call  { color: #0000FF; }\n",
        "\n",
        ".line { margin: 0em }\n",
        "\n",
        "</style>\n",
        "<script>\n",
        "function toggleDiv(id) {\n",
        "    theDiv = document.getElementById(id);\n",
        "    if (theDiv.style.display != 'block') theDiv.style.display = 'block';\n",
        "    else theDiv.style.display = 'none';\n",
        "}\n",
        "</script>\n",
        "</head>\n",
        "        <body>\n",
        "<p>Generated by Cython 0.20.1 on Wed Jul  9 10:40:42 2014\n",
        "<pre class='line' style='background-color: #FFFF57' onclick='toggleDiv(\"line1\")'> 1: def fact(n):</pre>\n",
        "<pre id='line1' class='code' style='background-color: #FFFF57'>/* Python wrapper */\n",
        "static PyObject *__pyx_pw_46_cython_magic_6716994c1872c8138ac827171294c1a9_1fact(PyObject *__pyx_self, PyObject *__pyx_v_n); /*proto*/\n",
        "static PyMethodDef __pyx_mdef_46_cython_magic_6716994c1872c8138ac827171294c1a9_1fact = {<span class='pyx_macro_api'>__Pyx_NAMESTR</span>(\"fact\"), (PyCFunction)__pyx_pw_46_cython_magic_6716994c1872c8138ac827171294c1a9_1fact, METH_O, <span class='pyx_macro_api'>__Pyx_DOCSTR</span>(0)};\n",
        "static PyObject *__pyx_pw_46_cython_magic_6716994c1872c8138ac827171294c1a9_1fact(PyObject *__pyx_self, PyObject *__pyx_v_n) {\n",
        "  PyObject *__pyx_r = 0;\n",
        "  <span class='refnanny'>__Pyx_RefNannyDeclarations</span>\n",
        "  <span class='refnanny'>__Pyx_RefNannySetupContext</span>(\"fact (wrapper)\", 0);\n",
        "  __pyx_r = __pyx_pf_46_cython_magic_6716994c1872c8138ac827171294c1a9_fact(__pyx_self, ((PyObject *)__pyx_v_n));\n",
        "\n",
        "  /* function exit code */\n",
        "  <span class='refnanny'>__Pyx_RefNannyFinishContext</span>();\n",
        "  return __pyx_r;\n",
        "}\n",
        "\n",
        "static PyObject *__pyx_pf_46_cython_magic_6716994c1872c8138ac827171294c1a9_fact(CYTHON_UNUSED PyObject *__pyx_self, PyObject *__pyx_v_n) {\n",
        "  PyObject *__pyx_v_res = NULL;\n",
        "  PyObject *__pyx_v_i = NULL;\n",
        "  PyObject *__pyx_r = NULL;\n",
        "  <span class='refnanny'>__Pyx_RefNannyDeclarations</span>\n",
        "  <span class='refnanny'>__Pyx_RefNannySetupContext</span>(\"fact\", 0);\n",
        "/* \u2026 */\n",
        "  /* function exit code */\n",
        "  __pyx_L1_error:;\n",
        "  <span class='pyx_macro_api'>__Pyx_XDECREF</span>(__pyx_t_1);\n",
        "  <span class='pyx_macro_api'>__Pyx_XDECREF</span>(__pyx_t_2);\n",
        "  <span class='pyx_c_api'>__Pyx_AddTraceback</span>(\"_cython_magic_6716994c1872c8138ac827171294c1a9.fact\", __pyx_clineno, __pyx_lineno, __pyx_filename);\n",
        "  __pyx_r = NULL;\n",
        "  __pyx_L0:;\n",
        "  <span class='pyx_macro_api'>__Pyx_XDECREF</span>(__pyx_v_res);\n",
        "  <span class='pyx_macro_api'>__Pyx_XDECREF</span>(__pyx_v_i);\n",
        "  <span class='refnanny'>__Pyx_XGIVEREF</span>(__pyx_r);\n",
        "  <span class='refnanny'>__Pyx_RefNannyFinishContext</span>();\n",
        "  return __pyx_r;\n",
        "}\n",
        "/* \u2026 */\n",
        "  __pyx_tuple_ = <span class='py_c_api'>PyTuple_Pack</span>(3, __pyx_n_s_n, __pyx_n_s_res, __pyx_n_s_i);<span class='error_goto'> if (unlikely(!__pyx_tuple_)) {__pyx_filename = __pyx_f[0]; __pyx_lineno = 1; __pyx_clineno = __LINE__; goto __pyx_L1_error;}</span>\n",
        "  <span class='refnanny'>__Pyx_GOTREF</span>(__pyx_tuple_);\n",
        "  <span class='refnanny'>__Pyx_GIVEREF</span>(__pyx_tuple_);\n",
        "/* \u2026 */\n",
        "  __pyx_t_1 = PyCFunction_NewEx(&amp;__pyx_mdef_46_cython_magic_6716994c1872c8138ac827171294c1a9_1fact, NULL, __pyx_n_s_cython_magic_6716994c1872c8138a);<span class='error_goto'> if (unlikely(!__pyx_t_1)) {__pyx_filename = __pyx_f[0]; __pyx_lineno = 1; __pyx_clineno = __LINE__; goto __pyx_L1_error;}</span>\n",
        "  <span class='refnanny'>__Pyx_GOTREF</span>(__pyx_t_1);\n",
        "  if (<span class='py_c_api'>PyDict_SetItem</span>(__pyx_d, __pyx_n_s_fact, __pyx_t_1) &lt; 0) <span class='error_goto'>{__pyx_filename = __pyx_f[0]; __pyx_lineno = 1; __pyx_clineno = __LINE__; goto __pyx_L1_error;}</span>\n",
        "  <span class='pyx_macro_api'>__Pyx_DECREF</span>(__pyx_t_1); __pyx_t_1 = 0;\n",
        "</pre><pre class='line' style='background-color: #FFFFe7' onclick='toggleDiv(\"line2\")'> 2:   res = 1</pre>\n",
        "<pre id='line2' class='code' style='background-color: #FFFFe7'>  <span class='pyx_macro_api'>__Pyx_INCREF</span>(__pyx_int_1);\n",
        "  __pyx_v_res = __pyx_int_1;\n",
        "</pre><pre class='line' style='background-color: #FFFF21' onclick='toggleDiv(\"line3\")'> 3:   for i in xrange(1, n + 1):</pre>\n",
        "<pre id='line3' class='code' style='background-color: #FFFF21'>  __pyx_t_1 = <span class='py_c_api'>PyNumber_Add</span>(__pyx_v_n, __pyx_int_1);<span class='error_goto'> if (unlikely(!__pyx_t_1)) {__pyx_filename = __pyx_f[0]; __pyx_lineno = 3; __pyx_clineno = __LINE__; goto __pyx_L1_error;}</span>\n",
        "  <span class='refnanny'>__Pyx_GOTREF</span>(__pyx_t_1);\n",
        "  __pyx_t_2 = <span class='py_c_api'>PyTuple_New</span>(2);<span class='error_goto'> if (unlikely(!__pyx_t_2)) {__pyx_filename = __pyx_f[0]; __pyx_lineno = 3; __pyx_clineno = __LINE__; goto __pyx_L1_error;}</span>\n",
        "  <span class='refnanny'>__Pyx_GOTREF</span>(__pyx_t_2);\n",
        "  <span class='pyx_macro_api'>__Pyx_INCREF</span>(__pyx_int_1);\n",
        "  <span class='py_macro_api'>PyTuple_SET_ITEM</span>(__pyx_t_2, 0, __pyx_int_1);\n",
        "  <span class='refnanny'>__Pyx_GIVEREF</span>(__pyx_int_1);\n",
        "  <span class='py_macro_api'>PyTuple_SET_ITEM</span>(__pyx_t_2, 1, __pyx_t_1);\n",
        "  <span class='refnanny'>__Pyx_GIVEREF</span>(__pyx_t_1);\n",
        "  __pyx_t_1 = 0;\n",
        "  __pyx_t_1 = <span class='pyx_c_api'>__Pyx_PyObject_Call</span>(__pyx_builtin_xrange, __pyx_t_2, NULL);<span class='error_goto'> if (unlikely(!__pyx_t_1)) {__pyx_filename = __pyx_f[0]; __pyx_lineno = 3; __pyx_clineno = __LINE__; goto __pyx_L1_error;}</span>\n",
        "  <span class='refnanny'>__Pyx_GOTREF</span>(__pyx_t_1);\n",
        "  <span class='pyx_macro_api'>__Pyx_DECREF</span>(__pyx_t_2); __pyx_t_2 = 0;\n",
        "  if (<span class='py_c_api'>PyList_CheckExact</span>(__pyx_t_1) || <span class='py_c_api'>PyTuple_CheckExact</span>(__pyx_t_1)) {\n",
        "    __pyx_t_2 = __pyx_t_1; <span class='pyx_macro_api'>__Pyx_INCREF</span>(__pyx_t_2); __pyx_t_3 = 0;\n",
        "    __pyx_t_4 = NULL;\n",
        "  } else {\n",
        "    __pyx_t_3 = -1; __pyx_t_2 = <span class='py_c_api'>PyObject_GetIter</span>(__pyx_t_1);<span class='error_goto'> if (unlikely(!__pyx_t_2)) {__pyx_filename = __pyx_f[0]; __pyx_lineno = 3; __pyx_clineno = __LINE__; goto __pyx_L1_error;}</span>\n",
        "    <span class='refnanny'>__Pyx_GOTREF</span>(__pyx_t_2);\n",
        "    __pyx_t_4 = Py_TYPE(__pyx_t_2)-&gt;tp_iternext;\n",
        "  }\n",
        "  <span class='pyx_macro_api'>__Pyx_DECREF</span>(__pyx_t_1); __pyx_t_1 = 0;\n",
        "  for (;;) {\n",
        "    if (!__pyx_t_4 &amp;&amp; <span class='py_c_api'>PyList_CheckExact</span>(__pyx_t_2)) {\n",
        "      if (__pyx_t_3 &gt;= <span class='py_macro_api'>PyList_GET_SIZE</span>(__pyx_t_2)) break;\n",
        "      #if CYTHON_COMPILING_IN_CPYTHON\n",
        "      __pyx_t_1 = <span class='py_macro_api'>PyList_GET_ITEM</span>(__pyx_t_2, __pyx_t_3); <span class='pyx_macro_api'>__Pyx_INCREF</span>(__pyx_t_1); __pyx_t_3++;<span class='error_goto'> if (unlikely(0 &lt; 0)) {__pyx_filename = __pyx_f[0]; __pyx_lineno = 3; __pyx_clineno = __LINE__; goto __pyx_L1_error;}</span>\n",
        "      #else\n",
        "      __pyx_t_1 = <span class='py_macro_api'>PySequence_ITEM</span>(__pyx_t_2, __pyx_t_3); __pyx_t_3++;<span class='error_goto'> if (unlikely(!__pyx_t_1)) {__pyx_filename = __pyx_f[0]; __pyx_lineno = 3; __pyx_clineno = __LINE__; goto __pyx_L1_error;}</span>\n",
        "      #endif\n",
        "    } else if (!__pyx_t_4 &amp;&amp; <span class='py_c_api'>PyTuple_CheckExact</span>(__pyx_t_2)) {\n",
        "      if (__pyx_t_3 &gt;= <span class='py_macro_api'>PyTuple_GET_SIZE</span>(__pyx_t_2)) break;\n",
        "      #if CYTHON_COMPILING_IN_CPYTHON\n",
        "      __pyx_t_1 = <span class='py_macro_api'>PyTuple_GET_ITEM</span>(__pyx_t_2, __pyx_t_3); <span class='pyx_macro_api'>__Pyx_INCREF</span>(__pyx_t_1); __pyx_t_3++;<span class='error_goto'> if (unlikely(0 &lt; 0)) {__pyx_filename = __pyx_f[0]; __pyx_lineno = 3; __pyx_clineno = __LINE__; goto __pyx_L1_error;}</span>\n",
        "      #else\n",
        "      __pyx_t_1 = <span class='py_macro_api'>PySequence_ITEM</span>(__pyx_t_2, __pyx_t_3); __pyx_t_3++;<span class='error_goto'> if (unlikely(!__pyx_t_1)) {__pyx_filename = __pyx_f[0]; __pyx_lineno = 3; __pyx_clineno = __LINE__; goto __pyx_L1_error;}</span>\n",
        "      #endif\n",
        "    } else {\n",
        "      __pyx_t_1 = __pyx_t_4(__pyx_t_2);\n",
        "      if (unlikely(!__pyx_t_1)) {\n",
        "        PyObject* exc_type = <span class='py_c_api'>PyErr_Occurred</span>();\n",
        "        if (exc_type) {\n",
        "          if (likely(exc_type == PyExc_StopIteration || <span class='py_c_api'>PyErr_GivenExceptionMatches</span>(exc_type, PyExc_StopIteration))) <span class='py_c_api'>PyErr_Clear</span>();\n",
        "          else <span class='error_goto'>{__pyx_filename = __pyx_f[0]; __pyx_lineno = 3; __pyx_clineno = __LINE__; goto __pyx_L1_error;}</span>\n",
        "        }\n",
        "        break;\n",
        "      }\n",
        "      <span class='refnanny'>__Pyx_GOTREF</span>(__pyx_t_1);\n",
        "    }\n",
        "    <span class='pyx_macro_api'>__Pyx_XDECREF_SET</span>(__pyx_v_i, __pyx_t_1);\n",
        "    __pyx_t_1 = 0;\n",
        "</pre><pre class='line' style='background-color: #FFFF96' onclick='toggleDiv(\"line4\")'> 4:     res *= i</pre>\n",
        "<pre id='line4' class='code' style='background-color: #FFFF96'>    __pyx_t_1 = <span class='py_c_api'>PyNumber_InPlaceMultiply</span>(__pyx_v_res, __pyx_v_i);<span class='error_goto'> if (unlikely(!__pyx_t_1)) {__pyx_filename = __pyx_f[0]; __pyx_lineno = 4; __pyx_clineno = __LINE__; goto __pyx_L1_error;}</span>\n",
        "    <span class='refnanny'>__Pyx_GOTREF</span>(__pyx_t_1);\n",
        "    <span class='pyx_macro_api'>__Pyx_DECREF_SET</span>(__pyx_v_res, __pyx_t_1);\n",
        "    __pyx_t_1 = 0;\n",
        "  }\n",
        "  <span class='pyx_macro_api'>__Pyx_DECREF</span>(__pyx_t_2); __pyx_t_2 = 0;\n",
        "</pre><pre class='line' style='background-color: #FFFFd4' onclick='toggleDiv(\"line5\")'> 5:   return res</pre>\n",
        "<pre id='line5' class='code' style='background-color: #FFFFd4'>  <span class='pyx_macro_api'>__Pyx_XDECREF</span>(__pyx_r);\n",
        "  <span class='pyx_macro_api'>__Pyx_INCREF</span>(__pyx_v_res);\n",
        "  __pyx_r = __pyx_v_res;\n",
        "  goto __pyx_L0;\n",
        "</pre><pre class='line' style='background-color: #FFFFff' onclick='toggleDiv(\"line6\")'> 6: </pre>\n",
        "<pre id='line6' class='code' style='background-color: #FFFFff'></pre><pre class='line' style='background-color: #FFFFff' onclick='toggleDiv(\"line7\")'> 7: cdef long factc(int n):</pre>\n",
        "<pre id='line7' class='code' style='background-color: #FFFFff'>static long __pyx_f_46_cython_magic_6716994c1872c8138ac827171294c1a9_factc(int __pyx_v_n) {\n",
        "  long __pyx_v_res;\n",
        "  int __pyx_v_i;\n",
        "  long __pyx_r;\n",
        "  <span class='refnanny'>__Pyx_RefNannyDeclarations</span>\n",
        "  <span class='refnanny'>__Pyx_RefNannySetupContext</span>(\"factc\", 0);\n",
        "/* \u2026 */\n",
        "  /* function exit code */\n",
        "  __pyx_L0:;\n",
        "  <span class='refnanny'>__Pyx_RefNannyFinishContext</span>();\n",
        "  return __pyx_r;\n",
        "}\n",
        "</pre><pre class='line' style='background-color: #FFFFff' onclick='toggleDiv(\"line8\")'> 8:   cdef:</pre>\n",
        "<pre id='line8' class='code' style='background-color: #FFFFff'></pre><pre class='line' style='background-color: #FFFFff' onclick='toggleDiv(\"line9\")'> 9:     long res = 1</pre>\n",
        "<pre id='line9' class='code' style='background-color: #FFFFff'>  __pyx_v_res = 1;\n",
        "</pre><pre class='line' style='background-color: #FFFFff' onclick='toggleDiv(\"line10\")'> 10:     int i</pre>\n",
        "<pre id='line10' class='code' style='background-color: #FFFFff'></pre><pre class='line' style='background-color: #FFFFff' onclick='toggleDiv(\"line11\")'> 11:   for i in xrange(1, n + 1):</pre>\n",
        "<pre id='line11' class='code' style='background-color: #FFFFff'>  __pyx_t_1 = (__pyx_v_n + 1);\n",
        "  for (__pyx_t_2 = 1; __pyx_t_2 &lt; __pyx_t_1; __pyx_t_2+=1) {\n",
        "    __pyx_v_i = __pyx_t_2;\n",
        "</pre><pre class='line' style='background-color: #FFFFff' onclick='toggleDiv(\"line12\")'> 12:     res *= i</pre>\n",
        "<pre id='line12' class='code' style='background-color: #FFFFff'>    __pyx_v_res = (__pyx_v_res * __pyx_v_i);\n",
        "  }\n",
        "</pre><pre class='line' style='background-color: #FFFFff' onclick='toggleDiv(\"line13\")'> 13:   return res</pre>\n",
        "<pre id='line13' class='code' style='background-color: #FFFFff'>  __pyx_r = __pyx_v_res;\n",
        "  goto __pyx_L0;\n",
        "</pre><pre class='line' style='background-color: #FFFFff' onclick='toggleDiv(\"line14\")'> 14: </pre>\n",
        "<pre id='line14' class='code' style='background-color: #FFFFff'></pre><pre class='line' style='background-color: #FFFF7f' onclick='toggleDiv(\"line15\")'> 15: cpdef long factcp(int n):</pre>\n",
        "<pre id='line15' class='code' style='background-color: #FFFF7f'>static PyObject *__pyx_pw_46_cython_magic_6716994c1872c8138ac827171294c1a9_3factcp(PyObject *__pyx_self, PyObject *__pyx_arg_n); /*proto*/\n",
        "static long __pyx_f_46_cython_magic_6716994c1872c8138ac827171294c1a9_factcp(int __pyx_v_n, CYTHON_UNUSED int __pyx_skip_dispatch) {\n",
        "  long __pyx_v_res;\n",
        "  int __pyx_v_i;\n",
        "  long __pyx_r;\n",
        "  <span class='refnanny'>__Pyx_RefNannyDeclarations</span>\n",
        "  <span class='refnanny'>__Pyx_RefNannySetupContext</span>(\"factcp\", 0);\n",
        "/* \u2026 */\n",
        "  /* function exit code */\n",
        "  __pyx_L0:;\n",
        "  <span class='refnanny'>__Pyx_RefNannyFinishContext</span>();\n",
        "  return __pyx_r;\n",
        "}\n",
        "\n",
        "/* Python wrapper */\n",
        "static PyObject *__pyx_pw_46_cython_magic_6716994c1872c8138ac827171294c1a9_3factcp(PyObject *__pyx_self, PyObject *__pyx_arg_n); /*proto*/\n",
        "static PyObject *__pyx_pw_46_cython_magic_6716994c1872c8138ac827171294c1a9_3factcp(PyObject *__pyx_self, PyObject *__pyx_arg_n) {\n",
        "  int __pyx_v_n;\n",
        "  PyObject *__pyx_r = 0;\n",
        "  <span class='refnanny'>__Pyx_RefNannyDeclarations</span>\n",
        "  <span class='refnanny'>__Pyx_RefNannySetupContext</span>(\"factcp (wrapper)\", 0);\n",
        "  assert(__pyx_arg_n); {\n",
        "    __pyx_v_n = <span class='pyx_c_api'>__Pyx_PyInt_As_int</span>(__pyx_arg_n);<span class='error_goto'> if (unlikely((__pyx_v_n == (int)-1) &amp;&amp; PyErr_Occurred())) {__pyx_filename = __pyx_f[0]; __pyx_lineno = 15; __pyx_clineno = __LINE__; goto __pyx_L3_error;}</span>\n",
        "  }\n",
        "  goto __pyx_L4_argument_unpacking_done;\n",
        "  __pyx_L3_error:;\n",
        "  <span class='pyx_c_api'>__Pyx_AddTraceback</span>(\"_cython_magic_6716994c1872c8138ac827171294c1a9.factcp\", __pyx_clineno, __pyx_lineno, __pyx_filename);\n",
        "  <span class='refnanny'>__Pyx_RefNannyFinishContext</span>();\n",
        "  return NULL;\n",
        "  __pyx_L4_argument_unpacking_done:;\n",
        "  __pyx_r = __pyx_pf_46_cython_magic_6716994c1872c8138ac827171294c1a9_2factcp(__pyx_self, ((int)__pyx_v_n));\n",
        "  int __pyx_lineno = 0;\n",
        "  const char *__pyx_filename = NULL;\n",
        "  int __pyx_clineno = 0;\n",
        "\n",
        "  /* function exit code */\n",
        "  <span class='refnanny'>__Pyx_RefNannyFinishContext</span>();\n",
        "  return __pyx_r;\n",
        "}\n",
        "\n",
        "static PyObject *__pyx_pf_46_cython_magic_6716994c1872c8138ac827171294c1a9_2factcp(CYTHON_UNUSED PyObject *__pyx_self, int __pyx_v_n) {\n",
        "  PyObject *__pyx_r = NULL;\n",
        "  <span class='refnanny'>__Pyx_RefNannyDeclarations</span>\n",
        "  <span class='refnanny'>__Pyx_RefNannySetupContext</span>(\"factcp\", 0);\n",
        "  <span class='pyx_macro_api'>__Pyx_XDECREF</span>(__pyx_r);\n",
        "  __pyx_t_1 = <span class='pyx_c_api'>__Pyx_PyInt_From_long</span>(__pyx_f_46_cython_magic_6716994c1872c8138ac827171294c1a9_factcp(__pyx_v_n, 0));<span class='error_goto'> if (unlikely(!__pyx_t_1)) {__pyx_filename = __pyx_f[0]; __pyx_lineno = 15; __pyx_clineno = __LINE__; goto __pyx_L1_error;}</span>\n",
        "  <span class='refnanny'>__Pyx_GOTREF</span>(__pyx_t_1);\n",
        "  __pyx_r = __pyx_t_1;\n",
        "  __pyx_t_1 = 0;\n",
        "  goto __pyx_L0;\n",
        "\n",
        "  /* function exit code */\n",
        "  __pyx_L1_error:;\n",
        "  <span class='pyx_macro_api'>__Pyx_XDECREF</span>(__pyx_t_1);\n",
        "  <span class='pyx_c_api'>__Pyx_AddTraceback</span>(\"_cython_magic_6716994c1872c8138ac827171294c1a9.factcp\", __pyx_clineno, __pyx_lineno, __pyx_filename);\n",
        "  __pyx_r = NULL;\n",
        "  __pyx_L0:;\n",
        "  <span class='refnanny'>__Pyx_XGIVEREF</span>(__pyx_r);\n",
        "  <span class='refnanny'>__Pyx_RefNannyFinishContext</span>();\n",
        "  return __pyx_r;\n",
        "}\n",
        "</pre><pre class='line' style='background-color: #FFFFff' onclick='toggleDiv(\"line16\")'> 16:   cdef long res = 1</pre>\n",
        "<pre id='line16' class='code' style='background-color: #FFFFff'>  __pyx_v_res = 1;\n",
        "</pre><pre class='line' style='background-color: #FFFFff' onclick='toggleDiv(\"line17\")'> 17:   cdef int i</pre>\n",
        "<pre id='line17' class='code' style='background-color: #FFFFff'></pre><pre class='line' style='background-color: #FFFFff' onclick='toggleDiv(\"line18\")'> 18:   for i in xrange(1, n + 1):</pre>\n",
        "<pre id='line18' class='code' style='background-color: #FFFFff'>  __pyx_t_1 = (__pyx_v_n + 1);\n",
        "  for (__pyx_t_2 = 1; __pyx_t_2 &lt; __pyx_t_1; __pyx_t_2+=1) {\n",
        "    __pyx_v_i = __pyx_t_2;\n",
        "</pre><pre class='line' style='background-color: #FFFFff' onclick='toggleDiv(\"line19\")'> 19:     res *= i</pre>\n",
        "<pre id='line19' class='code' style='background-color: #FFFFff'>    __pyx_v_res = (__pyx_v_res * __pyx_v_i);\n",
        "  }\n",
        "</pre><pre class='line' style='background-color: #FFFFff' onclick='toggleDiv(\"line20\")'> 20:   return res</pre>\n",
        "<pre id='line20' class='code' style='background-color: #FFFFff'>  __pyx_r = __pyx_v_res;\n",
        "  goto __pyx_L0;\n",
        "</pre></body></html>"
       ],
       "metadata": {},
       "output_type": "pyout",
       "prompt_number": 4,
       "text": [
        "<IPython.core.display.HTML at 0x7f8214cebe90>"
       ]
      }
     ],
     "prompt_number": 4
    },
    {
     "cell_type": "code",
     "collapsed": false,
     "input": [
      "print fact(10)"
     ],
     "language": "python",
     "metadata": {
      "slideshow": {
       "slide_type": "subslide"
      }
     },
     "outputs": [
      {
       "output_type": "stream",
       "stream": "stdout",
       "text": [
        "3628800\n"
       ]
      }
     ],
     "prompt_number": 32
    },
    {
     "cell_type": "code",
     "collapsed": false,
     "input": [
      "print factcp(10)"
     ],
     "language": "python",
     "metadata": {},
     "outputs": [
      {
       "output_type": "stream",
       "stream": "stdout",
       "text": [
        "3628800\n"
       ]
      }
     ],
     "prompt_number": 33
    },
    {
     "cell_type": "code",
     "collapsed": false,
     "input": [
      "print factc(10)"
     ],
     "language": "python",
     "metadata": {},
     "outputs": [
      {
       "ename": "NameError",
       "evalue": "name 'factc' is not defined",
       "output_type": "pyerr",
       "traceback": [
        "\u001b[1;31m---------------------------------------------------------------------------\u001b[0m\n\u001b[1;31mNameError\u001b[0m                                 Traceback (most recent call last)",
        "\u001b[1;32m<ipython-input-34-6ae4ba14e8d7>\u001b[0m in \u001b[0;36m<module>\u001b[1;34m()\u001b[0m\n\u001b[1;32m----> 1\u001b[1;33m \u001b[1;32mprint\u001b[0m \u001b[0mfactc\u001b[0m\u001b[1;33m(\u001b[0m\u001b[1;36m10\u001b[0m\u001b[1;33m)\u001b[0m\u001b[1;33m\u001b[0m\u001b[0m\n\u001b[0m",
        "\u001b[1;31mNameError\u001b[0m: name 'factc' is not defined"
       ]
      }
     ],
     "prompt_number": 34
    },
    {
     "cell_type": "markdown",
     "metadata": {
      "slideshow": {
       "slide_type": "subslide"
      }
     },
     "source": [
      "Revenons \u00e0 pr\u00e9sent \u00e0 notre exemple jouet. Nous allons montrer pas \u00e0 pas la d\u00e9marche pour optimiser un code avec Cython."
     ]
    },
    {
     "cell_type": "markdown",
     "metadata": {
      "slideshow": {
       "slide_type": "subslide"
      }
     },
     "source": [
      "### Phase 1\n",
      "\n",
      "On r\u00e9alise un copier-coller du code Python dans un fichier Cython."
     ]
    },
    {
     "cell_type": "code",
     "collapsed": false,
     "input": [
      "%%cython -a\n",
      "def f1(x):\n",
      "    return 4./(1 + x**2)\n",
      "\n",
      "def calculPiCython1(n):\n",
      "    h, pi = 1./n, 0.\n",
      "    for i in xrange(n):\n",
      "        pi += f1(h*(i+.5))\n",
      "    return h*pi"
     ],
     "language": "python",
     "metadata": {},
     "outputs": [
      {
       "html": [
        "<!DOCTYPE html>\n",
        "<!-- Generated by Cython 0.20.1 on Wed Jul  9 10:40:42 2014 -->\n",
        "<html>\n",
        "\n",
        "<head>\n",
        "<meta http-equiv=\"Content-Type\" content=\"text/html; charset=utf-8\" />\n",
        "<style type=\"text/css\">\n",
        "\n",
        "body { font-family: courier; font-size: 12; }\n",
        "\n",
        ".code  { font-size: 9; color: #444444; display: none; margin-left: 20px; }\n",
        ".py_c_api  { color: red; }\n",
        ".py_macro_api  { color: #FF7000; }\n",
        ".pyx_c_api  { color: #FF3000; }\n",
        ".pyx_macro_api  { color: #FF7000; }\n",
        ".refnanny  { color: #FFA000; }\n",
        "\n",
        ".error_goto  { color: #FFA000; }\n",
        "\n",
        ".tag  {  }\n",
        "\n",
        ".coerce  { color: #008000; border: 1px dotted #008000 }\n",
        "\n",
        ".py_attr { color: #FF0000; font-weight: bold; }\n",
        ".c_attr  { color: #0000FF; }\n",
        "\n",
        ".py_call { color: #FF0000; font-weight: bold; }\n",
        ".c_call  { color: #0000FF; }\n",
        "\n",
        ".line { margin: 0em }\n",
        "\n",
        "</style>\n",
        "<script>\n",
        "function toggleDiv(id) {\n",
        "    theDiv = document.getElementById(id);\n",
        "    if (theDiv.style.display != 'block') theDiv.style.display = 'block';\n",
        "    else theDiv.style.display = 'none';\n",
        "}\n",
        "</script>\n",
        "</head>\n",
        "        <body>\n",
        "<p>Generated by Cython 0.20.1 on Wed Jul  9 10:40:42 2014\n",
        "<pre class='line' style='background-color: #FFFF57' onclick='toggleDiv(\"line1\")'> 1: def f1(x):</pre>\n",
        "<pre id='line1' class='code' style='background-color: #FFFF57'>/* Python wrapper */\n",
        "static PyObject *__pyx_pw_46_cython_magic_0bc59963efae9a75ff77381f68a87790_1f1(PyObject *__pyx_self, PyObject *__pyx_v_x); /*proto*/\n",
        "static PyMethodDef __pyx_mdef_46_cython_magic_0bc59963efae9a75ff77381f68a87790_1f1 = {<span class='pyx_macro_api'>__Pyx_NAMESTR</span>(\"f1\"), (PyCFunction)__pyx_pw_46_cython_magic_0bc59963efae9a75ff77381f68a87790_1f1, METH_O, <span class='pyx_macro_api'>__Pyx_DOCSTR</span>(0)};\n",
        "static PyObject *__pyx_pw_46_cython_magic_0bc59963efae9a75ff77381f68a87790_1f1(PyObject *__pyx_self, PyObject *__pyx_v_x) {\n",
        "  PyObject *__pyx_r = 0;\n",
        "  <span class='refnanny'>__Pyx_RefNannyDeclarations</span>\n",
        "  <span class='refnanny'>__Pyx_RefNannySetupContext</span>(\"f1 (wrapper)\", 0);\n",
        "  __pyx_r = __pyx_pf_46_cython_magic_0bc59963efae9a75ff77381f68a87790_f1(__pyx_self, ((PyObject *)__pyx_v_x));\n",
        "\n",
        "  /* function exit code */\n",
        "  <span class='refnanny'>__Pyx_RefNannyFinishContext</span>();\n",
        "  return __pyx_r;\n",
        "}\n",
        "\n",
        "static PyObject *__pyx_pf_46_cython_magic_0bc59963efae9a75ff77381f68a87790_f1(CYTHON_UNUSED PyObject *__pyx_self, PyObject *__pyx_v_x) {\n",
        "  PyObject *__pyx_r = NULL;\n",
        "  <span class='refnanny'>__Pyx_RefNannyDeclarations</span>\n",
        "  <span class='refnanny'>__Pyx_RefNannySetupContext</span>(\"f1\", 0);\n",
        "/* \u2026 */\n",
        "  /* function exit code */\n",
        "  __pyx_L1_error:;\n",
        "  <span class='pyx_macro_api'>__Pyx_XDECREF</span>(__pyx_t_1);\n",
        "  <span class='pyx_macro_api'>__Pyx_XDECREF</span>(__pyx_t_2);\n",
        "  <span class='pyx_c_api'>__Pyx_AddTraceback</span>(\"_cython_magic_0bc59963efae9a75ff77381f68a87790.f1\", __pyx_clineno, __pyx_lineno, __pyx_filename);\n",
        "  __pyx_r = NULL;\n",
        "  __pyx_L0:;\n",
        "  <span class='refnanny'>__Pyx_XGIVEREF</span>(__pyx_r);\n",
        "  <span class='refnanny'>__Pyx_RefNannyFinishContext</span>();\n",
        "  return __pyx_r;\n",
        "}\n",
        "/* \u2026 */\n",
        "  __pyx_tuple_ = <span class='py_c_api'>PyTuple_Pack</span>(1, __pyx_n_s_x);<span class='error_goto'> if (unlikely(!__pyx_tuple_)) {__pyx_filename = __pyx_f[0]; __pyx_lineno = 1; __pyx_clineno = __LINE__; goto __pyx_L1_error;}</span>\n",
        "  <span class='refnanny'>__Pyx_GOTREF</span>(__pyx_tuple_);\n",
        "  <span class='refnanny'>__Pyx_GIVEREF</span>(__pyx_tuple_);\n",
        "/* \u2026 */\n",
        "  __pyx_t_1 = PyCFunction_NewEx(&amp;__pyx_mdef_46_cython_magic_0bc59963efae9a75ff77381f68a87790_1f1, NULL, __pyx_n_s_cython_magic_0bc59963efae9a75ff);<span class='error_goto'> if (unlikely(!__pyx_t_1)) {__pyx_filename = __pyx_f[0]; __pyx_lineno = 1; __pyx_clineno = __LINE__; goto __pyx_L1_error;}</span>\n",
        "  <span class='refnanny'>__Pyx_GOTREF</span>(__pyx_t_1);\n",
        "  if (<span class='py_c_api'>PyDict_SetItem</span>(__pyx_d, __pyx_n_s_f1, __pyx_t_1) &lt; 0) <span class='error_goto'>{__pyx_filename = __pyx_f[0]; __pyx_lineno = 1; __pyx_clineno = __LINE__; goto __pyx_L1_error;}</span>\n",
        "  <span class='pyx_macro_api'>__Pyx_DECREF</span>(__pyx_t_1); __pyx_t_1 = 0;\n",
        "  __pyx_codeobj__2 = (PyObject*)<span class='pyx_c_api'>__Pyx_PyCode_New</span>(1, 0, 1, 0, 0, __pyx_empty_bytes, __pyx_empty_tuple, __pyx_empty_tuple, __pyx_tuple_, __pyx_empty_tuple, __pyx_empty_tuple, __pyx_kp_s_home_gouarin_cache_ipython_cyth, __pyx_n_s_f1, 1, __pyx_empty_bytes);<span class='error_goto'> if (unlikely(!__pyx_codeobj__2)) {__pyx_filename = __pyx_f[0]; __pyx_lineno = 1; __pyx_clineno = __LINE__; goto __pyx_L1_error;}</span>\n",
        "</pre><pre class='line' style='background-color: #FFFF66' onclick='toggleDiv(\"line2\")'> 2:     return 4./(1 + x**2)</pre>\n",
        "<pre id='line2' class='code' style='background-color: #FFFF66'>  <span class='pyx_macro_api'>__Pyx_XDECREF</span>(__pyx_r);\n",
        "  __pyx_t_1 = <span class='py_c_api'>PyNumber_Power</span>(__pyx_v_x, __pyx_int_2, Py_None);<span class='error_goto'> if (unlikely(!__pyx_t_1)) {__pyx_filename = __pyx_f[0]; __pyx_lineno = 2; __pyx_clineno = __LINE__; goto __pyx_L1_error;}</span>\n",
        "  <span class='refnanny'>__Pyx_GOTREF</span>(__pyx_t_1);\n",
        "  __pyx_t_2 = <span class='py_c_api'>PyNumber_Add</span>(__pyx_int_1, __pyx_t_1);<span class='error_goto'> if (unlikely(!__pyx_t_2)) {__pyx_filename = __pyx_f[0]; __pyx_lineno = 2; __pyx_clineno = __LINE__; goto __pyx_L1_error;}</span>\n",
        "  <span class='refnanny'>__Pyx_GOTREF</span>(__pyx_t_2);\n",
        "  <span class='pyx_macro_api'>__Pyx_DECREF</span>(__pyx_t_1); __pyx_t_1 = 0;\n",
        "  __pyx_t_1 = <span class='pyx_c_api'>__Pyx_PyNumber_Divide</span>(__pyx_float_4_, __pyx_t_2);<span class='error_goto'> if (unlikely(!__pyx_t_1)) {__pyx_filename = __pyx_f[0]; __pyx_lineno = 2; __pyx_clineno = __LINE__; goto __pyx_L1_error;}</span>\n",
        "  <span class='refnanny'>__Pyx_GOTREF</span>(__pyx_t_1);\n",
        "  <span class='pyx_macro_api'>__Pyx_DECREF</span>(__pyx_t_2); __pyx_t_2 = 0;\n",
        "  __pyx_r = __pyx_t_1;\n",
        "  __pyx_t_1 = 0;\n",
        "  goto __pyx_L0;\n",
        "</pre><pre class='line' style='background-color: #FFFFff' onclick='toggleDiv(\"line3\")'> 3: </pre>\n",
        "<pre id='line3' class='code' style='background-color: #FFFFff'></pre><pre class='line' style='background-color: #FFFF4f' onclick='toggleDiv(\"line4\")'> 4: def calculPiCython1(n):</pre>\n",
        "<pre id='line4' class='code' style='background-color: #FFFF4f'>/* Python wrapper */\n",
        "static PyObject *__pyx_pw_46_cython_magic_0bc59963efae9a75ff77381f68a87790_3calculPiCython1(PyObject *__pyx_self, PyObject *__pyx_v_n); /*proto*/\n",
        "static PyMethodDef __pyx_mdef_46_cython_magic_0bc59963efae9a75ff77381f68a87790_3calculPiCython1 = {<span class='pyx_macro_api'>__Pyx_NAMESTR</span>(\"calculPiCython1\"), (PyCFunction)__pyx_pw_46_cython_magic_0bc59963efae9a75ff77381f68a87790_3calculPiCython1, METH_O, <span class='pyx_macro_api'>__Pyx_DOCSTR</span>(0)};\n",
        "static PyObject *__pyx_pw_46_cython_magic_0bc59963efae9a75ff77381f68a87790_3calculPiCython1(PyObject *__pyx_self, PyObject *__pyx_v_n) {\n",
        "  PyObject *__pyx_r = 0;\n",
        "  <span class='refnanny'>__Pyx_RefNannyDeclarations</span>\n",
        "  <span class='refnanny'>__Pyx_RefNannySetupContext</span>(\"calculPiCython1 (wrapper)\", 0);\n",
        "  __pyx_r = __pyx_pf_46_cython_magic_0bc59963efae9a75ff77381f68a87790_2calculPiCython1(__pyx_self, ((PyObject *)__pyx_v_n));\n",
        "\n",
        "  /* function exit code */\n",
        "  <span class='refnanny'>__Pyx_RefNannyFinishContext</span>();\n",
        "  return __pyx_r;\n",
        "}\n",
        "\n",
        "static PyObject *__pyx_pf_46_cython_magic_0bc59963efae9a75ff77381f68a87790_2calculPiCython1(CYTHON_UNUSED PyObject *__pyx_self, PyObject *__pyx_v_n) {\n",
        "  PyObject *__pyx_v_h = NULL;\n",
        "  PyObject *__pyx_v_pi = NULL;\n",
        "  PyObject *__pyx_v_i = NULL;\n",
        "  PyObject *__pyx_r = NULL;\n",
        "  <span class='refnanny'>__Pyx_RefNannyDeclarations</span>\n",
        "  <span class='refnanny'>__Pyx_RefNannySetupContext</span>(\"calculPiCython1\", 0);\n",
        "/* \u2026 */\n",
        "  /* function exit code */\n",
        "  __pyx_L1_error:;\n",
        "  <span class='pyx_macro_api'>__Pyx_XDECREF</span>(__pyx_t_1);\n",
        "  <span class='pyx_macro_api'>__Pyx_XDECREF</span>(__pyx_t_2);\n",
        "  <span class='pyx_macro_api'>__Pyx_XDECREF</span>(__pyx_t_5);\n",
        "  <span class='pyx_macro_api'>__Pyx_XDECREF</span>(__pyx_t_6);\n",
        "  <span class='pyx_c_api'>__Pyx_AddTraceback</span>(\"_cython_magic_0bc59963efae9a75ff77381f68a87790.calculPiCython1\", __pyx_clineno, __pyx_lineno, __pyx_filename);\n",
        "  __pyx_r = NULL;\n",
        "  __pyx_L0:;\n",
        "  <span class='pyx_macro_api'>__Pyx_XDECREF</span>(__pyx_v_h);\n",
        "  <span class='pyx_macro_api'>__Pyx_XDECREF</span>(__pyx_v_pi);\n",
        "  <span class='pyx_macro_api'>__Pyx_XDECREF</span>(__pyx_v_i);\n",
        "  <span class='refnanny'>__Pyx_XGIVEREF</span>(__pyx_r);\n",
        "  <span class='refnanny'>__Pyx_RefNannyFinishContext</span>();\n",
        "  return __pyx_r;\n",
        "}\n",
        "/* \u2026 */\n",
        "  __pyx_tuple__3 = <span class='py_c_api'>PyTuple_Pack</span>(4, __pyx_n_s_n, __pyx_n_s_h, __pyx_n_s_pi, __pyx_n_s_i);<span class='error_goto'> if (unlikely(!__pyx_tuple__3)) {__pyx_filename = __pyx_f[0]; __pyx_lineno = 4; __pyx_clineno = __LINE__; goto __pyx_L1_error;}</span>\n",
        "  <span class='refnanny'>__Pyx_GOTREF</span>(__pyx_tuple__3);\n",
        "  <span class='refnanny'>__Pyx_GIVEREF</span>(__pyx_tuple__3);\n",
        "/* \u2026 */\n",
        "  __pyx_t_1 = PyCFunction_NewEx(&amp;__pyx_mdef_46_cython_magic_0bc59963efae9a75ff77381f68a87790_3calculPiCython1, NULL, __pyx_n_s_cython_magic_0bc59963efae9a75ff);<span class='error_goto'> if (unlikely(!__pyx_t_1)) {__pyx_filename = __pyx_f[0]; __pyx_lineno = 4; __pyx_clineno = __LINE__; goto __pyx_L1_error;}</span>\n",
        "  <span class='refnanny'>__Pyx_GOTREF</span>(__pyx_t_1);\n",
        "  if (<span class='py_c_api'>PyDict_SetItem</span>(__pyx_d, __pyx_n_s_calculPiCython1, __pyx_t_1) &lt; 0) <span class='error_goto'>{__pyx_filename = __pyx_f[0]; __pyx_lineno = 4; __pyx_clineno = __LINE__; goto __pyx_L1_error;}</span>\n",
        "  <span class='pyx_macro_api'>__Pyx_DECREF</span>(__pyx_t_1); __pyx_t_1 = 0;\n",
        "</pre><pre class='line' style='background-color: #FFFFc4' onclick='toggleDiv(\"line5\")'> 5:     h, pi = 1./n, 0.</pre>\n",
        "<pre id='line5' class='code' style='background-color: #FFFFc4'>  __pyx_t_1 = <span class='pyx_c_api'>__Pyx_PyNumber_Divide</span>(__pyx_float_1_, __pyx_v_n);<span class='error_goto'> if (unlikely(!__pyx_t_1)) {__pyx_filename = __pyx_f[0]; __pyx_lineno = 5; __pyx_clineno = __LINE__; goto __pyx_L1_error;}</span>\n",
        "  <span class='refnanny'>__Pyx_GOTREF</span>(__pyx_t_1);\n",
        "  __pyx_t_2 = __pyx_float_0_;\n",
        "  <span class='pyx_macro_api'>__Pyx_INCREF</span>(__pyx_t_2);\n",
        "  __pyx_v_h = __pyx_t_1;\n",
        "  __pyx_t_1 = 0;\n",
        "  __pyx_v_pi = __pyx_t_2;\n",
        "  __pyx_t_2 = 0;\n",
        "</pre><pre class='line' style='background-color: #FFFF23' onclick='toggleDiv(\"line6\")'> 6:     for i in xrange(n):</pre>\n",
        "<pre id='line6' class='code' style='background-color: #FFFF23'>  __pyx_t_2 = <span class='py_c_api'>PyTuple_New</span>(1);<span class='error_goto'> if (unlikely(!__pyx_t_2)) {__pyx_filename = __pyx_f[0]; __pyx_lineno = 6; __pyx_clineno = __LINE__; goto __pyx_L1_error;}</span>\n",
        "  <span class='refnanny'>__Pyx_GOTREF</span>(__pyx_t_2);\n",
        "  <span class='pyx_macro_api'>__Pyx_INCREF</span>(__pyx_v_n);\n",
        "  <span class='py_macro_api'>PyTuple_SET_ITEM</span>(__pyx_t_2, 0, __pyx_v_n);\n",
        "  <span class='refnanny'>__Pyx_GIVEREF</span>(__pyx_v_n);\n",
        "  __pyx_t_1 = <span class='pyx_c_api'>__Pyx_PyObject_Call</span>(__pyx_builtin_xrange, __pyx_t_2, NULL);<span class='error_goto'> if (unlikely(!__pyx_t_1)) {__pyx_filename = __pyx_f[0]; __pyx_lineno = 6; __pyx_clineno = __LINE__; goto __pyx_L1_error;}</span>\n",
        "  <span class='refnanny'>__Pyx_GOTREF</span>(__pyx_t_1);\n",
        "  <span class='pyx_macro_api'>__Pyx_DECREF</span>(__pyx_t_2); __pyx_t_2 = 0;\n",
        "  if (<span class='py_c_api'>PyList_CheckExact</span>(__pyx_t_1) || <span class='py_c_api'>PyTuple_CheckExact</span>(__pyx_t_1)) {\n",
        "    __pyx_t_2 = __pyx_t_1; <span class='pyx_macro_api'>__Pyx_INCREF</span>(__pyx_t_2); __pyx_t_3 = 0;\n",
        "    __pyx_t_4 = NULL;\n",
        "  } else {\n",
        "    __pyx_t_3 = -1; __pyx_t_2 = <span class='py_c_api'>PyObject_GetIter</span>(__pyx_t_1);<span class='error_goto'> if (unlikely(!__pyx_t_2)) {__pyx_filename = __pyx_f[0]; __pyx_lineno = 6; __pyx_clineno = __LINE__; goto __pyx_L1_error;}</span>\n",
        "    <span class='refnanny'>__Pyx_GOTREF</span>(__pyx_t_2);\n",
        "    __pyx_t_4 = Py_TYPE(__pyx_t_2)-&gt;tp_iternext;\n",
        "  }\n",
        "  <span class='pyx_macro_api'>__Pyx_DECREF</span>(__pyx_t_1); __pyx_t_1 = 0;\n",
        "  for (;;) {\n",
        "    if (!__pyx_t_4 &amp;&amp; <span class='py_c_api'>PyList_CheckExact</span>(__pyx_t_2)) {\n",
        "      if (__pyx_t_3 &gt;= <span class='py_macro_api'>PyList_GET_SIZE</span>(__pyx_t_2)) break;\n",
        "      #if CYTHON_COMPILING_IN_CPYTHON\n",
        "      __pyx_t_1 = <span class='py_macro_api'>PyList_GET_ITEM</span>(__pyx_t_2, __pyx_t_3); <span class='pyx_macro_api'>__Pyx_INCREF</span>(__pyx_t_1); __pyx_t_3++;<span class='error_goto'> if (unlikely(0 &lt; 0)) {__pyx_filename = __pyx_f[0]; __pyx_lineno = 6; __pyx_clineno = __LINE__; goto __pyx_L1_error;}</span>\n",
        "      #else\n",
        "      __pyx_t_1 = <span class='py_macro_api'>PySequence_ITEM</span>(__pyx_t_2, __pyx_t_3); __pyx_t_3++;<span class='error_goto'> if (unlikely(!__pyx_t_1)) {__pyx_filename = __pyx_f[0]; __pyx_lineno = 6; __pyx_clineno = __LINE__; goto __pyx_L1_error;}</span>\n",
        "      #endif\n",
        "    } else if (!__pyx_t_4 &amp;&amp; <span class='py_c_api'>PyTuple_CheckExact</span>(__pyx_t_2)) {\n",
        "      if (__pyx_t_3 &gt;= <span class='py_macro_api'>PyTuple_GET_SIZE</span>(__pyx_t_2)) break;\n",
        "      #if CYTHON_COMPILING_IN_CPYTHON\n",
        "      __pyx_t_1 = <span class='py_macro_api'>PyTuple_GET_ITEM</span>(__pyx_t_2, __pyx_t_3); <span class='pyx_macro_api'>__Pyx_INCREF</span>(__pyx_t_1); __pyx_t_3++;<span class='error_goto'> if (unlikely(0 &lt; 0)) {__pyx_filename = __pyx_f[0]; __pyx_lineno = 6; __pyx_clineno = __LINE__; goto __pyx_L1_error;}</span>\n",
        "      #else\n",
        "      __pyx_t_1 = <span class='py_macro_api'>PySequence_ITEM</span>(__pyx_t_2, __pyx_t_3); __pyx_t_3++;<span class='error_goto'> if (unlikely(!__pyx_t_1)) {__pyx_filename = __pyx_f[0]; __pyx_lineno = 6; __pyx_clineno = __LINE__; goto __pyx_L1_error;}</span>\n",
        "      #endif\n",
        "    } else {\n",
        "      __pyx_t_1 = __pyx_t_4(__pyx_t_2);\n",
        "      if (unlikely(!__pyx_t_1)) {\n",
        "        PyObject* exc_type = <span class='py_c_api'>PyErr_Occurred</span>();\n",
        "        if (exc_type) {\n",
        "          if (likely(exc_type == PyExc_StopIteration || <span class='py_c_api'>PyErr_GivenExceptionMatches</span>(exc_type, PyExc_StopIteration))) <span class='py_c_api'>PyErr_Clear</span>();\n",
        "          else <span class='error_goto'>{__pyx_filename = __pyx_f[0]; __pyx_lineno = 6; __pyx_clineno = __LINE__; goto __pyx_L1_error;}</span>\n",
        "        }\n",
        "        break;\n",
        "      }\n",
        "      <span class='refnanny'>__Pyx_GOTREF</span>(__pyx_t_1);\n",
        "    }\n",
        "    <span class='pyx_macro_api'>__Pyx_XDECREF_SET</span>(__pyx_v_i, __pyx_t_1);\n",
        "    __pyx_t_1 = 0;\n",
        "</pre><pre class='line' style='background-color: #FFFF3e' onclick='toggleDiv(\"line7\")'> 7:         pi += f1(h*(i+.5))</pre>\n",
        "<pre id='line7' class='code' style='background-color: #FFFF3e'>    __pyx_t_1 = <span class='pyx_c_api'>__Pyx_GetModuleGlobalName</span>(__pyx_n_s_f1);<span class='error_goto'> if (unlikely(!__pyx_t_1)) {__pyx_filename = __pyx_f[0]; __pyx_lineno = 7; __pyx_clineno = __LINE__; goto __pyx_L1_error;}</span>\n",
        "    <span class='refnanny'>__Pyx_GOTREF</span>(__pyx_t_1);\n",
        "    __pyx_t_5 = <span class='py_c_api'>PyNumber_Add</span>(__pyx_v_i, __pyx_float__5);<span class='error_goto'> if (unlikely(!__pyx_t_5)) {__pyx_filename = __pyx_f[0]; __pyx_lineno = 7; __pyx_clineno = __LINE__; goto __pyx_L1_error;}</span>\n",
        "    <span class='refnanny'>__Pyx_GOTREF</span>(__pyx_t_5);\n",
        "    __pyx_t_6 = <span class='py_c_api'>PyNumber_Multiply</span>(__pyx_v_h, __pyx_t_5);<span class='error_goto'> if (unlikely(!__pyx_t_6)) {__pyx_filename = __pyx_f[0]; __pyx_lineno = 7; __pyx_clineno = __LINE__; goto __pyx_L1_error;}</span>\n",
        "    <span class='refnanny'>__Pyx_GOTREF</span>(__pyx_t_6);\n",
        "    <span class='pyx_macro_api'>__Pyx_DECREF</span>(__pyx_t_5); __pyx_t_5 = 0;\n",
        "    __pyx_t_5 = <span class='py_c_api'>PyTuple_New</span>(1);<span class='error_goto'> if (unlikely(!__pyx_t_5)) {__pyx_filename = __pyx_f[0]; __pyx_lineno = 7; __pyx_clineno = __LINE__; goto __pyx_L1_error;}</span>\n",
        "    <span class='refnanny'>__Pyx_GOTREF</span>(__pyx_t_5);\n",
        "    <span class='py_macro_api'>PyTuple_SET_ITEM</span>(__pyx_t_5, 0, __pyx_t_6);\n",
        "    <span class='refnanny'>__Pyx_GIVEREF</span>(__pyx_t_6);\n",
        "    __pyx_t_6 = 0;\n",
        "    __pyx_t_6 = <span class='pyx_c_api'>__Pyx_PyObject_Call</span>(__pyx_t_1, __pyx_t_5, NULL);<span class='error_goto'> if (unlikely(!__pyx_t_6)) {__pyx_filename = __pyx_f[0]; __pyx_lineno = 7; __pyx_clineno = __LINE__; goto __pyx_L1_error;}</span>\n",
        "    <span class='refnanny'>__Pyx_GOTREF</span>(__pyx_t_6);\n",
        "    <span class='pyx_macro_api'>__Pyx_DECREF</span>(__pyx_t_1); __pyx_t_1 = 0;\n",
        "    <span class='pyx_macro_api'>__Pyx_DECREF</span>(__pyx_t_5); __pyx_t_5 = 0;\n",
        "    __pyx_t_5 = <span class='py_c_api'>PyNumber_InPlaceAdd</span>(__pyx_v_pi, __pyx_t_6);<span class='error_goto'> if (unlikely(!__pyx_t_5)) {__pyx_filename = __pyx_f[0]; __pyx_lineno = 7; __pyx_clineno = __LINE__; goto __pyx_L1_error;}</span>\n",
        "    <span class='refnanny'>__Pyx_GOTREF</span>(__pyx_t_5);\n",
        "    <span class='pyx_macro_api'>__Pyx_DECREF</span>(__pyx_t_6); __pyx_t_6 = 0;\n",
        "    <span class='pyx_macro_api'>__Pyx_DECREF_SET</span>(__pyx_v_pi, __pyx_t_5);\n",
        "    __pyx_t_5 = 0;\n",
        "  }\n",
        "  <span class='pyx_macro_api'>__Pyx_DECREF</span>(__pyx_t_2); __pyx_t_2 = 0;\n",
        "</pre><pre class='line' style='background-color: #FFFF9f' onclick='toggleDiv(\"line8\")'> 8:     return h*pi</pre>\n",
        "<pre id='line8' class='code' style='background-color: #FFFF9f'>  <span class='pyx_macro_api'>__Pyx_XDECREF</span>(__pyx_r);\n",
        "  __pyx_t_2 = <span class='py_c_api'>PyNumber_Multiply</span>(__pyx_v_h, __pyx_v_pi);<span class='error_goto'> if (unlikely(!__pyx_t_2)) {__pyx_filename = __pyx_f[0]; __pyx_lineno = 8; __pyx_clineno = __LINE__; goto __pyx_L1_error;}</span>\n",
        "  <span class='refnanny'>__Pyx_GOTREF</span>(__pyx_t_2);\n",
        "  __pyx_r = __pyx_t_2;\n",
        "  __pyx_t_2 = 0;\n",
        "  goto __pyx_L0;\n",
        "</pre></body></html>"
       ],
       "metadata": {},
       "output_type": "pyout",
       "prompt_number": 5,
       "text": [
        "<IPython.core.display.HTML at 0x1c48d10>"
       ]
      }
     ],
     "prompt_number": 5
    },
    {
     "cell_type": "code",
     "collapsed": false,
     "input": [
      "%timeit calculPi(n)\n",
      "%timeit calculPiCython1(n)"
     ],
     "language": "python",
     "metadata": {},
     "outputs": [
      {
       "output_type": "stream",
       "stream": "stdout",
       "text": [
        "10 loops, best of 3: 22.1 ms per loop\n",
        "10 loops, best of 3: 21.9 ms per loop"
       ]
      },
      {
       "output_type": "stream",
       "stream": "stdout",
       "text": [
        "\n"
       ]
      }
     ],
     "prompt_number": 39
    },
    {
     "cell_type": "markdown",
     "metadata": {
      "slideshow": {
       "slide_type": "subslide"
      }
     },
     "source": [
      "### Phase 2\n",
      "\n",
      "On donne un type \u00e0 nos variables."
     ]
    },
    {
     "cell_type": "code",
     "collapsed": false,
     "input": [
      "%%cython -a\n",
      "def f1(double x):\n",
      "    return 4./(1 + x**2)\n",
      "\n",
      "def calculPiCython2(int n):\n",
      "    cdef:\n",
      "        double h = 1./n\n",
      "        double pi = 0.\n",
      "        int i\n",
      "        \n",
      "    for i in xrange(n):\n",
      "        pi += f1(h*(i+.5))\n",
      "    return h*pi"
     ],
     "language": "python",
     "metadata": {},
     "outputs": [
      {
       "html": [
        "<!DOCTYPE html>\n",
        "<!-- Generated by Cython 0.20.1 on Wed Jul  9 10:40:42 2014 -->\n",
        "<html>\n",
        "\n",
        "<head>\n",
        "<meta http-equiv=\"Content-Type\" content=\"text/html; charset=utf-8\" />\n",
        "<style type=\"text/css\">\n",
        "\n",
        "body { font-family: courier; font-size: 12; }\n",
        "\n",
        ".code  { font-size: 9; color: #444444; display: none; margin-left: 20px; }\n",
        ".py_c_api  { color: red; }\n",
        ".py_macro_api  { color: #FF7000; }\n",
        ".pyx_c_api  { color: #FF3000; }\n",
        ".pyx_macro_api  { color: #FF7000; }\n",
        ".refnanny  { color: #FFA000; }\n",
        "\n",
        ".error_goto  { color: #FFA000; }\n",
        "\n",
        ".tag  {  }\n",
        "\n",
        ".coerce  { color: #008000; border: 1px dotted #008000 }\n",
        "\n",
        ".py_attr { color: #FF0000; font-weight: bold; }\n",
        ".c_attr  { color: #0000FF; }\n",
        "\n",
        ".py_call { color: #FF0000; font-weight: bold; }\n",
        ".c_call  { color: #0000FF; }\n",
        "\n",
        ".line { margin: 0em }\n",
        "\n",
        "</style>\n",
        "<script>\n",
        "function toggleDiv(id) {\n",
        "    theDiv = document.getElementById(id);\n",
        "    if (theDiv.style.display != 'block') theDiv.style.display = 'block';\n",
        "    else theDiv.style.display = 'none';\n",
        "}\n",
        "</script>\n",
        "</head>\n",
        "        <body>\n",
        "<p>Generated by Cython 0.20.1 on Wed Jul  9 10:40:42 2014\n",
        "<pre class='line' style='background-color: #FFFF48' onclick='toggleDiv(\"line1\")'> 1: def f1(double x):</pre>\n",
        "<pre id='line1' class='code' style='background-color: #FFFF48'>/* Python wrapper */\n",
        "static PyObject *__pyx_pw_46_cython_magic_50c3771bf6720ac469d99ce7a782ebfb_1f1(PyObject *__pyx_self, PyObject *__pyx_arg_x); /*proto*/\n",
        "static PyMethodDef __pyx_mdef_46_cython_magic_50c3771bf6720ac469d99ce7a782ebfb_1f1 = {<span class='pyx_macro_api'>__Pyx_NAMESTR</span>(\"f1\"), (PyCFunction)__pyx_pw_46_cython_magic_50c3771bf6720ac469d99ce7a782ebfb_1f1, METH_O, <span class='pyx_macro_api'>__Pyx_DOCSTR</span>(0)};\n",
        "static PyObject *__pyx_pw_46_cython_magic_50c3771bf6720ac469d99ce7a782ebfb_1f1(PyObject *__pyx_self, PyObject *__pyx_arg_x) {\n",
        "  double __pyx_v_x;\n",
        "  PyObject *__pyx_r = 0;\n",
        "  <span class='refnanny'>__Pyx_RefNannyDeclarations</span>\n",
        "  <span class='refnanny'>__Pyx_RefNannySetupContext</span>(\"f1 (wrapper)\", 0);\n",
        "  assert(__pyx_arg_x); {\n",
        "    __pyx_v_x = __pyx_<span class='py_c_api'>PyFloat_AsDouble</span>(__pyx_arg_x);<span class='error_goto'> if (unlikely((__pyx_v_x == (double)-1) &amp;&amp; PyErr_Occurred())) {__pyx_filename = __pyx_f[0]; __pyx_lineno = 1; __pyx_clineno = __LINE__; goto __pyx_L3_error;}</span>\n",
        "  }\n",
        "  goto __pyx_L4_argument_unpacking_done;\n",
        "  __pyx_L3_error:;\n",
        "  <span class='pyx_c_api'>__Pyx_AddTraceback</span>(\"_cython_magic_50c3771bf6720ac469d99ce7a782ebfb.f1\", __pyx_clineno, __pyx_lineno, __pyx_filename);\n",
        "  <span class='refnanny'>__Pyx_RefNannyFinishContext</span>();\n",
        "  return NULL;\n",
        "  __pyx_L4_argument_unpacking_done:;\n",
        "  __pyx_r = __pyx_pf_46_cython_magic_50c3771bf6720ac469d99ce7a782ebfb_f1(__pyx_self, ((double)__pyx_v_x));\n",
        "  int __pyx_lineno = 0;\n",
        "  const char *__pyx_filename = NULL;\n",
        "  int __pyx_clineno = 0;\n",
        "\n",
        "  /* function exit code */\n",
        "  <span class='refnanny'>__Pyx_RefNannyFinishContext</span>();\n",
        "  return __pyx_r;\n",
        "}\n",
        "\n",
        "static PyObject *__pyx_pf_46_cython_magic_50c3771bf6720ac469d99ce7a782ebfb_f1(CYTHON_UNUSED PyObject *__pyx_self, double __pyx_v_x) {\n",
        "  PyObject *__pyx_r = NULL;\n",
        "  <span class='refnanny'>__Pyx_RefNannyDeclarations</span>\n",
        "  <span class='refnanny'>__Pyx_RefNannySetupContext</span>(\"f1\", 0);\n",
        "/* \u2026 */\n",
        "  /* function exit code */\n",
        "  __pyx_L1_error:;\n",
        "  <span class='pyx_macro_api'>__Pyx_XDECREF</span>(__pyx_t_2);\n",
        "  <span class='pyx_c_api'>__Pyx_AddTraceback</span>(\"_cython_magic_50c3771bf6720ac469d99ce7a782ebfb.f1\", __pyx_clineno, __pyx_lineno, __pyx_filename);\n",
        "  __pyx_r = NULL;\n",
        "  __pyx_L0:;\n",
        "  <span class='refnanny'>__Pyx_XGIVEREF</span>(__pyx_r);\n",
        "  <span class='refnanny'>__Pyx_RefNannyFinishContext</span>();\n",
        "  return __pyx_r;\n",
        "}\n",
        "/* \u2026 */\n",
        "  __pyx_tuple_ = <span class='py_c_api'>PyTuple_Pack</span>(2, __pyx_n_s_x, __pyx_n_s_x);<span class='error_goto'> if (unlikely(!__pyx_tuple_)) {__pyx_filename = __pyx_f[0]; __pyx_lineno = 1; __pyx_clineno = __LINE__; goto __pyx_L1_error;}</span>\n",
        "  <span class='refnanny'>__Pyx_GOTREF</span>(__pyx_tuple_);\n",
        "  <span class='refnanny'>__Pyx_GIVEREF</span>(__pyx_tuple_);\n",
        "/* \u2026 */\n",
        "  __pyx_t_1 = PyCFunction_NewEx(&amp;__pyx_mdef_46_cython_magic_50c3771bf6720ac469d99ce7a782ebfb_1f1, NULL, __pyx_n_s_cython_magic_50c3771bf6720ac469);<span class='error_goto'> if (unlikely(!__pyx_t_1)) {__pyx_filename = __pyx_f[0]; __pyx_lineno = 1; __pyx_clineno = __LINE__; goto __pyx_L1_error;}</span>\n",
        "  <span class='refnanny'>__Pyx_GOTREF</span>(__pyx_t_1);\n",
        "  if (<span class='py_c_api'>PyDict_SetItem</span>(__pyx_d, __pyx_n_s_f1, __pyx_t_1) &lt; 0) <span class='error_goto'>{__pyx_filename = __pyx_f[0]; __pyx_lineno = 1; __pyx_clineno = __LINE__; goto __pyx_L1_error;}</span>\n",
        "  <span class='pyx_macro_api'>__Pyx_DECREF</span>(__pyx_t_1); __pyx_t_1 = 0;\n",
        "  __pyx_codeobj__2 = (PyObject*)<span class='pyx_c_api'>__Pyx_PyCode_New</span>(1, 0, 2, 0, 0, __pyx_empty_bytes, __pyx_empty_tuple, __pyx_empty_tuple, __pyx_tuple_, __pyx_empty_tuple, __pyx_empty_tuple, __pyx_kp_s_home_gouarin_cache_ipython_cyth, __pyx_n_s_f1, 1, __pyx_empty_bytes);<span class='error_goto'> if (unlikely(!__pyx_codeobj__2)) {__pyx_filename = __pyx_f[0]; __pyx_lineno = 1; __pyx_clineno = __LINE__; goto __pyx_L1_error;}</span>\n",
        "</pre><pre class='line' style='background-color: #FFFF79' onclick='toggleDiv(\"line2\")'> 2:     return 4./(1 + x**2)</pre>\n",
        "<pre id='line2' class='code' style='background-color: #FFFF79'>  <span class='pyx_macro_api'>__Pyx_XDECREF</span>(__pyx_r);\n",
        "  __pyx_t_1 = (1.0 + pow(__pyx_v_x, 2.0));\n",
        "  if (unlikely(__pyx_t_1 == 0)) {\n",
        "    #ifdef WITH_THREAD\n",
        "    PyGILState_STATE __pyx_gilstate_save = PyGILState_Ensure();\n",
        "    #endif\n",
        "    <span class='py_c_api'>PyErr_SetString</span>(PyExc_ZeroDivisionError, \"float division\");\n",
        "    #ifdef WITH_THREAD\n",
        "    PyGILState_Release(__pyx_gilstate_save);\n",
        "    #endif\n",
        "    <span class='error_goto'>{__pyx_filename = __pyx_f[0]; __pyx_lineno = 2; __pyx_clineno = __LINE__; goto __pyx_L1_error;}</span>\n",
        "  }\n",
        "  __pyx_t_2 = <span class='py_c_api'>PyFloat_FromDouble</span>((4. / __pyx_t_1));<span class='error_goto'> if (unlikely(!__pyx_t_2)) {__pyx_filename = __pyx_f[0]; __pyx_lineno = 2; __pyx_clineno = __LINE__; goto __pyx_L1_error;}</span>\n",
        "  <span class='refnanny'>__Pyx_GOTREF</span>(__pyx_t_2);\n",
        "  __pyx_r = __pyx_t_2;\n",
        "  __pyx_t_2 = 0;\n",
        "  goto __pyx_L0;\n",
        "</pre><pre class='line' style='background-color: #FFFFff' onclick='toggleDiv(\"line3\")'> 3: </pre>\n",
        "<pre id='line3' class='code' style='background-color: #FFFFff'></pre><pre class='line' style='background-color: #FFFF4d' onclick='toggleDiv(\"line4\")'> 4: def calculPiCython2(int n):</pre>\n",
        "<pre id='line4' class='code' style='background-color: #FFFF4d'>/* Python wrapper */\n",
        "static PyObject *__pyx_pw_46_cython_magic_50c3771bf6720ac469d99ce7a782ebfb_3calculPiCython2(PyObject *__pyx_self, PyObject *__pyx_arg_n); /*proto*/\n",
        "static PyMethodDef __pyx_mdef_46_cython_magic_50c3771bf6720ac469d99ce7a782ebfb_3calculPiCython2 = {<span class='pyx_macro_api'>__Pyx_NAMESTR</span>(\"calculPiCython2\"), (PyCFunction)__pyx_pw_46_cython_magic_50c3771bf6720ac469d99ce7a782ebfb_3calculPiCython2, METH_O, <span class='pyx_macro_api'>__Pyx_DOCSTR</span>(0)};\n",
        "static PyObject *__pyx_pw_46_cython_magic_50c3771bf6720ac469d99ce7a782ebfb_3calculPiCython2(PyObject *__pyx_self, PyObject *__pyx_arg_n) {\n",
        "  int __pyx_v_n;\n",
        "  PyObject *__pyx_r = 0;\n",
        "  <span class='refnanny'>__Pyx_RefNannyDeclarations</span>\n",
        "  <span class='refnanny'>__Pyx_RefNannySetupContext</span>(\"calculPiCython2 (wrapper)\", 0);\n",
        "  assert(__pyx_arg_n); {\n",
        "    __pyx_v_n = <span class='pyx_c_api'>__Pyx_PyInt_As_int</span>(__pyx_arg_n);<span class='error_goto'> if (unlikely((__pyx_v_n == (int)-1) &amp;&amp; PyErr_Occurred())) {__pyx_filename = __pyx_f[0]; __pyx_lineno = 4; __pyx_clineno = __LINE__; goto __pyx_L3_error;}</span>\n",
        "  }\n",
        "  goto __pyx_L4_argument_unpacking_done;\n",
        "  __pyx_L3_error:;\n",
        "  <span class='pyx_c_api'>__Pyx_AddTraceback</span>(\"_cython_magic_50c3771bf6720ac469d99ce7a782ebfb.calculPiCython2\", __pyx_clineno, __pyx_lineno, __pyx_filename);\n",
        "  <span class='refnanny'>__Pyx_RefNannyFinishContext</span>();\n",
        "  return NULL;\n",
        "  __pyx_L4_argument_unpacking_done:;\n",
        "  __pyx_r = __pyx_pf_46_cython_magic_50c3771bf6720ac469d99ce7a782ebfb_2calculPiCython2(__pyx_self, ((int)__pyx_v_n));\n",
        "  int __pyx_lineno = 0;\n",
        "  const char *__pyx_filename = NULL;\n",
        "  int __pyx_clineno = 0;\n",
        "\n",
        "  /* function exit code */\n",
        "  <span class='refnanny'>__Pyx_RefNannyFinishContext</span>();\n",
        "  return __pyx_r;\n",
        "}\n",
        "\n",
        "static PyObject *__pyx_pf_46_cython_magic_50c3771bf6720ac469d99ce7a782ebfb_2calculPiCython2(CYTHON_UNUSED PyObject *__pyx_self, int __pyx_v_n) {\n",
        "  double __pyx_v_h;\n",
        "  double __pyx_v_pi;\n",
        "  int __pyx_v_i;\n",
        "  PyObject *__pyx_r = NULL;\n",
        "  <span class='refnanny'>__Pyx_RefNannyDeclarations</span>\n",
        "  <span class='refnanny'>__Pyx_RefNannySetupContext</span>(\"calculPiCython2\", 0);\n",
        "/* \u2026 */\n",
        "  /* function exit code */\n",
        "  __pyx_L1_error:;\n",
        "  <span class='pyx_macro_api'>__Pyx_XDECREF</span>(__pyx_t_3);\n",
        "  <span class='pyx_macro_api'>__Pyx_XDECREF</span>(__pyx_t_4);\n",
        "  <span class='pyx_macro_api'>__Pyx_XDECREF</span>(__pyx_t_5);\n",
        "  <span class='pyx_macro_api'>__Pyx_XDECREF</span>(__pyx_t_6);\n",
        "  <span class='pyx_c_api'>__Pyx_AddTraceback</span>(\"_cython_magic_50c3771bf6720ac469d99ce7a782ebfb.calculPiCython2\", __pyx_clineno, __pyx_lineno, __pyx_filename);\n",
        "  __pyx_r = NULL;\n",
        "  __pyx_L0:;\n",
        "  <span class='refnanny'>__Pyx_XGIVEREF</span>(__pyx_r);\n",
        "  <span class='refnanny'>__Pyx_RefNannyFinishContext</span>();\n",
        "  return __pyx_r;\n",
        "}\n",
        "/* \u2026 */\n",
        "  __pyx_tuple__3 = <span class='py_c_api'>PyTuple_Pack</span>(5, __pyx_n_s_n, __pyx_n_s_n, __pyx_n_s_h, __pyx_n_s_pi, __pyx_n_s_i);<span class='error_goto'> if (unlikely(!__pyx_tuple__3)) {__pyx_filename = __pyx_f[0]; __pyx_lineno = 4; __pyx_clineno = __LINE__; goto __pyx_L1_error;}</span>\n",
        "  <span class='refnanny'>__Pyx_GOTREF</span>(__pyx_tuple__3);\n",
        "  <span class='refnanny'>__Pyx_GIVEREF</span>(__pyx_tuple__3);\n",
        "/* \u2026 */\n",
        "  __pyx_t_1 = PyCFunction_NewEx(&amp;__pyx_mdef_46_cython_magic_50c3771bf6720ac469d99ce7a782ebfb_3calculPiCython2, NULL, __pyx_n_s_cython_magic_50c3771bf6720ac469);<span class='error_goto'> if (unlikely(!__pyx_t_1)) {__pyx_filename = __pyx_f[0]; __pyx_lineno = 4; __pyx_clineno = __LINE__; goto __pyx_L1_error;}</span>\n",
        "  <span class='refnanny'>__Pyx_GOTREF</span>(__pyx_t_1);\n",
        "  if (<span class='py_c_api'>PyDict_SetItem</span>(__pyx_d, __pyx_n_s_calculPiCython2, __pyx_t_1) &lt; 0) <span class='error_goto'>{__pyx_filename = __pyx_f[0]; __pyx_lineno = 4; __pyx_clineno = __LINE__; goto __pyx_L1_error;}</span>\n",
        "  <span class='pyx_macro_api'>__Pyx_DECREF</span>(__pyx_t_1); __pyx_t_1 = 0;\n",
        "</pre><pre class='line' style='background-color: #FFFFff' onclick='toggleDiv(\"line5\")'> 5:     cdef:</pre>\n",
        "<pre id='line5' class='code' style='background-color: #FFFFff'></pre><pre class='line' style='background-color: #FFFFaa' onclick='toggleDiv(\"line6\")'> 6:         double h = 1./n</pre>\n",
        "<pre id='line6' class='code' style='background-color: #FFFFaa'>  if (unlikely(__pyx_v_n == 0)) {\n",
        "    #ifdef WITH_THREAD\n",
        "    PyGILState_STATE __pyx_gilstate_save = PyGILState_Ensure();\n",
        "    #endif\n",
        "    <span class='py_c_api'>PyErr_SetString</span>(PyExc_ZeroDivisionError, \"float division\");\n",
        "    #ifdef WITH_THREAD\n",
        "    PyGILState_Release(__pyx_gilstate_save);\n",
        "    #endif\n",
        "    <span class='error_goto'>{__pyx_filename = __pyx_f[0]; __pyx_lineno = 6; __pyx_clineno = __LINE__; goto __pyx_L1_error;}</span>\n",
        "  }\n",
        "  __pyx_v_h = (1. / __pyx_v_n);\n",
        "</pre><pre class='line' style='background-color: #FFFFff' onclick='toggleDiv(\"line7\")'> 7:         double pi = 0.</pre>\n",
        "<pre id='line7' class='code' style='background-color: #FFFFff'>  __pyx_v_pi = 0.;\n",
        "</pre><pre class='line' style='background-color: #FFFFff' onclick='toggleDiv(\"line8\")'> 8:         int i</pre>\n",
        "<pre id='line8' class='code' style='background-color: #FFFFff'></pre><pre class='line' style='background-color: #FFFFff' onclick='toggleDiv(\"line9\")'> 9: </pre>\n",
        "<pre id='line9' class='code' style='background-color: #FFFFff'></pre><pre class='line' style='background-color: #FFFFff' onclick='toggleDiv(\"line10\")'> 10:     for i in xrange(n):</pre>\n",
        "<pre id='line10' class='code' style='background-color: #FFFFff'>  __pyx_t_1 = __pyx_v_n;\n",
        "  for (__pyx_t_2 = 0; __pyx_t_2 &lt; __pyx_t_1; __pyx_t_2+=1) {\n",
        "    __pyx_v_i = __pyx_t_2;\n",
        "</pre><pre class='line' style='background-color: #FFFF38' onclick='toggleDiv(\"line11\")'> 11:         pi += f1(h*(i+.5))</pre>\n",
        "<pre id='line11' class='code' style='background-color: #FFFF38'>    __pyx_t_3 = <span class='py_c_api'>PyFloat_FromDouble</span>(__pyx_v_pi);<span class='error_goto'> if (unlikely(!__pyx_t_3)) {__pyx_filename = __pyx_f[0]; __pyx_lineno = 11; __pyx_clineno = __LINE__; goto __pyx_L1_error;}</span>\n",
        "    <span class='refnanny'>__Pyx_GOTREF</span>(__pyx_t_3);\n",
        "    __pyx_t_4 = <span class='pyx_c_api'>__Pyx_GetModuleGlobalName</span>(__pyx_n_s_f1);<span class='error_goto'> if (unlikely(!__pyx_t_4)) {__pyx_filename = __pyx_f[0]; __pyx_lineno = 11; __pyx_clineno = __LINE__; goto __pyx_L1_error;}</span>\n",
        "    <span class='refnanny'>__Pyx_GOTREF</span>(__pyx_t_4);\n",
        "    __pyx_t_5 = <span class='py_c_api'>PyFloat_FromDouble</span>((__pyx_v_h * (__pyx_v_i + .5)));<span class='error_goto'> if (unlikely(!__pyx_t_5)) {__pyx_filename = __pyx_f[0]; __pyx_lineno = 11; __pyx_clineno = __LINE__; goto __pyx_L1_error;}</span>\n",
        "    <span class='refnanny'>__Pyx_GOTREF</span>(__pyx_t_5);\n",
        "    __pyx_t_6 = <span class='py_c_api'>PyTuple_New</span>(1);<span class='error_goto'> if (unlikely(!__pyx_t_6)) {__pyx_filename = __pyx_f[0]; __pyx_lineno = 11; __pyx_clineno = __LINE__; goto __pyx_L1_error;}</span>\n",
        "    <span class='refnanny'>__Pyx_GOTREF</span>(__pyx_t_6);\n",
        "    <span class='py_macro_api'>PyTuple_SET_ITEM</span>(__pyx_t_6, 0, __pyx_t_5);\n",
        "    <span class='refnanny'>__Pyx_GIVEREF</span>(__pyx_t_5);\n",
        "    __pyx_t_5 = 0;\n",
        "    __pyx_t_5 = <span class='pyx_c_api'>__Pyx_PyObject_Call</span>(__pyx_t_4, __pyx_t_6, NULL);<span class='error_goto'> if (unlikely(!__pyx_t_5)) {__pyx_filename = __pyx_f[0]; __pyx_lineno = 11; __pyx_clineno = __LINE__; goto __pyx_L1_error;}</span>\n",
        "    <span class='refnanny'>__Pyx_GOTREF</span>(__pyx_t_5);\n",
        "    <span class='pyx_macro_api'>__Pyx_DECREF</span>(__pyx_t_4); __pyx_t_4 = 0;\n",
        "    <span class='pyx_macro_api'>__Pyx_DECREF</span>(__pyx_t_6); __pyx_t_6 = 0;\n",
        "    __pyx_t_6 = <span class='py_c_api'>PyNumber_InPlaceAdd</span>(__pyx_t_3, __pyx_t_5);<span class='error_goto'> if (unlikely(!__pyx_t_6)) {__pyx_filename = __pyx_f[0]; __pyx_lineno = 11; __pyx_clineno = __LINE__; goto __pyx_L1_error;}</span>\n",
        "    <span class='refnanny'>__Pyx_GOTREF</span>(__pyx_t_6);\n",
        "    <span class='pyx_macro_api'>__Pyx_DECREF</span>(__pyx_t_3); __pyx_t_3 = 0;\n",
        "    <span class='pyx_macro_api'>__Pyx_DECREF</span>(__pyx_t_5); __pyx_t_5 = 0;\n",
        "    __pyx_t_7 = __pyx_<span class='py_c_api'>PyFloat_AsDouble</span>(__pyx_t_6);<span class='error_goto'> if (unlikely((__pyx_t_7 == (double)-1) &amp;&amp; PyErr_Occurred())) {__pyx_filename = __pyx_f[0]; __pyx_lineno = 11; __pyx_clineno = __LINE__; goto __pyx_L1_error;}</span>\n",
        "    <span class='pyx_macro_api'>__Pyx_DECREF</span>(__pyx_t_6); __pyx_t_6 = 0;\n",
        "    __pyx_v_pi = __pyx_t_7;\n",
        "  }\n",
        "</pre><pre class='line' style='background-color: #FFFF9f' onclick='toggleDiv(\"line12\")'> 12:     return h*pi</pre>\n",
        "<pre id='line12' class='code' style='background-color: #FFFF9f'>  <span class='pyx_macro_api'>__Pyx_XDECREF</span>(__pyx_r);\n",
        "  __pyx_t_6 = <span class='py_c_api'>PyFloat_FromDouble</span>((__pyx_v_h * __pyx_v_pi));<span class='error_goto'> if (unlikely(!__pyx_t_6)) {__pyx_filename = __pyx_f[0]; __pyx_lineno = 12; __pyx_clineno = __LINE__; goto __pyx_L1_error;}</span>\n",
        "  <span class='refnanny'>__Pyx_GOTREF</span>(__pyx_t_6);\n",
        "  __pyx_r = __pyx_t_6;\n",
        "  __pyx_t_6 = 0;\n",
        "  goto __pyx_L0;\n",
        "</pre></body></html>"
       ],
       "metadata": {},
       "output_type": "pyout",
       "prompt_number": 6,
       "text": [
        "<IPython.core.display.HTML at 0x25cc090>"
       ]
      }
     ],
     "prompt_number": 6
    },
    {
     "cell_type": "code",
     "collapsed": false,
     "input": [
      "%timeit calculPiCython2(n)"
     ],
     "language": "python",
     "metadata": {},
     "outputs": [
      {
       "output_type": "stream",
       "stream": "stdout",
       "text": [
        "100 loops, best of 3: 7.52 ms per loop\n"
       ]
      }
     ],
     "prompt_number": 41
    },
    {
     "cell_type": "markdown",
     "metadata": {
      "slideshow": {
       "slide_type": "subslide"
      }
     },
     "source": [
      "### Phase 3\n",
      "\n",
      "On essaie de faire quelques am\u00e9liorations pour vraiment passer le plus possible en C."
     ]
    },
    {
     "cell_type": "code",
     "collapsed": false,
     "input": [
      "%%cython -a\n",
      "cdef double f1(double x):\n",
      "    return 4./(1 + x**2)\n",
      "\n",
      "def calculPiCython3(int n):\n",
      "    cdef:\n",
      "        double h = 1./n\n",
      "        double pi = 0.\n",
      "        int i\n",
      "        \n",
      "    for i in xrange(n):\n",
      "        pi += f1(h*(i+.5))\n",
      "    return h*pi"
     ],
     "language": "python",
     "metadata": {},
     "outputs": [
      {
       "html": [
        "<!DOCTYPE html>\n",
        "<!-- Generated by Cython 0.20.1 on Fri Jun 20 23:29:17 2014 -->\n",
        "<html>\n",
        "\n",
        "<head>\n",
        "<meta http-equiv=\"Content-Type\" content=\"text/html; charset=utf-8\" />\n",
        "<style type=\"text/css\">\n",
        "\n",
        "body { font-family: courier; font-size: 12; }\n",
        "\n",
        ".code  { font-size: 9; color: #444444; display: none; margin-left: 20px; }\n",
        ".py_c_api  { color: red; }\n",
        ".py_macro_api  { color: #FF7000; }\n",
        ".pyx_c_api  { color: #FF3000; }\n",
        ".pyx_macro_api  { color: #FF7000; }\n",
        ".refnanny  { color: #FFA000; }\n",
        "\n",
        ".error_goto  { color: #FFA000; }\n",
        "\n",
        ".tag  {  }\n",
        "\n",
        ".coerce  { color: #008000; border: 1px dotted #008000 }\n",
        "\n",
        ".py_attr { color: #FF0000; font-weight: bold; }\n",
        ".c_attr  { color: #0000FF; }\n",
        "\n",
        ".py_call { color: #FF0000; font-weight: bold; }\n",
        ".c_call  { color: #0000FF; }\n",
        "\n",
        ".line { margin: 0em }\n",
        "\n",
        "</style>\n",
        "<script>\n",
        "function toggleDiv(id) {\n",
        "    theDiv = document.getElementById(id);\n",
        "    if (theDiv.style.display != 'block') theDiv.style.display = 'block';\n",
        "    else theDiv.style.display = 'none';\n",
        "}\n",
        "</script>\n",
        "</head>\n",
        "        <body>\n",
        "<p>Generated by Cython 0.20.1 on Fri Jun 20 23:29:17 2014\n",
        "<pre class='line' style='background-color: #FFFFd4' onclick='toggleDiv(\"line1\")'> 1: cdef double f1(double x):</pre>\n",
        "<pre id='line1' class='code' style='background-color: #FFFFd4'>static double __pyx_f_46_cython_magic_6eec7f69a809363c91cf08a7a3ab9223_f1(double __pyx_v_x) {\n",
        "  double __pyx_r;\n",
        "  <span class='refnanny'>__Pyx_RefNannyDeclarations</span>\n",
        "  <span class='refnanny'>__Pyx_RefNannySetupContext</span>(\"f1\", 0);\n",
        "/* \u2026 */\n",
        "  /* function exit code */\n",
        "  __pyx_L1_error:;\n",
        "  <span class='pyx_c_api'>__Pyx_WriteUnraisable</span>(\"_cython_magic_6eec7f69a809363c91cf08a7a3ab9223.f1\", __pyx_clineno, __pyx_lineno, __pyx_filename, 0);\n",
        "  __pyx_r = 0;\n",
        "  __pyx_L0:;\n",
        "  <span class='refnanny'>__Pyx_RefNannyFinishContext</span>();\n",
        "  return __pyx_r;\n",
        "}\n",
        "</pre><pre class='line' style='background-color: #FFFFaa' onclick='toggleDiv(\"line2\")'> 2:     return 4./(1 + x**2)</pre>\n",
        "<pre id='line2' class='code' style='background-color: #FFFFaa'>  __pyx_t_1 = (1.0 + pow(__pyx_v_x, 2.0));\n",
        "  if (unlikely(__pyx_t_1 == 0)) {\n",
        "    #ifdef WITH_THREAD\n",
        "    PyGILState_STATE __pyx_gilstate_save = PyGILState_Ensure();\n",
        "    #endif\n",
        "    <span class='py_c_api'>PyErr_SetString</span>(PyExc_ZeroDivisionError, \"float division\");\n",
        "    #ifdef WITH_THREAD\n",
        "    PyGILState_Release(__pyx_gilstate_save);\n",
        "    #endif\n",
        "    <span class='error_goto'>{__pyx_filename = __pyx_f[0]; __pyx_lineno = 2; __pyx_clineno = __LINE__; goto __pyx_L1_error;}</span>\n",
        "  }\n",
        "  __pyx_r = (4. / __pyx_t_1);\n",
        "  goto __pyx_L0;\n",
        "</pre><pre class='line' style='background-color: #FFFFff' onclick='toggleDiv(\"line3\")'> 3: </pre>\n",
        "<pre id='line3' class='code' style='background-color: #FFFFff'></pre><pre class='line' style='background-color: #FFFF55' onclick='toggleDiv(\"line4\")'> 4: def calculPiCython3(int n):</pre>\n",
        "<pre id='line4' class='code' style='background-color: #FFFF55'>/* Python wrapper */\n",
        "static PyObject *__pyx_pw_46_cython_magic_6eec7f69a809363c91cf08a7a3ab9223_1calculPiCython3(PyObject *__pyx_self, PyObject *__pyx_arg_n); /*proto*/\n",
        "static PyMethodDef __pyx_mdef_46_cython_magic_6eec7f69a809363c91cf08a7a3ab9223_1calculPiCython3 = {<span class='pyx_macro_api'>__Pyx_NAMESTR</span>(\"calculPiCython3\"), (PyCFunction)__pyx_pw_46_cython_magic_6eec7f69a809363c91cf08a7a3ab9223_1calculPiCython3, METH_O, <span class='pyx_macro_api'>__Pyx_DOCSTR</span>(0)};\n",
        "static PyObject *__pyx_pw_46_cython_magic_6eec7f69a809363c91cf08a7a3ab9223_1calculPiCython3(PyObject *__pyx_self, PyObject *__pyx_arg_n) {\n",
        "  int __pyx_v_n;\n",
        "  PyObject *__pyx_r = 0;\n",
        "  <span class='refnanny'>__Pyx_RefNannyDeclarations</span>\n",
        "  <span class='refnanny'>__Pyx_RefNannySetupContext</span>(\"calculPiCython3 (wrapper)\", 0);\n",
        "  assert(__pyx_arg_n); {\n",
        "    __pyx_v_n = <span class='pyx_c_api'>__Pyx_PyInt_As_int</span>(__pyx_arg_n);<span class='error_goto'> if (unlikely((__pyx_v_n == (int)-1) &amp;&amp; PyErr_Occurred())) {__pyx_filename = __pyx_f[0]; __pyx_lineno = 4; __pyx_clineno = __LINE__; goto __pyx_L3_error;}</span>\n",
        "  }\n",
        "  goto __pyx_L4_argument_unpacking_done;\n",
        "  __pyx_L3_error:;\n",
        "  <span class='pyx_c_api'>__Pyx_AddTraceback</span>(\"_cython_magic_6eec7f69a809363c91cf08a7a3ab9223.calculPiCython3\", __pyx_clineno, __pyx_lineno, __pyx_filename);\n",
        "  <span class='refnanny'>__Pyx_RefNannyFinishContext</span>();\n",
        "  return NULL;\n",
        "  __pyx_L4_argument_unpacking_done:;\n",
        "  __pyx_r = __pyx_pf_46_cython_magic_6eec7f69a809363c91cf08a7a3ab9223_calculPiCython3(__pyx_self, ((int)__pyx_v_n));\n",
        "  int __pyx_lineno = 0;\n",
        "  const char *__pyx_filename = NULL;\n",
        "  int __pyx_clineno = 0;\n",
        "\n",
        "  /* function exit code */\n",
        "  <span class='refnanny'>__Pyx_RefNannyFinishContext</span>();\n",
        "  return __pyx_r;\n",
        "}\n",
        "\n",
        "static PyObject *__pyx_pf_46_cython_magic_6eec7f69a809363c91cf08a7a3ab9223_calculPiCython3(CYTHON_UNUSED PyObject *__pyx_self, int __pyx_v_n) {\n",
        "  double __pyx_v_h;\n",
        "  double __pyx_v_pi;\n",
        "  int __pyx_v_i;\n",
        "  PyObject *__pyx_r = NULL;\n",
        "  <span class='refnanny'>__Pyx_RefNannyDeclarations</span>\n",
        "  <span class='refnanny'>__Pyx_RefNannySetupContext</span>(\"calculPiCython3\", 0);\n",
        "/* \u2026 */\n",
        "  /* function exit code */\n",
        "  __pyx_L1_error:;\n",
        "  <span class='pyx_macro_api'>__Pyx_XDECREF</span>(__pyx_t_3);\n",
        "  <span class='pyx_c_api'>__Pyx_AddTraceback</span>(\"_cython_magic_6eec7f69a809363c91cf08a7a3ab9223.calculPiCython3\", __pyx_clineno, __pyx_lineno, __pyx_filename);\n",
        "  __pyx_r = NULL;\n",
        "  __pyx_L0:;\n",
        "  <span class='refnanny'>__Pyx_XGIVEREF</span>(__pyx_r);\n",
        "  <span class='refnanny'>__Pyx_RefNannyFinishContext</span>();\n",
        "  return __pyx_r;\n",
        "}\n",
        "/* \u2026 */\n",
        "  __pyx_tuple_ = <span class='py_c_api'>PyTuple_Pack</span>(5, __pyx_n_s_n, __pyx_n_s_n, __pyx_n_s_h, __pyx_n_s_pi, __pyx_n_s_i);<span class='error_goto'> if (unlikely(!__pyx_tuple_)) {__pyx_filename = __pyx_f[0]; __pyx_lineno = 4; __pyx_clineno = __LINE__; goto __pyx_L1_error;}</span>\n",
        "  <span class='refnanny'>__Pyx_GOTREF</span>(__pyx_tuple_);\n",
        "  <span class='refnanny'>__Pyx_GIVEREF</span>(__pyx_tuple_);\n",
        "/* \u2026 */\n",
        "  __pyx_t_1 = PyCFunction_NewEx(&amp;__pyx_mdef_46_cython_magic_6eec7f69a809363c91cf08a7a3ab9223_1calculPiCython3, NULL, __pyx_n_s_cython_magic_6eec7f69a809363c91);<span class='error_goto'> if (unlikely(!__pyx_t_1)) {__pyx_filename = __pyx_f[0]; __pyx_lineno = 4; __pyx_clineno = __LINE__; goto __pyx_L1_error;}</span>\n",
        "  <span class='refnanny'>__Pyx_GOTREF</span>(__pyx_t_1);\n",
        "  if (<span class='py_c_api'>PyDict_SetItem</span>(__pyx_d, __pyx_n_s_calculPiCython3, __pyx_t_1) &lt; 0) <span class='error_goto'>{__pyx_filename = __pyx_f[0]; __pyx_lineno = 4; __pyx_clineno = __LINE__; goto __pyx_L1_error;}</span>\n",
        "  <span class='pyx_macro_api'>__Pyx_DECREF</span>(__pyx_t_1); __pyx_t_1 = 0;\n",
        "</pre><pre class='line' style='background-color: #FFFFff' onclick='toggleDiv(\"line5\")'> 5:     cdef:</pre>\n",
        "<pre id='line5' class='code' style='background-color: #FFFFff'></pre><pre class='line' style='background-color: #FFFFaa' onclick='toggleDiv(\"line6\")'> 6:         double h = 1./n</pre>\n",
        "<pre id='line6' class='code' style='background-color: #FFFFaa'>  if (unlikely(__pyx_v_n == 0)) {\n",
        "    #ifdef WITH_THREAD\n",
        "    PyGILState_STATE __pyx_gilstate_save = PyGILState_Ensure();\n",
        "    #endif\n",
        "    <span class='py_c_api'>PyErr_SetString</span>(PyExc_ZeroDivisionError, \"float division\");\n",
        "    #ifdef WITH_THREAD\n",
        "    PyGILState_Release(__pyx_gilstate_save);\n",
        "    #endif\n",
        "    <span class='error_goto'>{__pyx_filename = __pyx_f[0]; __pyx_lineno = 6; __pyx_clineno = __LINE__; goto __pyx_L1_error;}</span>\n",
        "  }\n",
        "  __pyx_v_h = (1. / __pyx_v_n);\n",
        "</pre><pre class='line' style='background-color: #FFFFff' onclick='toggleDiv(\"line7\")'> 7:         double pi = 0.</pre>\n",
        "<pre id='line7' class='code' style='background-color: #FFFFff'>  __pyx_v_pi = 0.;\n",
        "</pre><pre class='line' style='background-color: #FFFFff' onclick='toggleDiv(\"line8\")'> 8:         int i</pre>\n",
        "<pre id='line8' class='code' style='background-color: #FFFFff'></pre><pre class='line' style='background-color: #FFFFff' onclick='toggleDiv(\"line9\")'> 9: </pre>\n",
        "<pre id='line9' class='code' style='background-color: #FFFFff'></pre><pre class='line' style='background-color: #FFFFff' onclick='toggleDiv(\"line10\")'> 10:     for i in xrange(n):</pre>\n",
        "<pre id='line10' class='code' style='background-color: #FFFFff'>  __pyx_t_1 = __pyx_v_n;\n",
        "  for (__pyx_t_2 = 0; __pyx_t_2 &lt; __pyx_t_1; __pyx_t_2+=1) {\n",
        "    __pyx_v_i = __pyx_t_2;\n",
        "</pre><pre class='line' style='background-color: #FFFFff' onclick='toggleDiv(\"line11\")'> 11:         pi += f1(h*(i+.5))</pre>\n",
        "<pre id='line11' class='code' style='background-color: #FFFFff'>    __pyx_v_pi = (__pyx_v_pi + __pyx_f_46_cython_magic_6eec7f69a809363c91cf08a7a3ab9223_f1((__pyx_v_h * (__pyx_v_i + .5))));\n",
        "  }\n",
        "</pre><pre class='line' style='background-color: #FFFF9f' onclick='toggleDiv(\"line12\")'> 12:     return h*pi</pre>\n",
        "<pre id='line12' class='code' style='background-color: #FFFF9f'>  <span class='pyx_macro_api'>__Pyx_XDECREF</span>(__pyx_r);\n",
        "  __pyx_t_3 = <span class='py_c_api'>PyFloat_FromDouble</span>((__pyx_v_h * __pyx_v_pi));<span class='error_goto'> if (unlikely(!__pyx_t_3)) {__pyx_filename = __pyx_f[0]; __pyx_lineno = 12; __pyx_clineno = __LINE__; goto __pyx_L1_error;}</span>\n",
        "  <span class='refnanny'>__Pyx_GOTREF</span>(__pyx_t_3);\n",
        "  __pyx_r = __pyx_t_3;\n",
        "  __pyx_t_3 = 0;\n",
        "  goto __pyx_L0;\n",
        "</pre></body></html>"
       ],
       "metadata": {},
       "output_type": "pyout",
       "prompt_number": 7,
       "text": [
        "<IPython.core.display.HTML at 0x25e9110>"
       ]
      }
     ],
     "prompt_number": 7
    },
    {
     "cell_type": "code",
     "collapsed": false,
     "input": [
      "%timeit calculPiCython3(n)"
     ],
     "language": "python",
     "metadata": {},
     "outputs": [
      {
       "output_type": "stream",
       "stream": "stdout",
       "text": [
        "1000 loops, best of 3: 1.28 ms per loop\n"
       ]
      }
     ],
     "prompt_number": 49
    },
    {
     "cell_type": "code",
     "collapsed": false,
     "input": [
      "%%cython \n",
      "import cython\n",
      "\n",
      "@cython.cdivision(True)\n",
      "cdef double f1(double x):\n",
      "    return 4./(1 + x**2)\n",
      "\n",
      "@cython.cdivision(True)\n",
      "def calculPiCython4(int n):\n",
      "    cdef:\n",
      "        double h = 1./n\n",
      "        double pi = 0.\n",
      "        int i\n",
      "        \n",
      "    for i in xrange(n):\n",
      "        pi += f1(h*(i+.5))\n",
      "    return h*pi"
     ],
     "language": "python",
     "metadata": {
      "slideshow": {
       "slide_type": "subslide"
      }
     },
     "outputs": [],
     "prompt_number": 52
    },
    {
     "cell_type": "code",
     "collapsed": false,
     "input": [
      "%timeit calculPiCython4(n)"
     ],
     "language": "python",
     "metadata": {},
     "outputs": [
      {
       "output_type": "stream",
       "stream": "stdout",
       "text": [
        "1000 loops, best of 3: 615 \u00b5s per loop\n"
       ]
      }
     ],
     "prompt_number": 51
    },
    {
     "cell_type": "markdown",
     "metadata": {
      "slideshow": {
       "slide_type": "subslide"
      }
     },
     "source": [
      "### Quelques directives importantes\n",
      "\n",
      "- *boundscheck* \n",
      "\n",
      "    Si `False`, Cython assume que les indices demand\u00e9s existent (`True` par d\u00e9faut).\n",
      "\n",
      "\n",
      "- *wraparound*\n",
      "\n",
      "    Si `False`, Cython ne v\u00e9rifie pas si l'indice est n\u00e9gatif (`True` par d\u00e9faut).\n",
      "\n",
      "\n",
      "- *cdivision* \n",
      "\n",
      "    Si `True`, Cython fait une division en C (`False` par d\u00e9faut)."
     ]
    },
    {
     "cell_type": "markdown",
     "metadata": {
      "slideshow": {
       "slide_type": "subslide"
      }
     },
     "source": [
      "On peut les utiliser de diff\u00e9rentes mani\u00e8res.\n",
      "\n",
      "- En ligne de commande\n",
      "\n",
      "        cython -X boundscheck=True monfichier.pyx\n",
      "  \n",
      "  \n",
      "- A toutes les fonctions du fichier `.pyx`\n",
      "\n",
      "        #cython: boundscheck=True\n",
      "        \n",
      "        \n",
      "- Uniquement \u00e0 une fonction\n",
      "\n",
      "        @cython.boundscheck(True)\n",
      "        def mafonction(...):"
     ]
    },
    {
     "cell_type": "markdown",
     "metadata": {
      "slideshow": {
       "slide_type": "subslide"
      }
     },
     "source": [
      "### `cimport` et `pxd`\n",
      "\n",
      "Un fichier `pxd` est un fichier de d\u00e9finitions comportant\n",
      "\n",
      "- des types C,\n",
      "- des fonctions C externes,\n",
      "- des fonctions C d\u00e9finies dans le module,\n",
      "- une partie d'un nouveau type.\n",
      "\n",
      "On peut importer son contenu en utilisant `cimport` qui fonctionne \n",
      "exactement pareil que `import`."
     ]
    },
    {
     "cell_type": "code",
     "collapsed": false,
     "input": [
      "%%file mod1.pyx\n",
      "cdef int cadd(int i, int j):\n",
      "    print 'cadd'\n",
      "    return i+j\n",
      "\n",
      "def padd(int i, int j):\n",
      "    print 'padd'\n",
      "    return i+j\n",
      "\n",
      "cpdef int cpadd(int i, int j):\n",
      "    print 'cpadd'     \n",
      "    return i+j"
     ],
     "language": "python",
     "metadata": {
      "slideshow": {
       "slide_type": "subslide"
      }
     },
     "outputs": [
      {
       "output_type": "stream",
       "stream": "stdout",
       "text": [
        "Overwriting mod1.pyx\n"
       ]
      }
     ],
     "prompt_number": 59
    },
    {
     "cell_type": "code",
     "collapsed": false,
     "input": [
      "%%file mod1.pxd\n",
      "cdef int cadd(int i, int j)\n",
      "cpdef int cpadd(int i, int j)"
     ],
     "language": "python",
     "metadata": {
      "slideshow": {
       "slide_type": "subslide"
      }
     },
     "outputs": [
      {
       "output_type": "stream",
       "stream": "stdout",
       "text": [
        "Overwriting mod1.pxd\n"
       ]
      }
     ],
     "prompt_number": 60
    },
    {
     "cell_type": "code",
     "collapsed": false,
     "input": [
      "%%file mod2.pyx\n",
      "cimport mod1 as cmod1\n",
      "import mod1 as pmod1\n",
      "\n",
      "def cadd(int i, int j):\n",
      "    return cmod1.cadd(i, j)\n",
      "\n",
      "def padd(int i, int j):\n",
      "    return pmod1.padd(i, j)\n",
      "\n",
      "def cpadd1(int i, int j):\n",
      "    return cmod1.cpadd(i, j)\n",
      "\n",
      "def cpadd2(int i, int j):\n",
      "    return pmod1.cpadd(i, j)"
     ],
     "language": "python",
     "metadata": {
      "slideshow": {
       "slide_type": "subslide"
      }
     },
     "outputs": [
      {
       "output_type": "stream",
       "stream": "stdout",
       "text": [
        "Writing mod2.pyx\n"
       ]
      }
     ],
     "prompt_number": 61
    },
    {
     "cell_type": "code",
     "collapsed": false,
     "input": [
      "import pyximport\n",
      "pyximport.install()\n",
      "import mod2"
     ],
     "language": "python",
     "metadata": {
      "slideshow": {
       "slide_type": "subslide"
      }
     },
     "outputs": [],
     "prompt_number": 62
    },
    {
     "cell_type": "code",
     "collapsed": false,
     "input": [
      "print mod2.padd(3, 4)"
     ],
     "language": "python",
     "metadata": {},
     "outputs": [
      {
       "output_type": "stream",
       "stream": "stdout",
       "text": [
        "padd\n",
        "7\n"
       ]
      }
     ],
     "prompt_number": 63
    },
    {
     "cell_type": "code",
     "collapsed": false,
     "input": [
      "print mod2.cadd(3, 4)"
     ],
     "language": "python",
     "metadata": {},
     "outputs": [
      {
       "output_type": "stream",
       "stream": "stdout",
       "text": [
        "cadd\n",
        "7\n"
       ]
      }
     ],
     "prompt_number": 64
    },
    {
     "cell_type": "code",
     "collapsed": false,
     "input": [
      "mod2.cpadd1(3, 4)"
     ],
     "language": "python",
     "metadata": {},
     "outputs": [
      {
       "output_type": "stream",
       "stream": "stdout",
       "text": [
        "cpadd\n"
       ]
      },
      {
       "metadata": {},
       "output_type": "pyout",
       "prompt_number": 65,
       "text": [
        "7"
       ]
      }
     ],
     "prompt_number": 65
    },
    {
     "cell_type": "code",
     "collapsed": false,
     "input": [
      "mod2.cpadd2(3, 4)"
     ],
     "language": "python",
     "metadata": {},
     "outputs": [
      {
       "output_type": "stream",
       "stream": "stdout",
       "text": [
        "cpadd\n"
       ]
      },
      {
       "metadata": {},
       "output_type": "pyout",
       "prompt_number": 66,
       "text": [
        "7"
       ]
      }
     ],
     "prompt_number": 66
    },
    {
     "cell_type": "markdown",
     "metadata": {
      "slideshow": {
       "slide_type": "subslide"
      }
     },
     "source": [
      "### Les fichiers `pxd` livr\u00e9s avec Cython\n",
      "\n",
      "Cython offre quelques fichiers `pxd` de base. \n"
     ]
    },
    {
     "cell_type": "code",
     "collapsed": false,
     "input": [
      "from libc.math cimport cos, sin\n",
      "cimport numpy\n",
      "from libcpp.vector import vector"
     ],
     "language": "python",
     "metadata": {},
     "outputs": []
    },
    {
     "cell_type": "markdown",
     "metadata": {},
     "source": [
      "La liste est dans le r\u00e9pertoire `Includes` de l'installation de Cython."
     ]
    },
    {
     "cell_type": "markdown",
     "metadata": {
      "slideshow": {
       "slide_type": "slide"
      }
     },
     "source": [
      "### Cython et les tableaux\n",
      "\n",
      "Ancienne m\u00e9thode"
     ]
    },
    {
     "cell_type": "code",
     "collapsed": false,
     "input": [
      "%%cython -a\n",
      "cimport numpy as cnp\n",
      "import numpy as pnp\n",
      "import cython\n",
      "\n",
      "@cython.boundscheck(False)\n",
      "@cython.wraparound(False)\n",
      "def sumOldBuffer(cnp.ndarray[cnp.int32_t, ndim=2] A):\n",
      "  cdef int nx = A.shape[0], ny = A.shape[1]\n",
      "  cdef int i, j\n",
      "  cdef long int s=0\n",
      "  \n",
      "  for i in xrange(nx):\n",
      "        for j in xrange(ny):\n",
      "            s += A[i, j]\n",
      "\n",
      "  return s"
     ],
     "language": "python",
     "metadata": {},
     "outputs": [
      {
       "html": [
        "<!DOCTYPE html>\n",
        "<!-- Generated by Cython 0.20.1 on Wed Jul  9 10:40:42 2014 -->\n",
        "<html>\n",
        "\n",
        "<head>\n",
        "<meta http-equiv=\"Content-Type\" content=\"text/html; charset=utf-8\" />\n",
        "<style type=\"text/css\">\n",
        "\n",
        "body { font-family: courier; font-size: 12; }\n",
        "\n",
        ".code  { font-size: 9; color: #444444; display: none; margin-left: 20px; }\n",
        ".py_c_api  { color: red; }\n",
        ".py_macro_api  { color: #FF7000; }\n",
        ".pyx_c_api  { color: #FF3000; }\n",
        ".pyx_macro_api  { color: #FF7000; }\n",
        ".refnanny  { color: #FFA000; }\n",
        "\n",
        ".error_goto  { color: #FFA000; }\n",
        "\n",
        ".tag  {  }\n",
        "\n",
        ".coerce  { color: #008000; border: 1px dotted #008000 }\n",
        "\n",
        ".py_attr { color: #FF0000; font-weight: bold; }\n",
        ".c_attr  { color: #0000FF; }\n",
        "\n",
        ".py_call { color: #FF0000; font-weight: bold; }\n",
        ".c_call  { color: #0000FF; }\n",
        "\n",
        ".line { margin: 0em }\n",
        "\n",
        "</style>\n",
        "<script>\n",
        "function toggleDiv(id) {\n",
        "    theDiv = document.getElementById(id);\n",
        "    if (theDiv.style.display != 'block') theDiv.style.display = 'block';\n",
        "    else theDiv.style.display = 'none';\n",
        "}\n",
        "</script>\n",
        "</head>\n",
        "        <body>\n",
        "<p>Generated by Cython 0.20.1 on Wed Jul  9 10:40:42 2014\n",
        "<pre class='line' style='background-color: #FFFF79' onclick='toggleDiv(\"line1\")'> 1: cimport numpy as cnp</pre>\n",
        "<pre id='line1' class='code' style='background-color: #FFFF79'>  __pyx_t_1 = <span class='py_c_api'>PyDict_New</span>();<span class='error_goto'> if (unlikely(!__pyx_t_1)) {__pyx_filename = __pyx_f[0]; __pyx_lineno = 1; __pyx_clineno = __LINE__; goto __pyx_L1_error;}</span>\n",
        "  <span class='refnanny'>__Pyx_GOTREF</span>(__pyx_t_1);\n",
        "  if (<span class='py_c_api'>PyDict_SetItem</span>(__pyx_d, __pyx_n_s_test, __pyx_t_1) &lt; 0) <span class='error_goto'>{__pyx_filename = __pyx_f[0]; __pyx_lineno = 1; __pyx_clineno = __LINE__; goto __pyx_L1_error;}</span>\n",
        "  <span class='pyx_macro_api'>__Pyx_DECREF</span>(__pyx_t_1); __pyx_t_1 = 0;\n",
        "</pre><pre class='line' style='background-color: #FFFF8d' onclick='toggleDiv(\"line2\")'> 2: import numpy as pnp</pre>\n",
        "<pre id='line2' class='code' style='background-color: #FFFF8d'>  __pyx_t_1 = <span class='pyx_c_api'>__Pyx_Import</span>(__pyx_n_s_numpy, 0, -1);<span class='error_goto'> if (unlikely(!__pyx_t_1)) {__pyx_filename = __pyx_f[0]; __pyx_lineno = 2; __pyx_clineno = __LINE__; goto __pyx_L1_error;}</span>\n",
        "  <span class='refnanny'>__Pyx_GOTREF</span>(__pyx_t_1);\n",
        "  if (<span class='py_c_api'>PyDict_SetItem</span>(__pyx_d, __pyx_n_s_pnp, __pyx_t_1) &lt; 0) <span class='error_goto'>{__pyx_filename = __pyx_f[0]; __pyx_lineno = 2; __pyx_clineno = __LINE__; goto __pyx_L1_error;}</span>\n",
        "  <span class='pyx_macro_api'>__Pyx_DECREF</span>(__pyx_t_1); __pyx_t_1 = 0;\n",
        "</pre><pre class='line' style='background-color: #FFFFff' onclick='toggleDiv(\"line3\")'> 3: import cython</pre>\n",
        "<pre id='line3' class='code' style='background-color: #FFFFff'></pre><pre class='line' style='background-color: #FFFFff' onclick='toggleDiv(\"line4\")'> 4: </pre>\n",
        "<pre id='line4' class='code' style='background-color: #FFFFff'></pre><pre class='line' style='background-color: #FFFFff' onclick='toggleDiv(\"line5\")'> 5: @cython.boundscheck(False)</pre>\n",
        "<pre id='line5' class='code' style='background-color: #FFFFff'></pre><pre class='line' style='background-color: #FFFFff' onclick='toggleDiv(\"line6\")'> 6: @cython.wraparound(False)</pre>\n",
        "<pre id='line6' class='code' style='background-color: #FFFFff'></pre><pre class='line' style='background-color: #FFFF43' onclick='toggleDiv(\"line7\")'> 7: def sumOldBuffer(cnp.ndarray[cnp.int32_t, ndim=2] A):</pre>\n",
        "<pre id='line7' class='code' style='background-color: #FFFF43'>/* Python wrapper */\n",
        "static PyObject *__pyx_pw_46_cython_magic_32e8a3272a06322665107af4f4ce4d79_1sumOldBuffer(PyObject *__pyx_self, PyObject *__pyx_v_A); /*proto*/\n",
        "static PyMethodDef __pyx_mdef_46_cython_magic_32e8a3272a06322665107af4f4ce4d79_1sumOldBuffer = {<span class='pyx_macro_api'>__Pyx_NAMESTR</span>(\"sumOldBuffer\"), (PyCFunction)__pyx_pw_46_cython_magic_32e8a3272a06322665107af4f4ce4d79_1sumOldBuffer, METH_O, <span class='pyx_macro_api'>__Pyx_DOCSTR</span>(0)};\n",
        "static PyObject *__pyx_pw_46_cython_magic_32e8a3272a06322665107af4f4ce4d79_1sumOldBuffer(PyObject *__pyx_self, PyObject *__pyx_v_A) {\n",
        "  PyObject *__pyx_r = 0;\n",
        "  <span class='refnanny'>__Pyx_RefNannyDeclarations</span>\n",
        "  <span class='refnanny'>__Pyx_RefNannySetupContext</span>(\"sumOldBuffer (wrapper)\", 0);\n",
        "  if (unlikely(!<span class='pyx_c_api'>__Pyx_ArgTypeTest</span>(((PyObject *)__pyx_v_A), __pyx_ptype_5numpy_ndarray, 1, \"A\", 0))) <span class='error_goto'>{__pyx_filename = __pyx_f[0]; __pyx_lineno = 7; __pyx_clineno = __LINE__; goto __pyx_L1_error;}</span>\n",
        "  __pyx_r = __pyx_pf_46_cython_magic_32e8a3272a06322665107af4f4ce4d79_sumOldBuffer(__pyx_self, ((PyArrayObject *)__pyx_v_A));\n",
        "  CYTHON_UNUSED int __pyx_lineno = 0;\n",
        "  CYTHON_UNUSED const char *__pyx_filename = NULL;\n",
        "  CYTHON_UNUSED int __pyx_clineno = 0;\n",
        "\n",
        "  /* function exit code */\n",
        "  goto __pyx_L0;\n",
        "  __pyx_L1_error:;\n",
        "  __pyx_r = NULL;\n",
        "  __pyx_L0:;\n",
        "  <span class='refnanny'>__Pyx_RefNannyFinishContext</span>();\n",
        "  return __pyx_r;\n",
        "}\n",
        "\n",
        "static PyObject *__pyx_pf_46_cython_magic_32e8a3272a06322665107af4f4ce4d79_sumOldBuffer(CYTHON_UNUSED PyObject *__pyx_self, PyArrayObject *__pyx_v_A) {\n",
        "  int __pyx_v_nx;\n",
        "  int __pyx_v_ny;\n",
        "  int __pyx_v_i;\n",
        "  int __pyx_v_j;\n",
        "  long __pyx_v_s;\n",
        "  __Pyx_LocalBuf_ND __pyx_pybuffernd_A;\n",
        "  __Pyx_Buffer __pyx_pybuffer_A;\n",
        "  PyObject *__pyx_r = NULL;\n",
        "  <span class='refnanny'>__Pyx_RefNannyDeclarations</span>\n",
        "  <span class='refnanny'>__Pyx_RefNannySetupContext</span>(\"sumOldBuffer\", 0);\n",
        "  __pyx_pybuffer_A.pybuffer.buf = NULL;\n",
        "  __pyx_pybuffer_A.refcount = 0;\n",
        "  __pyx_pybuffernd_A.data = NULL;\n",
        "  __pyx_pybuffernd_A.rcbuffer = &amp;__pyx_pybuffer_A;\n",
        "  {\n",
        "    __Pyx_BufFmt_StackElem __pyx_stack[1];\n",
        "    if (unlikely(<span class='pyx_c_api'>__Pyx_GetBufferAndValidate</span>(&amp;__pyx_pybuffernd_A.rcbuffer-&gt;pybuffer, (PyObject*)__pyx_v_A, &amp;__Pyx_TypeInfo_nn___pyx_t_5numpy_int32_t, PyBUF_FORMAT| PyBUF_STRIDES, 2, 0, __pyx_stack) == -1)) <span class='error_goto'>{__pyx_filename = __pyx_f[0]; __pyx_lineno = 7; __pyx_clineno = __LINE__; goto __pyx_L1_error;}</span>\n",
        "  }\n",
        "  __pyx_pybuffernd_A.diminfo[0].strides = __pyx_pybuffernd_A.rcbuffer-&gt;pybuffer.strides[0]; __pyx_pybuffernd_A.diminfo[0].shape = __pyx_pybuffernd_A.rcbuffer-&gt;pybuffer.shape[0]; __pyx_pybuffernd_A.diminfo[1].strides = __pyx_pybuffernd_A.rcbuffer-&gt;pybuffer.strides[1]; __pyx_pybuffernd_A.diminfo[1].shape = __pyx_pybuffernd_A.rcbuffer-&gt;pybuffer.shape[1];\n",
        "/* \u2026 */\n",
        "  /* function exit code */\n",
        "  __pyx_L1_error:;\n",
        "  <span class='pyx_macro_api'>__Pyx_XDECREF</span>(__pyx_t_7);\n",
        "  { PyObject *__pyx_type, *__pyx_value, *__pyx_tb;\n",
        "    <span class='pyx_c_api'>__Pyx_ErrFetch</span>(&amp;__pyx_type, &amp;__pyx_value, &amp;__pyx_tb);\n",
        "    <span class='pyx_c_api'>__Pyx_SafeReleaseBuffer</span>(&amp;__pyx_pybuffernd_A.rcbuffer-&gt;pybuffer);\n",
        "  <span class='pyx_c_api'>__Pyx_ErrRestore</span>(__pyx_type, __pyx_value, __pyx_tb);}\n",
        "  <span class='pyx_c_api'>__Pyx_AddTraceback</span>(\"_cython_magic_32e8a3272a06322665107af4f4ce4d79.sumOldBuffer\", __pyx_clineno, __pyx_lineno, __pyx_filename);\n",
        "  __pyx_r = NULL;\n",
        "  goto __pyx_L2;\n",
        "  __pyx_L0:;\n",
        "  <span class='pyx_c_api'>__Pyx_SafeReleaseBuffer</span>(&amp;__pyx_pybuffernd_A.rcbuffer-&gt;pybuffer);\n",
        "  __pyx_L2:;\n",
        "  <span class='refnanny'>__Pyx_XGIVEREF</span>(__pyx_r);\n",
        "  <span class='refnanny'>__Pyx_RefNannyFinishContext</span>();\n",
        "  return __pyx_r;\n",
        "}\n",
        "/* \u2026 */\n",
        "  __pyx_tuple__7 = <span class='py_c_api'>PyTuple_Pack</span>(6, __pyx_n_s_A, __pyx_n_s_nx, __pyx_n_s_ny, __pyx_n_s_i, __pyx_n_s_j, __pyx_n_s_s);<span class='error_goto'> if (unlikely(!__pyx_tuple__7)) {__pyx_filename = __pyx_f[0]; __pyx_lineno = 7; __pyx_clineno = __LINE__; goto __pyx_L1_error;}</span>\n",
        "  <span class='refnanny'>__Pyx_GOTREF</span>(__pyx_tuple__7);\n",
        "  <span class='refnanny'>__Pyx_GIVEREF</span>(__pyx_tuple__7);\n",
        "/* \u2026 */\n",
        "  __pyx_t_1 = PyCFunction_NewEx(&amp;__pyx_mdef_46_cython_magic_32e8a3272a06322665107af4f4ce4d79_1sumOldBuffer, NULL, __pyx_n_s_cython_magic_32e8a3272a06322665);<span class='error_goto'> if (unlikely(!__pyx_t_1)) {__pyx_filename = __pyx_f[0]; __pyx_lineno = 7; __pyx_clineno = __LINE__; goto __pyx_L1_error;}</span>\n",
        "  <span class='refnanny'>__Pyx_GOTREF</span>(__pyx_t_1);\n",
        "  if (<span class='py_c_api'>PyDict_SetItem</span>(__pyx_d, __pyx_n_s_sumOldBuffer, __pyx_t_1) &lt; 0) <span class='error_goto'>{__pyx_filename = __pyx_f[0]; __pyx_lineno = 7; __pyx_clineno = __LINE__; goto __pyx_L1_error;}</span>\n",
        "  <span class='pyx_macro_api'>__Pyx_DECREF</span>(__pyx_t_1); __pyx_t_1 = 0;\n",
        "</pre><pre class='line' style='background-color: #FFFFff' onclick='toggleDiv(\"line8\")'> 8:   cdef int nx = A.shape[0], ny = A.shape[1]</pre>\n",
        "<pre id='line8' class='code' style='background-color: #FFFFff'>  __pyx_v_nx = (__pyx_v_A-&gt;dimensions[0]);\n",
        "  __pyx_v_ny = (__pyx_v_A-&gt;dimensions[1]);\n",
        "</pre><pre class='line' style='background-color: #FFFFff' onclick='toggleDiv(\"line9\")'> 9:   cdef int i, j</pre>\n",
        "<pre id='line9' class='code' style='background-color: #FFFFff'></pre><pre class='line' style='background-color: #FFFFff' onclick='toggleDiv(\"line10\")'> 10:   cdef long int s=0</pre>\n",
        "<pre id='line10' class='code' style='background-color: #FFFFff'>  __pyx_v_s = 0;\n",
        "</pre><pre class='line' style='background-color: #FFFFff' onclick='toggleDiv(\"line11\")'> 11: </pre>\n",
        "<pre id='line11' class='code' style='background-color: #FFFFff'></pre><pre class='line' style='background-color: #FFFFff' onclick='toggleDiv(\"line12\")'> 12:   for i in xrange(nx):</pre>\n",
        "<pre id='line12' class='code' style='background-color: #FFFFff'>  __pyx_t_1 = __pyx_v_nx;\n",
        "  for (__pyx_t_2 = 0; __pyx_t_2 &lt; __pyx_t_1; __pyx_t_2+=1) {\n",
        "    __pyx_v_i = __pyx_t_2;\n",
        "</pre><pre class='line' style='background-color: #FFFFff' onclick='toggleDiv(\"line13\")'> 13:         for j in xrange(ny):</pre>\n",
        "<pre id='line13' class='code' style='background-color: #FFFFff'>    __pyx_t_3 = __pyx_v_ny;\n",
        "    for (__pyx_t_4 = 0; __pyx_t_4 &lt; __pyx_t_3; __pyx_t_4+=1) {\n",
        "      __pyx_v_j = __pyx_t_4;\n",
        "</pre><pre class='line' style='background-color: #FFFFff' onclick='toggleDiv(\"line14\")'> 14:             s += A[i, j]</pre>\n",
        "<pre id='line14' class='code' style='background-color: #FFFFff'>      __pyx_t_5 = __pyx_v_i;\n",
        "      __pyx_t_6 = __pyx_v_j;\n",
        "      __pyx_v_s = (__pyx_v_s + (*__Pyx_BufPtrStrided2d(__pyx_t_5numpy_int32_t *, __pyx_pybuffernd_A.rcbuffer-&gt;pybuffer.buf, __pyx_t_5, __pyx_pybuffernd_A.diminfo[0].strides, __pyx_t_6, __pyx_pybuffernd_A.diminfo[1].strides)));\n",
        "    }\n",
        "  }\n",
        "</pre><pre class='line' style='background-color: #FFFFff' onclick='toggleDiv(\"line15\")'> 15: </pre>\n",
        "<pre id='line15' class='code' style='background-color: #FFFFff'></pre><pre class='line' style='background-color: #FFFFc4' onclick='toggleDiv(\"line16\")'> 16:   return s</pre>\n",
        "<pre id='line16' class='code' style='background-color: #FFFFc4'>  <span class='pyx_macro_api'>__Pyx_XDECREF</span>(__pyx_r);\n",
        "  __pyx_t_7 = <span class='pyx_c_api'>__Pyx_PyInt_From_long</span>(__pyx_v_s);<span class='error_goto'> if (unlikely(!__pyx_t_7)) {__pyx_filename = __pyx_f[0]; __pyx_lineno = 16; __pyx_clineno = __LINE__; goto __pyx_L1_error;}</span>\n",
        "  <span class='refnanny'>__Pyx_GOTREF</span>(__pyx_t_7);\n",
        "  __pyx_r = __pyx_t_7;\n",
        "  __pyx_t_7 = 0;\n",
        "  goto __pyx_L0;\n",
        "</pre></body></html>"
       ],
       "metadata": {},
       "output_type": "pyout",
       "prompt_number": 8,
       "text": [
        "<IPython.core.display.HTML at 0x2a2a290>"
       ]
      }
     ],
     "prompt_number": 8
    },
    {
     "cell_type": "markdown",
     "metadata": {
      "slideshow": {
       "slide_type": "subslide"
      }
     },
     "source": [
      "Nouvelle m\u00e9thode: memory view"
     ]
    },
    {
     "cell_type": "code",
     "collapsed": false,
     "input": [
      "%%cython\n",
      "import cython\n",
      "\n",
      "@cython.boundscheck(False)\n",
      "@cython.wraparound(False)\n",
      "def sumMemoryView(int[:, ::1] A):\n",
      "  cdef int nx = A.shape[0], ny = A.shape[1]\n",
      "  cdef int i, j\n",
      "  cdef long int s=0\n",
      "  \n",
      "  for i in xrange(nx):\n",
      "        for j in xrange(ny):\n",
      "            s += A[i, j]\n",
      "\n",
      "  return s"
     ],
     "language": "python",
     "metadata": {},
     "outputs": [],
     "prompt_number": 68
    },
    {
     "cell_type": "code",
     "collapsed": false,
     "input": [
      "import numpy as np\n",
      "a = np.arange(100*100, dtype=np.int32).reshape((100, 100))\n",
      "%timeit sumOldBuffer(a)\n",
      "%timeit sumMemoryView(a)\n",
      "%timeit np.sum(a)"
     ],
     "language": "python",
     "metadata": {
      "slideshow": {
       "slide_type": "subslide"
      }
     },
     "outputs": [
      {
       "output_type": "stream",
       "stream": "stdout",
       "text": [
        "100000 loops, best of 3: 4.9 \u00b5s per loop\n",
        "100000 loops, best of 3: 4.84 \u00b5s per loop"
       ]
      },
      {
       "output_type": "stream",
       "stream": "stdout",
       "text": [
        "\n",
        "10000 loops, best of 3: 20.4 \u00b5s per loop"
       ]
      },
      {
       "output_type": "stream",
       "stream": "stdout",
       "text": [
        "\n"
       ]
      }
     ],
     "prompt_number": 72
    },
    {
     "cell_type": "markdown",
     "metadata": {
      "slideshow": {
       "slide_type": "subslide"
      }
     },
     "source": [
      "### Memory view\n",
      "\n",
      "On peut cr\u00e9er une memory view de diff\u00e9rentes mani\u00e8res."
     ]
    },
    {
     "cell_type": "code",
     "collapsed": false,
     "input": [
      "cdef int [:, :, :] mv\n",
      "\n",
      "#memory view d'un tableau numpy\n",
      "mv = np.zeros((10, 10, 10), dtype=np.int32)\n",
      "\n",
      "#memory view d'un tableau c\n",
      "cdef int a[5][3][7] \n",
      "mv = a\n",
      "\n",
      "#memory view d'une autre memory view\n",
      "cdef int [:, :, :, :] mv4d\n",
      "mv = mv4d[1]"
     ],
     "language": "python",
     "metadata": {},
     "outputs": []
    },
    {
     "cell_type": "markdown",
     "metadata": {
      "slideshow": {
       "slide_type": "subslide"
      }
     },
     "source": [
      "On y acc\u00e8de de la m\u00eame mani\u00e8re qu'un tableau NumPy."
     ]
    },
    {
     "cell_type": "code",
     "collapsed": false,
     "input": [
      "# index comme en numpy\n",
      "mv[2, 3, 1]\n",
      "\n",
      "# slice comme en numpy\n",
      "mv [10, :, :] == mv[10] == mv[10, ...]"
     ],
     "language": "python",
     "metadata": {},
     "outputs": []
    },
    {
     "cell_type": "markdown",
     "metadata": {
      "slideshow": {
       "slide_type": "subslide"
      }
     },
     "source": [
      "On peut d\u00e9finir le stockage en m\u00e9moire auquel se r\u00e9f\u00e8rent les memory views."
     ]
    },
    {
     "cell_type": "code",
     "collapsed": false,
     "input": [
      "cdef int [:, :, ::1] mvc\n",
      "mvc = np.zeros((10, 10, 10), dtype=np.int32)\n",
      "\n",
      "cdef int [::1, :, :] mvf\n",
      "mvf = np.zeros((10, 10, 10), dtype=np.int32\n",
      "               order = 'F')"
     ],
     "language": "python",
     "metadata": {},
     "outputs": []
    },
    {
     "cell_type": "markdown",
     "metadata": {
      "slideshow": {
       "slide_type": "slide"
      }
     },
     "source": [
      "### Interfa\u00e7age avec une librairie C existante\n",
      "\n",
      "Cette partie est tir\u00e9e du cours de Xavier Juvigny donn\u00e9 lors de l'ANF du groupe Calcul sur \"Python avanc\u00e9 en calcul scientifique\".\n",
      "\n",
      "L'interfa\u00e7age avec une librairie C est utile lorsque l'on veut appeler des fonctions d\u00e9j\u00e0 programm\u00e9es dans ce langage bas niveau. Le principe est simple:\n",
      "\n",
      "- traduire ce dont on a besoin d'un `.h` dans un fichier `.pxd`,\n",
      "- puis importer le fichier `.pxd` dans un `.pyx` pour s'en servir."
     ]
    },
    {
     "cell_type": "markdown",
     "metadata": {
      "slideshow": {
       "slide_type": "subslide"
      }
     },
     "source": [
      "On peut par exemple utiliser les fonctions `sin` et `cos` de la librairie `math.h` de la fa\u00e7on suivante"
     ]
    },
    {
     "cell_type": "code",
     "collapsed": false,
     "input": [
      "%%file math.pxd\n",
      "cdef extern from \"math.h\":\n",
      "    double sin (double angle)\n",
      "    double cos (double angle)"
     ],
     "language": "python",
     "metadata": {},
     "outputs": [
      {
       "output_type": "stream",
       "stream": "stdout",
       "text": [
        "Writing math.pxd\n"
       ]
      }
     ],
     "prompt_number": 1
    },
    {
     "cell_type": "code",
     "collapsed": false,
     "input": [
      "%%file usemathc.pyx\n",
      "cimport math\n",
      "def sincos(angle):\n",
      "    \"\"\"\n",
      "    retourne le sinus et le cos de l'angle\n",
      "    \"\"\"\n",
      "    return math.sin(angle), math.cos(angle)"
     ],
     "language": "python",
     "metadata": {},
     "outputs": [
      {
       "output_type": "stream",
       "stream": "stdout",
       "text": [
        "Writing usemathc.pyx\n"
       ]
      }
     ],
     "prompt_number": 2
    },
    {
     "cell_type": "code",
     "collapsed": false,
     "input": [
      "import pyximport\n",
      "pyximport.install()\n",
      "import usemathc"
     ],
     "language": "python",
     "metadata": {
      "slideshow": {
       "slide_type": "subslide"
      }
     },
     "outputs": [],
     "prompt_number": 3
    },
    {
     "cell_type": "code",
     "collapsed": false,
     "input": [
      "print usemathc.sincos(0.)"
     ],
     "language": "python",
     "metadata": {},
     "outputs": [
      {
       "output_type": "stream",
       "stream": "stdout",
       "text": [
        "(0.0, 1.0)\n"
       ]
      }
     ],
     "prompt_number": 4
    },
    {
     "cell_type": "markdown",
     "metadata": {
      "slideshow": {
       "slide_type": "slide"
      }
     },
     "source": [
      "### Utilisation du parall\u00e9lisme\n",
      "\n",
      "Il est possible avec Cython d'appeler openMP pour parall\u00e9liser des boucles. Il suffit d'importer le module `cython.parallel`.\n",
      "\n",
      "Il existe 2 fa\u00e7ons de parall\u00e9liser:\n",
      "\n",
      "- **`prange`**"
     ]
    },
    {
     "cell_type": "code",
     "collapsed": false,
     "input": [
      "%%cython -f -c-fopenmp --link-args=-fopenmp\n",
      "import cython\n",
      "from cython.parallel import prange\n",
      "\n",
      "@cython.boundscheck(False)\n",
      "@cython.wraparound(False)\n",
      "def multWithScalar(double [:] x, double alpha):\n",
      "    cdef int i\n",
      "    with nogil:\n",
      "        for i in prange(x.shape[0], schedule='static'):\n",
      "            x[i] = alpha * x[i]"
     ],
     "language": "python",
     "metadata": {},
     "outputs": [],
     "prompt_number": 16
    },
    {
     "cell_type": "code",
     "collapsed": false,
     "input": [
      "import numpy as np\n",
      "x = np.random.rand(1000000)\n",
      "%timeit 2.5*x\n",
      "%timeit multWithScalar(x, 2.5)"
     ],
     "language": "python",
     "metadata": {
      "slideshow": {
       "slide_type": "subslide"
      }
     },
     "outputs": [
      {
       "output_type": "stream",
       "stream": "stdout",
       "text": [
        "1000 loops, best of 3: 1.55 ms per loop\n",
        "1000 loops, best of 3: 880 \u00b5s per loop"
       ]
      },
      {
       "output_type": "stream",
       "stream": "stdout",
       "text": [
        "\n"
       ]
      }
     ],
     "prompt_number": 17
    },
    {
     "cell_type": "markdown",
     "metadata": {
      "slideshow": {
       "slide_type": "subslide"
      }
     },
     "source": [
      "schedule peut \u00eatre de plusieurs types\n",
      "\n",
      "- **static**\n",
      "- **dynamic**\n",
      "- **guided**\n",
      "- **runtime**\n",
      "\n",
      "Pour plus d'informations: http://docs.cython.org/src/userguide/parallelism.html"
     ]
    },
    {
     "cell_type": "markdown",
     "metadata": {
      "slideshow": {
       "slide_type": "subslide"
      }
     },
     "source": [
      "- **`parallel`**\n",
      "\n",
      "Voici l'exemple de la documentation qui permet d'utiliser un buffer local utilis\u00e9 par un `prange`"
     ]
    },
    {
     "cell_type": "code",
     "collapsed": false,
     "input": [
      "from cython.parallel import parallel, prange\n",
      "from libc.stdlib cimport abort, malloc, free\n",
      "\n",
      "cdef Py_ssize_t idx, i, n = 100\n",
      "cdef int * local_buf\n",
      "cdef size_t size = 10\n",
      "\n",
      "with nogil, parallel():\n",
      "    local_buf = <int *> malloc(sizeof(int) * size)\n",
      "    if local_buf == NULL:\n",
      "        abort()\n",
      "\n",
      "    # populate our local buffer in a sequential loop\n",
      "    for i in xrange(size):\n",
      "        local_buf[i] = i * 2\n",
      "\n",
      "    # share the work using the thread-local buffer(s)\n",
      "    for i in prange(n, schedule='guided'):\n",
      "        func(local_buf)\n",
      "\n",
      "    free(local_buf)"
     ],
     "language": "python",
     "metadata": {},
     "outputs": []
    }
   ],
   "metadata": {}
  }
 ]
}