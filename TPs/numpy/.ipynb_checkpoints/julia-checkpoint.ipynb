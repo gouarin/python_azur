{
 "metadata": {
  "name": "",
  "signature": "sha256:67f1297d91a750e308143182ed1cc315640e395e1fa33c8f2c8f94565c1b5192"
 },
 "nbformat": 3,
 "nbformat_minor": 0,
 "worksheets": [
  {
   "cells": [
    {
     "cell_type": "markdown",
     "metadata": {
      "internals": {
       "slide_helper": "subslide_end",
       "slide_type": "subslide"
      },
      "slide_helper": "slide_end",
      "slideshow": {
       "slide_type": "slide"
      }
     },
     "source": [
      "# Ensemble de Julia"
     ]
    },
    {
     "cell_type": "markdown",
     "metadata": {
      "internals": {
       "slide_helper": "subslide_end",
       "slide_type": "subslide"
      },
      "slide_helper": "slide_end",
      "slideshow": {
       "slide_type": "slide"
      }
     },
     "source": [
      "Soit $z_0$ un nombre complexe que l'on associe aux points du plan. Si un point a pour coordonn\u00e9es $(x, y)$ alors $z_0=x + iy$ (o\u00f9 $i^2=-1$). Soit $c$ un autre nombre complexe constant. On d\u00e9finit une suite $z_n$ par la relation de r\u00e9currence\n",
      "\n",
      "$$\n",
      "z_{n+1} = z_n^2 + c.\n",
      "$$\n",
      "\n",
      "Alors l'ensemble de Julia est l'ensemble des points $z_0$ dont la suite des it\u00e9r\u00e9s reste born\u00e9e."
     ]
    },
    {
     "cell_type": "markdown",
     "metadata": {
      "internals": {
       "slide_type": "subslide"
      },
      "slideshow": {
       "slide_type": "slide"
      }
     },
     "source": [
      "### D\u00e9finition des param\u00e8tres pour nos tests"
     ]
    },
    {
     "cell_type": "code",
     "collapsed": false,
     "input": [
      "# taille de la grille\n",
      "#nx, ny = 128, 128\n",
      "nx, ny = 1024, 1024\n",
      "# limites indiquant quand la suite diverge\n",
      "lim, maxit = 400, 2000\n",
      "# valeurs \u00e0 visualiser \n",
      "vmin, vmax = 0, 200\n",
      "# d\u00e9finition de la grille\n",
      "x = np.linspace(-1.6, 1.6, nx)\n",
      "y = np.linspace(-1.6, 1.6, ny)\n",
      "c = -0.772691322542185 + 0.124281466072787j"
     ],
     "language": "python",
     "metadata": {
      "internals": {
       "slide_helper": "subslide_end"
      },
      "slide_helper": "slide_end",
      "slideshow": {
       "slide_type": "-"
      }
     },
     "outputs": [],
     "prompt_number": 2
    },
    {
     "cell_type": "markdown",
     "metadata": {
      "internals": {
       "slide_type": "subslide"
      },
      "slideshow": {
       "slide_type": "slide"
      }
     },
     "source": [
      "### Question 1\n",
      "Ecrivez une premi\u00e8re version en utilisant du Python pur. La strucutre de la fonction est la suivante"
     ]
    },
    {
     "cell_type": "code",
     "collapsed": false,
     "input": [
      "def juliasetPurePython(x, y, c, lim, maxit):\n",
      "    \"\"\" \n",
      "    Renvoie l'ensemble de Julia\n",
      "    \n",
      "    Param\u00e8tres\n",
      "    ----------\n",
      "    x: coordonn\u00e9es des parties r\u00e9elles regard\u00e9es\n",
      "    y: coordonn\u00e9es des parties imaginaires regard\u00e9es\n",
      "    c: nombre complexe figurant dans z^2 + c\n",
      "    lim: limite du module complexe \u00e0 partir de laquelle la suite est dite divergente\n",
      "    maxit: nombre d'it\u00e9r\u00e9s maximal\n",
      "    \n",
      "    \"\"\"\n"
     ],
     "language": "python",
     "metadata": {
      "internals": {},
      "slideshow": {
       "slide_type": "-"
      }
     },
     "outputs": [],
     "prompt_number": 3
    },
    {
     "cell_type": "code",
     "collapsed": false,
     "input": [
      "julia1 = juliasetPurePython(x, y, c, lim, maxit)"
     ],
     "language": "python",
     "metadata": {
      "internals": {
       "slide_helper": "subslide_end"
      },
      "slide_helper": "slide_end",
      "slideshow": {
       "slide_type": "-"
      }
     },
     "outputs": [],
     "prompt_number": 4
    },
    {
     "cell_type": "markdown",
     "metadata": {
      "internals": {
       "slide_type": "subslide"
      },
      "slideshow": {
       "slide_type": "slide"
      }
     },
     "source": [
      "### Fonction permettant de r\u00e9cup\u00e9rer l'ensemble des temps d'ex\u00e9cution"
     ]
    },
    {
     "cell_type": "code",
     "collapsed": false,
     "input": [
      "def myTimer(fonction, fonction_args=(), nrep=10):\n",
      "    t = timer()\n",
      "    for i in xrange(nrep):\n",
      "        fonction(*fonction_args)\n",
      "    try:\n",
      "        name = fonction.__name__\n",
      "    except:\n",
      "        name = fonction.py_func.func_name\n",
      "    return [name, (timer() - t)/nrep]"
     ],
     "language": "python",
     "metadata": {
      "internals": {},
      "slideshow": {
       "slide_type": "-"
      }
     },
     "outputs": [],
     "prompt_number": 16
    },
    {
     "cell_type": "code",
     "collapsed": false,
     "input": [
      "import copy\n",
      "from pandas import DataFrame\n",
      "\n",
      "def printTable(execTime):\n",
      "    t = np.zeros(len(execTime))\n",
      "    cdata = copy.deepcopy(execTime)\n",
      "\n",
      "    for i in xrange(len(cdata)):\n",
      "        t[i] = cdata[i][1]\n",
      "        \n",
      "    mx = np.max(t)\n",
      "    for d in cdata:\n",
      "        d.append(mx/d[1])\n",
      "\n",
      "    df = DataFrame(data = cdata, columns=['Nom des fonctions', \"Temps d'ex\u00e9cution\", \"Rapport\"])\n",
      "    return df"
     ],
     "language": "python",
     "metadata": {
      "internals": {
       "slide_helper": "subslide_end"
      },
      "slide_helper": "slide_end",
      "slideshow": {
       "slide_type": "-"
      }
     },
     "outputs": [],
     "prompt_number": 6
    },
    {
     "cell_type": "markdown",
     "metadata": {
      "internals": {
       "slide_type": "subslide"
      },
      "slideshow": {
       "slide_type": "slide"
      }
     },
     "source": [
      "### Question 2\n",
      "Ecrivez la version NumPy."
     ]
    },
    {
     "cell_type": "markdown",
     "metadata": {
      "internals": {},
      "slideshow": {
       "slide_type": "-"
      }
     },
     "source": [
      "Dans cette version, on essaie de vectoriser au maximum. Le co\u00fbt ici est que l'on fait plus d'op\u00e9rations que dans le cas Python pur. On ne gagne donc pas forc\u00e9ment beaucoup de temps comme on le verra par la suite."
     ]
    },
    {
     "cell_type": "code",
     "collapsed": false,
     "input": [],
     "language": "python",
     "metadata": {},
     "outputs": []
    },
    {
     "cell_type": "markdown",
     "metadata": {
      "internals": {
       "slide_type": "subslide"
      },
      "slideshow": {
       "slide_type": "subslide"
      }
     },
     "source": [
      "On calcule les temps d'ex\u00e9cution pour les versions Python pur et Numpy et on constate que l'on n'a pas gagn\u00e9 grand chose."
     ]
    },
    {
     "cell_type": "code",
     "collapsed": false,
     "input": [
      "execution_times = []\n",
      "execution_times.append(myTimer(juliasetPurePython, (x, y, c, lim, maxit), 1))\n",
      "execution_times.append(myTimer(juliasetNumpy, (x, y, c, lim, maxit), 1))"
     ],
     "language": "python",
     "metadata": {
      "internals": {},
      "slideshow": {
       "slide_type": "-"
      }
     },
     "outputs": [],
     "prompt_number": 10
    },
    {
     "cell_type": "code",
     "collapsed": false,
     "input": [
      "printTable(execution_times)"
     ],
     "language": "python",
     "metadata": {
      "internals": {
       "slide_helper": "subslide_end"
      },
      "slide_helper": "slide_end",
      "slideshow": {
       "slide_type": "-"
      }
     },
     "outputs": []
    },
    {
     "cell_type": "markdown",
     "metadata": {
      "internals": {
       "slide_type": "subslide"
      },
      "slideshow": {
       "slide_type": "slide"
      }
     },
     "source": [
      "### Question 3\n",
      "Ecrivez la version Cython."
     ]
    },
    {
     "cell_type": "markdown",
     "metadata": {
      "internals": {},
      "slideshow": {
       "slide_type": "-"
      }
     },
     "source": [
      "On dit au *notebook* que l'on va se servir de cython \u00e0 l'aide de la commande"
     ]
    },
    {
     "cell_type": "code",
     "collapsed": false,
     "input": [
      "%load_ext cythonmagic"
     ],
     "language": "python",
     "metadata": {
      "internals": {},
      "slideshow": {
       "slide_type": "-"
      }
     },
     "outputs": [],
     "prompt_number": 12
    },
    {
     "cell_type": "markdown",
     "metadata": {
      "internals": {
       "slide_helper": "subslide_end"
      },
      "slide_helper": "subslide_end",
      "slideshow": {
       "slide_type": "-"
      }
     },
     "source": [
      "On commence par faire une premi\u00e8re version qui ressemble fortement \u00e0 la version Python pur sauf que l'on ajoute le typage de nos variables. Il faut \u00e9galement lui dire ce qu'est le module complexe car cette fonction n'existe pas en langage C."
     ]
    },
    {
     "cell_type": "code",
     "collapsed": false,
     "input": [
      "%%cython\n",
      "# ajouter l'option -a si vous voulez voir le code \n"
     ],
     "language": "python",
     "metadata": {
      "internals": {
       "slide_helper": "subslide_end",
       "slide_type": "subslide"
      },
      "slide_helper": "subslide_end",
      "slideshow": {
       "slide_type": "subslide"
      }
     },
     "outputs": [],
     "prompt_number": 17
    },
    {
     "cell_type": "code",
     "collapsed": false,
     "input": [
      "execution_times.append(myTimer(juliasetCython_v1, (x, y, c, lim, maxit), 100))"
     ],
     "language": "python",
     "metadata": {
      "internals": {
       "slide_type": "subslide"
      },
      "slideshow": {
       "slide_type": "subslide"
      }
     },
     "outputs": [],
     "prompt_number": 18
    },
    {
     "cell_type": "code",
     "collapsed": false,
     "input": [
      "printTable(execution_times)"
     ],
     "language": "python",
     "metadata": {
      "internals": {},
      "slideshow": {
       "slide_type": "-"
      }
     },
     "outputs": []
    },
    {
     "cell_type": "markdown",
     "metadata": {
      "internals": {
       "slide_helper": "subslide_end"
      },
      "slide_helper": "subslide_end",
      "slideshow": {
       "slide_type": "-"
      }
     },
     "source": [
      "Si on regarde un peu plus finement ce qu'il se passe, on se rend compte que l'on a encore une couche Python dans la fonction *cabs* qui permet de r\u00e9cup\u00e9rer la partie r\u00e9elle et imaginaire de $z$. On va donc \u00e9crire \u00e0 pr\u00e9sent une version qui n'a plus besoin du type *double complex*."
     ]
    },
    {
     "cell_type": "code",
     "collapsed": false,
     "input": [
      "%%cython\n"
     ],
     "language": "python",
     "metadata": {
      "internals": {
       "slide_helper": "subslide_end",
       "slide_type": "subslide"
      },
      "slide_helper": "subslide_end",
      "slideshow": {
       "slide_type": "subslide"
      }
     },
     "outputs": [],
     "prompt_number": 20
    },
    {
     "cell_type": "code",
     "collapsed": false,
     "input": [
      "execution_times.append(myTimer(juliasetCython_v2, (x, y, c, lim, maxit), 100))"
     ],
     "language": "python",
     "metadata": {
      "internals": {
       "slide_type": "subslide"
      },
      "slideshow": {
       "slide_type": "subslide"
      }
     },
     "outputs": [],
     "prompt_number": 21
    },
    {
     "cell_type": "code",
     "collapsed": false,
     "input": [
      "printTable(execution_times)"
     ],
     "language": "python",
     "metadata": {
      "internals": {
       "slide_helper": "subslide_end"
      },
      "slide_helper": "subslide_end",
      "slideshow": {
       "slide_type": "-"
      }
     },
     "outputs": []
    },
    {
     "cell_type": "markdown",
     "metadata": {
      "internals": {
       "slide_type": "subslide"
      },
      "slideshow": {
       "slide_type": "subslide"
      }
     },
     "source": [
      "Ce genre d'exemple se parall\u00e9lise tr\u00e8s bien avec openMP et cython offre la possibilit\u00e9 de parall\u00e9liser des boucles en utilisant soit *prange*, soit *parallel* se trouvant dans le module *cython.parallel*."
     ]
    },
    {
     "cell_type": "code",
     "collapsed": false,
     "input": [
      "%%cython -f -c-fopenmp --link-args=-fopenmp\n",
      "import numpy as np\n",
      "import cython\n",
      "from cython.parallel import prange\n",
      "from libc.stdlib cimport malloc, free \n"
     ],
     "language": "python",
     "metadata": {
      "internals": {
       "slide_helper": "subslide_end"
      },
      "slide_helper": "subslide_end",
      "slideshow": {
       "slide_type": "-"
      }
     },
     "outputs": [],
     "prompt_number": 23
    },
    {
     "cell_type": "code",
     "collapsed": false,
     "input": [
      "execution_times.append(myTimer(juliasetCython_openMP, (x, y, c, lim, maxit), 100))"
     ],
     "language": "python",
     "metadata": {
      "internals": {
       "slide_type": "subslide"
      },
      "slideshow": {
       "slide_type": "subslide"
      }
     },
     "outputs": [],
     "prompt_number": 24
    },
    {
     "cell_type": "code",
     "collapsed": false,
     "input": [
      "printTable(execution_times)"
     ],
     "language": "python",
     "metadata": {
      "internals": {
       "slide_helper": "subslide_end"
      },
      "slide_helper": "slide_end",
      "slideshow": {
       "slide_type": "-"
      }
     },
     "outputs": []
    }
   ],
   "metadata": {}
  }
 ]
}