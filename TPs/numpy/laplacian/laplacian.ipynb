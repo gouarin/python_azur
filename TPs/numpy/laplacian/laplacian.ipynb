{
 "metadata": {
  "name": "",
  "signature": "sha256:7382c2fe790d6e3b6ac4247da70dce7dedf72702423f290006468ff73cb7f33b"
 },
 "nbformat": 3,
 "nbformat_minor": 0,
 "worksheets": [
  {
   "cells": [
    {
     "cell_type": "markdown",
     "metadata": {},
     "source": [
      "# Probl\u00e8me de Poisson et \u00e9quation de la chaleur\n",
      "\n",
      "On s'int\u00e9resse dans ce TP \u00e0 r\u00e9soudre le probl\u00e8me de Poisson en dimension $2$ ou $3$, sur un ouvert born\u00e9 $\\Omega$ de $\\mathbb{R}^d$, $d=2$ ou $3$\n",
      "\n",
      "$$\n",
      "\\left\\{\n",
      "\\begin{array}{l}\n",
      "-\\Delta u = f \\; \\text{sur} \\; \\Omega, \\\\\\\\\n",
      "u = g \\; \\text{sur} \\; \\partial \\Omega.\n",
      "\\end{array}\n",
      "\\right.\n",
      "$$\n",
      "\n",
      "o\u00f9 $f$ et $g$ sont des fonctions donn\u00e9es.\n",
      "\n",
      "Pour des raisons de simplicit\u00e9, nous chercherons \u00e0 r\u00e9soudre ce probl\u00e8me sur un domaine rectangulaire.\n",
      "\n",
      "Prenons le cas en dimension $2$ o\u00f9 $\\Omega=[a, b]\\times[c, d]$. Pour construire une solution approch\u00e9e, on se donne $2$ entiers $N>1$ et $M>1$, les pas de discr\u00e9tisation $h_x=\\frac{b-a}{N+1}$ et $h_y=\\frac{d-c}{M+1}$ et une grille du domaine $\\Omega$ d\u00e9finie par\n",
      "\n",
      "$$\n",
      "\\begin{array}{l}\n",
      "x_i = a+ih_x  \\; \\text{pour} \\; i=0,\\cdots,N+1,\\\\\n",
      "y_j = c+jh_y \\; \\text{pour} \\; j=0,\\cdots,M+1.\n",
      "\\end{array}\n",
      "$$\n",
      "\n",
      "On cherche \u00e0 calculer une solution approch\u00e9e not\u00e9e $u_{i,j}$ aux points $(x_i, y_j)$. En utilisant des approximations de Taylor dans les deux directions, on approche le Laplacien par\n",
      "\n",
      "$$\n",
      "\\Delta u(x_i, y_j) \\approx \\frac{u_{i-1,j}-2u_{i,j}+u_{i+1,j}}{h_x^2}+\\frac{u_{i,j-1}-2u_{i,j}+u_{i,j+1}}{h_y^2}.\n",
      "$$\n",
      "\n",
      "On r\u00e9sout donc le probl\u00e8me discret suivant\n",
      "\n",
      "$$\n",
      "\\left\\{\n",
      "\\begin{array}{l}\n",
      "\\frac{-u_{i-1,j}+2u_{i,j}-u_{i+1,j}}{h_x^2}+\\frac{-u_{i,j-1}+2u_{i,j}-u_{i,j+1}}{h_y^2} = f_{i,j} \\; \\text{pour} \\; i=1,\\cdots,N \\; \\text{et} \\; j=1,\\cdots,M, \\\\\\\\\n",
      "u_{0,j} = g^1_j \\; \\text{pour} \\; j=1,\\cdots,M, \\\\\\\\\n",
      "u_{N+1,j} = g^2_j \\; \\text{pour} \\; j=1,\\cdots,M, \\\\\\\\\n",
      "u_{i,0} = g^3_i \\; \\text{pour} \\; i=1,\\cdots,N, \\\\\\\\\n",
      "u_{i,M+1} = g^4_i \\; \\text{pour} \\; i=1,\\cdots,N.\n",
      "\\end{array}\n",
      "\\right.\n",
      "$$\n",
      "\n",
      "ce qui peut \u00e9galement se r\u00e9\u00e9crire sous la forme matriciel suivante\n",
      "\n",
      "$$\n",
      "Au=\n",
      "\\left[\n",
      "\\begin{array}{ccccc}\n",
      "A_x & A_y & 0 & \\cdots & 0 \\\\\n",
      "A_y & A_x & A_y & \\ddots & \\vdots \\\\\n",
      "0 & \\ddots & \\ddots& \\ddots & 0\\\\\n",
      "\\vdots& \\ddots& A_y & A_x & A_y \\\\\n",
      "0& \\cdots& 0& A_y & A_x \n",
      "\\end{array}\n",
      "\\right]u = b\n",
      "$$\n",
      "\n",
      "avec\n",
      "\n",
      "$$\n",
      "A_x=\n",
      "\\left[\n",
      "\\begin{array}{ccccc}\n",
      "\\frac{2}{h_x^2} + \\frac{2}{h_y^2} & -\\frac{1}{h_x^2} & 0 & \\cdots & 0 \\\\\n",
      "-\\frac{1}{h_x^2} & \\frac{2}{h_x^2} + \\frac{2}{h_y^2} & -\\frac{1}{h_x^2} & \\ddots & \\vdots \\\\\n",
      "0 & \\ddots & \\ddots& \\ddots & 0\\\\\n",
      "\\vdots& \\ddots& -\\frac{1}{h_x^2} & \\frac{2}{h_x^2} + \\frac{2}{h_y^2} & -\\frac{1}{h_x^2} \\\\\n",
      "0& \\cdots& 0& -\\frac{1}{h_x^2} & \\frac{2}{h_x^2} + \\frac{2}{h_y^2}\n",
      "\\end{array}\n",
      "\\right]\n",
      "$$\n",
      "\n",
      "et \n",
      "\n",
      "$$\n",
      "A_y=\n",
      "\\left[\n",
      "\\begin{array}{ccccc}\n",
      "-\\frac{1}{h_y^2} & 0 & \\cdots& \\cdots & 0 \\\\\n",
      "0 & -\\frac{1}{h_y^2} & \\ddots && \\vdots \\\\\n",
      "\\vdots & \\ddots & \\ddots& \\ddots& \\vdots \\\\\n",
      "\\vdots& & \\ddots& -\\frac{1}{h_y^2}  & 0 \\\\\n",
      "0& \\cdots& 0& 0 &  -\\frac{1}{h_y^2}\n",
      "\\end{array}\n",
      "\\right]\n",
      "$$\n",
      "\n",
      "$u$ est le vecteur solution $ [u_{1,1}, u_{2,1}, \\cdots, u_{i,j}, \\cdots, u_{N-1,M}, u_{N, M}]^T$ et $b$ est le second membre regroupant la fonction $f$ et les conditions de Dirichlet.\n"
     ]
    },
    {
     "cell_type": "markdown",
     "metadata": {},
     "source": [
      "### Question 1\n",
      "Ecrivez une fonction `laplacien` qui prend en param\u00e8tre la solution `u` et les pas de discr\u00e9tisation et renvoie le produit matrice-vecteur avec la matrice du laplacien pr\u00e9sent\u00e9e pr\u00e9c\u00e9demment."
     ]
    },
    {
     "cell_type": "markdown",
     "metadata": {},
     "source": [
      "### Question 2\n",
      "Ecrivez une fonction `setDirichlet` qui prend en param\u00e8tre le second membre $b$ et les pas de discr\u00e9tisation et qui rajoute les conditions de Dirichlet suivantes\n",
      "\n",
      "$$\n",
      "u(x, y) = \\left\\{\n",
      "\\begin{array}{l}\n",
      "1 \\; \\text{si} \\; x=a \\; \\text{et} \\; y\\in[c,d], \\\\\n",
      "0 \\; \\text{sinon}.\n",
      "\\end{array}\n",
      "\\right.\n",
      "$$"
     ]
    },
    {
     "cell_type": "markdown",
     "metadata": {},
     "source": [
      "### Question 3\n",
      "Il existe diff\u00e9rentes m\u00e9thodes pour r\u00e9soudre le syst\u00e8me lin\u00e9aire $Au=b$. Nous choisissons ici d'impl\u00e9menter la m\u00e9thode du *gradient conjugu\u00e9* donn\u00e9e par l'algorithme suivant\n",
      "\n",
      "\n",
      "<center>\n",
      "<img src='files/CG.png' style='width: 60%;' />\n",
      "*Iterative Methods for Sparse Linear Systems - Youcef Saad*\n",
      "</center>\n",
      "\n",
      "\n",
      "Nous prendrons $f=0$ sur $\\Omega$.\n",
      "\n",
      "Le prototype de la fonction Python est"
     ]
    },
    {
     "cell_type": "code",
     "collapsed": false,
     "input": [
      "def conjugateGradient(matMult, b, x, prodScal = None, extraMatMult=(), \n",
      "                      maxite = 500, tol = 1e-6):\n",
      "    \"\"\"\n",
      "    Gradient conjugue\n",
      "\n",
      "    Parameters :\n",
      "    ------------\n",
      "    matMult: fonction indiquant comment faire le produit matrice vecteur qui prend \n",
      "             au moins comme parametre un vecteur\n",
      "\n",
      "    b: second membre\n",
      "\n",
      "    x: solution recherchee\n",
      "\n",
      "    prodScal: fonction indiquant comment faire le produit scalaire\n",
      "              defaut: None prend numpy.dot\n",
      "\n",
      "    extraMatMult: parametres optionnels dans la fonction matMult\n",
      "\n",
      "    maxite: nombre maximal d'iterations \n",
      "\n",
      "    tol: tolerance recherchee\n",
      "\n",
      "    \"\"\" "
     ],
     "language": "python",
     "metadata": {},
     "outputs": []
    },
    {
     "cell_type": "markdown",
     "metadata": {},
     "source": [
      "### Question 4\n",
      "Ecrivez une fonction `laplacianSparse` qui prend en param\u00e8tre $N$, $M$ et les pas de discr\u00e9tisation et qui retourne une matrice creuse construite \u00e0 l'aide du module `sparse` de `scipy`."
     ]
    },
    {
     "cell_type": "markdown",
     "metadata": {},
     "source": [
      "### Question 5 \n",
      "Testez la m\u00e9thode du gradient conjugu\u00e9 sur cette matrice."
     ]
    },
    {
     "cell_type": "markdown",
     "metadata": {},
     "source": [
      "### Question 6\n",
      "Testez le gradient conjugu\u00e9 que l'on trouve dans le module de `linalg` de `scipy.sparse`. V\u00e9rifiez que l'on obtient bien la m\u00eame chose qu'avec le gradient conjugu\u00e9 \u00e9crit pr\u00e9c\u00e9demment."
     ]
    },
    {
     "cell_type": "markdown",
     "metadata": {},
     "source": [
      "### Question 7\n",
      "Ecrivez un sch\u00e9ma d'Euler explicite. Le prototype de la fonction Python est"
     ]
    },
    {
     "cell_type": "code",
     "collapsed": false,
     "input": [
      "def euler(u, dt, f, fargs=()):\n",
      "    \"\"\"\n",
      "    Euler explicite pour un systeme \n",
      "\n",
      "    d u\n",
      "    --- = f(u, t)\n",
      "    d t\n",
      "    \n",
      "    Parameters :\n",
      "    ------------\n",
      "\n",
      "    u: solution a l'instant n\n",
      "    \n",
      "    dt:  pas de temps du schema\n",
      "    \n",
      "    f: fonction second membre\n",
      "\n",
      "    fargs: parametres optionnels de la fonction autre que u\n",
      "\n",
      "    Output :\n",
      "    --------\n",
      "\n",
      "    solution a l'instant n + 1\n",
      "\n",
      "    \"\"\"  "
     ],
     "language": "python",
     "metadata": {},
     "outputs": []
    },
    {
     "cell_type": "markdown",
     "metadata": {},
     "source": [
      "### Question 8\n",
      "Testez votre fonction `euler` en r\u00e9solvant l'\u00e9quation de la chaleur\n",
      "\n",
      "$$\n",
      "\\left\\{\n",
      "\\begin{array}{l}\n",
      "\\frac{\\partial u}{\\partial t}-\\Delta u = 0 \\; \\text{sur} \\; \\Omega, \\\\\\\\\n",
      "u = 0 \\; \\text{sur} \\; \\partial \\Omega.\n",
      "\\end{array}\n",
      "\\right.\n",
      "$$\n",
      "\n",
      "en prenant la solution initiale suivante\n",
      "\n",
      "$$\n",
      "u_0(x, y) = 100e^{-100((x-0.5)^2 + (y -0.5)^2))}.\n",
      "$$\n",
      "\n",
      "On prendra comme domaine $\\Omega=[0, 1]\\times[0,1]$, comme pas d'espace $h_x=0.01$, $h_y=0.01$ et enfin comme pas de temps $dt=h_x^2/4$."
     ]
    },
    {
     "cell_type": "markdown",
     "metadata": {},
     "source": [
      "### Question 9\n",
      "\n",
      "Repr\u00e9sentez la solution 2D \u00e0 l'aide de `matplotlib` (pour la chaleur on fera l'animation en temps)."
     ]
    },
    {
     "cell_type": "code",
     "collapsed": false,
     "input": [],
     "language": "python",
     "metadata": {},
     "outputs": []
    }
   ],
   "metadata": {}
  }
 ]
}