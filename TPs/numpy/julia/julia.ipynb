{
 "metadata": {
  "name": "",
  "signature": "sha256:68bd7d8726d419d1740f2284bc7d601471df183204a8f958f7c3ec1d850ee209"
 },
 "nbformat": 3,
 "nbformat_minor": 0,
 "worksheets": [
  {
   "cells": [
    {
     "cell_type": "markdown",
     "metadata": {
      "internals": {
       "slide_helper": "subslide_end",
       "slide_type": "subslide"
      },
      "slide_helper": "slide_end",
      "slideshow": {
       "slide_type": "slide"
      }
     },
     "source": [
      "# Ensemble de Julia"
     ]
    },
    {
     "cell_type": "markdown",
     "metadata": {
      "internals": {
       "slide_helper": "subslide_end",
       "slide_type": "subslide"
      },
      "slide_helper": "slide_end",
      "slideshow": {
       "slide_type": "slide"
      }
     },
     "source": [
      "Soit $z_0$ un nombre complexe que l'on associe aux points du plan. Si un point a pour coordonn\u00e9es $(x, y)$ alors $z_0=x + iy$ (o\u00f9 $i^2=-1$). Soit $c$ un autre nombre complexe constant. On d\u00e9finit une suite $z_n$ par la relation de r\u00e9currence\n",
      "\n",
      "$$\n",
      "z_{n+1} = z_n^2 + c.\n",
      "$$\n",
      "\n",
      "Alors l'ensemble de Julia est l'ensemble des points $z_0$ dont la suite des it\u00e9r\u00e9s reste born\u00e9e."
     ]
    },
    {
     "cell_type": "markdown",
     "metadata": {
      "internals": {
       "slide_type": "subslide"
      },
      "slideshow": {
       "slide_type": "slide"
      }
     },
     "source": [
      "### D\u00e9finition des param\u00e8tres pour nos tests"
     ]
    },
    {
     "cell_type": "code",
     "collapsed": false,
     "input": [
      "import numpy as np\n",
      "# taille de la grille\n",
      "nx, ny = 512, 512\n",
      "#nx, ny = 1024, 1024\n",
      "# limites indiquant quand la suite diverge\n",
      "lim, maxit = 400, 2000\n",
      "# valeurs \u00e0 visualiser \n",
      "vmin, vmax = 0, 200\n",
      "# d\u00e9finition de la grille\n",
      "x = np.linspace(-1.6, 1.6, nx)\n",
      "y = np.linspace(-1.6, 1.6, ny)\n",
      "c = -0.772691322542185 + 0.124281466072787j\n",
      "print 2 + 1j*4, abs(1j)"
     ],
     "language": "python",
     "metadata": {
      "internals": {
       "slide_helper": "subslide_end"
      },
      "slide_helper": "slide_end",
      "slideshow": {
       "slide_type": "-"
      }
     },
     "outputs": [
      {
       "output_type": "stream",
       "stream": "stdout",
       "text": [
        "(2+4j) 1.0\n"
       ]
      }
     ],
     "prompt_number": 3
    },
    {
     "cell_type": "markdown",
     "metadata": {
      "internals": {
       "slide_type": "subslide"
      },
      "slideshow": {
       "slide_type": "slide"
      }
     },
     "source": [
      "### Question 1\n",
      "Ecrivez une premi\u00e8re version en utilisant du Python pur. La strucutre de la fonction est la suivante"
     ]
    },
    {
     "cell_type": "code",
     "collapsed": false,
     "input": [
      "def juliasetPurePython(x, y, c, lim, maxit):\n",
      "    \"\"\" \n",
      "    Renvoie l'ensemble de Julia\n",
      "    \n",
      "    Param\u00e8tres\n",
      "    ----------\n",
      "    x: coordonn\u00e9es des parties r\u00e9elles regard\u00e9es\n",
      "    y: coordonn\u00e9es des parties imaginaires regard\u00e9es\n",
      "    c: nombre complexe figurant dans z^2 + c\n",
      "    lim: limite du module complexe \u00e0 partir de laquelle la suite est dite divergente\n",
      "    maxit: nombre d'it\u00e9r\u00e9s maximal\n",
      "    \n",
      "    \"\"\"\n",
      "\n",
      "    julia = np.empty((y.size, x.size))\n",
      "    \n",
      "    for j in xrange(y.size):\n",
      "        for i in xrange(x.size):\n",
      "            z = x[i] + 1j*y[j]\n",
      "            ite = 0\n",
      "            while abs(z) < lim and ite < maxit:\n",
      "                z = z**2 + c\n",
      "                ite += 1\n",
      "            julia[j, i] = ite\n",
      "            \n",
      "    return julia"
     ],
     "language": "python",
     "metadata": {
      "internals": {},
      "slideshow": {
       "slide_type": "-"
      }
     },
     "outputs": [],
     "prompt_number": 4
    },
    {
     "cell_type": "code",
     "collapsed": false,
     "input": [
      "julia1 = juliasetPurePython(x, y, c, lim, maxit)"
     ],
     "language": "python",
     "metadata": {
      "internals": {
       "slide_helper": "subslide_end"
      },
      "slide_helper": "slide_end",
      "slideshow": {
       "slide_type": "-"
      }
     },
     "outputs": [],
     "prompt_number": 5
    },
    {
     "cell_type": "code",
     "collapsed": false,
     "input": [
      "from timeit import default_timer as timer\n",
      "\n",
      "%matplotlib inline\n",
      "import matplotlib.pyplot as plt\n",
      "import matplotlib.cm as cm\n",
      "plt.imshow(julia1, cmap=cm.Greys, vmin=vmin, vmax=vmax)"
     ],
     "language": "python",
     "metadata": {},
     "outputs": [
      {
       "metadata": {},
       "output_type": "pyout",
       "prompt_number": 6,
       "text": [
        "<matplotlib.image.AxesImage at 0x37a9d50>"
       ]
      },
      {
       "metadata": {},
       "output_type": "display_data",
       "png": "[encoded data removed]",
       "text": [
        "<matplotlib.figure.Figure at 0x2692110>"
       ]
      }
     ],
     "prompt_number": 6
    },
    {
     "cell_type": "markdown",
     "metadata": {
      "internals": {
       "slide_type": "subslide"
      },
      "slideshow": {
       "slide_type": "slide"
      }
     },
     "source": [
      "### Fonction permettant de r\u00e9cup\u00e9rer l'ensemble des temps d'ex\u00e9cution"
     ]
    },
    {
     "cell_type": "code",
     "collapsed": false,
     "input": [
      "from timeit import default_timer as timer\n",
      "\n",
      "def myTimer(fonction, fonction_args=(), nrep=10):\n",
      "    t = timer()\n",
      "    for i in xrange(nrep):\n",
      "        fonction(*fonction_args)\n",
      "    try:\n",
      "        name = fonction.__name__\n",
      "    except:\n",
      "        name = fonction.py_func.func_name\n",
      "    return [name, (timer() - t)/nrep]"
     ],
     "language": "python",
     "metadata": {
      "internals": {},
      "slideshow": {
       "slide_type": "-"
      }
     },
     "outputs": [],
     "prompt_number": 7
    },
    {
     "cell_type": "code",
     "collapsed": false,
     "input": [
      "import copy\n",
      "from pandas import DataFrame\n",
      "\n",
      "def printTable(execTime):\n",
      "    t = np.zeros(len(execTime))\n",
      "    cdata = copy.deepcopy(execTime)\n",
      "\n",
      "    for i in xrange(len(cdata)):\n",
      "        t[i] = cdata[i][1]\n",
      "        \n",
      "    mx = np.max(t)\n",
      "    for d in cdata:\n",
      "        d.append(mx/d[1])\n",
      "\n",
      "    df = DataFrame(data = cdata, columns=['Nom des fonctions', \"Temps d'ex\u00e9cution\", \"Rapport\"])\n",
      "    return df"
     ],
     "language": "python",
     "metadata": {
      "internals": {
       "slide_helper": "subslide_end"
      },
      "slide_helper": "slide_end",
      "slideshow": {
       "slide_type": "-"
      }
     },
     "outputs": [],
     "prompt_number": 8
    },
    {
     "cell_type": "markdown",
     "metadata": {
      "internals": {
       "slide_type": "subslide"
      },
      "slideshow": {
       "slide_type": "slide"
      }
     },
     "source": [
      "### Question 2\n",
      "Ecrivez la version NumPy."
     ]
    },
    {
     "cell_type": "markdown",
     "metadata": {
      "internals": {},
      "slideshow": {
       "slide_type": "-"
      }
     },
     "source": [
      "Dans cette version, on essaie de vectoriser au maximum. Le co\u00fbt ici est que l'on fait plus d'op\u00e9rations que dans le cas Python pur. On ne gagne donc pas forc\u00e9ment beaucoup de temps comme on le verra par la suite."
     ]
    },
    {
     "cell_type": "code",
     "collapsed": false,
     "input": [
      "def juliasetNumpy(x, y, c, lim, maxit):\n",
      "    \"\"\" \n",
      "    Renvoie l'ensemble de Julia\n",
      "    \n",
      "    Param\u00e8tres\n",
      "    ----------\n",
      "    x: coordonn\u00e9es des parties r\u00e9elles regard\u00e9es\n",
      "    y: coordonn\u00e9es des parties imaginaires regard\u00e9es\n",
      "    c: nombre complexe figurant dans z^2 + c\n",
      "    lim: limite du module complexe \u00e0 partir de laquelle la suite est dite divergente\n",
      "    maxit: nombre d'it\u00e9r\u00e9s maximal\n",
      "    \n",
      "    \"\"\"\n",
      "\n",
      "    julia = np.zeros((y.size, x.size))\n",
      "    \n",
      "    zx = x[np.newaxis, :]\n",
      "    zy = y[:, np.newaxis]\n",
      "    \n",
      "    z = zx + 1j*zy\n",
      "    \n",
      "    ite = 0\n",
      "    while not np.all(julia) and ite < maxit:\n",
      "        z = z**2 + c\n",
      "        mask = (np.abs(z) >= lim) & np.logical_not(julia)\n",
      "        ite += 1\n",
      "        julia[mask] = ite\n",
      "        \n",
      "    return julia"
     ],
     "language": "python",
     "metadata": {},
     "outputs": [],
     "prompt_number": 9
    },
    {
     "cell_type": "markdown",
     "metadata": {
      "internals": {
       "slide_type": "subslide"
      },
      "slideshow": {
       "slide_type": "subslide"
      }
     },
     "source": [
      "On calcule les temps d'ex\u00e9cution pour les versions Python pur et Numpy et on constate que l'on n'a pas gagn\u00e9 grand chose."
     ]
    },
    {
     "cell_type": "code",
     "collapsed": false,
     "input": [
      "execution_times = []\n",
      "execution_times.append(myTimer(juliasetPurePython, (x, y, c, lim, maxit), 1))\n",
      "execution_times.append(myTimer(juliasetNumpy, (x, y, c, lim, maxit), 1))"
     ],
     "language": "python",
     "metadata": {
      "internals": {},
      "slideshow": {
       "slide_type": "-"
      }
     },
     "outputs": [],
     "prompt_number": 10
    },
    {
     "cell_type": "code",
     "collapsed": false,
     "input": [
      "printTable(execution_times)"
     ],
     "language": "python",
     "metadata": {
      "internals": {
       "slide_helper": "subslide_end"
      },
      "slide_helper": "slide_end",
      "slideshow": {
       "slide_type": "-"
      }
     },
     "outputs": [
      {
       "html": [
        "<div style=\"max-height:1000px;max-width:1500px;overflow:auto;\">\n",
        "<table border=\"1\" class=\"dataframe\">\n",
        "  <thead>\n",
        "    <tr style=\"text-align: right;\">\n",
        "      <th></th>\n",
        "      <th>Nom des fonctions</th>\n",
        "      <th>Temps d'ex\u00e9cution</th>\n",
        "      <th>Rapport</th>\n",
        "    </tr>\n",
        "  </thead>\n",
        "  <tbody>\n",
        "    <tr>\n",
        "      <th>0</th>\n",
        "      <td> juliasetPurePython</td>\n",
        "      <td> 10.788282</td>\n",
        "      <td> 1.000000</td>\n",
        "    </tr>\n",
        "    <tr>\n",
        "      <th>1</th>\n",
        "      <td>      juliasetNumpy</td>\n",
        "      <td>  3.397593</td>\n",
        "      <td> 3.175272</td>\n",
        "    </tr>\n",
        "  </tbody>\n",
        "</table>\n",
        "</div>"
       ],
       "metadata": {},
       "output_type": "pyout",
       "prompt_number": 11,
       "text": [
        "    Nom des fonctions  Temps d'ex\u00e9cution   Rapport\n",
        "0  juliasetPurePython          10.788282  1.000000\n",
        "1       juliasetNumpy           3.397593  3.175272"
       ]
      }
     ],
     "prompt_number": 11
    },
    {
     "cell_type": "markdown",
     "metadata": {},
     "source": [
      "###\u00a0Question 3 \n",
      "\n",
      "Repr\u00e9sentez la solution \u00e0 l'aide de `matplotlib` en utilisant `imshow` et la colormap `Greys`."
     ]
    },
    {
     "cell_type": "markdown",
     "metadata": {
      "internals": {
       "slide_type": "subslide"
      },
      "slideshow": {
       "slide_type": "slide"
      }
     },
     "source": [
      "### Question 4\n",
      "Ecrivez la version Cython."
     ]
    },
    {
     "cell_type": "markdown",
     "metadata": {
      "internals": {},
      "slideshow": {
       "slide_type": "-"
      }
     },
     "source": [
      "On dit au *notebook* que l'on va se servir de cython \u00e0 l'aide de la commande"
     ]
    },
    {
     "cell_type": "code",
     "collapsed": false,
     "input": [
      "%load_ext cythonmagic"
     ],
     "language": "python",
     "metadata": {
      "internals": {},
      "slideshow": {
       "slide_type": "-"
      }
     },
     "outputs": [],
     "prompt_number": 12
    },
    {
     "cell_type": "code",
     "collapsed": false,
     "input": [
      "%%cython -a\n",
      "import numpy as np\n",
      "import cython\n",
      "\n",
      "cdef inline double cabs(double complex z):\n",
      "        return (z.real*z.real + z.imag*z.imag)\n",
      "    \n",
      "# ajouter l'option -a si vous voulez voir le code \n",
      "@cython.boundscheck(False)\n",
      "@cython.wraparound(False)\n",
      "def juliasetCython(double [:] x, double [:] y, double complex c, double lim, int maxit):\n",
      "    cdef:\n",
      "        int nx = x.shape[0], ny = y.shape[0]\n",
      "        int [:, ::1] julia = np.empty((ny, nx), dtype='i')\n",
      "        double complex z\n",
      "        double lim2 = lim*lim\n",
      "        int i, j, ite\n",
      "        \n",
      "    for j in xrange(ny):\n",
      "        for i in xrange(nx):\n",
      "            z = x[i] + 1j*y[j]\n",
      "            ite = 0\n",
      "            while cabs(z) < lim2 and ite < maxit:\n",
      "                z = z*z + c\n",
      "                ite += 1\n",
      "            julia[j, i] = ite\n",
      "            \n",
      "    return julia\n",
      "\n",
      "@cython.boundscheck(False)\n",
      "@cython.wraparound(False)\n",
      "def juliasetCython_v2(double [:] x, double [:] y, double complex c, double lim, int maxit):\n",
      "    cdef:\n",
      "        int [:, ::1] julia = np.empty((x.size, y.size), dtype = np.int32)\n",
      "        double tmp, zr, zi, lim2 = lim*lim\n",
      "        double cr = c.real, ci = c.imag\n",
      "        int ite, i, j, nx=x.shape[0], ny=y.shape[0]\n",
      "\n",
      "    for i in xrange(nx):\n",
      "        for j in xrange(ny):\n",
      "            zr = x[i] \n",
      "            zi = y[j]\n",
      "            ite = 0\n",
      "            while (zr*zr + zi*zi) < lim2 and ite < maxit:\n",
      "                zr, zi = zr*zr - zi*zi + cr, 2*zr*zi + ci\n",
      "                ite += 1\n",
      "            julia[j, i] = ite\n",
      "\n",
      "    return julia"
     ],
     "language": "python",
     "metadata": {
      "internals": {
       "slide_helper": "subslide_end",
       "slide_type": "subslide"
      },
      "slide_helper": "subslide_end",
      "slideshow": {
       "slide_type": "subslide"
      }
     },
     "outputs": [
      {
       "html": [
        "<!DOCTYPE html>\n",
        "<!-- Generated by Cython 0.20.1 on Wed Jul  9 13:50:05 2014 -->\n",
        "<html>\n",
        "\n",
        "<head>\n",
        "<meta http-equiv=\"Content-Type\" content=\"text/html; charset=utf-8\" />\n",
        "<style type=\"text/css\">\n",
        "\n",
        "body { font-family: courier; font-size: 12; }\n",
        "\n",
        ".code  { font-size: 9; color: #444444; display: none; margin-left: 20px; }\n",
        ".py_c_api  { color: red; }\n",
        ".py_macro_api  { color: #FF7000; }\n",
        ".pyx_c_api  { color: #FF3000; }\n",
        ".pyx_macro_api  { color: #FF7000; }\n",
        ".refnanny  { color: #FFA000; }\n",
        "\n",
        ".error_goto  { color: #FFA000; }\n",
        "\n",
        ".tag  {  }\n",
        "\n",
        ".coerce  { color: #008000; border: 1px dotted #008000 }\n",
        "\n",
        ".py_attr { color: #FF0000; font-weight: bold; }\n",
        ".c_attr  { color: #0000FF; }\n",
        "\n",
        ".py_call { color: #FF0000; font-weight: bold; }\n",
        ".c_call  { color: #0000FF; }\n",
        "\n",
        ".line { margin: 0em }\n",
        "\n",
        "</style>\n",
        "<script>\n",
        "function toggleDiv(id) {\n",
        "    theDiv = document.getElementById(id);\n",
        "    if (theDiv.style.display != 'block') theDiv.style.display = 'block';\n",
        "    else theDiv.style.display = 'none';\n",
        "}\n",
        "</script>\n",
        "</head>\n",
        "        <body>\n",
        "<p>Generated by Cython 0.20.1 on Wed Jul  9 13:50:05 2014\n",
        "<pre class='line' style='background-color: #FFFF57' onclick='toggleDiv(\"line1\")'> 1: import numpy as np</pre>\n",
        "<pre id='line1' class='code' style='background-color: #FFFF57'>  __pyx_t_1 = <span class='pyx_c_api'>__Pyx_Import</span>(__pyx_n_s_numpy, 0, -1);<span class='error_goto'> if (unlikely(!__pyx_t_1)) {__pyx_filename = __pyx_f[0]; __pyx_lineno = 1; __pyx_clineno = __LINE__; goto __pyx_L1_error;}</span>\n",
        "  <span class='refnanny'>__Pyx_GOTREF</span>(__pyx_t_1);\n",
        "  if (<span class='py_c_api'>PyDict_SetItem</span>(__pyx_d, __pyx_n_s_np, __pyx_t_1) &lt; 0) <span class='error_goto'>{__pyx_filename = __pyx_f[0]; __pyx_lineno = 1; __pyx_clineno = __LINE__; goto __pyx_L1_error;}</span>\n",
        "  <span class='pyx_macro_api'>__Pyx_DECREF</span>(__pyx_t_1); __pyx_t_1 = 0;\n",
        "/* \u2026 */\n",
        "  __pyx_t_1 = <span class='py_c_api'>PyDict_New</span>();<span class='error_goto'> if (unlikely(!__pyx_t_1)) {__pyx_filename = __pyx_f[0]; __pyx_lineno = 1; __pyx_clineno = __LINE__; goto __pyx_L1_error;}</span>\n",
        "  <span class='refnanny'>__Pyx_GOTREF</span>(__pyx_t_1);\n",
        "  if (<span class='py_c_api'>PyDict_SetItem</span>(__pyx_d, __pyx_n_s_test, __pyx_t_1) &lt; 0) <span class='error_goto'>{__pyx_filename = __pyx_f[0]; __pyx_lineno = 1; __pyx_clineno = __LINE__; goto __pyx_L1_error;}</span>\n",
        "  <span class='pyx_macro_api'>__Pyx_DECREF</span>(__pyx_t_1); __pyx_t_1 = 0;\n",
        "</pre><pre class='line' style='background-color: #FFFFff' onclick='toggleDiv(\"line2\")'> 2: import cython</pre>\n",
        "<pre id='line2' class='code' style='background-color: #FFFFff'></pre><pre class='line' style='background-color: #FFFFff' onclick='toggleDiv(\"line3\")'> 3: </pre>\n",
        "<pre id='line3' class='code' style='background-color: #FFFFff'></pre><pre class='line' style='background-color: #FFFFff' onclick='toggleDiv(\"line4\")'> 4: cdef inline double cabs(double complex z):</pre>\n",
        "<pre id='line4' class='code' style='background-color: #FFFFff'>static CYTHON_INLINE double __pyx_f_46_cython_magic_3a9bea0d7957d6f289d8c75d98c971f4_cabs(__pyx_t_double_complex __pyx_v_z) {\n",
        "  double __pyx_r;\n",
        "  <span class='refnanny'>__Pyx_RefNannyDeclarations</span>\n",
        "  <span class='refnanny'>__Pyx_RefNannySetupContext</span>(\"cabs\", 0);\n",
        "/* \u2026 */\n",
        "  /* function exit code */\n",
        "  __pyx_L0:;\n",
        "  <span class='refnanny'>__Pyx_RefNannyFinishContext</span>();\n",
        "  return __pyx_r;\n",
        "}\n",
        "</pre><pre class='line' style='background-color: #FFFFb6' onclick='toggleDiv(\"line5\")'> 5:         return (z.real*z.real + z.imag*z.imag)</pre>\n",
        "<pre id='line5' class='code' style='background-color: #FFFFb6'>  __pyx_r = ((<span class='pyx_macro_api'>__Pyx_CREAL</span>(__pyx_v_z) * <span class='pyx_macro_api'>__Pyx_CREAL</span>(__pyx_v_z)) + (<span class='pyx_macro_api'>__Pyx_CIMAG</span>(__pyx_v_z) * <span class='pyx_macro_api'>__Pyx_CIMAG</span>(__pyx_v_z)));\n",
        "  goto __pyx_L0;\n",
        "</pre><pre class='line' style='background-color: #FFFFff' onclick='toggleDiv(\"line6\")'> 6: </pre>\n",
        "<pre id='line6' class='code' style='background-color: #FFFFff'></pre><pre class='line' style='background-color: #FFFFff' onclick='toggleDiv(\"line7\")'> 7: # ajouter l'option -a si vous voulez voir le code</pre>\n",
        "<pre id='line7' class='code' style='background-color: #FFFFff'></pre><pre class='line' style='background-color: #FFFFff' onclick='toggleDiv(\"line8\")'> 8: @cython.boundscheck(False)</pre>\n",
        "<pre id='line8' class='code' style='background-color: #FFFFff'></pre><pre class='line' style='background-color: #FFFFff' onclick='toggleDiv(\"line9\")'> 9: @cython.wraparound(False)</pre>\n",
        "<pre id='line9' class='code' style='background-color: #FFFFff'></pre><pre class='line' style='background-color: #FFFF19' onclick='toggleDiv(\"line10\")'> 10: def juliasetCython(double [:] x, double [:] y, double complex c, double lim, int maxit):</pre>\n",
        "<pre id='line10' class='code' style='background-color: #FFFF19'>/* Python wrapper */\n",
        "static PyObject *__pyx_pw_46_cython_magic_3a9bea0d7957d6f289d8c75d98c971f4_1juliasetCython(PyObject *__pyx_self, PyObject *__pyx_args, PyObject *__pyx_kwds); /*proto*/\n",
        "static PyMethodDef __pyx_mdef_46_cython_magic_3a9bea0d7957d6f289d8c75d98c971f4_1juliasetCython = {<span class='pyx_macro_api'>__Pyx_NAMESTR</span>(\"juliasetCython\"), (PyCFunction)__pyx_pw_46_cython_magic_3a9bea0d7957d6f289d8c75d98c971f4_1juliasetCython, METH_VARARGS|METH_KEYWORDS, <span class='pyx_macro_api'>__Pyx_DOCSTR</span>(0)};\n",
        "static PyObject *__pyx_pw_46_cython_magic_3a9bea0d7957d6f289d8c75d98c971f4_1juliasetCython(PyObject *__pyx_self, PyObject *__pyx_args, PyObject *__pyx_kwds) {\n",
        "  __Pyx_memviewslice __pyx_v_x = { 0, 0, { 0 }, { 0 }, { 0 } };\n",
        "  __Pyx_memviewslice __pyx_v_y = { 0, 0, { 0 }, { 0 }, { 0 } };\n",
        "  __pyx_t_double_complex __pyx_v_c;\n",
        "  double __pyx_v_lim;\n",
        "  int __pyx_v_maxit;\n",
        "  PyObject *__pyx_r = 0;\n",
        "  <span class='refnanny'>__Pyx_RefNannyDeclarations</span>\n",
        "  <span class='refnanny'>__Pyx_RefNannySetupContext</span>(\"juliasetCython (wrapper)\", 0);\n",
        "  {\n",
        "    static PyObject **__pyx_pyargnames[] = {&amp;__pyx_n_s_x,&amp;__pyx_n_s_y,&amp;__pyx_n_s_c,&amp;__pyx_n_s_lim,&amp;__pyx_n_s_maxit,0};\n",
        "    PyObject* values[5] = {0,0,0,0,0};\n",
        "    if (unlikely(__pyx_kwds)) {\n",
        "      Py_ssize_t kw_args;\n",
        "      const Py_ssize_t pos_args = <span class='py_macro_api'>PyTuple_GET_SIZE</span>(__pyx_args);\n",
        "      switch (pos_args) {\n",
        "        case  5: values[4] = <span class='py_macro_api'>PyTuple_GET_ITEM</span>(__pyx_args, 4);\n",
        "        case  4: values[3] = <span class='py_macro_api'>PyTuple_GET_ITEM</span>(__pyx_args, 3);\n",
        "        case  3: values[2] = <span class='py_macro_api'>PyTuple_GET_ITEM</span>(__pyx_args, 2);\n",
        "        case  2: values[1] = <span class='py_macro_api'>PyTuple_GET_ITEM</span>(__pyx_args, 1);\n",
        "        case  1: values[0] = <span class='py_macro_api'>PyTuple_GET_ITEM</span>(__pyx_args, 0);\n",
        "        case  0: break;\n",
        "        default: goto __pyx_L5_argtuple_error;\n",
        "      }\n",
        "      kw_args = <span class='py_c_api'>PyDict_Size</span>(__pyx_kwds);\n",
        "      switch (pos_args) {\n",
        "        case  0:\n",
        "        if (likely((values[0] = <span class='py_c_api'>PyDict_GetItem</span>(__pyx_kwds, __pyx_n_s_x)) != 0)) kw_args--;\n",
        "        else goto __pyx_L5_argtuple_error;\n",
        "        case  1:\n",
        "        if (likely((values[1] = <span class='py_c_api'>PyDict_GetItem</span>(__pyx_kwds, __pyx_n_s_y)) != 0)) kw_args--;\n",
        "        else {\n",
        "          <span class='pyx_c_api'>__Pyx_RaiseArgtupleInvalid</span>(\"juliasetCython\", 1, 5, 5, 1); <span class='error_goto'>{__pyx_filename = __pyx_f[0]; __pyx_lineno = 10; __pyx_clineno = __LINE__; goto __pyx_L3_error;}</span>\n",
        "        }\n",
        "        case  2:\n",
        "        if (likely((values[2] = <span class='py_c_api'>PyDict_GetItem</span>(__pyx_kwds, __pyx_n_s_c)) != 0)) kw_args--;\n",
        "        else {\n",
        "          <span class='pyx_c_api'>__Pyx_RaiseArgtupleInvalid</span>(\"juliasetCython\", 1, 5, 5, 2); <span class='error_goto'>{__pyx_filename = __pyx_f[0]; __pyx_lineno = 10; __pyx_clineno = __LINE__; goto __pyx_L3_error;}</span>\n",
        "        }\n",
        "        case  3:\n",
        "        if (likely((values[3] = <span class='py_c_api'>PyDict_GetItem</span>(__pyx_kwds, __pyx_n_s_lim)) != 0)) kw_args--;\n",
        "        else {\n",
        "          <span class='pyx_c_api'>__Pyx_RaiseArgtupleInvalid</span>(\"juliasetCython\", 1, 5, 5, 3); <span class='error_goto'>{__pyx_filename = __pyx_f[0]; __pyx_lineno = 10; __pyx_clineno = __LINE__; goto __pyx_L3_error;}</span>\n",
        "        }\n",
        "        case  4:\n",
        "        if (likely((values[4] = <span class='py_c_api'>PyDict_GetItem</span>(__pyx_kwds, __pyx_n_s_maxit)) != 0)) kw_args--;\n",
        "        else {\n",
        "          <span class='pyx_c_api'>__Pyx_RaiseArgtupleInvalid</span>(\"juliasetCython\", 1, 5, 5, 4); <span class='error_goto'>{__pyx_filename = __pyx_f[0]; __pyx_lineno = 10; __pyx_clineno = __LINE__; goto __pyx_L3_error;}</span>\n",
        "        }\n",
        "      }\n",
        "      if (unlikely(kw_args &gt; 0)) {\n",
        "        if (unlikely(<span class='pyx_c_api'>__Pyx_ParseOptionalKeywords</span>(__pyx_kwds, __pyx_pyargnames, 0, values, pos_args, \"juliasetCython\") &lt; 0)) <span class='error_goto'>{__pyx_filename = __pyx_f[0]; __pyx_lineno = 10; __pyx_clineno = __LINE__; goto __pyx_L3_error;}</span>\n",
        "      }\n",
        "    } else if (<span class='py_macro_api'>PyTuple_GET_SIZE</span>(__pyx_args) != 5) {\n",
        "      goto __pyx_L5_argtuple_error;\n",
        "    } else {\n",
        "      values[0] = <span class='py_macro_api'>PyTuple_GET_ITEM</span>(__pyx_args, 0);\n",
        "      values[1] = <span class='py_macro_api'>PyTuple_GET_ITEM</span>(__pyx_args, 1);\n",
        "      values[2] = <span class='py_macro_api'>PyTuple_GET_ITEM</span>(__pyx_args, 2);\n",
        "      values[3] = <span class='py_macro_api'>PyTuple_GET_ITEM</span>(__pyx_args, 3);\n",
        "      values[4] = <span class='py_macro_api'>PyTuple_GET_ITEM</span>(__pyx_args, 4);\n",
        "    }\n",
        "    __pyx_v_x = <span class='pyx_c_api'>__Pyx_PyObject_to_MemoryviewSlice_ds_double</span>(values[0]);<span class='error_goto'> if (unlikely(!__pyx_v_x.memview)) {__pyx_filename = __pyx_f[0]; __pyx_lineno = 10; __pyx_clineno = __LINE__; goto __pyx_L3_error;}</span>\n",
        "    __pyx_v_y = <span class='pyx_c_api'>__Pyx_PyObject_to_MemoryviewSlice_ds_double</span>(values[1]);<span class='error_goto'> if (unlikely(!__pyx_v_y.memview)) {__pyx_filename = __pyx_f[0]; __pyx_lineno = 10; __pyx_clineno = __LINE__; goto __pyx_L3_error;}</span>\n",
        "    __pyx_v_c = <span class='pyx_c_api'>__Pyx_PyComplex_As___pyx_t_double_complex</span>(values[2]);<span class='error_goto'> if (unlikely(PyErr_Occurred())) {__pyx_filename = __pyx_f[0]; __pyx_lineno = 10; __pyx_clineno = __LINE__; goto __pyx_L3_error;}</span>\n",
        "    __pyx_v_lim = __pyx_<span class='py_c_api'>PyFloat_AsDouble</span>(values[3]);<span class='error_goto'> if (unlikely((__pyx_v_lim == (double)-1) &amp;&amp; PyErr_Occurred())) {__pyx_filename = __pyx_f[0]; __pyx_lineno = 10; __pyx_clineno = __LINE__; goto __pyx_L3_error;}</span>\n",
        "    __pyx_v_maxit = <span class='pyx_c_api'>__Pyx_PyInt_As_int</span>(values[4]);<span class='error_goto'> if (unlikely((__pyx_v_maxit == (int)-1) &amp;&amp; PyErr_Occurred())) {__pyx_filename = __pyx_f[0]; __pyx_lineno = 10; __pyx_clineno = __LINE__; goto __pyx_L3_error;}</span>\n",
        "  }\n",
        "  goto __pyx_L4_argument_unpacking_done;\n",
        "  __pyx_L5_argtuple_error:;\n",
        "  <span class='pyx_c_api'>__Pyx_RaiseArgtupleInvalid</span>(\"juliasetCython\", 1, 5, 5, <span class='py_macro_api'>PyTuple_GET_SIZE</span>(__pyx_args)); <span class='error_goto'>{__pyx_filename = __pyx_f[0]; __pyx_lineno = 10; __pyx_clineno = __LINE__; goto __pyx_L3_error;}</span>\n",
        "  __pyx_L3_error:;\n",
        "  <span class='pyx_c_api'>__Pyx_AddTraceback</span>(\"_cython_magic_3a9bea0d7957d6f289d8c75d98c971f4.juliasetCython\", __pyx_clineno, __pyx_lineno, __pyx_filename);\n",
        "  <span class='refnanny'>__Pyx_RefNannyFinishContext</span>();\n",
        "  return NULL;\n",
        "  __pyx_L4_argument_unpacking_done:;\n",
        "  __pyx_r = __pyx_pf_46_cython_magic_3a9bea0d7957d6f289d8c75d98c971f4_juliasetCython(__pyx_self, __pyx_v_x, __pyx_v_y, __pyx_v_c, __pyx_v_lim, __pyx_v_maxit);\n",
        "  int __pyx_lineno = 0;\n",
        "  const char *__pyx_filename = NULL;\n",
        "  int __pyx_clineno = 0;\n",
        "\n",
        "  /* function exit code */\n",
        "  <span class='refnanny'>__Pyx_RefNannyFinishContext</span>();\n",
        "  return __pyx_r;\n",
        "}\n",
        "\n",
        "static PyObject *__pyx_pf_46_cython_magic_3a9bea0d7957d6f289d8c75d98c971f4_juliasetCython(CYTHON_UNUSED PyObject *__pyx_self, __Pyx_memviewslice __pyx_v_x, __Pyx_memviewslice __pyx_v_y, __pyx_t_double_complex __pyx_v_c, double __pyx_v_lim, int __pyx_v_maxit) {\n",
        "  int __pyx_v_nx;\n",
        "  int __pyx_v_ny;\n",
        "  __Pyx_memviewslice __pyx_v_julia = { 0, 0, { 0 }, { 0 }, { 0 } };\n",
        "  __pyx_t_double_complex __pyx_v_z;\n",
        "  double __pyx_v_lim2;\n",
        "  int __pyx_v_i;\n",
        "  int __pyx_v_j;\n",
        "  int __pyx_v_ite;\n",
        "  PyObject *__pyx_r = NULL;\n",
        "  <span class='refnanny'>__Pyx_RefNannyDeclarations</span>\n",
        "  <span class='refnanny'>__Pyx_RefNannySetupContext</span>(\"juliasetCython\", 0);\n",
        "/* \u2026 */\n",
        "  /* function exit code */\n",
        "  __pyx_L1_error:;\n",
        "  <span class='pyx_macro_api'>__Pyx_XDECREF</span>(__pyx_t_1);\n",
        "  <span class='pyx_macro_api'>__Pyx_XDECREF</span>(__pyx_t_2);\n",
        "  <span class='pyx_macro_api'>__Pyx_XDECREF</span>(__pyx_t_3);\n",
        "  <span class='pyx_macro_api'>__Pyx_XDECREF</span>(__pyx_t_4);\n",
        "  __PYX_XDEC_MEMVIEW(&amp;__pyx_t_5, 1);\n",
        "  <span class='pyx_c_api'>__Pyx_AddTraceback</span>(\"_cython_magic_3a9bea0d7957d6f289d8c75d98c971f4.juliasetCython\", __pyx_clineno, __pyx_lineno, __pyx_filename);\n",
        "  __pyx_r = NULL;\n",
        "  __pyx_L0:;\n",
        "  __PYX_XDEC_MEMVIEW(&amp;__pyx_v_julia, 1);\n",
        "  __PYX_XDEC_MEMVIEW(&amp;__pyx_v_x, 1);\n",
        "  __PYX_XDEC_MEMVIEW(&amp;__pyx_v_y, 1);\n",
        "  <span class='refnanny'>__Pyx_XGIVEREF</span>(__pyx_r);\n",
        "  <span class='refnanny'>__Pyx_RefNannyFinishContext</span>();\n",
        "  return __pyx_r;\n",
        "}\n",
        "/* \u2026 */\n",
        "  __pyx_tuple__14 = <span class='py_c_api'>PyTuple_Pack</span>(13, __pyx_n_s_x, __pyx_n_s_y, __pyx_n_s_c, __pyx_n_s_lim, __pyx_n_s_maxit, __pyx_n_s_nx, __pyx_n_s_ny, __pyx_n_s_julia, __pyx_n_s_z, __pyx_n_s_lim2, __pyx_n_s_i, __pyx_n_s_j, __pyx_n_s_ite);<span class='error_goto'> if (unlikely(!__pyx_tuple__14)) {__pyx_filename = __pyx_f[0]; __pyx_lineno = 10; __pyx_clineno = __LINE__; goto __pyx_L1_error;}</span>\n",
        "  <span class='refnanny'>__Pyx_GOTREF</span>(__pyx_tuple__14);\n",
        "  <span class='refnanny'>__Pyx_GIVEREF</span>(__pyx_tuple__14);\n",
        "/* \u2026 */\n",
        "  __pyx_t_1 = PyCFunction_NewEx(&amp;__pyx_mdef_46_cython_magic_3a9bea0d7957d6f289d8c75d98c971f4_1juliasetCython, NULL, __pyx_n_s_cython_magic_3a9bea0d7957d6f289);<span class='error_goto'> if (unlikely(!__pyx_t_1)) {__pyx_filename = __pyx_f[0]; __pyx_lineno = 10; __pyx_clineno = __LINE__; goto __pyx_L1_error;}</span>\n",
        "  <span class='refnanny'>__Pyx_GOTREF</span>(__pyx_t_1);\n",
        "  if (<span class='py_c_api'>PyDict_SetItem</span>(__pyx_d, __pyx_n_s_juliasetCython, __pyx_t_1) &lt; 0) <span class='error_goto'>{__pyx_filename = __pyx_f[0]; __pyx_lineno = 10; __pyx_clineno = __LINE__; goto __pyx_L1_error;}</span>\n",
        "  <span class='pyx_macro_api'>__Pyx_DECREF</span>(__pyx_t_1); __pyx_t_1 = 0;\n",
        "  __pyx_codeobj__15 = (PyObject*)<span class='pyx_c_api'>__Pyx_PyCode_New</span>(5, 0, 13, 0, 0, __pyx_empty_bytes, __pyx_empty_tuple, __pyx_empty_tuple, __pyx_tuple__14, __pyx_empty_tuple, __pyx_empty_tuple, __pyx_kp_s_home_gouarin_cache_ipython_cyth, __pyx_n_s_juliasetCython, 10, __pyx_empty_bytes);<span class='error_goto'> if (unlikely(!__pyx_codeobj__15)) {__pyx_filename = __pyx_f[0]; __pyx_lineno = 10; __pyx_clineno = __LINE__; goto __pyx_L1_error;}</span>\n",
        "</pre><pre class='line' style='background-color: #FFFFff' onclick='toggleDiv(\"line11\")'> 11:     cdef:</pre>\n",
        "<pre id='line11' class='code' style='background-color: #FFFFff'></pre><pre class='line' style='background-color: #FFFFff' onclick='toggleDiv(\"line12\")'> 12:         int nx = x.shape[0], ny = y.shape[0]</pre>\n",
        "<pre id='line12' class='code' style='background-color: #FFFFff'>  __pyx_v_nx = (__pyx_v_x.shape[0]);\n",
        "  __pyx_v_ny = (__pyx_v_y.shape[0]);\n",
        "</pre><pre class='line' style='background-color: #FFFF33' onclick='toggleDiv(\"line13\")'> 13:         int [:, ::1] julia = np.empty((ny, nx), dtype='i')</pre>\n",
        "<pre id='line13' class='code' style='background-color: #FFFF33'>  __pyx_t_1 = <span class='pyx_c_api'>__Pyx_GetModuleGlobalName</span>(__pyx_n_s_np);<span class='error_goto'> if (unlikely(!__pyx_t_1)) {__pyx_filename = __pyx_f[0]; __pyx_lineno = 13; __pyx_clineno = __LINE__; goto __pyx_L1_error;}</span>\n",
        "  <span class='refnanny'>__Pyx_GOTREF</span>(__pyx_t_1);\n",
        "  __pyx_t_2 = <span class='pyx_c_api'>__Pyx_PyObject_GetAttrStr</span>(__pyx_t_1, __pyx_n_s_empty);<span class='error_goto'> if (unlikely(!__pyx_t_2)) {__pyx_filename = __pyx_f[0]; __pyx_lineno = 13; __pyx_clineno = __LINE__; goto __pyx_L1_error;}</span>\n",
        "  <span class='refnanny'>__Pyx_GOTREF</span>(__pyx_t_2);\n",
        "  <span class='pyx_macro_api'>__Pyx_DECREF</span>(__pyx_t_1); __pyx_t_1 = 0;\n",
        "  __pyx_t_1 = <span class='pyx_c_api'>__Pyx_PyInt_From_int</span>(__pyx_v_ny);<span class='error_goto'> if (unlikely(!__pyx_t_1)) {__pyx_filename = __pyx_f[0]; __pyx_lineno = 13; __pyx_clineno = __LINE__; goto __pyx_L1_error;}</span>\n",
        "  <span class='refnanny'>__Pyx_GOTREF</span>(__pyx_t_1);\n",
        "  __pyx_t_3 = <span class='pyx_c_api'>__Pyx_PyInt_From_int</span>(__pyx_v_nx);<span class='error_goto'> if (unlikely(!__pyx_t_3)) {__pyx_filename = __pyx_f[0]; __pyx_lineno = 13; __pyx_clineno = __LINE__; goto __pyx_L1_error;}</span>\n",
        "  <span class='refnanny'>__Pyx_GOTREF</span>(__pyx_t_3);\n",
        "  __pyx_t_4 = <span class='py_c_api'>PyTuple_New</span>(2);<span class='error_goto'> if (unlikely(!__pyx_t_4)) {__pyx_filename = __pyx_f[0]; __pyx_lineno = 13; __pyx_clineno = __LINE__; goto __pyx_L1_error;}</span>\n",
        "  <span class='refnanny'>__Pyx_GOTREF</span>(__pyx_t_4);\n",
        "  <span class='py_macro_api'>PyTuple_SET_ITEM</span>(__pyx_t_4, 0, __pyx_t_1);\n",
        "  <span class='refnanny'>__Pyx_GIVEREF</span>(__pyx_t_1);\n",
        "  <span class='py_macro_api'>PyTuple_SET_ITEM</span>(__pyx_t_4, 1, __pyx_t_3);\n",
        "  <span class='refnanny'>__Pyx_GIVEREF</span>(__pyx_t_3);\n",
        "  __pyx_t_1 = 0;\n",
        "  __pyx_t_3 = 0;\n",
        "  __pyx_t_3 = <span class='py_c_api'>PyTuple_New</span>(1);<span class='error_goto'> if (unlikely(!__pyx_t_3)) {__pyx_filename = __pyx_f[0]; __pyx_lineno = 13; __pyx_clineno = __LINE__; goto __pyx_L1_error;}</span>\n",
        "  <span class='refnanny'>__Pyx_GOTREF</span>(__pyx_t_3);\n",
        "  <span class='py_macro_api'>PyTuple_SET_ITEM</span>(__pyx_t_3, 0, __pyx_t_4);\n",
        "  <span class='refnanny'>__Pyx_GIVEREF</span>(__pyx_t_4);\n",
        "  __pyx_t_4 = 0;\n",
        "  __pyx_t_4 = <span class='py_c_api'>PyDict_New</span>();<span class='error_goto'> if (unlikely(!__pyx_t_4)) {__pyx_filename = __pyx_f[0]; __pyx_lineno = 13; __pyx_clineno = __LINE__; goto __pyx_L1_error;}</span>\n",
        "  <span class='refnanny'>__Pyx_GOTREF</span>(__pyx_t_4);\n",
        "  if (<span class='py_c_api'>PyDict_SetItem</span>(__pyx_t_4, __pyx_n_s_dtype, __pyx_n_s_i) &lt; 0) <span class='error_goto'>{__pyx_filename = __pyx_f[0]; __pyx_lineno = 13; __pyx_clineno = __LINE__; goto __pyx_L1_error;}</span>\n",
        "  __pyx_t_1 = <span class='pyx_c_api'>__Pyx_PyObject_Call</span>(__pyx_t_2, __pyx_t_3, __pyx_t_4);<span class='error_goto'> if (unlikely(!__pyx_t_1)) {__pyx_filename = __pyx_f[0]; __pyx_lineno = 13; __pyx_clineno = __LINE__; goto __pyx_L1_error;}</span>\n",
        "  <span class='refnanny'>__Pyx_GOTREF</span>(__pyx_t_1);\n",
        "  <span class='pyx_macro_api'>__Pyx_DECREF</span>(__pyx_t_2); __pyx_t_2 = 0;\n",
        "  <span class='pyx_macro_api'>__Pyx_DECREF</span>(__pyx_t_3); __pyx_t_3 = 0;\n",
        "  <span class='pyx_macro_api'>__Pyx_DECREF</span>(__pyx_t_4); __pyx_t_4 = 0;\n",
        "  __pyx_t_5 = <span class='pyx_c_api'>__Pyx_PyObject_to_MemoryviewSlice_d_dc_int</span>(__pyx_t_1);\n",
        "  if (unlikely(!__pyx_t_5.memview)) <span class='error_goto'>{__pyx_filename = __pyx_f[0]; __pyx_lineno = 13; __pyx_clineno = __LINE__; goto __pyx_L1_error;}</span>\n",
        "  <span class='pyx_macro_api'>__Pyx_DECREF</span>(__pyx_t_1); __pyx_t_1 = 0;\n",
        "  __pyx_v_julia = __pyx_t_5;\n",
        "  __pyx_t_5.memview = NULL;\n",
        "  __pyx_t_5.data = NULL;\n",
        "</pre><pre class='line' style='background-color: #FFFFff' onclick='toggleDiv(\"line14\")'> 14:         double complex z</pre>\n",
        "<pre id='line14' class='code' style='background-color: #FFFFff'></pre><pre class='line' style='background-color: #FFFFff' onclick='toggleDiv(\"line15\")'> 15:         double lim2 = lim*lim</pre>\n",
        "<pre id='line15' class='code' style='background-color: #FFFFff'>  __pyx_v_lim2 = (__pyx_v_lim * __pyx_v_lim);\n",
        "</pre><pre class='line' style='background-color: #FFFFff' onclick='toggleDiv(\"line16\")'> 16:         int i, j, ite</pre>\n",
        "<pre id='line16' class='code' style='background-color: #FFFFff'></pre><pre class='line' style='background-color: #FFFFff' onclick='toggleDiv(\"line17\")'> 17: </pre>\n",
        "<pre id='line17' class='code' style='background-color: #FFFFff'></pre><pre class='line' style='background-color: #FFFFff' onclick='toggleDiv(\"line18\")'> 18:     for j in xrange(ny):</pre>\n",
        "<pre id='line18' class='code' style='background-color: #FFFFff'>  __pyx_t_6 = __pyx_v_ny;\n",
        "  for (__pyx_t_7 = 0; __pyx_t_7 &lt; __pyx_t_6; __pyx_t_7+=1) {\n",
        "    __pyx_v_j = __pyx_t_7;\n",
        "</pre><pre class='line' style='background-color: #FFFFff' onclick='toggleDiv(\"line19\")'> 19:         for i in xrange(nx):</pre>\n",
        "<pre id='line19' class='code' style='background-color: #FFFFff'>    __pyx_t_8 = __pyx_v_nx;\n",
        "    for (__pyx_t_9 = 0; __pyx_t_9 &lt; __pyx_t_8; __pyx_t_9+=1) {\n",
        "      __pyx_v_i = __pyx_t_9;\n",
        "</pre><pre class='line' style='background-color: #FFFFff' onclick='toggleDiv(\"line20\")'> 20:             z = x[i] + 1j*y[j]</pre>\n",
        "<pre id='line20' class='code' style='background-color: #FFFFff'>      __pyx_t_10 = __pyx_v_i;\n",
        "      __pyx_t_11 = __pyx_v_j;\n",
        "      __pyx_v_z = __Pyx_c_sum(__pyx_t_double_complex_from_parts((*((double *) ( /* dim=0 */ (__pyx_v_x.data + __pyx_t_10 * __pyx_v_x.strides[0]) ))), 0), __Pyx_c_prod(__pyx_t_double_complex_from_parts(0, 1.0), __pyx_t_double_complex_from_parts((*((double *) ( /* dim=0 */ (__pyx_v_y.data + __pyx_t_11 * __pyx_v_y.strides[0]) ))), 0)));\n",
        "</pre><pre class='line' style='background-color: #FFFFff' onclick='toggleDiv(\"line21\")'> 21:             ite = 0</pre>\n",
        "<pre id='line21' class='code' style='background-color: #FFFFff'>      __pyx_v_ite = 0;\n",
        "</pre><pre class='line' style='background-color: #FFFFff' onclick='toggleDiv(\"line22\")'> 22:             while cabs(z) &lt; lim2 and ite &lt; maxit:</pre>\n",
        "<pre id='line22' class='code' style='background-color: #FFFFff'>      while (1) {\n",
        "        __pyx_t_12 = ((__pyx_f_46_cython_magic_3a9bea0d7957d6f289d8c75d98c971f4_cabs(__pyx_v_z) &lt; __pyx_v_lim2) != 0);\n",
        "        if (__pyx_t_12) {\n",
        "          __pyx_t_13 = ((__pyx_v_ite &lt; __pyx_v_maxit) != 0);\n",
        "          __pyx_t_14 = __pyx_t_13;\n",
        "        } else {\n",
        "          __pyx_t_14 = __pyx_t_12;\n",
        "        }\n",
        "        if (!__pyx_t_14) break;\n",
        "</pre><pre class='line' style='background-color: #FFFFff' onclick='toggleDiv(\"line23\")'> 23:                 z = z*z + c</pre>\n",
        "<pre id='line23' class='code' style='background-color: #FFFFff'>        __pyx_v_z = __Pyx_c_sum(__Pyx_c_prod(__pyx_v_z, __pyx_v_z), __pyx_v_c);\n",
        "</pre><pre class='line' style='background-color: #FFFFff' onclick='toggleDiv(\"line24\")'> 24:                 ite += 1</pre>\n",
        "<pre id='line24' class='code' style='background-color: #FFFFff'>        __pyx_v_ite = (__pyx_v_ite + 1);\n",
        "      }\n",
        "</pre><pre class='line' style='background-color: #FFFFff' onclick='toggleDiv(\"line25\")'> 25:             julia[j, i] = ite</pre>\n",
        "<pre id='line25' class='code' style='background-color: #FFFFff'>      __pyx_t_15 = __pyx_v_j;\n",
        "      __pyx_t_16 = __pyx_v_i;\n",
        "      *((int *) ( /* dim=1 */ ((char *) (((int *) ( /* dim=0 */ (__pyx_v_julia.data + __pyx_t_15 * __pyx_v_julia.strides[0]) )) + __pyx_t_16)) )) = __pyx_v_ite;\n",
        "    }\n",
        "  }\n",
        "</pre><pre class='line' style='background-color: #FFFFff' onclick='toggleDiv(\"line26\")'> 26: </pre>\n",
        "<pre id='line26' class='code' style='background-color: #FFFFff'></pre><pre class='line' style='background-color: #FFFFe7' onclick='toggleDiv(\"line27\")'> 27:     return julia</pre>\n",
        "<pre id='line27' class='code' style='background-color: #FFFFe7'>  <span class='pyx_macro_api'>__Pyx_XDECREF</span>(__pyx_r);\n",
        "  __pyx_t_1 = __pyx_memoryview_fromslice(__pyx_v_julia, 2, (PyObject *(*)(char *)) __pyx_memview_get_int, (int (*)(char *, PyObject *)) __pyx_memview_set_int, 0);;<span class='error_goto'> if (unlikely(!__pyx_t_1)) {__pyx_filename = __pyx_f[0]; __pyx_lineno = 27; __pyx_clineno = __LINE__; goto __pyx_L1_error;}</span>\n",
        "  <span class='refnanny'>__Pyx_GOTREF</span>(__pyx_t_1);\n",
        "  __pyx_r = __pyx_t_1;\n",
        "  __pyx_t_1 = 0;\n",
        "  goto __pyx_L0;\n",
        "</pre><pre class='line' style='background-color: #FFFFff' onclick='toggleDiv(\"line28\")'> 28: </pre>\n",
        "<pre id='line28' class='code' style='background-color: #FFFFff'></pre><pre class='line' style='background-color: #FFFFff' onclick='toggleDiv(\"line29\")'> 29: @cython.boundscheck(False)</pre>\n",
        "<pre id='line29' class='code' style='background-color: #FFFFff'></pre><pre class='line' style='background-color: #FFFFff' onclick='toggleDiv(\"line30\")'> 30: @cython.wraparound(False)</pre>\n",
        "<pre id='line30' class='code' style='background-color: #FFFFff'></pre><pre class='line' style='background-color: #FFFF19' onclick='toggleDiv(\"line31\")'> 31: def juliasetCython_v2(double [:] x, double [:] y, double complex c, double lim, int maxit):</pre>\n",
        "<pre id='line31' class='code' style='background-color: #FFFF19'>/* Python wrapper */\n",
        "static PyObject *__pyx_pw_46_cython_magic_3a9bea0d7957d6f289d8c75d98c971f4_3juliasetCython_v2(PyObject *__pyx_self, PyObject *__pyx_args, PyObject *__pyx_kwds); /*proto*/\n",
        "static PyMethodDef __pyx_mdef_46_cython_magic_3a9bea0d7957d6f289d8c75d98c971f4_3juliasetCython_v2 = {<span class='pyx_macro_api'>__Pyx_NAMESTR</span>(\"juliasetCython_v2\"), (PyCFunction)__pyx_pw_46_cython_magic_3a9bea0d7957d6f289d8c75d98c971f4_3juliasetCython_v2, METH_VARARGS|METH_KEYWORDS, <span class='pyx_macro_api'>__Pyx_DOCSTR</span>(0)};\n",
        "static PyObject *__pyx_pw_46_cython_magic_3a9bea0d7957d6f289d8c75d98c971f4_3juliasetCython_v2(PyObject *__pyx_self, PyObject *__pyx_args, PyObject *__pyx_kwds) {\n",
        "  __Pyx_memviewslice __pyx_v_x = { 0, 0, { 0 }, { 0 }, { 0 } };\n",
        "  __Pyx_memviewslice __pyx_v_y = { 0, 0, { 0 }, { 0 }, { 0 } };\n",
        "  __pyx_t_double_complex __pyx_v_c;\n",
        "  double __pyx_v_lim;\n",
        "  int __pyx_v_maxit;\n",
        "  PyObject *__pyx_r = 0;\n",
        "  <span class='refnanny'>__Pyx_RefNannyDeclarations</span>\n",
        "  <span class='refnanny'>__Pyx_RefNannySetupContext</span>(\"juliasetCython_v2 (wrapper)\", 0);\n",
        "  {\n",
        "    static PyObject **__pyx_pyargnames[] = {&amp;__pyx_n_s_x,&amp;__pyx_n_s_y,&amp;__pyx_n_s_c,&amp;__pyx_n_s_lim,&amp;__pyx_n_s_maxit,0};\n",
        "    PyObject* values[5] = {0,0,0,0,0};\n",
        "    if (unlikely(__pyx_kwds)) {\n",
        "      Py_ssize_t kw_args;\n",
        "      const Py_ssize_t pos_args = <span class='py_macro_api'>PyTuple_GET_SIZE</span>(__pyx_args);\n",
        "      switch (pos_args) {\n",
        "        case  5: values[4] = <span class='py_macro_api'>PyTuple_GET_ITEM</span>(__pyx_args, 4);\n",
        "        case  4: values[3] = <span class='py_macro_api'>PyTuple_GET_ITEM</span>(__pyx_args, 3);\n",
        "        case  3: values[2] = <span class='py_macro_api'>PyTuple_GET_ITEM</span>(__pyx_args, 2);\n",
        "        case  2: values[1] = <span class='py_macro_api'>PyTuple_GET_ITEM</span>(__pyx_args, 1);\n",
        "        case  1: values[0] = <span class='py_macro_api'>PyTuple_GET_ITEM</span>(__pyx_args, 0);\n",
        "        case  0: break;\n",
        "        default: goto __pyx_L5_argtuple_error;\n",
        "      }\n",
        "      kw_args = <span class='py_c_api'>PyDict_Size</span>(__pyx_kwds);\n",
        "      switch (pos_args) {\n",
        "        case  0:\n",
        "        if (likely((values[0] = <span class='py_c_api'>PyDict_GetItem</span>(__pyx_kwds, __pyx_n_s_x)) != 0)) kw_args--;\n",
        "        else goto __pyx_L5_argtuple_error;\n",
        "        case  1:\n",
        "        if (likely((values[1] = <span class='py_c_api'>PyDict_GetItem</span>(__pyx_kwds, __pyx_n_s_y)) != 0)) kw_args--;\n",
        "        else {\n",
        "          <span class='pyx_c_api'>__Pyx_RaiseArgtupleInvalid</span>(\"juliasetCython_v2\", 1, 5, 5, 1); <span class='error_goto'>{__pyx_filename = __pyx_f[0]; __pyx_lineno = 31; __pyx_clineno = __LINE__; goto __pyx_L3_error;}</span>\n",
        "        }\n",
        "        case  2:\n",
        "        if (likely((values[2] = <span class='py_c_api'>PyDict_GetItem</span>(__pyx_kwds, __pyx_n_s_c)) != 0)) kw_args--;\n",
        "        else {\n",
        "          <span class='pyx_c_api'>__Pyx_RaiseArgtupleInvalid</span>(\"juliasetCython_v2\", 1, 5, 5, 2); <span class='error_goto'>{__pyx_filename = __pyx_f[0]; __pyx_lineno = 31; __pyx_clineno = __LINE__; goto __pyx_L3_error;}</span>\n",
        "        }\n",
        "        case  3:\n",
        "        if (likely((values[3] = <span class='py_c_api'>PyDict_GetItem</span>(__pyx_kwds, __pyx_n_s_lim)) != 0)) kw_args--;\n",
        "        else {\n",
        "          <span class='pyx_c_api'>__Pyx_RaiseArgtupleInvalid</span>(\"juliasetCython_v2\", 1, 5, 5, 3); <span class='error_goto'>{__pyx_filename = __pyx_f[0]; __pyx_lineno = 31; __pyx_clineno = __LINE__; goto __pyx_L3_error;}</span>\n",
        "        }\n",
        "        case  4:\n",
        "        if (likely((values[4] = <span class='py_c_api'>PyDict_GetItem</span>(__pyx_kwds, __pyx_n_s_maxit)) != 0)) kw_args--;\n",
        "        else {\n",
        "          <span class='pyx_c_api'>__Pyx_RaiseArgtupleInvalid</span>(\"juliasetCython_v2\", 1, 5, 5, 4); <span class='error_goto'>{__pyx_filename = __pyx_f[0]; __pyx_lineno = 31; __pyx_clineno = __LINE__; goto __pyx_L3_error;}</span>\n",
        "        }\n",
        "      }\n",
        "      if (unlikely(kw_args &gt; 0)) {\n",
        "        if (unlikely(<span class='pyx_c_api'>__Pyx_ParseOptionalKeywords</span>(__pyx_kwds, __pyx_pyargnames, 0, values, pos_args, \"juliasetCython_v2\") &lt; 0)) <span class='error_goto'>{__pyx_filename = __pyx_f[0]; __pyx_lineno = 31; __pyx_clineno = __LINE__; goto __pyx_L3_error;}</span>\n",
        "      }\n",
        "    } else if (<span class='py_macro_api'>PyTuple_GET_SIZE</span>(__pyx_args) != 5) {\n",
        "      goto __pyx_L5_argtuple_error;\n",
        "    } else {\n",
        "      values[0] = <span class='py_macro_api'>PyTuple_GET_ITEM</span>(__pyx_args, 0);\n",
        "      values[1] = <span class='py_macro_api'>PyTuple_GET_ITEM</span>(__pyx_args, 1);\n",
        "      values[2] = <span class='py_macro_api'>PyTuple_GET_ITEM</span>(__pyx_args, 2);\n",
        "      values[3] = <span class='py_macro_api'>PyTuple_GET_ITEM</span>(__pyx_args, 3);\n",
        "      values[4] = <span class='py_macro_api'>PyTuple_GET_ITEM</span>(__pyx_args, 4);\n",
        "    }\n",
        "    __pyx_v_x = <span class='pyx_c_api'>__Pyx_PyObject_to_MemoryviewSlice_ds_double</span>(values[0]);<span class='error_goto'> if (unlikely(!__pyx_v_x.memview)) {__pyx_filename = __pyx_f[0]; __pyx_lineno = 31; __pyx_clineno = __LINE__; goto __pyx_L3_error;}</span>\n",
        "    __pyx_v_y = <span class='pyx_c_api'>__Pyx_PyObject_to_MemoryviewSlice_ds_double</span>(values[1]);<span class='error_goto'> if (unlikely(!__pyx_v_y.memview)) {__pyx_filename = __pyx_f[0]; __pyx_lineno = 31; __pyx_clineno = __LINE__; goto __pyx_L3_error;}</span>\n",
        "    __pyx_v_c = <span class='pyx_c_api'>__Pyx_PyComplex_As___pyx_t_double_complex</span>(values[2]);<span class='error_goto'> if (unlikely(PyErr_Occurred())) {__pyx_filename = __pyx_f[0]; __pyx_lineno = 31; __pyx_clineno = __LINE__; goto __pyx_L3_error;}</span>\n",
        "    __pyx_v_lim = __pyx_<span class='py_c_api'>PyFloat_AsDouble</span>(values[3]);<span class='error_goto'> if (unlikely((__pyx_v_lim == (double)-1) &amp;&amp; PyErr_Occurred())) {__pyx_filename = __pyx_f[0]; __pyx_lineno = 31; __pyx_clineno = __LINE__; goto __pyx_L3_error;}</span>\n",
        "    __pyx_v_maxit = <span class='pyx_c_api'>__Pyx_PyInt_As_int</span>(values[4]);<span class='error_goto'> if (unlikely((__pyx_v_maxit == (int)-1) &amp;&amp; PyErr_Occurred())) {__pyx_filename = __pyx_f[0]; __pyx_lineno = 31; __pyx_clineno = __LINE__; goto __pyx_L3_error;}</span>\n",
        "  }\n",
        "  goto __pyx_L4_argument_unpacking_done;\n",
        "  __pyx_L5_argtuple_error:;\n",
        "  <span class='pyx_c_api'>__Pyx_RaiseArgtupleInvalid</span>(\"juliasetCython_v2\", 1, 5, 5, <span class='py_macro_api'>PyTuple_GET_SIZE</span>(__pyx_args)); <span class='error_goto'>{__pyx_filename = __pyx_f[0]; __pyx_lineno = 31; __pyx_clineno = __LINE__; goto __pyx_L3_error;}</span>\n",
        "  __pyx_L3_error:;\n",
        "  <span class='pyx_c_api'>__Pyx_AddTraceback</span>(\"_cython_magic_3a9bea0d7957d6f289d8c75d98c971f4.juliasetCython_v2\", __pyx_clineno, __pyx_lineno, __pyx_filename);\n",
        "  <span class='refnanny'>__Pyx_RefNannyFinishContext</span>();\n",
        "  return NULL;\n",
        "  __pyx_L4_argument_unpacking_done:;\n",
        "  __pyx_r = __pyx_pf_46_cython_magic_3a9bea0d7957d6f289d8c75d98c971f4_2juliasetCython_v2(__pyx_self, __pyx_v_x, __pyx_v_y, __pyx_v_c, __pyx_v_lim, __pyx_v_maxit);\n",
        "  int __pyx_lineno = 0;\n",
        "  const char *__pyx_filename = NULL;\n",
        "  int __pyx_clineno = 0;\n",
        "\n",
        "  /* function exit code */\n",
        "  <span class='refnanny'>__Pyx_RefNannyFinishContext</span>();\n",
        "  return __pyx_r;\n",
        "}\n",
        "\n",
        "static PyObject *__pyx_pf_46_cython_magic_3a9bea0d7957d6f289d8c75d98c971f4_2juliasetCython_v2(CYTHON_UNUSED PyObject *__pyx_self, __Pyx_memviewslice __pyx_v_x, __Pyx_memviewslice __pyx_v_y, __pyx_t_double_complex __pyx_v_c, double __pyx_v_lim, int __pyx_v_maxit) {\n",
        "  __Pyx_memviewslice __pyx_v_julia = { 0, 0, { 0 }, { 0 }, { 0 } };\n",
        "  double __pyx_v_zr;\n",
        "  double __pyx_v_zi;\n",
        "  double __pyx_v_lim2;\n",
        "  double __pyx_v_cr;\n",
        "  double __pyx_v_ci;\n",
        "  int __pyx_v_ite;\n",
        "  int __pyx_v_i;\n",
        "  int __pyx_v_j;\n",
        "  int __pyx_v_nx;\n",
        "  int __pyx_v_ny;\n",
        "  PyObject *__pyx_r = NULL;\n",
        "  <span class='refnanny'>__Pyx_RefNannyDeclarations</span>\n",
        "  <span class='refnanny'>__Pyx_RefNannySetupContext</span>(\"juliasetCython_v2\", 0);\n",
        "/* \u2026 */\n",
        "  /* function exit code */\n",
        "  __pyx_L1_error:;\n",
        "  <span class='pyx_macro_api'>__Pyx_XDECREF</span>(__pyx_t_1);\n",
        "  <span class='pyx_macro_api'>__Pyx_XDECREF</span>(__pyx_t_2);\n",
        "  <span class='pyx_macro_api'>__Pyx_XDECREF</span>(__pyx_t_3);\n",
        "  <span class='pyx_macro_api'>__Pyx_XDECREF</span>(__pyx_t_4);\n",
        "  <span class='pyx_macro_api'>__Pyx_XDECREF</span>(__pyx_t_5);\n",
        "  __PYX_XDEC_MEMVIEW(&amp;__pyx_t_6, 1);\n",
        "  <span class='pyx_c_api'>__Pyx_AddTraceback</span>(\"_cython_magic_3a9bea0d7957d6f289d8c75d98c971f4.juliasetCython_v2\", __pyx_clineno, __pyx_lineno, __pyx_filename);\n",
        "  __pyx_r = NULL;\n",
        "  __pyx_L0:;\n",
        "  __PYX_XDEC_MEMVIEW(&amp;__pyx_v_julia, 1);\n",
        "  __PYX_XDEC_MEMVIEW(&amp;__pyx_v_x, 1);\n",
        "  __PYX_XDEC_MEMVIEW(&amp;__pyx_v_y, 1);\n",
        "  <span class='refnanny'>__Pyx_XGIVEREF</span>(__pyx_r);\n",
        "  <span class='refnanny'>__Pyx_RefNannyFinishContext</span>();\n",
        "  return __pyx_r;\n",
        "}\n",
        "/* \u2026 */\n",
        "  __pyx_tuple__16 = <span class='py_c_api'>PyTuple_Pack</span>(17, __pyx_n_s_x, __pyx_n_s_y, __pyx_n_s_c, __pyx_n_s_lim, __pyx_n_s_maxit, __pyx_n_s_julia, __pyx_n_s_tmp, __pyx_n_s_zr, __pyx_n_s_zi, __pyx_n_s_lim2, __pyx_n_s_cr, __pyx_n_s_ci, __pyx_n_s_ite, __pyx_n_s_i, __pyx_n_s_j, __pyx_n_s_nx, __pyx_n_s_ny);<span class='error_goto'> if (unlikely(!__pyx_tuple__16)) {__pyx_filename = __pyx_f[0]; __pyx_lineno = 31; __pyx_clineno = __LINE__; goto __pyx_L1_error;}</span>\n",
        "  <span class='refnanny'>__Pyx_GOTREF</span>(__pyx_tuple__16);\n",
        "  <span class='refnanny'>__Pyx_GIVEREF</span>(__pyx_tuple__16);\n",
        "/* \u2026 */\n",
        "  __pyx_t_1 = PyCFunction_NewEx(&amp;__pyx_mdef_46_cython_magic_3a9bea0d7957d6f289d8c75d98c971f4_3juliasetCython_v2, NULL, __pyx_n_s_cython_magic_3a9bea0d7957d6f289);<span class='error_goto'> if (unlikely(!__pyx_t_1)) {__pyx_filename = __pyx_f[0]; __pyx_lineno = 31; __pyx_clineno = __LINE__; goto __pyx_L1_error;}</span>\n",
        "  <span class='refnanny'>__Pyx_GOTREF</span>(__pyx_t_1);\n",
        "  if (<span class='py_c_api'>PyDict_SetItem</span>(__pyx_d, __pyx_n_s_juliasetCython_v2, __pyx_t_1) &lt; 0) <span class='error_goto'>{__pyx_filename = __pyx_f[0]; __pyx_lineno = 31; __pyx_clineno = __LINE__; goto __pyx_L1_error;}</span>\n",
        "  <span class='pyx_macro_api'>__Pyx_DECREF</span>(__pyx_t_1); __pyx_t_1 = 0;\n",
        "  __pyx_codeobj__17 = (PyObject*)<span class='pyx_c_api'>__Pyx_PyCode_New</span>(5, 0, 17, 0, 0, __pyx_empty_bytes, __pyx_empty_tuple, __pyx_empty_tuple, __pyx_tuple__16, __pyx_empty_tuple, __pyx_empty_tuple, __pyx_kp_s_home_gouarin_cache_ipython_cyth, __pyx_n_s_juliasetCython_v2, 31, __pyx_empty_bytes);<span class='error_goto'> if (unlikely(!__pyx_codeobj__17)) {__pyx_filename = __pyx_f[0]; __pyx_lineno = 31; __pyx_clineno = __LINE__; goto __pyx_L1_error;}</span>\n",
        "</pre><pre class='line' style='background-color: #FFFFff' onclick='toggleDiv(\"line32\")'> 32:     cdef:</pre>\n",
        "<pre id='line32' class='code' style='background-color: #FFFFff'></pre><pre class='line' style='background-color: #FFFF2b' onclick='toggleDiv(\"line33\")'> 33:         int [:, ::1] julia = np.empty((x.size, y.size), dtype = np.int32)</pre>\n",
        "<pre id='line33' class='code' style='background-color: #FFFF2b'>  __pyx_t_1 = <span class='pyx_c_api'>__Pyx_GetModuleGlobalName</span>(__pyx_n_s_np);<span class='error_goto'> if (unlikely(!__pyx_t_1)) {__pyx_filename = __pyx_f[0]; __pyx_lineno = 33; __pyx_clineno = __LINE__; goto __pyx_L1_error;}</span>\n",
        "  <span class='refnanny'>__Pyx_GOTREF</span>(__pyx_t_1);\n",
        "  __pyx_t_2 = <span class='pyx_c_api'>__Pyx_PyObject_GetAttrStr</span>(__pyx_t_1, __pyx_n_s_empty);<span class='error_goto'> if (unlikely(!__pyx_t_2)) {__pyx_filename = __pyx_f[0]; __pyx_lineno = 33; __pyx_clineno = __LINE__; goto __pyx_L1_error;}</span>\n",
        "  <span class='refnanny'>__Pyx_GOTREF</span>(__pyx_t_2);\n",
        "  <span class='pyx_macro_api'>__Pyx_DECREF</span>(__pyx_t_1); __pyx_t_1 = 0;\n",
        "  __pyx_t_1 = __pyx_memoryview_fromslice(__pyx_v_x, 1, (PyObject *(*)(char *)) __pyx_memview_get_double, (int (*)(char *, PyObject *)) __pyx_memview_set_double, 0);;<span class='error_goto'> if (unlikely(!__pyx_t_1)) {__pyx_filename = __pyx_f[0]; __pyx_lineno = 33; __pyx_clineno = __LINE__; goto __pyx_L1_error;}</span>\n",
        "  <span class='refnanny'>__Pyx_GOTREF</span>(__pyx_t_1);\n",
        "  __pyx_t_3 = <span class='pyx_c_api'>__Pyx_PyObject_GetAttrStr</span>(__pyx_t_1, __pyx_n_s_size);<span class='error_goto'> if (unlikely(!__pyx_t_3)) {__pyx_filename = __pyx_f[0]; __pyx_lineno = 33; __pyx_clineno = __LINE__; goto __pyx_L1_error;}</span>\n",
        "  <span class='refnanny'>__Pyx_GOTREF</span>(__pyx_t_3);\n",
        "  <span class='pyx_macro_api'>__Pyx_DECREF</span>(__pyx_t_1); __pyx_t_1 = 0;\n",
        "  __pyx_t_1 = __pyx_memoryview_fromslice(__pyx_v_y, 1, (PyObject *(*)(char *)) __pyx_memview_get_double, (int (*)(char *, PyObject *)) __pyx_memview_set_double, 0);;<span class='error_goto'> if (unlikely(!__pyx_t_1)) {__pyx_filename = __pyx_f[0]; __pyx_lineno = 33; __pyx_clineno = __LINE__; goto __pyx_L1_error;}</span>\n",
        "  <span class='refnanny'>__Pyx_GOTREF</span>(__pyx_t_1);\n",
        "  __pyx_t_4 = <span class='pyx_c_api'>__Pyx_PyObject_GetAttrStr</span>(__pyx_t_1, __pyx_n_s_size);<span class='error_goto'> if (unlikely(!__pyx_t_4)) {__pyx_filename = __pyx_f[0]; __pyx_lineno = 33; __pyx_clineno = __LINE__; goto __pyx_L1_error;}</span>\n",
        "  <span class='refnanny'>__Pyx_GOTREF</span>(__pyx_t_4);\n",
        "  <span class='pyx_macro_api'>__Pyx_DECREF</span>(__pyx_t_1); __pyx_t_1 = 0;\n",
        "  __pyx_t_1 = <span class='py_c_api'>PyTuple_New</span>(2);<span class='error_goto'> if (unlikely(!__pyx_t_1)) {__pyx_filename = __pyx_f[0]; __pyx_lineno = 33; __pyx_clineno = __LINE__; goto __pyx_L1_error;}</span>\n",
        "  <span class='refnanny'>__Pyx_GOTREF</span>(__pyx_t_1);\n",
        "  <span class='py_macro_api'>PyTuple_SET_ITEM</span>(__pyx_t_1, 0, __pyx_t_3);\n",
        "  <span class='refnanny'>__Pyx_GIVEREF</span>(__pyx_t_3);\n",
        "  <span class='py_macro_api'>PyTuple_SET_ITEM</span>(__pyx_t_1, 1, __pyx_t_4);\n",
        "  <span class='refnanny'>__Pyx_GIVEREF</span>(__pyx_t_4);\n",
        "  __pyx_t_3 = 0;\n",
        "  __pyx_t_4 = 0;\n",
        "  __pyx_t_4 = <span class='py_c_api'>PyTuple_New</span>(1);<span class='error_goto'> if (unlikely(!__pyx_t_4)) {__pyx_filename = __pyx_f[0]; __pyx_lineno = 33; __pyx_clineno = __LINE__; goto __pyx_L1_error;}</span>\n",
        "  <span class='refnanny'>__Pyx_GOTREF</span>(__pyx_t_4);\n",
        "  <span class='py_macro_api'>PyTuple_SET_ITEM</span>(__pyx_t_4, 0, __pyx_t_1);\n",
        "  <span class='refnanny'>__Pyx_GIVEREF</span>(__pyx_t_1);\n",
        "  __pyx_t_1 = 0;\n",
        "  __pyx_t_1 = <span class='py_c_api'>PyDict_New</span>();<span class='error_goto'> if (unlikely(!__pyx_t_1)) {__pyx_filename = __pyx_f[0]; __pyx_lineno = 33; __pyx_clineno = __LINE__; goto __pyx_L1_error;}</span>\n",
        "  <span class='refnanny'>__Pyx_GOTREF</span>(__pyx_t_1);\n",
        "  __pyx_t_3 = <span class='pyx_c_api'>__Pyx_GetModuleGlobalName</span>(__pyx_n_s_np);<span class='error_goto'> if (unlikely(!__pyx_t_3)) {__pyx_filename = __pyx_f[0]; __pyx_lineno = 33; __pyx_clineno = __LINE__; goto __pyx_L1_error;}</span>\n",
        "  <span class='refnanny'>__Pyx_GOTREF</span>(__pyx_t_3);\n",
        "  __pyx_t_5 = <span class='pyx_c_api'>__Pyx_PyObject_GetAttrStr</span>(__pyx_t_3, __pyx_n_s_int32);<span class='error_goto'> if (unlikely(!__pyx_t_5)) {__pyx_filename = __pyx_f[0]; __pyx_lineno = 33; __pyx_clineno = __LINE__; goto __pyx_L1_error;}</span>\n",
        "  <span class='refnanny'>__Pyx_GOTREF</span>(__pyx_t_5);\n",
        "  <span class='pyx_macro_api'>__Pyx_DECREF</span>(__pyx_t_3); __pyx_t_3 = 0;\n",
        "  if (<span class='py_c_api'>PyDict_SetItem</span>(__pyx_t_1, __pyx_n_s_dtype, __pyx_t_5) &lt; 0) <span class='error_goto'>{__pyx_filename = __pyx_f[0]; __pyx_lineno = 33; __pyx_clineno = __LINE__; goto __pyx_L1_error;}</span>\n",
        "  <span class='pyx_macro_api'>__Pyx_DECREF</span>(__pyx_t_5); __pyx_t_5 = 0;\n",
        "  __pyx_t_5 = <span class='pyx_c_api'>__Pyx_PyObject_Call</span>(__pyx_t_2, __pyx_t_4, __pyx_t_1);<span class='error_goto'> if (unlikely(!__pyx_t_5)) {__pyx_filename = __pyx_f[0]; __pyx_lineno = 33; __pyx_clineno = __LINE__; goto __pyx_L1_error;}</span>\n",
        "  <span class='refnanny'>__Pyx_GOTREF</span>(__pyx_t_5);\n",
        "  <span class='pyx_macro_api'>__Pyx_DECREF</span>(__pyx_t_2); __pyx_t_2 = 0;\n",
        "  <span class='pyx_macro_api'>__Pyx_DECREF</span>(__pyx_t_4); __pyx_t_4 = 0;\n",
        "  <span class='pyx_macro_api'>__Pyx_DECREF</span>(__pyx_t_1); __pyx_t_1 = 0;\n",
        "  __pyx_t_6 = <span class='pyx_c_api'>__Pyx_PyObject_to_MemoryviewSlice_d_dc_int</span>(__pyx_t_5);\n",
        "  if (unlikely(!__pyx_t_6.memview)) <span class='error_goto'>{__pyx_filename = __pyx_f[0]; __pyx_lineno = 33; __pyx_clineno = __LINE__; goto __pyx_L1_error;}</span>\n",
        "  <span class='pyx_macro_api'>__Pyx_DECREF</span>(__pyx_t_5); __pyx_t_5 = 0;\n",
        "  __pyx_v_julia = __pyx_t_6;\n",
        "  __pyx_t_6.memview = NULL;\n",
        "  __pyx_t_6.data = NULL;\n",
        "</pre><pre class='line' style='background-color: #FFFFff' onclick='toggleDiv(\"line34\")'> 34:         double tmp, zr, zi, lim2 = lim*lim</pre>\n",
        "<pre id='line34' class='code' style='background-color: #FFFFff'>  __pyx_v_lim2 = (__pyx_v_lim * __pyx_v_lim);\n",
        "</pre><pre class='line' style='background-color: #FFFFd4' onclick='toggleDiv(\"line35\")'> 35:         double cr = c.real, ci = c.imag</pre>\n",
        "<pre id='line35' class='code' style='background-color: #FFFFd4'>  __pyx_t_7 = <span class='pyx_macro_api'>__Pyx_CREAL</span>(__pyx_v_c);\n",
        "  __pyx_v_cr = __pyx_t_7;\n",
        "  __pyx_t_7 = <span class='pyx_macro_api'>__Pyx_CIMAG</span>(__pyx_v_c);\n",
        "  __pyx_v_ci = __pyx_t_7;\n",
        "</pre><pre class='line' style='background-color: #FFFFff' onclick='toggleDiv(\"line36\")'> 36:         int ite, i, j, nx=x.shape[0], ny=y.shape[0]</pre>\n",
        "<pre id='line36' class='code' style='background-color: #FFFFff'>  __pyx_v_nx = (__pyx_v_x.shape[0]);\n",
        "  __pyx_v_ny = (__pyx_v_y.shape[0]);\n",
        "</pre><pre class='line' style='background-color: #FFFFff' onclick='toggleDiv(\"line37\")'> 37: </pre>\n",
        "<pre id='line37' class='code' style='background-color: #FFFFff'></pre><pre class='line' style='background-color: #FFFFff' onclick='toggleDiv(\"line38\")'> 38:     for i in xrange(nx):</pre>\n",
        "<pre id='line38' class='code' style='background-color: #FFFFff'>  __pyx_t_8 = __pyx_v_nx;\n",
        "  for (__pyx_t_9 = 0; __pyx_t_9 &lt; __pyx_t_8; __pyx_t_9+=1) {\n",
        "    __pyx_v_i = __pyx_t_9;\n",
        "</pre><pre class='line' style='background-color: #FFFFff' onclick='toggleDiv(\"line39\")'> 39:         for j in xrange(ny):</pre>\n",
        "<pre id='line39' class='code' style='background-color: #FFFFff'>    __pyx_t_10 = __pyx_v_ny;\n",
        "    for (__pyx_t_11 = 0; __pyx_t_11 &lt; __pyx_t_10; __pyx_t_11+=1) {\n",
        "      __pyx_v_j = __pyx_t_11;\n",
        "</pre><pre class='line' style='background-color: #FFFFff' onclick='toggleDiv(\"line40\")'> 40:             zr = x[i]</pre>\n",
        "<pre id='line40' class='code' style='background-color: #FFFFff'>      __pyx_t_12 = __pyx_v_i;\n",
        "      __pyx_v_zr = (*((double *) ( /* dim=0 */ (__pyx_v_x.data + __pyx_t_12 * __pyx_v_x.strides[0]) )));\n",
        "</pre><pre class='line' style='background-color: #FFFFff' onclick='toggleDiv(\"line41\")'> 41:             zi = y[j]</pre>\n",
        "<pre id='line41' class='code' style='background-color: #FFFFff'>      __pyx_t_13 = __pyx_v_j;\n",
        "      __pyx_v_zi = (*((double *) ( /* dim=0 */ (__pyx_v_y.data + __pyx_t_13 * __pyx_v_y.strides[0]) )));\n",
        "</pre><pre class='line' style='background-color: #FFFFff' onclick='toggleDiv(\"line42\")'> 42:             ite = 0</pre>\n",
        "<pre id='line42' class='code' style='background-color: #FFFFff'>      __pyx_v_ite = 0;\n",
        "</pre><pre class='line' style='background-color: #FFFFff' onclick='toggleDiv(\"line43\")'> 43:             while (zr*zr + zi*zi) &lt; lim2 and ite &lt; maxit:</pre>\n",
        "<pre id='line43' class='code' style='background-color: #FFFFff'>      while (1) {\n",
        "        __pyx_t_14 = ((((__pyx_v_zr * __pyx_v_zr) + (__pyx_v_zi * __pyx_v_zi)) &lt; __pyx_v_lim2) != 0);\n",
        "        if (__pyx_t_14) {\n",
        "          __pyx_t_15 = ((__pyx_v_ite &lt; __pyx_v_maxit) != 0);\n",
        "          __pyx_t_16 = __pyx_t_15;\n",
        "        } else {\n",
        "          __pyx_t_16 = __pyx_t_14;\n",
        "        }\n",
        "        if (!__pyx_t_16) break;\n",
        "</pre><pre class='line' style='background-color: #FFFFff' onclick='toggleDiv(\"line44\")'> 44:                 zr, zi = zr*zr - zi*zi + cr, 2*zr*zi + ci</pre>\n",
        "<pre id='line44' class='code' style='background-color: #FFFFff'>        __pyx_t_7 = (((__pyx_v_zr * __pyx_v_zr) - (__pyx_v_zi * __pyx_v_zi)) + __pyx_v_cr);\n",
        "        __pyx_t_17 = (((2.0 * __pyx_v_zr) * __pyx_v_zi) + __pyx_v_ci);\n",
        "        __pyx_v_zr = __pyx_t_7;\n",
        "        __pyx_v_zi = __pyx_t_17;\n",
        "</pre><pre class='line' style='background-color: #FFFFff' onclick='toggleDiv(\"line45\")'> 45:                 ite += 1</pre>\n",
        "<pre id='line45' class='code' style='background-color: #FFFFff'>        __pyx_v_ite = (__pyx_v_ite + 1);\n",
        "      }\n",
        "</pre><pre class='line' style='background-color: #FFFFff' onclick='toggleDiv(\"line46\")'> 46:             julia[j, i] = ite</pre>\n",
        "<pre id='line46' class='code' style='background-color: #FFFFff'>      __pyx_t_18 = __pyx_v_j;\n",
        "      __pyx_t_19 = __pyx_v_i;\n",
        "      *((int *) ( /* dim=1 */ ((char *) (((int *) ( /* dim=0 */ (__pyx_v_julia.data + __pyx_t_18 * __pyx_v_julia.strides[0]) )) + __pyx_t_19)) )) = __pyx_v_ite;\n",
        "    }\n",
        "  }\n",
        "</pre><pre class='line' style='background-color: #FFFFff' onclick='toggleDiv(\"line47\")'> 47: </pre>\n",
        "<pre id='line47' class='code' style='background-color: #FFFFff'></pre><pre class='line' style='background-color: #FFFFe7' onclick='toggleDiv(\"line48\")'> 48:     return julia</pre>\n",
        "<pre id='line48' class='code' style='background-color: #FFFFe7'>  <span class='pyx_macro_api'>__Pyx_XDECREF</span>(__pyx_r);\n",
        "  __pyx_t_5 = __pyx_memoryview_fromslice(__pyx_v_julia, 2, (PyObject *(*)(char *)) __pyx_memview_get_int, (int (*)(char *, PyObject *)) __pyx_memview_set_int, 0);;<span class='error_goto'> if (unlikely(!__pyx_t_5)) {__pyx_filename = __pyx_f[0]; __pyx_lineno = 48; __pyx_clineno = __LINE__; goto __pyx_L1_error;}</span>\n",
        "  <span class='refnanny'>__Pyx_GOTREF</span>(__pyx_t_5);\n",
        "  __pyx_r = __pyx_t_5;\n",
        "  __pyx_t_5 = 0;\n",
        "  goto __pyx_L0;\n",
        "</pre></body></html>"
       ],
       "metadata": {},
       "output_type": "pyout",
       "prompt_number": 29,
       "text": [
        "<IPython.core.display.HTML at 0x5757890>"
       ]
      }
     ],
     "prompt_number": 29
    },
    {
     "cell_type": "code",
     "collapsed": false,
     "input": [
      "execution_times.append(myTimer(juliasetCython_v2, (x, y, c, lim, maxit), 100))"
     ],
     "language": "python",
     "metadata": {
      "internals": {
       "slide_type": "subslide"
      },
      "slideshow": {
       "slide_type": "subslide"
      }
     },
     "outputs": [],
     "prompt_number": 30
    },
    {
     "cell_type": "code",
     "collapsed": false,
     "input": [
      "printTable(execution_times)"
     ],
     "language": "python",
     "metadata": {
      "internals": {},
      "slideshow": {
       "slide_type": "-"
      }
     },
     "outputs": [
      {
       "html": [
        "<div style=\"max-height:1000px;max-width:1500px;overflow:auto;\">\n",
        "<table border=\"1\" class=\"dataframe\">\n",
        "  <thead>\n",
        "    <tr style=\"text-align: right;\">\n",
        "      <th></th>\n",
        "      <th>Nom des fonctions</th>\n",
        "      <th>Temps d'ex\u00e9cution</th>\n",
        "      <th>Rapport</th>\n",
        "    </tr>\n",
        "  </thead>\n",
        "  <tbody>\n",
        "    <tr>\n",
        "      <th>0</th>\n",
        "      <td> juliasetPurePython</td>\n",
        "      <td> 10.788282</td>\n",
        "      <td>   1.000000</td>\n",
        "    </tr>\n",
        "    <tr>\n",
        "      <th>1</th>\n",
        "      <td>      juliasetNumpy</td>\n",
        "      <td>  3.397593</td>\n",
        "      <td>   3.175272</td>\n",
        "    </tr>\n",
        "    <tr>\n",
        "      <th>2</th>\n",
        "      <td>     juliasetCython</td>\n",
        "      <td>  0.358764</td>\n",
        "      <td>  30.070720</td>\n",
        "    </tr>\n",
        "    <tr>\n",
        "      <th>3</th>\n",
        "      <td>     juliasetCython</td>\n",
        "      <td>  0.018773</td>\n",
        "      <td> 574.666755</td>\n",
        "    </tr>\n",
        "    <tr>\n",
        "      <th>4</th>\n",
        "      <td>     juliasetCython</td>\n",
        "      <td>  0.018831</td>\n",
        "      <td> 572.909830</td>\n",
        "    </tr>\n",
        "    <tr>\n",
        "      <th>5</th>\n",
        "      <td>  juliasetCython_v2</td>\n",
        "      <td>  0.020785</td>\n",
        "      <td> 519.032008</td>\n",
        "    </tr>\n",
        "    <tr>\n",
        "      <th>6</th>\n",
        "      <td>  juliasetCython_v2</td>\n",
        "      <td>  0.017283</td>\n",
        "      <td> 624.218216</td>\n",
        "    </tr>\n",
        "  </tbody>\n",
        "</table>\n",
        "</div>"
       ],
       "metadata": {},
       "output_type": "pyout",
       "prompt_number": 31,
       "text": [
        "    Nom des fonctions  Temps d'ex\u00e9cution     Rapport\n",
        "0  juliasetPurePython          10.788282    1.000000\n",
        "1       juliasetNumpy           3.397593    3.175272\n",
        "2      juliasetCython           0.358764   30.070720\n",
        "3      juliasetCython           0.018773  574.666755\n",
        "4      juliasetCython           0.018831  572.909830\n",
        "5   juliasetCython_v2           0.020785  519.032008\n",
        "6   juliasetCython_v2           0.017283  624.218216"
       ]
      }
     ],
     "prompt_number": 31
    },
    {
     "cell_type": "markdown",
     "metadata": {
      "internals": {
       "slide_type": "subslide"
      },
      "slideshow": {
       "slide_type": "subslide"
      }
     },
     "source": [
      "### Question 5\n",
      "\n",
      "Parall\u00e9lisez en utilisant `cython.parallel`."
     ]
    },
    {
     "cell_type": "code",
     "collapsed": false,
     "input": [
      "%%cython -f -c-fopenmp --link-args=-fopenmp\n",
      "\n"
     ],
     "language": "python",
     "metadata": {
      "internals": {
       "slide_helper": "subslide_end"
      },
      "slide_helper": "subslide_end",
      "slideshow": {
       "slide_type": "-"
      }
     },
     "outputs": [],
     "prompt_number": 23
    },
    {
     "cell_type": "code",
     "collapsed": false,
     "input": [
      "execution_times.append(myTimer(juliasetCython_openMP, (x, y, c, lim, maxit), 100))"
     ],
     "language": "python",
     "metadata": {
      "internals": {
       "slide_type": "subslide"
      },
      "slideshow": {
       "slide_type": "subslide"
      }
     },
     "outputs": [],
     "prompt_number": 24
    },
    {
     "cell_type": "code",
     "collapsed": false,
     "input": [
      "printTable(execution_times)"
     ],
     "language": "python",
     "metadata": {
      "internals": {
       "slide_helper": "subslide_end"
      },
      "slide_helper": "slide_end",
      "slideshow": {
       "slide_type": "-"
      }
     },
     "outputs": []
    }
   ],
   "metadata": {}
  }
 ]
}